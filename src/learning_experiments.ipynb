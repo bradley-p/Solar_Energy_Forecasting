{
 "metadata": {
  "language_info": {
   "codemirror_mode": {
    "name": "ipython",
    "version": 3
   },
   "file_extension": ".py",
   "mimetype": "text/x-python",
   "name": "python",
   "nbconvert_exporter": "python",
   "pygments_lexer": "ipython3",
   "version": "3.8.5"
  },
  "orig_nbformat": 2,
  "kernelspec": {
   "name": "python3",
   "display_name": "Python 3.8.5 64-bit",
   "metadata": {
    "interpreter": {
     "hash": "082e9a3bcad0a290d0001e938aa60b99250c6c2ef33a923c00b70f9826caf4b7"
    }
   }
  }
 },
 "nbformat": 4,
 "nbformat_minor": 2,
 "cells": [
  {
   "source": [
    "# This notebook explores a variety of training methods"
   ],
   "cell_type": "markdown",
   "metadata": {}
  },
  {
   "source": [
    "## Imports \n",
    "<hr>"
   ],
   "cell_type": "markdown",
   "metadata": {}
  },
  {
   "cell_type": "code",
   "execution_count": 1,
   "metadata": {},
   "outputs": [],
   "source": [
    "import numpy as np \n",
    "import matplotlib.pyplot as plt \n",
    "%matplotlib widget \n",
    "import math\n",
    "import pandas as pd"
   ]
  },
  {
   "cell_type": "code",
   "execution_count": 2,
   "metadata": {},
   "outputs": [],
   "source": [
    "from sklearn.preprocessing import StandardScaler\n",
    "from sklearn.preprocessing import MinMaxScaler\n",
    "from sklearn.preprocessing import QuantileTransformer\n",
    "from sklearn.svm import SVR"
   ]
  },
  {
   "cell_type": "code",
   "execution_count": 3,
   "metadata": {},
   "outputs": [],
   "source": [
    "from sklearn.ensemble import RandomForestRegressor\n",
    "from sklearn.metrics import r2_score"
   ]
  },
  {
   "cell_type": "code",
   "execution_count": 4,
   "metadata": {},
   "outputs": [],
   "source": [
    "def plotRegression(truth, pred):\n",
    "    plt.figure(figsize=(10,10))\n",
    "    plt.scatter(truth, pred)\n",
    "    plt.grid()\n",
    "    plt.xlabel(\"Truth\")\n",
    "    plt.ylabel(\"Predicted\")\n",
    "    plt.title(\"Truth Plotted against actual value\")\n",
    "    plt.plot([min(truth),max(truth)], [min(truth),max(truth)], 'r')\n",
    "    plt.show()\n",
    "    \n",
    "def computeAverageError(pred, y):\n",
    "    err = []\n",
    "    for i in range(len(pred)):\n",
    "        err.append(abs((y[i] - pred[i])/(y[i] + 1e-6)))\n",
    "\n",
    "    return sum(err)/ len(err)"
   ]
  },
  {
   "source": [
    "## Load the data and split into training and testing \n",
    "<hr>"
   ],
   "cell_type": "markdown",
   "metadata": {}
  },
  {
   "cell_type": "code",
   "execution_count": 5,
   "metadata": {},
   "outputs": [],
   "source": [
    "############## This data has not been normalized/scaled at all ###################\n",
    "dataUnscaled_filename = '/Users/brad/Desktop/CS6620/Project/Data/combined_processed_data.csv' \n",
    "data = pd.read_csv(dataUnscaled_filename, sep=',')\n",
    "y = data['Solar_average'].to_numpy()\n",
    "x = data.drop(['Unnamed: 0', 'date_time', 'Solar_average', 'Solar_total', 'Count'], axis=1).to_numpy()"
   ]
  },
  {
   "cell_type": "code",
   "execution_count": 6,
   "metadata": {},
   "outputs": [
    {
     "output_type": "stream",
     "name": "stdout",
     "text": [
      "After split and reshape\n(4738, 39)\n(4738, 1)\n(837, 39)\n(837, 1)\n"
     ]
    }
   ],
   "source": [
    "train_length = int(x.shape[0] * 0.85)\n",
    "x_train = x[0 : train_length].reshape(-1, x.shape[1])\n",
    "y_train = y[0 : train_length].reshape(-1,1)\n",
    "x_test = x[train_length : ].reshape(-1, x.shape[1])\n",
    "y_test = y[train_length : ].reshape(-1,1)\n",
    "print('After split and reshape')\n",
    "print(x_train.shape)\n",
    "print(y_train.shape)\n",
    "print(x_test.shape)\n",
    "print(y_test.shape)"
   ]
  },
  {
   "cell_type": "code",
   "execution_count": 7,
   "metadata": {},
   "outputs": [
    {
     "output_type": "display_data",
     "data": {
      "text/plain": "Canvas(toolbar=Toolbar(toolitems=[('Home', 'Reset original view', 'home', 'home'), ('Back', 'Back to previous …",
      "application/vnd.jupyter.widget-view+json": {
       "version_major": 2,
       "version_minor": 0,
       "model_id": "a98f8d7e0bec439399619f73d4b6ac01"
      }
     },
     "metadata": {}
    },
    {
     "output_type": "display_data",
     "data": {
      "text/plain": "Canvas(toolbar=Toolbar(toolitems=[('Home', 'Reset original view', 'home', 'home'), ('Back', 'Back to previous …",
      "application/vnd.jupyter.widget-view+json": {
       "version_major": 2,
       "version_minor": 0,
       "model_id": "397f438ddad04849bbc89bd6206010d5"
      }
     },
     "metadata": {}
    }
   ],
   "source": [
    "plt.figure()\n",
    "plt.hist(y_train, edgecolor='black')\n",
    "plt.title(\"Training\")\n",
    "plt.show()\n",
    "plt.figure()\n",
    "plt.hist(y_test, edgecolor='black')\n",
    "plt.title(\"Testing\")\n",
    "plt.show()"
   ]
  },
  {
   "source": [
    "## Explore different methods of scaling \n",
    "<hr>"
   ],
   "cell_type": "markdown",
   "metadata": {}
  },
  {
   "cell_type": "code",
   "execution_count": 8,
   "metadata": {},
   "outputs": [],
   "source": [
    "# Scale \n",
    "# sc_X = StandardScaler()\n",
    "# sc_y = StandardScaler()\n",
    "# x_train = sc_X.fit_transform(x_train)\n",
    "# x_test = sc_X.fit_transform(x_test)\n",
    "# y_train = sc_y.fit_transform(y_train)\n",
    "# y_test = sc_y.fit_transform(y_test)"
   ]
  },
  {
   "cell_type": "code",
   "execution_count": 9,
   "metadata": {},
   "outputs": [],
   "source": [
    "# # MinMaxScale a different way\n",
    "# scalerX = MinMaxScaler()\n",
    "# scalerY = MinMaxScaler()\n",
    "# x_train = scalerX.fit_transform(x_train)\n",
    "# x_test = scalerX.fit_transform(x_test)\n",
    "# y_train = scalerY.fit_transform(y_train)\n",
    "# y_test = scalerY.fit_transform(y_test)"
   ]
  },
  {
   "cell_type": "code",
   "execution_count": 10,
   "metadata": {},
   "outputs": [],
   "source": [
    "# Best results came from using quantile uniform \n",
    "\n",
    "# scalerX = QuantileTransformer(output_distribution='uniform')\n",
    "scalerX = MinMaxScaler()\n",
    "scalerX.fit(x_train)\n",
    "x_train = scalerX.transform(x_train)\n",
    "x_test = scalerX.transform(x_test)\n",
    "\n",
    "scalerY = QuantileTransformer(output_distribution='uniform')\n",
    "scalerY.fit(y_train)\n",
    "y_train = scalerY.transform(y_train)\n",
    "y_test = scalerY.transform(y_test)\n",
    "\n"
   ]
  },
  {
   "cell_type": "code",
   "execution_count": 35,
   "metadata": {},
   "outputs": [
    {
     "output_type": "display_data",
     "data": {
      "text/plain": "Canvas(toolbar=Toolbar(toolitems=[('Home', 'Reset original view', 'home', 'home'), ('Back', 'Back to previous …",
      "application/vnd.jupyter.widget-view+json": {
       "version_major": 2,
       "version_minor": 0,
       "model_id": "67182f7937614901ba501bbce6e73c0a"
      }
     },
     "metadata": {}
    }
   ],
   "source": [
    "plt.figure()\n",
    "plt.hist(y_train, edgecolor='black')\n",
    "plt.title(\"Training data after Quantile Transform\")\n",
    "plt.xlabel(\"Solar Generation\")\n",
    "plt.show()"
   ]
  },
  {
   "cell_type": "code",
   "execution_count": 36,
   "metadata": {},
   "outputs": [
    {
     "output_type": "display_data",
     "data": {
      "text/plain": "Canvas(toolbar=Toolbar(toolitems=[('Home', 'Reset original view', 'home', 'home'), ('Back', 'Back to previous …",
      "application/vnd.jupyter.widget-view+json": {
       "version_major": 2,
       "version_minor": 0,
       "model_id": "c5d25be355a9499e8abaf4c9d9d5ce56"
      }
     },
     "metadata": {}
    }
   ],
   "source": [
    "plt.figure()\n",
    "plt.hist(y_test, edgecolor='black')\n",
    "plt.xlabel(\"Solar Generation\")\n",
    "plt.title(\"Test data after Quantile Transform\")\n",
    "plt.show()"
   ]
  },
  {
   "source": [
    "## Fit with KNN\n",
    "<hr>"
   ],
   "cell_type": "markdown",
   "metadata": {}
  },
  {
   "cell_type": "code",
   "execution_count": 12,
   "metadata": {},
   "outputs": [],
   "source": [
    "from sklearn import neighbors\n",
    "from sklearn.metrics import mean_squared_error\n",
    "from math import sqrt\n"
   ]
  },
  {
   "cell_type": "code",
   "execution_count": 13,
   "metadata": {},
   "outputs": [
    {
     "output_type": "display_data",
     "data": {
      "text/plain": "Canvas(toolbar=Toolbar(toolitems=[('Home', 'Reset original view', 'home', 'home'), ('Back', 'Back to previous …",
      "application/vnd.jupyter.widget-view+json": {
       "version_major": 2,
       "version_minor": 0,
       "model_id": "0d7dfe4021cc45f28d8e1619e388eff5"
      }
     },
     "metadata": {}
    },
    {
     "output_type": "display_data",
     "data": {
      "text/plain": "Canvas(toolbar=Toolbar(toolitems=[('Home', 'Reset original view', 'home', 'home'), ('Back', 'Back to previous …",
      "application/vnd.jupyter.widget-view+json": {
       "version_major": 2,
       "version_minor": 0,
       "model_id": "018b1805792c4c0da1964e1f70149c9f"
      }
     },
     "metadata": {}
    }
   ],
   "source": [
    "KNNmodel = neighbors.KNeighborsRegressor(n_neighbors = 9)\n",
    "KNNmodel.fit(x_train, y_train)  #fit the model\n",
    "test_pred_knn = KNNmodel.predict(x_test) #make prediction on test set\n",
    "train_pred_knn = KNNmodel.predict(x_train)\n",
    "plotRegression(y_train, train_pred_knn)\n",
    "plotRegression(y_test, test_pred_knn)"
   ]
  },
  {
   "cell_type": "code",
   "execution_count": 14,
   "metadata": {},
   "outputs": [
    {
     "output_type": "stream",
     "name": "stdout",
     "text": [
      "0.8961013408013512\n0.6035353144777108\n"
     ]
    }
   ],
   "source": [
    "print( r2_score(y_train, train_pred_knn) )\n",
    "print( r2_score(y_test, test_pred_knn) )"
   ]
  },
  {
   "source": [
    "## Try fitting the data with RandomForestRegressors\n",
    "<hr>"
   ],
   "cell_type": "markdown",
   "metadata": {}
  },
  {
   "cell_type": "code",
   "execution_count": 15,
   "metadata": {},
   "outputs": [
    {
     "output_type": "stream",
     "name": "stderr",
     "text": [
      "<ipython-input-15-4d35941cbd4c>:2: DataConversionWarning: A column-vector y was passed when a 1d array was expected. Please change the shape of y to (n_samples,), for example using ravel().\n  regressor.fit(x_train, y_train)\n"
     ]
    },
    {
     "output_type": "execute_result",
     "data": {
      "text/plain": [
       "RandomForestRegressor(random_state=2)"
      ]
     },
     "metadata": {},
     "execution_count": 15
    }
   ],
   "source": [
    "regressor = RandomForestRegressor(n_estimators=100, random_state=2)\n",
    "regressor.fit(x_train, y_train)"
   ]
  },
  {
   "cell_type": "code",
   "execution_count": 16,
   "metadata": {},
   "outputs": [
    {
     "output_type": "execute_result",
     "data": {
      "text/plain": [
       "0.989731095483329"
      ]
     },
     "metadata": {},
     "execution_count": 16
    }
   ],
   "source": [
    "# Training data r^2 value \n",
    "y_train_pred = regressor.predict(x_train)\n",
    "r2_score(y_train, y_train_pred)"
   ]
  },
  {
   "cell_type": "code",
   "execution_count": 17,
   "metadata": {},
   "outputs": [
    {
     "output_type": "execute_result",
     "data": {
      "text/plain": [
       "0.767518666955209"
      ]
     },
     "metadata": {},
     "execution_count": 17
    }
   ],
   "source": [
    "# testing data r^2 value \n",
    "y_test_pred = regressor.predict(x_test)\n",
    "r2_score(y_test, y_test_pred)"
   ]
  },
  {
   "cell_type": "code",
   "execution_count": 18,
   "metadata": {},
   "outputs": [
    {
     "output_type": "display_data",
     "data": {
      "text/plain": "Canvas(toolbar=Toolbar(toolitems=[('Home', 'Reset original view', 'home', 'home'), ('Back', 'Back to previous …",
      "application/vnd.jupyter.widget-view+json": {
       "version_major": 2,
       "version_minor": 0,
       "model_id": "43a61ce0c5144e9d8ce0a34369a19ffc"
      }
     },
     "metadata": {}
    }
   ],
   "source": [
    "plotRegression(scalerY.inverse_transform(y_train.reshape(-1,1))/1000, scalerY.inverse_transform(y_train_pred.reshape(-1,1))/1000)"
   ]
  },
  {
   "cell_type": "code",
   "execution_count": 19,
   "metadata": {},
   "outputs": [
    {
     "output_type": "display_data",
     "data": {
      "text/plain": "Canvas(toolbar=Toolbar(toolitems=[('Home', 'Reset original view', 'home', 'home'), ('Back', 'Back to previous …",
      "application/vnd.jupyter.widget-view+json": {
       "version_major": 2,
       "version_minor": 0,
       "model_id": "545201dc020a4e87950d2b8816419a23"
      }
     },
     "metadata": {}
    }
   ],
   "source": [
    "plotRegression(scalerY.inverse_transform(y_test.reshape(-1,1))/1000, scalerY.inverse_transform(y_test_pred.reshape(-1,1))/1000)"
   ]
  },
  {
   "source": [
    "## Support Vector Regression \n",
    "<hr>"
   ],
   "cell_type": "markdown",
   "metadata": {}
  },
  {
   "cell_type": "code",
   "execution_count": 20,
   "metadata": {},
   "outputs": [],
   "source": [
    "# sc_X = StandardScaler()\n",
    "# sc_y = StandardScaler()\n",
    "# x_train = sc_X.fit_transform(x_train)\n",
    "# x_test = sc_X.fit_transform(x_test)\n",
    "# y_train = sc_y.fit_transform(y_train)\n",
    "# y_test = sc_y.fit_transform(y_test)"
   ]
  },
  {
   "source": [
    "### Before transform, data has range () after transform, from from (-1,5) (Using Standard scaler)\n",
    "### Using MinMaxScaler gives range between 0-1\n"
   ],
   "cell_type": "markdown",
   "metadata": {}
  },
  {
   "cell_type": "code",
   "execution_count": 21,
   "metadata": {},
   "outputs": [
    {
     "output_type": "stream",
     "name": "stdout",
     "text": [
      "Before reshaping: \n(4738, 1)\n(837, 1)\nAfter reshaping: \n(4738,)\n(837,)\n"
     ]
    }
   ],
   "source": [
    "x_train = x_train.reshape(-1, x_train.shape[1],)\n",
    "x_test = x_test.reshape(-1, x_train.shape[1],)\n",
    "# Reshape Y \n",
    "print('Before reshaping: ')\n",
    "print(y_train.shape)\n",
    "print(y_test.shape)\n",
    "\n",
    "y_train = y_train.flatten()\n",
    "y_test = y_test.flatten()\n",
    "print('After reshaping: ')\n",
    "print(y_train.shape)\n",
    "print(y_test.shape)"
   ]
  },
  {
   "cell_type": "code",
   "execution_count": 22,
   "metadata": {},
   "outputs": [
    {
     "output_type": "execute_result",
     "data": {
      "text/plain": [
       "SVR(kernel='poly')"
      ]
     },
     "metadata": {},
     "execution_count": 22
    }
   ],
   "source": [
    "regressorSVR = SVR(kernel='poly')\n",
    "regressorSVR.fit(x_train, y_train)"
   ]
  },
  {
   "cell_type": "code",
   "execution_count": 23,
   "metadata": {},
   "outputs": [],
   "source": [
    "y_train_pred_svr = regressorSVR.predict(x_train)\n",
    "y_test_pred_svr = regressorSVR.predict(x_test)"
   ]
  },
  {
   "cell_type": "code",
   "execution_count": 24,
   "metadata": {},
   "outputs": [
    {
     "output_type": "stream",
     "name": "stdout",
     "text": [
      "0.9317904655192941\n0.7582883335904214\n"
     ]
    }
   ],
   "source": [
    "print(r2_score(y_train, y_train_pred_svr))\n",
    "print(r2_score(y_test, y_test_pred_svr))"
   ]
  },
  {
   "cell_type": "code",
   "execution_count": 25,
   "metadata": {},
   "outputs": [
    {
     "output_type": "display_data",
     "data": {
      "text/plain": "Canvas(toolbar=Toolbar(toolitems=[('Home', 'Reset original view', 'home', 'home'), ('Back', 'Back to previous …",
      "application/vnd.jupyter.widget-view+json": {
       "version_major": 2,
       "version_minor": 0,
       "model_id": "2ad1d3f90a85429db2f85f09f484eae4"
      }
     },
     "metadata": {}
    }
   ],
   "source": [
    "plotRegression(truth=y_train, pred=y_train_pred_svr)"
   ]
  },
  {
   "cell_type": "code",
   "execution_count": 26,
   "metadata": {},
   "outputs": [
    {
     "output_type": "display_data",
     "data": {
      "text/plain": "Canvas(toolbar=Toolbar(toolitems=[('Home', 'Reset original view', 'home', 'home'), ('Back', 'Back to previous …",
      "application/vnd.jupyter.widget-view+json": {
       "version_major": 2,
       "version_minor": 0,
       "model_id": "c23dce1ed3ee4d5e8045c49933a3bc64"
      }
     },
     "metadata": {}
    }
   ],
   "source": [
    "plotRegression(truth=y_test, pred=y_test_pred_svr)"
   ]
  },
  {
   "source": [
    "## Using keras RNN and ANN\n",
    "<hr>"
   ],
   "cell_type": "markdown",
   "metadata": {}
  },
  {
   "cell_type": "code",
   "execution_count": 27,
   "metadata": {},
   "outputs": [],
   "source": [
    "import tensorflow as tf \n",
    "from tensorflow import keras\n",
    "from keras import backend as K\n",
    "import numpy as np\n",
    "from tensorflow.keras.models import Sequential\n",
    "from tensorflow.keras.layers import Dense, Dropout, LSTM\n",
    "from tensorflow.keras.layers.experimental import preprocessing"
   ]
  },
  {
   "cell_type": "code",
   "execution_count": 28,
   "metadata": {},
   "outputs": [],
   "source": [
    "# not sure if this is right. \n",
    "def coeff_determination(y_true, y_pred):\n",
    "    SS_res =  K.sum(K.square( y_true-y_pred )) \n",
    "    SS_tot = K.sum(K.square( y_true - K.mean(y_true) ) ) \n",
    "    return ( 1 - SS_res/(SS_tot + K.epsilon()) )"
   ]
  },
  {
   "cell_type": "code",
   "execution_count": 29,
   "metadata": {},
   "outputs": [],
   "source": [
    "# x_train = x_train.reshape(-1,x_train.shape[1],)\n",
    "# x_test = x_test.reshape(-1,x_train.shape[1],)\n",
    "# scalerX = MinMaxScaler()\n",
    "# scalerX.fit(x_train)\n",
    "# x_train = scalerX.transform(x_train)\n",
    "# x_test = scalerX.transform(x_test)"
   ]
  },
  {
   "cell_type": "code",
   "execution_count": 30,
   "metadata": {},
   "outputs": [],
   "source": [
    "#LSTM model\n",
    "model = Sequential()\n",
    "model.add(LSTM(10, input_shape=(x_train.shape[1],1), return_sequences=True))\n",
    "model.add(Dropout(0.2))\n",
    "# model.add(LSTM(128, activation='relu', return_sequences=True))\n",
    "# model.add(Dropout(0.2))\n",
    "model.add(LSTM(10, activation='relu'))\n",
    "model.add(Dropout(0.2))\n",
    "model.add(Dense(10, activation='relu'))\n",
    "model.add(Dropout(0.2))\n",
    "model.add(Dense(1, activation='relu'))\n",
    "# optimizer \n",
    "opt = tf.keras.optimizers.Adam(learning_rate=0.001, decay=1e-5)\n",
    "# compile\n",
    "# mean_squared_error\n",
    "# mean_absolute_error\n",
    "model.compile(loss='mean_absolute_error', optimizer=opt, metrics=[coeff_determination])"
   ]
  },
  {
   "cell_type": "code",
   "execution_count": 31,
   "metadata": {},
   "outputs": [],
   "source": [
    "def plot_loss(history):\n",
    "  plt.figure()\n",
    "  plt.plot(history.history['loss'], label='loss')\n",
    "  plt.plot(history.history['val_loss'], label='val_loss')\n",
    "  plt.xlabel('Epoch')\n",
    "  plt.ylabel('Loss')\n",
    "  plt.legend()\n",
    "  plt.grid(True)\n",
    "  plt.show()\n",
    "  plt.figure()\n",
    "  plt.plot(history.history['coeff_determination'], label='R^2')\n",
    "  plt.plot(history.history['val_coeff_determination'], label='validation R^2')\n",
    "  plt.xlabel('Epoch')\n",
    "  plt.ylabel('R^2')\n",
    "  plt.legend()\n",
    "  plt.show()"
   ]
  },
  {
   "cell_type": "code",
   "execution_count": 32,
   "metadata": {},
   "outputs": [],
   "source": [
    "x_train = x_train.reshape(-1,x_train.shape[1],1)\n",
    "x_test = x_test.reshape(-1,x_train.shape[1],1)"
   ]
  },
  {
   "cell_type": "code",
   "execution_count": 33,
   "metadata": {},
   "outputs": [],
   "source": [
    "y_train = y_train.reshape(-1,1)\n",
    "y_test = y_test.reshape(-1,1)"
   ]
  },
  {
   "cell_type": "code",
   "execution_count": 34,
   "metadata": {
    "tags": []
   },
   "outputs": [
    {
     "output_type": "stream",
     "name": "stdout",
     "text": [
      "Epoch 1/100\n",
      "95/95 [==============================] - 4s 25ms/step - loss: 0.3258 - coeff_determination: -1.0218 - val_loss: 0.2069 - val_coeff_determination: -0.0103\n",
      "Epoch 2/100\n",
      "95/95 [==============================] - 2s 16ms/step - loss: 0.2300 - coeff_determination: 0.0316 - val_loss: 0.1909 - val_coeff_determination: 0.1194\n",
      "Epoch 3/100\n",
      "95/95 [==============================] - 1s 16ms/step - loss: 0.2077 - coeff_determination: 0.1978 - val_loss: 0.1914 - val_coeff_determination: 0.0972\n",
      "Epoch 4/100\n",
      "95/95 [==============================] - 1s 15ms/step - loss: 0.1960 - coeff_determination: 0.2910 - val_loss: 0.1983 - val_coeff_determination: 0.0268\n",
      "Epoch 5/100\n",
      "95/95 [==============================] - 2s 17ms/step - loss: 0.1930 - coeff_determination: 0.3253 - val_loss: 0.2011 - val_coeff_determination: -3.8037e-04\n",
      "Epoch 6/100\n",
      "95/95 [==============================] - 2s 18ms/step - loss: 0.1864 - coeff_determination: 0.3571 - val_loss: 0.2092 - val_coeff_determination: -0.0925\n",
      "Epoch 7/100\n",
      "95/95 [==============================] - 2s 16ms/step - loss: 0.1837 - coeff_determination: 0.3688 - val_loss: 0.1873 - val_coeff_determination: 0.1265\n",
      "Epoch 8/100\n",
      "95/95 [==============================] - 2s 17ms/step - loss: 0.1806 - coeff_determination: 0.3896 - val_loss: 0.1843 - val_coeff_determination: 0.1487\n",
      "Epoch 9/100\n",
      "95/95 [==============================] - 1s 16ms/step - loss: 0.1785 - coeff_determination: 0.3815 - val_loss: 0.1909 - val_coeff_determination: 0.0363\n",
      "Epoch 10/100\n",
      "95/95 [==============================] - 2s 16ms/step - loss: 0.1765 - coeff_determination: 0.4110 - val_loss: 0.1809 - val_coeff_determination: 0.1582\n",
      "Epoch 11/100\n",
      "95/95 [==============================] - 1s 15ms/step - loss: 0.1714 - coeff_determination: 0.4393 - val_loss: 0.1860 - val_coeff_determination: 0.0885\n",
      "Epoch 12/100\n",
      "95/95 [==============================] - 1s 14ms/step - loss: 0.1704 - coeff_determination: 0.4551 - val_loss: 0.1782 - val_coeff_determination: 0.1721\n",
      "Epoch 13/100\n",
      "95/95 [==============================] - 1s 15ms/step - loss: 0.1706 - coeff_determination: 0.4514 - val_loss: 0.1844 - val_coeff_determination: 0.1162\n",
      "Epoch 14/100\n",
      "95/95 [==============================] - 1s 15ms/step - loss: 0.1674 - coeff_determination: 0.4731 - val_loss: 0.1779 - val_coeff_determination: 0.1741\n",
      "Epoch 15/100\n",
      "95/95 [==============================] - 2s 16ms/step - loss: 0.1656 - coeff_determination: 0.4654 - val_loss: 0.1724 - val_coeff_determination: 0.2144\n",
      "Epoch 16/100\n",
      "95/95 [==============================] - 1s 15ms/step - loss: 0.1683 - coeff_determination: 0.4590 - val_loss: 0.1781 - val_coeff_determination: 0.1861\n",
      "Epoch 17/100\n",
      "95/95 [==============================] - 2s 16ms/step - loss: 0.1629 - coeff_determination: 0.4836 - val_loss: 0.1717 - val_coeff_determination: 0.2305\n",
      "Epoch 18/100\n",
      "95/95 [==============================] - 2s 16ms/step - loss: 0.1635 - coeff_determination: 0.4912 - val_loss: 0.1746 - val_coeff_determination: 0.1982\n",
      "Epoch 19/100\n",
      "95/95 [==============================] - 1s 15ms/step - loss: 0.1617 - coeff_determination: 0.5121 - val_loss: 0.1702 - val_coeff_determination: 0.2503\n",
      "Epoch 20/100\n",
      "95/95 [==============================] - 1s 15ms/step - loss: 0.1599 - coeff_determination: 0.5104 - val_loss: 0.1798 - val_coeff_determination: 0.1384\n",
      "Epoch 21/100\n",
      "95/95 [==============================] - 1s 15ms/step - loss: 0.1606 - coeff_determination: 0.5041 - val_loss: 0.1688 - val_coeff_determination: 0.2612\n",
      "Epoch 22/100\n",
      "95/95 [==============================] - 2s 16ms/step - loss: 0.1584 - coeff_determination: 0.5082 - val_loss: 0.1755 - val_coeff_determination: 0.2254\n",
      "Epoch 23/100\n",
      "95/95 [==============================] - 2s 16ms/step - loss: 0.1579 - coeff_determination: 0.5194 - val_loss: 0.1734 - val_coeff_determination: 0.1937\n",
      "Epoch 24/100\n",
      "95/95 [==============================] - 1s 15ms/step - loss: 0.1620 - coeff_determination: 0.5004 - val_loss: 0.1729 - val_coeff_determination: 0.2350\n",
      "Epoch 25/100\n",
      "95/95 [==============================] - 1s 16ms/step - loss: 0.1560 - coeff_determination: 0.5115 - val_loss: 0.1677 - val_coeff_determination: 0.2774\n",
      "Epoch 26/100\n",
      "95/95 [==============================] - 1s 15ms/step - loss: 0.1566 - coeff_determination: 0.5264 - val_loss: 0.1714 - val_coeff_determination: 0.2563\n",
      "Epoch 27/100\n",
      "95/95 [==============================] - 1s 15ms/step - loss: 0.1592 - coeff_determination: 0.5038 - val_loss: 0.1658 - val_coeff_determination: 0.2840\n",
      "Epoch 28/100\n",
      "95/95 [==============================] - 1s 16ms/step - loss: 0.1512 - coeff_determination: 0.5521 - val_loss: 0.1650 - val_coeff_determination: 0.3045\n",
      "Epoch 29/100\n",
      "95/95 [==============================] - 1s 16ms/step - loss: 0.1503 - coeff_determination: 0.5462 - val_loss: 0.1631 - val_coeff_determination: 0.3204\n",
      "Epoch 30/100\n",
      "95/95 [==============================] - 2s 16ms/step - loss: 0.1473 - coeff_determination: 0.5609 - val_loss: 0.1591 - val_coeff_determination: 0.3488\n",
      "Epoch 31/100\n",
      "95/95 [==============================] - 2s 16ms/step - loss: 0.1504 - coeff_determination: 0.5327 - val_loss: 0.1642 - val_coeff_determination: 0.3312\n",
      "Epoch 32/100\n",
      "95/95 [==============================] - 1s 15ms/step - loss: 0.1425 - coeff_determination: 0.5842 - val_loss: 0.1613 - val_coeff_determination: 0.3517\n",
      "Epoch 33/100\n",
      "95/95 [==============================] - 1s 15ms/step - loss: 0.1419 - coeff_determination: 0.5929 - val_loss: 0.1635 - val_coeff_determination: 0.3275\n",
      "Epoch 34/100\n",
      "95/95 [==============================] - 1s 15ms/step - loss: 0.1429 - coeff_determination: 0.5798 - val_loss: 0.1601 - val_coeff_determination: 0.3624\n",
      "Epoch 35/100\n",
      "95/95 [==============================] - 1s 15ms/step - loss: 0.1389 - coeff_determination: 0.5938 - val_loss: 0.1622 - val_coeff_determination: 0.2992\n",
      "Epoch 36/100\n",
      "95/95 [==============================] - 1s 15ms/step - loss: 0.1406 - coeff_determination: 0.5932 - val_loss: 0.1585 - val_coeff_determination: 0.3648\n",
      "Epoch 37/100\n",
      "95/95 [==============================] - 1s 15ms/step - loss: 0.1377 - coeff_determination: 0.6106 - val_loss: 0.1618 - val_coeff_determination: 0.3357\n",
      "Epoch 38/100\n",
      "95/95 [==============================] - 2s 16ms/step - loss: 0.1377 - coeff_determination: 0.5963 - val_loss: 0.1539 - val_coeff_determination: 0.3791\n",
      "Epoch 39/100\n",
      "95/95 [==============================] - 2s 17ms/step - loss: 0.1360 - coeff_determination: 0.6022 - val_loss: 0.1566 - val_coeff_determination: 0.3716\n",
      "Epoch 40/100\n",
      "95/95 [==============================] - 2s 16ms/step - loss: 0.1365 - coeff_determination: 0.6141 - val_loss: 0.1662 - val_coeff_determination: 0.2901\n",
      "Epoch 41/100\n",
      "95/95 [==============================] - 2s 17ms/step - loss: 0.1346 - coeff_determination: 0.6007 - val_loss: 0.1550 - val_coeff_determination: 0.3750\n",
      "Epoch 42/100\n",
      "95/95 [==============================] - 2s 16ms/step - loss: 0.1324 - coeff_determination: 0.6341 - val_loss: 0.1570 - val_coeff_determination: 0.3717\n",
      "Epoch 43/100\n",
      "95/95 [==============================] - 1s 15ms/step - loss: 0.1325 - coeff_determination: 0.6249 - val_loss: 0.1578 - val_coeff_determination: 0.3412\n",
      "Epoch 44/100\n",
      "95/95 [==============================] - 2s 17ms/step - loss: 0.1389 - coeff_determination: 0.5932 - val_loss: 0.1494 - val_coeff_determination: 0.4015\n",
      "Epoch 45/100\n",
      "95/95 [==============================] - 1s 16ms/step - loss: 0.1291 - coeff_determination: 0.6445 - val_loss: 0.1549 - val_coeff_determination: 0.3700\n",
      "Epoch 46/100\n",
      "95/95 [==============================] - 2s 17ms/step - loss: 0.1362 - coeff_determination: 0.5982 - val_loss: 0.1472 - val_coeff_determination: 0.4134\n",
      "Epoch 47/100\n",
      "95/95 [==============================] - 2s 16ms/step - loss: 0.1319 - coeff_determination: 0.6131 - val_loss: 0.1594 - val_coeff_determination: 0.3465\n",
      "Epoch 48/100\n",
      "95/95 [==============================] - 1s 16ms/step - loss: 0.1326 - coeff_determination: 0.6159 - val_loss: 0.1483 - val_coeff_determination: 0.4062\n",
      "Epoch 49/100\n",
      "95/95 [==============================] - 1s 15ms/step - loss: 0.1311 - coeff_determination: 0.6250 - val_loss: 0.1476 - val_coeff_determination: 0.4074\n",
      "Epoch 50/100\n",
      "95/95 [==============================] - 1s 14ms/step - loss: 0.1334 - coeff_determination: 0.6088 - val_loss: 0.1520 - val_coeff_determination: 0.3796\n",
      "Epoch 51/100\n",
      "95/95 [==============================] - 1s 15ms/step - loss: 0.1308 - coeff_determination: 0.6372 - val_loss: 0.1500 - val_coeff_determination: 0.4039\n",
      "Epoch 52/100\n",
      "95/95 [==============================] - 1s 15ms/step - loss: 0.1309 - coeff_determination: 0.6325 - val_loss: 0.1521 - val_coeff_determination: 0.3620\n",
      "Epoch 53/100\n",
      "95/95 [==============================] - 1s 15ms/step - loss: 0.1306 - coeff_determination: 0.6250 - val_loss: 0.1503 - val_coeff_determination: 0.3983\n",
      "Epoch 54/100\n",
      "95/95 [==============================] - 1s 15ms/step - loss: 0.1311 - coeff_determination: 0.6086 - val_loss: 0.1503 - val_coeff_determination: 0.3971\n",
      "Epoch 55/100\n",
      "95/95 [==============================] - 1s 15ms/step - loss: 0.1320 - coeff_determination: 0.6274 - val_loss: 0.1482 - val_coeff_determination: 0.4005\n",
      "Epoch 56/100\n",
      "95/95 [==============================] - 1s 15ms/step - loss: 0.1304 - coeff_determination: 0.6246 - val_loss: 0.1543 - val_coeff_determination: 0.3593\n",
      "Epoch 57/100\n",
      "95/95 [==============================] - 1s 16ms/step - loss: 0.1331 - coeff_determination: 0.6250 - val_loss: 0.1473 - val_coeff_determination: 0.4161\n",
      "Epoch 58/100\n",
      "95/95 [==============================] - 1s 15ms/step - loss: 0.1252 - coeff_determination: 0.6594 - val_loss: 0.1497 - val_coeff_determination: 0.4034\n",
      "Epoch 59/100\n",
      "95/95 [==============================] - 1s 16ms/step - loss: 0.1252 - coeff_determination: 0.6403 - val_loss: 0.1452 - val_coeff_determination: 0.4223\n",
      "Epoch 60/100\n",
      "95/95 [==============================] - 2s 17ms/step - loss: 0.1244 - coeff_determination: 0.6687 - val_loss: 0.1414 - val_coeff_determination: 0.4417\n",
      "Epoch 61/100\n",
      "95/95 [==============================] - 2s 16ms/step - loss: 0.1302 - coeff_determination: 0.6342 - val_loss: 0.1509 - val_coeff_determination: 0.3973\n",
      "Epoch 62/100\n",
      "95/95 [==============================] - 2s 17ms/step - loss: 0.1243 - coeff_determination: 0.6481 - val_loss: 0.1443 - val_coeff_determination: 0.4146\n",
      "Epoch 63/100\n",
      "95/95 [==============================] - 2s 18ms/step - loss: 0.1263 - coeff_determination: 0.6340 - val_loss: 0.1476 - val_coeff_determination: 0.4105\n",
      "Epoch 64/100\n",
      "95/95 [==============================] - 2s 17ms/step - loss: 0.1264 - coeff_determination: 0.6481 - val_loss: 0.1479 - val_coeff_determination: 0.4057\n",
      "Epoch 65/100\n",
      "95/95 [==============================] - 1s 16ms/step - loss: 0.1246 - coeff_determination: 0.6391 - val_loss: 0.1481 - val_coeff_determination: 0.3987\n",
      "Epoch 66/100\n",
      "95/95 [==============================] - 2s 17ms/step - loss: 0.1258 - coeff_determination: 0.6443 - val_loss: 0.1540 - val_coeff_determination: 0.3781\n",
      "Epoch 67/100\n",
      "95/95 [==============================] - 2s 17ms/step - loss: 0.1266 - coeff_determination: 0.6453 - val_loss: 0.1470 - val_coeff_determination: 0.4010\n",
      "Epoch 68/100\n",
      "95/95 [==============================] - 2s 16ms/step - loss: 0.1260 - coeff_determination: 0.6593 - val_loss: 0.1432 - val_coeff_determination: 0.4264\n",
      "Epoch 69/100\n",
      "95/95 [==============================] - 1s 15ms/step - loss: 0.1227 - coeff_determination: 0.6506 - val_loss: 0.1441 - val_coeff_determination: 0.4237\n",
      "Epoch 70/100\n",
      "95/95 [==============================] - 2s 16ms/step - loss: 0.1214 - coeff_determination: 0.6658 - val_loss: 0.1461 - val_coeff_determination: 0.4135\n",
      "Epoch 71/100\n",
      "95/95 [==============================] - 1s 16ms/step - loss: 0.1245 - coeff_determination: 0.6495 - val_loss: 0.1450 - val_coeff_determination: 0.4103\n",
      "Epoch 72/100\n",
      "95/95 [==============================] - 1s 15ms/step - loss: 0.1232 - coeff_determination: 0.6533 - val_loss: 0.1447 - val_coeff_determination: 0.4088\n",
      "Epoch 73/100\n",
      "95/95 [==============================] - 1s 15ms/step - loss: 0.1218 - coeff_determination: 0.6724 - val_loss: 0.1462 - val_coeff_determination: 0.4161\n",
      "Epoch 74/100\n",
      "95/95 [==============================] - 2s 16ms/step - loss: 0.1216 - coeff_determination: 0.6677 - val_loss: 0.1459 - val_coeff_determination: 0.4071\n",
      "Epoch 75/100\n",
      "95/95 [==============================] - 1s 15ms/step - loss: 0.1207 - coeff_determination: 0.6771 - val_loss: 0.1441 - val_coeff_determination: 0.4224\n",
      "Epoch 76/100\n",
      "95/95 [==============================] - 2s 17ms/step - loss: 0.1222 - coeff_determination: 0.6556 - val_loss: 0.1429 - val_coeff_determination: 0.4239\n",
      "Epoch 77/100\n",
      "95/95 [==============================] - 2s 17ms/step - loss: 0.1223 - coeff_determination: 0.6674 - val_loss: 0.1455 - val_coeff_determination: 0.4161\n",
      "Epoch 78/100\n",
      "95/95 [==============================] - 2s 17ms/step - loss: 0.1207 - coeff_determination: 0.6654 - val_loss: 0.1457 - val_coeff_determination: 0.3980\n",
      "Epoch 79/100\n",
      "95/95 [==============================] - 2s 18ms/step - loss: 0.1260 - coeff_determination: 0.6520 - val_loss: 0.1495 - val_coeff_determination: 0.4022\n",
      "Epoch 80/100\n",
      "95/95 [==============================] - 2s 18ms/step - loss: 0.1202 - coeff_determination: 0.6832 - val_loss: 0.1564 - val_coeff_determination: 0.3458\n",
      "Epoch 81/100\n",
      "95/95 [==============================] - 2s 17ms/step - loss: 0.1236 - coeff_determination: 0.6414 - val_loss: 0.1455 - val_coeff_determination: 0.4223\n",
      "Epoch 82/100\n",
      "95/95 [==============================] - 2s 16ms/step - loss: 0.1209 - coeff_determination: 0.6638 - val_loss: 0.1430 - val_coeff_determination: 0.4314\n",
      "Epoch 83/100\n",
      "95/95 [==============================] - 2s 17ms/step - loss: 0.1245 - coeff_determination: 0.6475 - val_loss: 0.1447 - val_coeff_determination: 0.4202\n",
      "Epoch 84/100\n",
      "95/95 [==============================] - 1s 15ms/step - loss: 0.1237 - coeff_determination: 0.6558 - val_loss: 0.1392 - val_coeff_determination: 0.4368\n",
      "Epoch 85/100\n",
      "95/95 [==============================] - 2s 19ms/step - loss: 0.1236 - coeff_determination: 0.6524 - val_loss: 0.1479 - val_coeff_determination: 0.3995\n",
      "Epoch 86/100\n",
      "95/95 [==============================] - 2s 18ms/step - loss: 0.1207 - coeff_determination: 0.6699 - val_loss: 0.1484 - val_coeff_determination: 0.3983\n",
      "Epoch 87/100\n",
      "95/95 [==============================] - 2s 17ms/step - loss: 0.1199 - coeff_determination: 0.6738 - val_loss: 0.1478 - val_coeff_determination: 0.4063\n",
      "Epoch 88/100\n",
      "95/95 [==============================] - 2s 18ms/step - loss: 0.1225 - coeff_determination: 0.6623 - val_loss: 0.1557 - val_coeff_determination: 0.3393\n",
      "Epoch 89/100\n",
      "95/95 [==============================] - 2s 17ms/step - loss: 0.1175 - coeff_determination: 0.6859 - val_loss: 0.1389 - val_coeff_determination: 0.4424\n",
      "Epoch 90/100\n",
      "95/95 [==============================] - 1s 16ms/step - loss: 0.1181 - coeff_determination: 0.6633 - val_loss: 0.1474 - val_coeff_determination: 0.3944\n",
      "Epoch 91/100\n",
      "95/95 [==============================] - 1s 16ms/step - loss: 0.1197 - coeff_determination: 0.6665 - val_loss: 0.1420 - val_coeff_determination: 0.4369\n",
      "Epoch 92/100\n",
      "95/95 [==============================] - 1s 16ms/step - loss: 0.1208 - coeff_determination: 0.6584 - val_loss: 0.1406 - val_coeff_determination: 0.4397\n",
      "Epoch 93/100\n",
      "95/95 [==============================] - 1s 15ms/step - loss: 0.1201 - coeff_determination: 0.6746 - val_loss: 0.1434 - val_coeff_determination: 0.4216\n",
      "Epoch 94/100\n",
      "95/95 [==============================] - 1s 15ms/step - loss: 0.1185 - coeff_determination: 0.6847 - val_loss: 0.1435 - val_coeff_determination: 0.4283\n",
      "Epoch 95/100\n",
      "95/95 [==============================] - 1s 15ms/step - loss: 0.1214 - coeff_determination: 0.6608 - val_loss: 0.1399 - val_coeff_determination: 0.4405\n",
      "Epoch 96/100\n",
      "95/95 [==============================] - 1s 16ms/step - loss: 0.1196 - coeff_determination: 0.6808 - val_loss: 0.1431 - val_coeff_determination: 0.4260\n",
      "Epoch 97/100\n",
      "95/95 [==============================] - 1s 15ms/step - loss: 0.1204 - coeff_determination: 0.6729 - val_loss: 0.1542 - val_coeff_determination: 0.3300\n",
      "Epoch 98/100\n",
      "95/95 [==============================] - 1s 15ms/step - loss: 0.1203 - coeff_determination: 0.6627 - val_loss: 0.1410 - val_coeff_determination: 0.4297\n",
      "Epoch 99/100\n",
      "95/95 [==============================] - 1s 15ms/step - loss: 0.1179 - coeff_determination: 0.6847 - val_loss: 0.1392 - val_coeff_determination: 0.4398\n",
      "Epoch 100/100\n",
      "95/95 [==============================] - 1s 15ms/step - loss: 0.1175 - coeff_determination: 0.6816 - val_loss: 0.1483 - val_coeff_determination: 0.3891\n"
     ]
    },
    {
     "output_type": "display_data",
     "data": {
      "text/plain": "Canvas(toolbar=Toolbar(toolitems=[('Home', 'Reset original view', 'home', 'home'), ('Back', 'Back to previous …",
      "application/vnd.jupyter.widget-view+json": {
       "version_major": 2,
       "version_minor": 0,
       "model_id": "cbb6b929393e410c961ec297cfb9c647"
      }
     },
     "metadata": {}
    },
    {
     "output_type": "display_data",
     "data": {
      "text/plain": "Canvas(toolbar=Toolbar(toolitems=[('Home', 'Reset original view', 'home', 'home'), ('Back', 'Back to previous …",
      "application/vnd.jupyter.widget-view+json": {
       "version_major": 2,
       "version_minor": 0,
       "model_id": "b0155900437e4cbcba75839efb95499e"
      }
     },
     "metadata": {}
    }
   ],
   "source": [
    "history= model.fit(x=x_train, y=y_train, epochs=100, validation_data=(x_test, y_test),batch_size=50,verbose=1)\n",
    "plot_loss(history)"
   ]
  },
  {
   "cell_type": "code",
   "execution_count": 37,
   "metadata": {},
   "outputs": [
    {
     "output_type": "stream",
     "name": "stdout",
     "text": [
      "0.7366018259955913\n0.5322781740413931\n"
     ]
    }
   ],
   "source": [
    "y_pred_train_LSTM = model.predict(x_train)\n",
    "print(r2_score(y_train, y_pred_train_LSTM))\n",
    "y_pred_test_LSTM = model.predict(x_test)\n",
    "print(r2_score(y_test, y_pred_test_LSTM))"
   ]
  },
  {
   "cell_type": "code",
   "execution_count": 38,
   "metadata": {},
   "outputs": [
    {
     "output_type": "display_data",
     "data": {
      "text/plain": "Canvas(toolbar=Toolbar(toolitems=[('Home', 'Reset original view', 'home', 'home'), ('Back', 'Back to previous …",
      "application/vnd.jupyter.widget-view+json": {
       "version_major": 2,
       "version_minor": 0,
       "model_id": "0b3199a7a9944a40ae8c5ad1463b55f5"
      }
     },
     "metadata": {}
    },
    {
     "output_type": "display_data",
     "data": {
      "text/plain": "Canvas(toolbar=Toolbar(toolitems=[('Home', 'Reset original view', 'home', 'home'), ('Back', 'Back to previous …",
      "application/vnd.jupyter.widget-view+json": {
       "version_major": 2,
       "version_minor": 0,
       "model_id": "dc35605c592d4bc9a96b5fbb3c3df5ec"
      }
     },
     "metadata": {}
    }
   ],
   "source": [
    "plotRegression(y_train, y_pred_train_LSTM)\n",
    "plotRegression(y_test, y_pred_test_LSTM)"
   ]
  },
  {
   "cell_type": "code",
   "execution_count": 64,
   "metadata": {},
   "outputs": [],
   "source": [
    "# ann Model\n",
    "ann_model = Sequential()\n",
    "ann_model.add(Dense(20, input_dim=x_train.shape[1], activation='relu'))\n",
    "ann_model.add(Dropout(0.2))\n",
    "ann_model.add(Dense(10, activation='relu'))\n",
    "ann_model.add(Dropout(0.2))\n",
    "# ann_model.add(Dense(10, activation='relu'))\n",
    "# ann_model.add(Dropout(0.2))\n",
    "# ann_model.add(Dense(10, activation='relu'))\n",
    "ann_model.add(Dense(1, activation='relu'))\n",
    "# optimizer \n",
    "opt = tf.keras.optimizers.Adam(learning_rate=0.001)\n",
    "# compile\n",
    "# mean_squared_error\n",
    "# mean_absolute_error\n",
    "ann_model.compile(loss='mean_absolute_error', optimizer=opt, metrics=[coeff_determination])"
   ]
  },
  {
   "cell_type": "code",
   "execution_count": 65,
   "metadata": {
    "tags": []
   },
   "outputs": [],
   "source": [
    "History = ann_model.fit(x=x_train.reshape(-1,x_train.shape[1], ), y=y_train.reshape(-1,), epochs=100, validation_data=(x_test.reshape(-1,x_train.shape[1], ), y_test.reshape(-1,)),batch_size=50,verbose=0)"
   ]
  },
  {
   "cell_type": "code",
   "execution_count": 66,
   "metadata": {},
   "outputs": [
    {
     "output_type": "display_data",
     "data": {
      "text/plain": "Canvas(toolbar=Toolbar(toolitems=[('Home', 'Reset original view', 'home', 'home'), ('Back', 'Back to previous …",
      "application/vnd.jupyter.widget-view+json": {
       "version_major": 2,
       "version_minor": 0,
       "model_id": "a27ecd5862e44be9bc3e3f338d4c16b6"
      }
     },
     "metadata": {}
    },
    {
     "output_type": "display_data",
     "data": {
      "text/plain": "Canvas(toolbar=Toolbar(toolitems=[('Home', 'Reset original view', 'home', 'home'), ('Back', 'Back to previous …",
      "application/vnd.jupyter.widget-view+json": {
       "version_major": 2,
       "version_minor": 0,
       "model_id": "86b64a64c7954af2b59e74d268dc39b9"
      }
     },
     "metadata": {}
    }
   ],
   "source": [
    "plot_loss(History)"
   ]
  },
  {
   "source": [
    "num = 0\n",
    "while num < 10:\n",
    "    history= ann_model.fit(x=x_train.reshape(-1,x_train.shape[1], ), y=y_train.reshape(-1,), epochs=100, validation_data=(x_test.reshape(-1,x_train.shape[1], ), y_test.reshape(-1,)),batch_size=64,verbose=0)\n",
    "    plot_loss(history)\n",
    "    y_pred_train_ann = model.predict(x_train)\n",
    "    print(r2_score(y_train, y_pred_train_ann))\n",
    "    y_pred_test_ann = model.predict(x_test)\n",
    "    print(r2_score(y_test, y_pred_test_ann))\n",
    "    num += 1\n"
   ],
   "cell_type": "markdown",
   "metadata": {
    "tags": []
   }
  },
  {
   "cell_type": "code",
   "execution_count": 67,
   "metadata": {},
   "outputs": [
    {
     "output_type": "stream",
     "name": "stdout",
     "text": [
      "0.8933351876894882\n0.7761286851756322\n"
     ]
    }
   ],
   "source": [
    "y_pred_train_ann = ann_model.predict(x_train.reshape(-1,x_train.shape[1], ))\n",
    "print(r2_score(y_train, y_pred_train_ann))\n",
    "y_pred_test_ann = ann_model.predict(x_test.reshape(-1,x_train.shape[1], ))\n",
    "print(r2_score(y_test, y_pred_test_ann))"
   ]
  },
  {
   "cell_type": "code",
   "execution_count": 68,
   "metadata": {},
   "outputs": [
    {
     "output_type": "display_data",
     "data": {
      "text/plain": "Canvas(toolbar=Toolbar(toolitems=[('Home', 'Reset original view', 'home', 'home'), ('Back', 'Back to previous …",
      "application/vnd.jupyter.widget-view+json": {
       "version_major": 2,
       "version_minor": 0,
       "model_id": "c90d63bf08f84572bf134824cd8af4ca"
      }
     },
     "metadata": {}
    },
    {
     "output_type": "display_data",
     "data": {
      "text/plain": "Canvas(toolbar=Toolbar(toolitems=[('Home', 'Reset original view', 'home', 'home'), ('Back', 'Back to previous …",
      "application/vnd.jupyter.widget-view+json": {
       "version_major": 2,
       "version_minor": 0,
       "model_id": "ec850b02508744ec9ab7021cb02db263"
      }
     },
     "metadata": {}
    }
   ],
   "source": [
    "plotRegression(y_train, y_pred_train_ann)\n",
    "plotRegression(y_test, y_pred_test_ann)"
   ]
  },
  {
   "cell_type": "code",
   "execution_count": 69,
   "metadata": {},
   "outputs": [
    {
     "output_type": "display_data",
     "data": {
      "text/plain": "Canvas(toolbar=Toolbar(toolitems=[('Home', 'Reset original view', 'home', 'home'), ('Back', 'Back to previous …",
      "application/vnd.jupyter.widget-view+json": {
       "version_major": 2,
       "version_minor": 0,
       "model_id": "1a8f650b64c644a78f62cfbb330c72e7"
      }
     },
     "metadata": {}
    },
    {
     "output_type": "display_data",
     "data": {
      "text/plain": "Canvas(toolbar=Toolbar(toolitems=[('Home', 'Reset original view', 'home', 'home'), ('Back', 'Back to previous …",
      "application/vnd.jupyter.widget-view+json": {
       "version_major": 2,
       "version_minor": 0,
       "model_id": "a23dca919823475b9bd9345f490db5cd"
      }
     },
     "metadata": {}
    }
   ],
   "source": [
    "plotRegression(scalerY.inverse_transform(y_train.reshape(-1,1))/1000, scalerY.inverse_transform(y_pred_train_ann.reshape(-1,1))/1000)\n",
    "plotRegression(scalerY.inverse_transform(y_test.reshape(-1,1))/1000, scalerY.inverse_transform(y_pred_test_ann.reshape(-1,1))/1000)"
   ]
  },
  {
   "cell_type": "code",
   "execution_count": null,
   "metadata": {},
   "outputs": [],
   "source": []
  }
 ]
}