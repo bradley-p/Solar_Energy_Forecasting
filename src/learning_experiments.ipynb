{
 "metadata": {
  "language_info": {
   "codemirror_mode": {
    "name": "ipython",
    "version": 3
   },
   "file_extension": ".py",
   "mimetype": "text/x-python",
   "name": "python",
   "nbconvert_exporter": "python",
   "pygments_lexer": "ipython3",
   "version": "3.8.5"
  },
  "orig_nbformat": 2,
  "kernelspec": {
   "name": "python3",
   "display_name": "Python 3.8.5 64-bit",
   "metadata": {
    "interpreter": {
     "hash": "082e9a3bcad0a290d0001e938aa60b99250c6c2ef33a923c00b70f9826caf4b7"
    }
   }
  }
 },
 "nbformat": 4,
 "nbformat_minor": 2,
 "cells": [
  {
   "source": [
    "# This notebook explores a variety of training methods"
   ],
   "cell_type": "markdown",
   "metadata": {}
  },
  {
   "source": [
    "## Imports \n",
    "<hr>"
   ],
   "cell_type": "markdown",
   "metadata": {}
  },
  {
   "cell_type": "code",
   "execution_count": 48,
   "metadata": {},
   "outputs": [],
   "source": [
    "import numpy as np \n",
    "import matplotlib.pyplot as plt \n",
    "%matplotlib widget \n",
    "import math\n",
    "import pandas as pd\n",
    "from datetime import datetime"
   ]
  },
  {
   "cell_type": "code",
   "execution_count": 2,
   "metadata": {},
   "outputs": [],
   "source": [
    "from sklearn.preprocessing import StandardScaler\n",
    "from sklearn.preprocessing import MinMaxScaler\n",
    "from sklearn.preprocessing import QuantileTransformer\n",
    "from sklearn.svm import SVR"
   ]
  },
  {
   "cell_type": "code",
   "execution_count": 3,
   "metadata": {},
   "outputs": [],
   "source": [
    "from sklearn.ensemble import RandomForestRegressor\n",
    "from sklearn.metrics import r2_score"
   ]
  },
  {
   "cell_type": "code",
   "execution_count": 4,
   "metadata": {},
   "outputs": [],
   "source": [
    "def plotRegression(truth, pred):\n",
    "    plt.figure(figsize=(10,10))\n",
    "    plt.scatter(truth, pred)\n",
    "    plt.grid()\n",
    "    plt.xlabel(\"Truth\")\n",
    "    plt.ylabel(\"Predicted\")\n",
    "    plt.title(\"Truth Plotted against actual value\")\n",
    "    plt.plot([min(truth),max(truth)], [min(truth),max(truth)], 'r')\n",
    "    plt.show()\n",
    "    \n",
    "def computeAverageError(pred, y):\n",
    "    err = []\n",
    "    for i in range(len(pred)):\n",
    "        err.append(abs((y[i] - pred[i])/(y[i] + 1e-6)))\n",
    "\n",
    "    return sum(err)/ len(err)"
   ]
  },
  {
   "source": [
    "## Load the data and split into training and testing \n",
    "<hr>"
   ],
   "cell_type": "markdown",
   "metadata": {}
  },
  {
   "cell_type": "code",
   "execution_count": 5,
   "metadata": {},
   "outputs": [],
   "source": [
    "############## This data has not been normalized/scaled at all ###################\n",
    "dataUnscaled_filename = '/Users/brad/Desktop/CS6620/Project/Data/combined_processed_data1.csv' \n",
    "data = pd.read_csv(dataUnscaled_filename, sep=',')\n",
    "y = data['Solar_average'].to_numpy()\n",
    "x = data.drop(['Unnamed: 0', 'date_time', 'Solar_average', 'Solar_total', 'Count'], axis=1).to_numpy()"
   ]
  },
  {
   "cell_type": "code",
   "execution_count": 6,
   "metadata": {},
   "outputs": [],
   "source": [
    "# ## Jarom's data\n",
    "# dataUnscaled_filename = '/Users/brad/Desktop/CS6620/AICE/code/combined_data2.csv' \n",
    "# data = pd.read_csv(dataUnscaled_filename, sep=',')\n",
    "# y = data['Solar_Power'].to_numpy()\n",
    "# x = data.drop(['timestamp','Solar_Power'], axis=1).to_numpy()\n",
    "# x = np.nan_to_num(x, copy=True)\n",
    "# y = np.nan_to_num(y, copy=True)"
   ]
  },
  {
   "cell_type": "code",
   "execution_count": 7,
   "metadata": {},
   "outputs": [
    {
     "output_type": "stream",
     "name": "stdout",
     "text": [
      "After split and reshape\n(4603, 39)\n(4603, 1)\n(813, 39)\n(813, 1)\n"
     ]
    }
   ],
   "source": [
    "train_length = int(x.shape[0] * 0.85)\n",
    "x_train = x[0 : train_length].reshape(-1, x.shape[1])\n",
    "y_train = y[0 : train_length].reshape(-1,1)\n",
    "x_test = x[train_length : ].reshape(-1, x.shape[1])\n",
    "y_test = y[train_length : ].reshape(-1,1)\n",
    "print('After split and reshape')\n",
    "print(x_train.shape)\n",
    "print(y_train.shape)\n",
    "print(x_test.shape)\n",
    "print(y_test.shape)"
   ]
  },
  {
   "cell_type": "code",
   "execution_count": 8,
   "metadata": {},
   "outputs": [
    {
     "output_type": "display_data",
     "data": {
      "text/plain": "Canvas(toolbar=Toolbar(toolitems=[('Home', 'Reset original view', 'home', 'home'), ('Back', 'Back to previous …",
      "application/vnd.jupyter.widget-view+json": {
       "version_major": 2,
       "version_minor": 0,
       "model_id": "601f36887db145d7a8e0c19c98f3d78d"
      }
     },
     "metadata": {}
    },
    {
     "output_type": "display_data",
     "data": {
      "text/plain": "Canvas(toolbar=Toolbar(toolitems=[('Home', 'Reset original view', 'home', 'home'), ('Back', 'Back to previous …",
      "application/vnd.jupyter.widget-view+json": {
       "version_major": 2,
       "version_minor": 0,
       "model_id": "01c50482c77a43b9a4dbe96c0a13d655"
      }
     },
     "metadata": {}
    }
   ],
   "source": [
    "plt.figure()\n",
    "plt.hist(y_train, edgecolor='black')\n",
    "plt.title(\"Training\")\n",
    "plt.show()\n",
    "plt.figure()\n",
    "plt.hist(y_test, edgecolor='black')\n",
    "plt.title(\"Testing\")\n",
    "plt.show()"
   ]
  },
  {
   "source": [
    "## Explore different methods of scaling \n",
    "<hr>"
   ],
   "cell_type": "markdown",
   "metadata": {}
  },
  {
   "cell_type": "code",
   "execution_count": 9,
   "metadata": {},
   "outputs": [],
   "source": [
    "# Scale \n",
    "# sc_X = StandardScaler()\n",
    "# sc_y = StandardScaler()\n",
    "# x_train = sc_X.fit_transform(x_train)\n",
    "# x_test = sc_X.fit_transform(x_test)\n",
    "# y_train = sc_y.fit_transform(y_train)\n",
    "# y_test = sc_y.fit_transform(y_test)"
   ]
  },
  {
   "cell_type": "code",
   "execution_count": 10,
   "metadata": {},
   "outputs": [],
   "source": [
    "# # MinMaxScale a different way\n",
    "# scalerX = MinMaxScaler()\n",
    "# scalerY = MinMaxScaler()\n",
    "# x_train = scalerX.fit_transform(x_train)\n",
    "# x_test = scalerX.fit_transform(x_test)\n",
    "# y_train = scalerY.fit_transform(y_train)\n",
    "# y_test = scalerY.fit_transform(y_test)"
   ]
  },
  {
   "cell_type": "code",
   "execution_count": 11,
   "metadata": {},
   "outputs": [],
   "source": [
    "# Best results came from using quantile uniform \n",
    "\n",
    "# scalerX = QuantileTransformer(output_distribution='uniform')\n",
    "scalerX = MinMaxScaler()\n",
    "scalerX.fit(x_train)\n",
    "x_train = scalerX.transform(x_train)\n",
    "x_test = scalerX.transform(x_test)\n",
    "\n",
    "scalerY = QuantileTransformer(output_distribution='uniform')\n",
    "scalerY.fit(y_train)\n",
    "y_train = scalerY.transform(y_train)\n",
    "y_test = scalerY.transform(y_test)\n",
    "\n"
   ]
  },
  {
   "cell_type": "code",
   "execution_count": 12,
   "metadata": {},
   "outputs": [
    {
     "output_type": "display_data",
     "data": {
      "text/plain": "Canvas(toolbar=Toolbar(toolitems=[('Home', 'Reset original view', 'home', 'home'), ('Back', 'Back to previous …",
      "application/vnd.jupyter.widget-view+json": {
       "version_major": 2,
       "version_minor": 0,
       "model_id": "4087afe3621d460e86c8260ba022ddb9"
      }
     },
     "metadata": {}
    }
   ],
   "source": [
    "plt.figure()\n",
    "plt.hist(y_train, edgecolor='black')\n",
    "plt.title(\"Training data after Quantile Transform\")\n",
    "plt.xlabel(\"Solar Generation\")\n",
    "plt.show()"
   ]
  },
  {
   "cell_type": "code",
   "execution_count": 13,
   "metadata": {},
   "outputs": [
    {
     "output_type": "display_data",
     "data": {
      "text/plain": "Canvas(toolbar=Toolbar(toolitems=[('Home', 'Reset original view', 'home', 'home'), ('Back', 'Back to previous …",
      "application/vnd.jupyter.widget-view+json": {
       "version_major": 2,
       "version_minor": 0,
       "model_id": "460072eac1ea435085d557d6c70ee3d3"
      }
     },
     "metadata": {}
    }
   ],
   "source": [
    "plt.figure()\n",
    "plt.hist(y_test, edgecolor='black')\n",
    "plt.xlabel(\"Solar Generation\")\n",
    "plt.title(\"Test data after Quantile Transform\")\n",
    "plt.show()"
   ]
  },
  {
   "source": [
    "## Fit with KNN\n",
    "<hr>"
   ],
   "cell_type": "markdown",
   "metadata": {}
  },
  {
   "cell_type": "code",
   "execution_count": 14,
   "metadata": {},
   "outputs": [],
   "source": [
    "from sklearn import neighbors\n",
    "from sklearn.metrics import mean_squared_error\n",
    "from math import sqrt\n"
   ]
  },
  {
   "cell_type": "code",
   "execution_count": 15,
   "metadata": {},
   "outputs": [
    {
     "output_type": "display_data",
     "data": {
      "text/plain": "Canvas(toolbar=Toolbar(toolitems=[('Home', 'Reset original view', 'home', 'home'), ('Back', 'Back to previous …",
      "application/vnd.jupyter.widget-view+json": {
       "version_major": 2,
       "version_minor": 0,
       "model_id": "a6d5c38757a549f3ade36928e1585306"
      }
     },
     "metadata": {}
    },
    {
     "output_type": "display_data",
     "data": {
      "text/plain": "Canvas(toolbar=Toolbar(toolitems=[('Home', 'Reset original view', 'home', 'home'), ('Back', 'Back to previous …",
      "application/vnd.jupyter.widget-view+json": {
       "version_major": 2,
       "version_minor": 0,
       "model_id": "e67946aff1a84aee81a97a751a40bdab"
      }
     },
     "metadata": {}
    }
   ],
   "source": [
    "KNNmodel = neighbors.KNeighborsRegressor(n_neighbors = 9)\n",
    "KNNmodel.fit(x_train, y_train)  #fit the model\n",
    "test_pred_knn = KNNmodel.predict(x_test) #make prediction on test set\n",
    "train_pred_knn = KNNmodel.predict(x_train)\n",
    "plotRegression(y_train, train_pred_knn)\n",
    "plotRegression(y_test, test_pred_knn)"
   ]
  },
  {
   "cell_type": "code",
   "execution_count": 16,
   "metadata": {},
   "outputs": [
    {
     "output_type": "stream",
     "name": "stdout",
     "text": [
      "0.9011411386463991\n0.6044636496761477\n"
     ]
    }
   ],
   "source": [
    "print( r2_score(y_train, train_pred_knn) )\n",
    "print( r2_score(y_test, test_pred_knn) )"
   ]
  },
  {
   "source": [
    "## Try fitting the data with RandomForestRegressors\n",
    "<hr>"
   ],
   "cell_type": "markdown",
   "metadata": {}
  },
  {
   "cell_type": "code",
   "execution_count": 17,
   "metadata": {},
   "outputs": [
    {
     "output_type": "stream",
     "name": "stderr",
     "text": [
      "<ipython-input-17-4d35941cbd4c>:2: DataConversionWarning: A column-vector y was passed when a 1d array was expected. Please change the shape of y to (n_samples,), for example using ravel().\n  regressor.fit(x_train, y_train)\n"
     ]
    },
    {
     "output_type": "execute_result",
     "data": {
      "text/plain": [
       "RandomForestRegressor(random_state=2)"
      ]
     },
     "metadata": {},
     "execution_count": 17
    }
   ],
   "source": [
    "regressor = RandomForestRegressor(n_estimators=100, random_state=2)\n",
    "regressor.fit(x_train, y_train)"
   ]
  },
  {
   "cell_type": "code",
   "execution_count": 18,
   "metadata": {},
   "outputs": [
    {
     "output_type": "execute_result",
     "data": {
      "text/plain": [
       "0.9903289275298613"
      ]
     },
     "metadata": {},
     "execution_count": 18
    }
   ],
   "source": [
    "# Training data r^2 value \n",
    "y_train_pred = regressor.predict(x_train)\n",
    "r2_score(y_train, y_train_pred)"
   ]
  },
  {
   "cell_type": "code",
   "execution_count": 19,
   "metadata": {},
   "outputs": [
    {
     "output_type": "execute_result",
     "data": {
      "text/plain": [
       "0.7895801342173532"
      ]
     },
     "metadata": {},
     "execution_count": 19
    }
   ],
   "source": [
    "# testing data r^2 value \n",
    "y_test_pred = regressor.predict(x_test)\n",
    "r2_score(y_test, y_test_pred)"
   ]
  },
  {
   "cell_type": "code",
   "execution_count": 20,
   "metadata": {},
   "outputs": [
    {
     "output_type": "display_data",
     "data": {
      "text/plain": "Canvas(toolbar=Toolbar(toolitems=[('Home', 'Reset original view', 'home', 'home'), ('Back', 'Back to previous …",
      "application/vnd.jupyter.widget-view+json": {
       "version_major": 2,
       "version_minor": 0,
       "model_id": "76a6a9229a374225a5105c618b0ec62b"
      }
     },
     "metadata": {}
    }
   ],
   "source": [
    "plotRegression(scalerY.inverse_transform(y_train.reshape(-1,1))/1000, scalerY.inverse_transform(y_train_pred.reshape(-1,1))/1000)"
   ]
  },
  {
   "cell_type": "code",
   "execution_count": 21,
   "metadata": {},
   "outputs": [
    {
     "output_type": "display_data",
     "data": {
      "text/plain": "Canvas(toolbar=Toolbar(toolitems=[('Home', 'Reset original view', 'home', 'home'), ('Back', 'Back to previous …",
      "application/vnd.jupyter.widget-view+json": {
       "version_major": 2,
       "version_minor": 0,
       "model_id": "9d846a7a8fbc4fb69fa6d512aebf9f2a"
      }
     },
     "metadata": {}
    }
   ],
   "source": [
    "plotRegression(scalerY.inverse_transform(y_test.reshape(-1,1))/1000, scalerY.inverse_transform(y_test_pred.reshape(-1,1))/1000)"
   ]
  },
  {
   "source": [
    "## Support Vector Regression \n",
    "<hr>"
   ],
   "cell_type": "markdown",
   "metadata": {}
  },
  {
   "cell_type": "code",
   "execution_count": 22,
   "metadata": {},
   "outputs": [],
   "source": [
    "# sc_X = StandardScaler()\n",
    "# sc_y = StandardScaler()\n",
    "# x_train = sc_X.fit_transform(x_train)\n",
    "# x_test = sc_X.fit_transform(x_test)\n",
    "# y_train = sc_y.fit_transform(y_train)\n",
    "# y_test = sc_y.fit_transform(y_test)"
   ]
  },
  {
   "source": [
    "### Before transform, data has range () after transform, from from (-1,5) (Using Standard scaler)\n",
    "### Using MinMaxScaler gives range between 0-1\n"
   ],
   "cell_type": "markdown",
   "metadata": {}
  },
  {
   "cell_type": "code",
   "execution_count": 23,
   "metadata": {},
   "outputs": [
    {
     "output_type": "stream",
     "name": "stdout",
     "text": [
      "Before reshaping: \n(4603, 1)\n(813, 1)\nAfter reshaping: \n(4603,)\n(813,)\n"
     ]
    }
   ],
   "source": [
    "x_train = x_train.reshape(-1, x_train.shape[1],)\n",
    "x_test = x_test.reshape(-1, x_train.shape[1],)\n",
    "# Reshape Y \n",
    "print('Before reshaping: ')\n",
    "print(y_train.shape)\n",
    "print(y_test.shape)\n",
    "\n",
    "y_train = y_train.flatten()\n",
    "y_test = y_test.flatten()\n",
    "print('After reshaping: ')\n",
    "print(y_train.shape)\n",
    "print(y_test.shape)"
   ]
  },
  {
   "cell_type": "code",
   "execution_count": 24,
   "metadata": {},
   "outputs": [
    {
     "output_type": "execute_result",
     "data": {
      "text/plain": [
       "SVR(kernel='poly')"
      ]
     },
     "metadata": {},
     "execution_count": 24
    }
   ],
   "source": [
    "regressorSVR = SVR(kernel='poly')\n",
    "regressorSVR.fit(x_train, y_train)"
   ]
  },
  {
   "cell_type": "code",
   "execution_count": 25,
   "metadata": {},
   "outputs": [],
   "source": [
    "y_train_pred_svr = regressorSVR.predict(x_train)\n",
    "y_test_pred_svr = regressorSVR.predict(x_test)"
   ]
  },
  {
   "cell_type": "code",
   "execution_count": 26,
   "metadata": {},
   "outputs": [
    {
     "output_type": "stream",
     "name": "stdout",
     "text": [
      "0.9363987712359997\n0.7559122781422519\n"
     ]
    }
   ],
   "source": [
    "print(r2_score(y_train, y_train_pred_svr))\n",
    "print(r2_score(y_test, y_test_pred_svr))"
   ]
  },
  {
   "cell_type": "code",
   "execution_count": 27,
   "metadata": {},
   "outputs": [
    {
     "output_type": "display_data",
     "data": {
      "text/plain": "Canvas(toolbar=Toolbar(toolitems=[('Home', 'Reset original view', 'home', 'home'), ('Back', 'Back to previous …",
      "application/vnd.jupyter.widget-view+json": {
       "version_major": 2,
       "version_minor": 0,
       "model_id": "d2124f6901ca43eaa3fd24188ac15b76"
      }
     },
     "metadata": {}
    }
   ],
   "source": [
    "plotRegression(truth=y_train, pred=y_train_pred_svr)"
   ]
  },
  {
   "cell_type": "code",
   "execution_count": 28,
   "metadata": {},
   "outputs": [
    {
     "output_type": "display_data",
     "data": {
      "text/plain": "Canvas(toolbar=Toolbar(toolitems=[('Home', 'Reset original view', 'home', 'home'), ('Back', 'Back to previous …",
      "application/vnd.jupyter.widget-view+json": {
       "version_major": 2,
       "version_minor": 0,
       "model_id": "4baff2341a254b21b7e649e305793d6f"
      }
     },
     "metadata": {}
    }
   ],
   "source": [
    "plotRegression(truth=y_test, pred=y_test_pred_svr)"
   ]
  },
  {
   "source": [
    "## Using keras RNN and ANN\n",
    "<hr>"
   ],
   "cell_type": "markdown",
   "metadata": {}
  },
  {
   "cell_type": "code",
   "execution_count": 29,
   "metadata": {},
   "outputs": [],
   "source": [
    "import tensorflow as tf \n",
    "from tensorflow import keras\n",
    "from keras import backend as K\n",
    "import numpy as np\n",
    "from tensorflow.keras.models import Sequential\n",
    "from tensorflow.keras.layers import Dense, Dropout, LSTM\n",
    "from tensorflow.keras.layers.experimental import preprocessing"
   ]
  },
  {
   "cell_type": "code",
   "execution_count": 30,
   "metadata": {},
   "outputs": [],
   "source": [
    "# not sure if this is right. \n",
    "def coeff_determination(y_true, y_pred):\n",
    "    SS_res =  K.sum(K.square( y_true-y_pred )) \n",
    "    SS_tot = K.sum(K.square( y_true - K.mean(y_true) ) ) \n",
    "    return ( 1 - SS_res/(SS_tot + K.epsilon()) )"
   ]
  },
  {
   "cell_type": "code",
   "execution_count": 31,
   "metadata": {},
   "outputs": [],
   "source": [
    "# x_train = x_train.reshape(-1,x_train.shape[1],)\n",
    "# x_test = x_test.reshape(-1,x_train.shape[1],)\n",
    "# scalerX = MinMaxScaler()\n",
    "# scalerX.fit(x_train)\n",
    "# x_train = scalerX.transform(x_train)\n",
    "# x_test = scalerX.transform(x_test)"
   ]
  },
  {
   "cell_type": "code",
   "execution_count": 32,
   "metadata": {},
   "outputs": [],
   "source": [
    "#LSTM model\n",
    "model = Sequential()\n",
    "model.add(LSTM(10, input_shape=(x_train.shape[1],1), return_sequences=True))\n",
    "model.add(Dropout(0.2))\n",
    "# model.add(LSTM(128, activation='relu', return_sequences=True))\n",
    "# model.add(Dropout(0.2))\n",
    "model.add(LSTM(10, activation='relu'))\n",
    "model.add(Dropout(0.2))\n",
    "model.add(Dense(10, activation='relu'))\n",
    "model.add(Dropout(0.2))\n",
    "model.add(Dense(1, activation='relu'))\n",
    "# optimizer \n",
    "opt = tf.keras.optimizers.Adam(learning_rate=0.001, decay=1e-5)\n",
    "# compile\n",
    "# mean_squared_error\n",
    "# mean_absolute_error\n",
    "model.compile(loss='mean_absolute_error', optimizer=opt, metrics=[coeff_determination])"
   ]
  },
  {
   "cell_type": "code",
   "execution_count": 33,
   "metadata": {},
   "outputs": [],
   "source": [
    "def plot_loss(history):\n",
    "  plt.figure()\n",
    "  plt.plot(history.history['loss'], label='loss')\n",
    "  plt.plot(history.history['val_loss'], label='val_loss')\n",
    "  plt.xlabel('Epoch')\n",
    "  plt.ylabel('Loss')\n",
    "  plt.legend()\n",
    "  plt.grid(True)\n",
    "  plt.show()\n",
    "  plt.figure()\n",
    "  plt.plot(history.history['coeff_determination'], label='R^2')\n",
    "  plt.plot(history.history['val_coeff_determination'], label='validation R^2')\n",
    "  plt.xlabel('Epoch')\n",
    "  plt.ylabel('R^2')\n",
    "  plt.legend()\n",
    "  plt.show()"
   ]
  },
  {
   "cell_type": "code",
   "execution_count": 34,
   "metadata": {},
   "outputs": [],
   "source": [
    "x_train = x_train.reshape(-1,x_train.shape[1],1)\n",
    "x_test = x_test.reshape(-1,x_train.shape[1],1)"
   ]
  },
  {
   "cell_type": "code",
   "execution_count": 35,
   "metadata": {},
   "outputs": [],
   "source": [
    "y_train = y_train.reshape(-1,1)\n",
    "y_test = y_test.reshape(-1,1)"
   ]
  },
  {
   "cell_type": "code",
   "execution_count": 78,
   "metadata": {
    "tags": []
   },
   "outputs": [
    {
     "output_type": "stream",
     "name": "stdout",
     "text": [
      "Epoch 1/100\n",
      "93/93 [==============================] - 1s 15ms/step - loss: 0.1075 - coeff_determination: 0.7574 - val_loss: 0.1477 - val_coeff_determination: 0.1986\n",
      "Epoch 2/100\n",
      "93/93 [==============================] - 1s 15ms/step - loss: 0.1078 - coeff_determination: 0.7501 - val_loss: 0.1463 - val_coeff_determination: 0.2934\n",
      "Epoch 3/100\n",
      "93/93 [==============================] - 2s 20ms/step - loss: 0.1079 - coeff_determination: 0.7556 - val_loss: 0.1449 - val_coeff_determination: 0.2894\n",
      "Epoch 4/100\n",
      "93/93 [==============================] - 2s 18ms/step - loss: 0.1077 - coeff_determination: 0.7538 - val_loss: 0.1483 - val_coeff_determination: 0.2823\n",
      "Epoch 5/100\n",
      "93/93 [==============================] - 1s 16ms/step - loss: 0.1085 - coeff_determination: 0.7458 - val_loss: 0.1457 - val_coeff_determination: 0.2524\n",
      "Epoch 6/100\n",
      "93/93 [==============================] - 2s 18ms/step - loss: 0.1088 - coeff_determination: 0.7354 - val_loss: 0.1494 - val_coeff_determination: 0.2194\n",
      "Epoch 7/100\n",
      "93/93 [==============================] - 2s 17ms/step - loss: 0.1073 - coeff_determination: 0.7432 - val_loss: 0.1504 - val_coeff_determination: 0.1603\n",
      "Epoch 8/100\n",
      "93/93 [==============================] - 2s 17ms/step - loss: 0.1070 - coeff_determination: 0.7364 - val_loss: 0.1560 - val_coeff_determination: 0.2437\n",
      "Epoch 9/100\n",
      "93/93 [==============================] - 1s 16ms/step - loss: 0.1083 - coeff_determination: 0.6987 - val_loss: 0.1457 - val_coeff_determination: 0.2987\n",
      "Epoch 10/100\n",
      "93/93 [==============================] - 2s 18ms/step - loss: 0.1070 - coeff_determination: 0.7530 - val_loss: 0.1461 - val_coeff_determination: 0.2887\n",
      "Epoch 11/100\n",
      "93/93 [==============================] - 1s 16ms/step - loss: 0.1067 - coeff_determination: 0.7515 - val_loss: 0.1458 - val_coeff_determination: 0.2832\n",
      "Epoch 12/100\n",
      "93/93 [==============================] - 1s 15ms/step - loss: 0.1074 - coeff_determination: 0.7511 - val_loss: 0.1483 - val_coeff_determination: 0.2082\n",
      "Epoch 13/100\n",
      "93/93 [==============================] - 1s 16ms/step - loss: 0.1073 - coeff_determination: 0.7483 - val_loss: 0.1458 - val_coeff_determination: 0.2863\n",
      "Epoch 14/100\n",
      "93/93 [==============================] - 1s 16ms/step - loss: 0.1085 - coeff_determination: 0.7517 - val_loss: 0.1482 - val_coeff_determination: 0.1987\n",
      "Epoch 15/100\n",
      "93/93 [==============================] - 2s 17ms/step - loss: 0.1064 - coeff_determination: 0.7506 - val_loss: 0.1456 - val_coeff_determination: 0.2842\n",
      "Epoch 16/100\n",
      "93/93 [==============================] - 2s 16ms/step - loss: 0.1071 - coeff_determination: 0.7511 - val_loss: 0.1457 - val_coeff_determination: 0.3017\n",
      "Epoch 17/100\n",
      "93/93 [==============================] - 2s 18ms/step - loss: 0.1078 - coeff_determination: 0.7499 - val_loss: 0.1450 - val_coeff_determination: 0.2953\n",
      "Epoch 18/100\n",
      "93/93 [==============================] - 2s 17ms/step - loss: 0.1081 - coeff_determination: 0.7474 - val_loss: 0.1478 - val_coeff_determination: 0.2244\n",
      "Epoch 19/100\n",
      "93/93 [==============================] - 1s 16ms/step - loss: 0.1059 - coeff_determination: 0.7570 - val_loss: 0.1452 - val_coeff_determination: 0.2554\n",
      "Epoch 20/100\n",
      "93/93 [==============================] - 2s 17ms/step - loss: 0.1071 - coeff_determination: 0.7523 - val_loss: 0.1451 - val_coeff_determination: 0.2764\n",
      "Epoch 21/100\n",
      "93/93 [==============================] - 1s 16ms/step - loss: 0.1084 - coeff_determination: 0.7310 - val_loss: 0.1513 - val_coeff_determination: 0.1525\n",
      "Epoch 22/100\n",
      "93/93 [==============================] - 1s 15ms/step - loss: 0.1082 - coeff_determination: 0.7429 - val_loss: 0.1462 - val_coeff_determination: 0.2593\n",
      "Epoch 23/100\n",
      "93/93 [==============================] - 1s 15ms/step - loss: 0.1064 - coeff_determination: 0.6022 - val_loss: 0.1476 - val_coeff_determination: 0.2948\n",
      "Epoch 24/100\n",
      "93/93 [==============================] - 1s 15ms/step - loss: 0.1065 - coeff_determination: 0.7526 - val_loss: 0.1483 - val_coeff_determination: 0.2811\n",
      "Epoch 25/100\n",
      "93/93 [==============================] - 2s 16ms/step - loss: 0.1060 - coeff_determination: 0.7508 - val_loss: 0.1468 - val_coeff_determination: 0.2265\n",
      "Epoch 26/100\n",
      "93/93 [==============================] - 1s 15ms/step - loss: 0.1075 - coeff_determination: 0.7507 - val_loss: 0.1467 - val_coeff_determination: 0.2766\n",
      "Epoch 27/100\n",
      "93/93 [==============================] - 1s 15ms/step - loss: 0.1073 - coeff_determination: 0.4942 - val_loss: 0.1453 - val_coeff_determination: 0.2724\n",
      "Epoch 28/100\n",
      "93/93 [==============================] - 1s 16ms/step - loss: 0.1068 - coeff_determination: 0.7556 - val_loss: 0.1469 - val_coeff_determination: 0.2298\n",
      "Epoch 29/100\n",
      "93/93 [==============================] - 1s 16ms/step - loss: 0.1070 - coeff_determination: 0.7571 - val_loss: 0.1480 - val_coeff_determination: 0.2036\n",
      "Epoch 30/100\n",
      "93/93 [==============================] - 2s 19ms/step - loss: 0.1060 - coeff_determination: 0.7540 - val_loss: 0.1453 - val_coeff_determination: 0.2921\n",
      "Epoch 31/100\n",
      "93/93 [==============================] - 2s 16ms/step - loss: 0.1056 - coeff_determination: 0.7582 - val_loss: 0.1460 - val_coeff_determination: 0.3002\n",
      "Epoch 32/100\n",
      "93/93 [==============================] - 2s 17ms/step - loss: 0.1056 - coeff_determination: 0.7619 - val_loss: 0.1484 - val_coeff_determination: 0.1827\n",
      "Epoch 33/100\n",
      "93/93 [==============================] - 1s 16ms/step - loss: 0.1051 - coeff_determination: 0.7637 - val_loss: 0.1456 - val_coeff_determination: 0.2583\n",
      "Epoch 34/100\n",
      "93/93 [==============================] - 1s 15ms/step - loss: 0.1054 - coeff_determination: 0.7587 - val_loss: 0.1466 - val_coeff_determination: 0.2803\n",
      "Epoch 35/100\n",
      "93/93 [==============================] - 1s 14ms/step - loss: 0.1057 - coeff_determination: 0.7604 - val_loss: 0.1434 - val_coeff_determination: 0.2763\n",
      "Epoch 36/100\n",
      "93/93 [==============================] - 1s 16ms/step - loss: 0.1057 - coeff_determination: 0.7576 - val_loss: 0.1433 - val_coeff_determination: 0.2788\n",
      "Epoch 37/100\n",
      "93/93 [==============================] - 1s 15ms/step - loss: 0.1075 - coeff_determination: 0.7519 - val_loss: 0.1501 - val_coeff_determination: 0.2842\n",
      "Epoch 38/100\n",
      "93/93 [==============================] - 1s 15ms/step - loss: 0.1062 - coeff_determination: 0.7567 - val_loss: 0.1447 - val_coeff_determination: 0.2875\n",
      "Epoch 39/100\n",
      "93/93 [==============================] - 1s 15ms/step - loss: 0.1068 - coeff_determination: 0.7524 - val_loss: 0.1456 - val_coeff_determination: 0.2807\n",
      "Epoch 40/100\n",
      "93/93 [==============================] - 1s 15ms/step - loss: 0.1071 - coeff_determination: 0.7479 - val_loss: 0.1457 - val_coeff_determination: 0.2842\n",
      "Epoch 41/100\n",
      "93/93 [==============================] - 1s 15ms/step - loss: 0.1059 - coeff_determination: 0.7508 - val_loss: 0.1486 - val_coeff_determination: 0.2052\n",
      "Epoch 42/100\n",
      "93/93 [==============================] - 1s 15ms/step - loss: 0.1070 - coeff_determination: 0.7560 - val_loss: 0.1473 - val_coeff_determination: 0.2636\n",
      "Epoch 43/100\n",
      "93/93 [==============================] - 1s 15ms/step - loss: 0.1067 - coeff_determination: 0.7514 - val_loss: 0.1466 - val_coeff_determination: 0.2616\n",
      "Epoch 44/100\n",
      "93/93 [==============================] - 1s 15ms/step - loss: 0.1053 - coeff_determination: 0.7594 - val_loss: 0.1446 - val_coeff_determination: 0.2925\n",
      "Epoch 45/100\n",
      "93/93 [==============================] - 1s 16ms/step - loss: 0.1075 - coeff_determination: 0.7559 - val_loss: 0.1469 - val_coeff_determination: 0.2781\n",
      "Epoch 46/100\n",
      "93/93 [==============================] - 2s 16ms/step - loss: 0.1083 - coeff_determination: 0.7527 - val_loss: 0.1468 - val_coeff_determination: 0.2260\n",
      "Epoch 47/100\n",
      "93/93 [==============================] - 1s 15ms/step - loss: 0.1056 - coeff_determination: 0.7624 - val_loss: 0.1456 - val_coeff_determination: 0.2641\n",
      "Epoch 48/100\n",
      "93/93 [==============================] - 1s 14ms/step - loss: 0.1063 - coeff_determination: 0.7277 - val_loss: 0.1448 - val_coeff_determination: 0.2681\n",
      "Epoch 49/100\n",
      "93/93 [==============================] - 1s 15ms/step - loss: 0.1058 - coeff_determination: 0.7639 - val_loss: 0.1466 - val_coeff_determination: 0.2842\n",
      "Epoch 50/100\n",
      "93/93 [==============================] - 1s 15ms/step - loss: 0.1044 - coeff_determination: 0.7474 - val_loss: 0.1459 - val_coeff_determination: 0.2676\n",
      "Epoch 51/100\n",
      "93/93 [==============================] - 1s 15ms/step - loss: 0.1060 - coeff_determination: 0.7588 - val_loss: 0.1483 - val_coeff_determination: 0.2911\n",
      "Epoch 52/100\n",
      "93/93 [==============================] - 2s 16ms/step - loss: 0.1050 - coeff_determination: 0.7565 - val_loss: 0.1449 - val_coeff_determination: 0.2578\n",
      "Epoch 53/100\n",
      "93/93 [==============================] - 2s 17ms/step - loss: 0.1042 - coeff_determination: 0.6326 - val_loss: 0.1476 - val_coeff_determination: 0.2051\n",
      "Epoch 54/100\n",
      "93/93 [==============================] - 2s 17ms/step - loss: 0.1069 - coeff_determination: 0.7538 - val_loss: 0.1453 - val_coeff_determination: 0.2611\n",
      "Epoch 55/100\n",
      "93/93 [==============================] - 2s 17ms/step - loss: 0.1032 - coeff_determination: 0.7695 - val_loss: 0.1463 - val_coeff_determination: 0.2437\n",
      "Epoch 56/100\n",
      "93/93 [==============================] - 2s 16ms/step - loss: 0.1064 - coeff_determination: 0.7521 - val_loss: 0.1457 - val_coeff_determination: 0.2641\n",
      "Epoch 57/100\n",
      "93/93 [==============================] - 2s 17ms/step - loss: 0.1055 - coeff_determination: 0.7575 - val_loss: 0.1448 - val_coeff_determination: 0.2550\n",
      "Epoch 58/100\n",
      "93/93 [==============================] - 1s 16ms/step - loss: 0.1063 - coeff_determination: 0.7577 - val_loss: 0.1473 - val_coeff_determination: 0.2775\n",
      "Epoch 59/100\n",
      "93/93 [==============================] - 1s 15ms/step - loss: 0.1036 - coeff_determination: 0.7616 - val_loss: 0.1435 - val_coeff_determination: 0.2950\n",
      "Epoch 60/100\n",
      "93/93 [==============================] - 1s 16ms/step - loss: 0.1053 - coeff_determination: 0.7436 - val_loss: 0.1466 - val_coeff_determination: 0.2683\n",
      "Epoch 61/100\n",
      "93/93 [==============================] - 1s 15ms/step - loss: 0.1066 - coeff_determination: 0.7356 - val_loss: 0.1465 - val_coeff_determination: 0.2431\n",
      "Epoch 62/100\n",
      "93/93 [==============================] - 1s 15ms/step - loss: 0.1047 - coeff_determination: 0.7604 - val_loss: 0.1471 - val_coeff_determination: 0.2954\n",
      "Epoch 63/100\n",
      "93/93 [==============================] - 1s 15ms/step - loss: 0.1070 - coeff_determination: 0.7257 - val_loss: 0.1448 - val_coeff_determination: 0.2638\n",
      "Epoch 64/100\n",
      "93/93 [==============================] - 1s 15ms/step - loss: 0.1041 - coeff_determination: 0.7400 - val_loss: 0.1462 - val_coeff_determination: 0.2467\n",
      "Epoch 65/100\n",
      "93/93 [==============================] - 1s 15ms/step - loss: 0.1059 - coeff_determination: 0.7575 - val_loss: 0.1441 - val_coeff_determination: 0.2998\n",
      "Epoch 66/100\n",
      "93/93 [==============================] - 1s 15ms/step - loss: 0.1054 - coeff_determination: 0.7529 - val_loss: 0.1447 - val_coeff_determination: 0.2824\n",
      "Epoch 67/100\n",
      "93/93 [==============================] - 1s 15ms/step - loss: 0.1051 - coeff_determination: 0.7613 - val_loss: 0.1483 - val_coeff_determination: 0.2958\n",
      "Epoch 68/100\n",
      "93/93 [==============================] - 1s 15ms/step - loss: 0.1047 - coeff_determination: 0.7539 - val_loss: 0.1462 - val_coeff_determination: 0.2578\n",
      "Epoch 69/100\n",
      "93/93 [==============================] - 1s 15ms/step - loss: 0.1056 - coeff_determination: 0.7502 - val_loss: 0.1463 - val_coeff_determination: 0.2545\n",
      "Epoch 70/100\n",
      "93/93 [==============================] - 1s 15ms/step - loss: 0.1062 - coeff_determination: 0.6914 - val_loss: 0.1525 - val_coeff_determination: 0.2605\n",
      "Epoch 71/100\n",
      "93/93 [==============================] - 1s 15ms/step - loss: 0.1065 - coeff_determination: 0.7414 - val_loss: 0.1466 - val_coeff_determination: 0.2596\n",
      "Epoch 72/100\n",
      "93/93 [==============================] - 1s 15ms/step - loss: 0.1040 - coeff_determination: 0.7647 - val_loss: 0.1446 - val_coeff_determination: 0.2613\n",
      "Epoch 73/100\n",
      "93/93 [==============================] - 1s 14ms/step - loss: 0.1037 - coeff_determination: 0.7640 - val_loss: 0.1455 - val_coeff_determination: 0.2869\n",
      "Epoch 74/100\n",
      "93/93 [==============================] - 1s 15ms/step - loss: 0.1024 - coeff_determination: 0.7538 - val_loss: 0.1456 - val_coeff_determination: 0.2513\n",
      "Epoch 75/100\n",
      "93/93 [==============================] - 1s 15ms/step - loss: 0.1034 - coeff_determination: 0.7579 - val_loss: 0.1493 - val_coeff_determination: 0.2053\n",
      "Epoch 76/100\n",
      "93/93 [==============================] - 1s 15ms/step - loss: 0.1034 - coeff_determination: 0.7634 - val_loss: 0.1473 - val_coeff_determination: 0.2784\n",
      "Epoch 77/100\n",
      "93/93 [==============================] - 1s 15ms/step - loss: 0.1036 - coeff_determination: 0.7674 - val_loss: 0.1461 - val_coeff_determination: 0.2714\n",
      "Epoch 78/100\n",
      "93/93 [==============================] - 1s 15ms/step - loss: 0.1039 - coeff_determination: 0.7684 - val_loss: 0.1495 - val_coeff_determination: 0.2979\n",
      "Epoch 79/100\n",
      "93/93 [==============================] - 1s 15ms/step - loss: 0.1046 - coeff_determination: 0.7637 - val_loss: 0.1474 - val_coeff_determination: 0.1890\n",
      "Epoch 80/100\n",
      "93/93 [==============================] - 1s 15ms/step - loss: 0.1056 - coeff_determination: 0.7590 - val_loss: 0.1467 - val_coeff_determination: 0.2660\n",
      "Epoch 81/100\n",
      "93/93 [==============================] - 1s 15ms/step - loss: 0.1040 - coeff_determination: 0.7614 - val_loss: 0.1460 - val_coeff_determination: 0.2368\n",
      "Epoch 82/100\n",
      "93/93 [==============================] - 1s 15ms/step - loss: 0.1046 - coeff_determination: 0.7484 - val_loss: 0.1525 - val_coeff_determination: 0.2777\n",
      "Epoch 83/100\n",
      "93/93 [==============================] - 2s 18ms/step - loss: 0.1052 - coeff_determination: 0.7595 - val_loss: 0.1439 - val_coeff_determination: 0.2809\n",
      "Epoch 84/100\n",
      "93/93 [==============================] - 2s 17ms/step - loss: 0.1031 - coeff_determination: 0.7699 - val_loss: 0.1460 - val_coeff_determination: 0.3018\n",
      "Epoch 85/100\n",
      "93/93 [==============================] - 1s 16ms/step - loss: 0.1061 - coeff_determination: 0.7573 - val_loss: 0.1446 - val_coeff_determination: 0.2530\n",
      "Epoch 86/100\n",
      "93/93 [==============================] - 2s 16ms/step - loss: 0.1044 - coeff_determination: 0.7314 - val_loss: 0.1443 - val_coeff_determination: 0.2770\n",
      "Epoch 87/100\n",
      "93/93 [==============================] - 1s 16ms/step - loss: 0.1061 - coeff_determination: 0.7573 - val_loss: 0.1469 - val_coeff_determination: 0.3043\n",
      "Epoch 88/100\n",
      "93/93 [==============================] - 2s 17ms/step - loss: 0.1042 - coeff_determination: 0.7635 - val_loss: 0.1446 - val_coeff_determination: 0.2658\n",
      "Epoch 89/100\n",
      "93/93 [==============================] - 1s 16ms/step - loss: 0.1014 - coeff_determination: 0.7725 - val_loss: 0.1436 - val_coeff_determination: 0.2744\n",
      "Epoch 90/100\n",
      "93/93 [==============================] - 1s 15ms/step - loss: 0.1050 - coeff_determination: 0.7547 - val_loss: 0.1454 - val_coeff_determination: 0.2492\n",
      "Epoch 91/100\n",
      "93/93 [==============================] - 1s 16ms/step - loss: 0.1051 - coeff_determination: 0.7559 - val_loss: 0.1487 - val_coeff_determination: 0.2229\n",
      "Epoch 92/100\n",
      "93/93 [==============================] - 1s 15ms/step - loss: 0.1040 - coeff_determination: 0.7474 - val_loss: 0.1467 - val_coeff_determination: 0.2796\n",
      "Epoch 93/100\n",
      "93/93 [==============================] - 1s 15ms/step - loss: 0.1026 - coeff_determination: 0.7689 - val_loss: 0.1459 - val_coeff_determination: 0.2746\n",
      "Epoch 94/100\n",
      "93/93 [==============================] - 1s 15ms/step - loss: 0.1035 - coeff_determination: 0.7656 - val_loss: 0.1452 - val_coeff_determination: 0.2859\n",
      "Epoch 95/100\n",
      "93/93 [==============================] - 2s 16ms/step - loss: 0.1022 - coeff_determination: 0.7756 - val_loss: 0.1467 - val_coeff_determination: 0.2567\n",
      "Epoch 96/100\n",
      "93/93 [==============================] - 1s 16ms/step - loss: 0.1036 - coeff_determination: 0.7627 - val_loss: 0.1465 - val_coeff_determination: 0.2551\n",
      "Epoch 97/100\n",
      "93/93 [==============================] - 2s 16ms/step - loss: 0.1034 - coeff_determination: 0.7661 - val_loss: 0.1452 - val_coeff_determination: 0.2819\n",
      "Epoch 98/100\n",
      "93/93 [==============================] - 2s 17ms/step - loss: 0.1044 - coeff_determination: 0.7519 - val_loss: 0.1438 - val_coeff_determination: 0.2717\n",
      "Epoch 99/100\n",
      "93/93 [==============================] - 2s 17ms/step - loss: 0.1035 - coeff_determination: 0.7632 - val_loss: 0.1443 - val_coeff_determination: 0.2512\n",
      "Epoch 100/100\n",
      "93/93 [==============================] - 2s 17ms/step - loss: 0.1060 - coeff_determination: 0.7584 - val_loss: 0.1462 - val_coeff_determination: 0.2809\n"
     ]
    },
    {
     "output_type": "display_data",
     "data": {
      "text/plain": "Canvas(toolbar=Toolbar(toolitems=[('Home', 'Reset original view', 'home', 'home'), ('Back', 'Back to previous …",
      "application/vnd.jupyter.widget-view+json": {
       "version_major": 2,
       "version_minor": 0,
       "model_id": "6537bf1686fb47f7b8b3540b9f5a3a60"
      }
     },
     "metadata": {}
    },
    {
     "output_type": "display_data",
     "data": {
      "text/plain": "Canvas(toolbar=Toolbar(toolitems=[('Home', 'Reset original view', 'home', 'home'), ('Back', 'Back to previous …",
      "application/vnd.jupyter.widget-view+json": {
       "version_major": 2,
       "version_minor": 0,
       "model_id": "5cc5371a131440ba8491e106f7530ca3"
      }
     },
     "metadata": {}
    }
   ],
   "source": [
    "history= model.fit(x=x_train, y=y_train, epochs=100, validation_data=(x_test, y_test),batch_size=50,verbose=1)\n",
    "plot_loss(history)"
   ]
  },
  {
   "cell_type": "code",
   "execution_count": 52,
   "metadata": {},
   "outputs": [
    {
     "output_type": "execute_result",
     "data": {
      "text/plain": [
       "'2021-04-06 16:00:21.979367'"
      ]
     },
     "metadata": {},
     "execution_count": 52
    }
   ],
   "source": [
    "str(datetime.now())"
   ]
  },
  {
   "cell_type": "code",
   "execution_count": 80,
   "metadata": {},
   "outputs": [],
   "source": [
    "model.save(f\"/Users/brad/Desktop/CS6620/Project/models/rnn_model{str(datetime.now())}.h5\")"
   ]
  },
  {
   "cell_type": "code",
   "execution_count": 79,
   "metadata": {},
   "outputs": [
    {
     "output_type": "stream",
     "name": "stdout",
     "text": [
      "0.8247680772620984\n0.532960307697719\n"
     ]
    }
   ],
   "source": [
    "y_pred_train_LSTM = model.predict(x_train)\n",
    "print(r2_score(y_train, y_pred_train_LSTM))\n",
    "y_pred_test_LSTM = model.predict(x_test)\n",
    "print(r2_score(y_test, y_pred_test_LSTM))"
   ]
  },
  {
   "cell_type": "code",
   "execution_count": 81,
   "metadata": {},
   "outputs": [
    {
     "output_type": "display_data",
     "data": {
      "text/plain": "Canvas(toolbar=Toolbar(toolitems=[('Home', 'Reset original view', 'home', 'home'), ('Back', 'Back to previous …",
      "application/vnd.jupyter.widget-view+json": {
       "version_major": 2,
       "version_minor": 0,
       "model_id": "0b9d9f812b034b2da62fe160e25fa94b"
      }
     },
     "metadata": {}
    },
    {
     "output_type": "display_data",
     "data": {
      "text/plain": "Canvas(toolbar=Toolbar(toolitems=[('Home', 'Reset original view', 'home', 'home'), ('Back', 'Back to previous …",
      "application/vnd.jupyter.widget-view+json": {
       "version_major": 2,
       "version_minor": 0,
       "model_id": "0067df68495748d1aca485c11bb38464"
      }
     },
     "metadata": {}
    }
   ],
   "source": [
    "plotRegression(y_train, y_pred_train_LSTM)\n",
    "plotRegression(y_test, y_pred_test_LSTM)"
   ]
  },
  {
   "cell_type": "code",
   "execution_count": 39,
   "metadata": {},
   "outputs": [],
   "source": [
    "# ann Model\n",
    "ann_model = Sequential()\n",
    "ann_model.add(Dense(20, input_dim=x_train.shape[1], activation='relu'))\n",
    "ann_model.add(Dropout(0.2))\n",
    "ann_model.add(Dense(10, activation='relu'))\n",
    "ann_model.add(Dropout(0.2))\n",
    "# ann_model.add(Dense(10, activation='relu'))\n",
    "# ann_model.add(Dropout(0.2))\n",
    "# ann_model.add(Dense(10, activation='relu'))\n",
    "ann_model.add(Dense(1, activation='relu'))\n",
    "# optimizer \n",
    "opt = tf.keras.optimizers.Adam(learning_rate=0.001)\n",
    "# compile\n",
    "# mean_squared_error\n",
    "# mean_absolute_error\n",
    "ann_model.compile(loss='mean_absolute_error', optimizer=opt, metrics=[coeff_determination])"
   ]
  },
  {
   "cell_type": "code",
   "execution_count": 99,
   "metadata": {
    "tags": []
   },
   "outputs": [],
   "source": [
    "History = ann_model.fit(x=x_train.reshape(-1,x_train.shape[1], ), y=y_train.reshape(-1,), epochs=200, validation_data=(x_test.reshape(-1,x_train.shape[1], ), y_test.reshape(-1,)),batch_size=50,verbose=0)"
   ]
  },
  {
   "cell_type": "code",
   "execution_count": 41,
   "metadata": {},
   "outputs": [
    {
     "output_type": "display_data",
     "data": {
      "text/plain": "Canvas(toolbar=Toolbar(toolitems=[('Home', 'Reset original view', 'home', 'home'), ('Back', 'Back to previous …",
      "application/vnd.jupyter.widget-view+json": {
       "version_major": 2,
       "version_minor": 0,
       "model_id": "7e74ebd3d594484dbb8ff28aeb2510ad"
      }
     },
     "metadata": {}
    },
    {
     "output_type": "display_data",
     "data": {
      "text/plain": "Canvas(toolbar=Toolbar(toolitems=[('Home', 'Reset original view', 'home', 'home'), ('Back', 'Back to previous …",
      "application/vnd.jupyter.widget-view+json": {
       "version_major": 2,
       "version_minor": 0,
       "model_id": "c9f80513173042a6a9098883f6e897df"
      }
     },
     "metadata": {}
    }
   ],
   "source": [
    "plot_loss(History)"
   ]
  },
  {
   "source": [
    "num = 0\n",
    "while num < 10:\n",
    "    history= ann_model.fit(x=x_train.reshape(-1,x_train.shape[1], ), y=y_train.reshape(-1,), epochs=100, validation_data=(x_test.reshape(-1,x_train.shape[1], ), y_test.reshape(-1,)),batch_size=64,verbose=0)\n",
    "    plot_loss(history)\n",
    "    y_pred_train_ann = model.predict(x_train)\n",
    "    print(r2_score(y_train, y_pred_train_ann))\n",
    "    y_pred_test_ann = model.predict(x_test)\n",
    "    print(r2_score(y_test, y_pred_test_ann))\n",
    "    num += 1\n"
   ],
   "cell_type": "markdown",
   "metadata": {
    "tags": []
   }
  },
  {
   "cell_type": "code",
   "execution_count": 100,
   "metadata": {},
   "outputs": [
    {
     "output_type": "stream",
     "name": "stdout",
     "text": [
      "0.9191661599726404\n0.7124135899853112\n"
     ]
    }
   ],
   "source": [
    "y_pred_train_ann = ann_model.predict(x_train.reshape(-1,x_train.shape[1], ))\n",
    "print(r2_score(y_train, y_pred_train_ann))\n",
    "y_pred_test_ann = ann_model.predict(x_test.reshape(-1,x_train.shape[1], ))\n",
    "print(r2_score(y_test, y_pred_test_ann))"
   ]
  },
  {
   "cell_type": "code",
   "execution_count": 101,
   "metadata": {},
   "outputs": [],
   "source": [
    "ann_model.save(f\"/Users/brad/Desktop/CS6620/Project/models/ann_model{str(datetime.now())}.h5\")"
   ]
  },
  {
   "cell_type": "code",
   "execution_count": 92,
   "metadata": {},
   "outputs": [
    {
     "output_type": "display_data",
     "data": {
      "text/plain": "Canvas(toolbar=Toolbar(toolitems=[('Home', 'Reset original view', 'home', 'home'), ('Back', 'Back to previous …",
      "application/vnd.jupyter.widget-view+json": {
       "version_major": 2,
       "version_minor": 0,
       "model_id": "cacf48226e9b4203a0e2020f83c6c5e1"
      }
     },
     "metadata": {}
    },
    {
     "output_type": "display_data",
     "data": {
      "text/plain": "Canvas(toolbar=Toolbar(toolitems=[('Home', 'Reset original view', 'home', 'home'), ('Back', 'Back to previous …",
      "application/vnd.jupyter.widget-view+json": {
       "version_major": 2,
       "version_minor": 0,
       "model_id": "bc44fa2fb843440b94985e82d0c9a709"
      }
     },
     "metadata": {}
    }
   ],
   "source": [
    "plotRegression(y_train, y_pred_train_ann)\n",
    "plotRegression(y_test, y_pred_test_ann)"
   ]
  },
  {
   "cell_type": "code",
   "execution_count": 44,
   "metadata": {},
   "outputs": [
    {
     "output_type": "display_data",
     "data": {
      "text/plain": "Canvas(toolbar=Toolbar(toolitems=[('Home', 'Reset original view', 'home', 'home'), ('Back', 'Back to previous …",
      "application/vnd.jupyter.widget-view+json": {
       "version_major": 2,
       "version_minor": 0,
       "model_id": "df630028d45943278fed270e31fb144c"
      }
     },
     "metadata": {}
    },
    {
     "output_type": "display_data",
     "data": {
      "text/plain": "Canvas(toolbar=Toolbar(toolitems=[('Home', 'Reset original view', 'home', 'home'), ('Back', 'Back to previous …",
      "application/vnd.jupyter.widget-view+json": {
       "version_major": 2,
       "version_minor": 0,
       "model_id": "36dc2c53ccfe43eb9c5379b51e3daaaa"
      }
     },
     "metadata": {}
    }
   ],
   "source": [
    "plotRegression(scalerY.inverse_transform(y_train.reshape(-1,1))/1000, scalerY.inverse_transform(y_pred_train_ann.reshape(-1,1))/1000)\n",
    "plotRegression(scalerY.inverse_transform(y_test.reshape(-1,1))/1000, scalerY.inverse_transform(y_pred_test_ann.reshape(-1,1))/1000)"
   ]
  },
  {
   "cell_type": "code",
   "execution_count": null,
   "metadata": {},
   "outputs": [],
   "source": []
  }
 ]
}