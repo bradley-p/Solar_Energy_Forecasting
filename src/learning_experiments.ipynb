{
 "metadata": {
  "language_info": {
   "codemirror_mode": {
    "name": "ipython",
    "version": 3
   },
   "file_extension": ".py",
   "mimetype": "text/x-python",
   "name": "python",
   "nbconvert_exporter": "python",
   "pygments_lexer": "ipython3",
   "version": "3.8.5-final"
  },
  "orig_nbformat": 2,
  "kernelspec": {
   "name": "python3",
   "display_name": "Python 3.8.5 64-bit",
   "metadata": {
    "interpreter": {
     "hash": "082e9a3bcad0a290d0001e938aa60b99250c6c2ef33a923c00b70f9826caf4b7"
    }
   }
  }
 },
 "nbformat": 4,
 "nbformat_minor": 2,
 "cells": [
  {
   "source": [
    "# Try fitting the data with RandomForestRegressors"
   ],
   "cell_type": "markdown",
   "metadata": {}
  },
  {
   "cell_type": "code",
   "execution_count": 1,
   "metadata": {},
   "outputs": [],
   "source": [
    "import numpy as np \n",
    "import matplotlib.pyplot as plt \n",
    "import math\n",
    "from sklearn.ensemble import RandomForestRegressor\n",
    "from sklearn.metrics import r2_score"
   ]
  },
  {
   "cell_type": "code",
   "execution_count": 3,
   "metadata": {},
   "outputs": [
    {
     "output_type": "stream",
     "name": "stdout",
     "text": [
      "Before split\n(5259, 34)\n(5259,)\nAfter split and reshape\n(4470, 34)\n(4470, 1)\n(789, 34)\n(789, 1)\n"
     ]
    }
   ],
   "source": [
    "data_filename = '/Users/brad/Desktop/CS6620/Project/Data/dataVersion1.npy' \n",
    "truth_filename = '/Users/brad/Desktop/CS6620/Project/Data/truthVersion1.npy' \n",
    "x = np.load(data_filename)\n",
    "y = np.load(truth_filename)\n",
    "print('Before split')\n",
    "print(x.shape)\n",
    "print(y.shape)\n",
    "train_length = int(x.shape[0] * 0.85)\n",
    "x_train = x[0 : train_length].reshape(-1, 34)\n",
    "y_train = y[0 : train_length].reshape(-1, 1)\n",
    "x_test = x[train_length : ].reshape(-1, 34)\n",
    "y_test = y[train_length : ].reshape(-1, 1)\n",
    "print('After split and reshape')\n",
    "print(x_train.shape)\n",
    "print(y_train.shape)\n",
    "print(x_test.shape)\n",
    "print(y_test.shape)"
   ]
  },
  {
   "cell_type": "code",
   "execution_count": 12,
   "metadata": {},
   "outputs": [
    {
     "output_type": "stream",
     "name": "stderr",
     "text": [
      "<ipython-input-12-932c021c312b>:2: DataConversionWarning: A column-vector y was passed when a 1d array was expected. Please change the shape of y to (n_samples,), for example using ravel().\n  regressor.fit(x_train, y_train)\n"
     ]
    },
    {
     "output_type": "execute_result",
     "data": {
      "text/plain": [
       "RandomForestRegressor(n_estimators=1000, random_state=0)"
      ]
     },
     "metadata": {},
     "execution_count": 12
    }
   ],
   "source": [
    "regressor = RandomForestRegressor(n_estimators=1000, random_state=0)\n",
    "regressor.fit(x_train, y_train)"
   ]
  },
  {
   "cell_type": "code",
   "execution_count": 15,
   "metadata": {},
   "outputs": [
    {
     "output_type": "execute_result",
     "data": {
      "text/plain": [
       "0.9681581456265491"
      ]
     },
     "metadata": {},
     "execution_count": 15
    }
   ],
   "source": [
    "# Training data r^2 value \n",
    "y_train_pred = regressor.predict(x_train)\n",
    "r2_score(y_train, y_train_pred)"
   ]
  },
  {
   "cell_type": "code",
   "execution_count": 14,
   "metadata": {},
   "outputs": [
    {
     "output_type": "execute_result",
     "data": {
      "text/plain": [
       "0.5456355319901851"
      ]
     },
     "metadata": {},
     "execution_count": 14
    }
   ],
   "source": [
    "# testing data r^2 value \n",
    "y_test_pred = regressor.predict(x_test)\n",
    "r2_score(y_test, y_test_pred)"
   ]
  },
  {
   "cell_type": "code",
   "execution_count": 18,
   "metadata": {},
   "outputs": [],
   "source": [
    "def computeAverageError(pred, y):\n",
    "    err = []\n",
    "    for i in range(len(pred)):\n",
    "        err.append(abs((y[i] - pred[i])/y[i]))\n",
    "\n",
    "    return sum(err)/ len(err)"
   ]
  },
  {
   "cell_type": "code",
   "execution_count": 19,
   "metadata": {},
   "outputs": [
    {
     "output_type": "execute_result",
     "data": {
      "text/plain": [
       "array([1.20475334])"
      ]
     },
     "metadata": {},
     "execution_count": 19
    }
   ],
   "source": [
    "computeAverageError(y_test_pred, y_test)"
   ]
  },
  {
   "cell_type": "code",
   "execution_count": 20,
   "metadata": {},
   "outputs": [
    {
     "output_type": "execute_result",
     "data": {
      "text/plain": [
       "array([0.36931521])"
      ]
     },
     "metadata": {},
     "execution_count": 20
    }
   ],
   "source": [
    "computeAverageError(y_train_pred, y_train)"
   ]
  },
  {
   "cell_type": "code",
   "execution_count": null,
   "metadata": {},
   "outputs": [],
   "source": []
  }
 ]
}