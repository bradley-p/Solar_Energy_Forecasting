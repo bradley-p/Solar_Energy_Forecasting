{
 "metadata": {
  "language_info": {
   "codemirror_mode": {
    "name": "ipython",
    "version": 3
   },
   "file_extension": ".py",
   "mimetype": "text/x-python",
   "name": "python",
   "nbconvert_exporter": "python",
   "pygments_lexer": "ipython3",
   "version": "3.8.5-final"
  },
  "orig_nbformat": 2,
  "kernelspec": {
   "name": "python3",
   "display_name": "Python 3.8.5 64-bit",
   "metadata": {
    "interpreter": {
     "hash": "082e9a3bcad0a290d0001e938aa60b99250c6c2ef33a923c00b70f9826caf4b7"
    }
   }
  }
 },
 "nbformat": 4,
 "nbformat_minor": 2,
 "cells": [
  {
   "cell_type": "code",
   "execution_count": 3,
   "metadata": {},
   "outputs": [],
   "source": [
    "from urllib.request import urlopen\n",
    "import urllib.request\n",
    "from bs4 import BeautifulSoup"
   ]
  },
  {
   "cell_type": "code",
   "execution_count": 4,
   "metadata": {},
   "outputs": [],
   "source": [
    "import re\n",
    "from collections import namedtuple\n",
    "from datetime import datetime, timedelta\n",
    "import pytz\n",
    "from dateutil.relativedelta import relativedelta\n",
    "from math import *\n",
    "import matplotlib.pyplot as plt"
   ]
  },
  {
   "cell_type": "code",
   "execution_count": 1,
   "metadata": {},
   "outputs": [
    {
     "output_type": "stream",
     "name": "stdout",
     "text": [
      "Requirement already satisfied: lxml in /Library/Frameworks/Python.framework/Versions/3.8/lib/python3.8/site-packages (4.6.2)\n"
     ]
    }
   ],
   "source": [
    "!pip install lxml"
   ]
  },
  {
   "cell_type": "code",
   "execution_count": 5,
   "metadata": {},
   "outputs": [],
   "source": [
    "url = 'http://forecast.weather.gov/MapClick.php?w0=t&w3u=1&w4=sky&w5=pop&w7=rain&AheadHour=0&Submit=Submit&FcstType=digital&lat=41.76553&lon=-111.78895&site=all&unit=0&dd=&bw='"
   ]
  },
  {
   "cell_type": "code",
   "execution_count": 6,
   "metadata": {},
   "outputs": [],
   "source": [
    "request = urllib.request.Request(url)"
   ]
  },
  {
   "cell_type": "code",
   "execution_count": 18,
   "metadata": {},
   "outputs": [
    {
     "output_type": "error",
     "ename": "HTTPError",
     "evalue": "HTTP Error 301: The HTTP server returned a redirect error that would lead to an infinite loop.\nThe last 30x error message was:\nMoved Permanently",
     "traceback": [
      "\u001b[0;31m---------------------------------------------------------------------------\u001b[0m",
      "\u001b[0;31mHTTPError\u001b[0m                                 Traceback (most recent call last)",
      "\u001b[0;32m<ipython-input-18-d5c6f6ac8b5c>\u001b[0m in \u001b[0;36m<module>\u001b[0;34m\u001b[0m\n\u001b[0;32m----> 1\u001b[0;31m \u001b[0mresponse\u001b[0m \u001b[0;34m=\u001b[0m \u001b[0murllib\u001b[0m\u001b[0;34m.\u001b[0m\u001b[0mrequest\u001b[0m\u001b[0;34m.\u001b[0m\u001b[0murlopen\u001b[0m\u001b[0;34m(\u001b[0m\u001b[0mrequest\u001b[0m\u001b[0;34m)\u001b[0m\u001b[0;34m\u001b[0m\u001b[0;34m\u001b[0m\u001b[0m\n\u001b[0m",
      "\u001b[0;32m/Library/Frameworks/Python.framework/Versions/3.8/lib/python3.8/urllib/request.py\u001b[0m in \u001b[0;36murlopen\u001b[0;34m(url, data, timeout, cafile, capath, cadefault, context)\u001b[0m\n\u001b[1;32m    220\u001b[0m     \u001b[0;32melse\u001b[0m\u001b[0;34m:\u001b[0m\u001b[0;34m\u001b[0m\u001b[0;34m\u001b[0m\u001b[0m\n\u001b[1;32m    221\u001b[0m         \u001b[0mopener\u001b[0m \u001b[0;34m=\u001b[0m \u001b[0m_opener\u001b[0m\u001b[0;34m\u001b[0m\u001b[0;34m\u001b[0m\u001b[0m\n\u001b[0;32m--> 222\u001b[0;31m     \u001b[0;32mreturn\u001b[0m \u001b[0mopener\u001b[0m\u001b[0;34m.\u001b[0m\u001b[0mopen\u001b[0m\u001b[0;34m(\u001b[0m\u001b[0murl\u001b[0m\u001b[0;34m,\u001b[0m \u001b[0mdata\u001b[0m\u001b[0;34m,\u001b[0m \u001b[0mtimeout\u001b[0m\u001b[0;34m)\u001b[0m\u001b[0;34m\u001b[0m\u001b[0;34m\u001b[0m\u001b[0m\n\u001b[0m\u001b[1;32m    223\u001b[0m \u001b[0;34m\u001b[0m\u001b[0m\n\u001b[1;32m    224\u001b[0m \u001b[0;32mdef\u001b[0m \u001b[0minstall_opener\u001b[0m\u001b[0;34m(\u001b[0m\u001b[0mopener\u001b[0m\u001b[0;34m)\u001b[0m\u001b[0;34m:\u001b[0m\u001b[0;34m\u001b[0m\u001b[0;34m\u001b[0m\u001b[0m\n",
      "\u001b[0;32m/Library/Frameworks/Python.framework/Versions/3.8/lib/python3.8/urllib/request.py\u001b[0m in \u001b[0;36mopen\u001b[0;34m(self, fullurl, data, timeout)\u001b[0m\n\u001b[1;32m    529\u001b[0m         \u001b[0;32mfor\u001b[0m \u001b[0mprocessor\u001b[0m \u001b[0;32min\u001b[0m \u001b[0mself\u001b[0m\u001b[0;34m.\u001b[0m\u001b[0mprocess_response\u001b[0m\u001b[0;34m.\u001b[0m\u001b[0mget\u001b[0m\u001b[0;34m(\u001b[0m\u001b[0mprotocol\u001b[0m\u001b[0;34m,\u001b[0m \u001b[0;34m[\u001b[0m\u001b[0;34m]\u001b[0m\u001b[0;34m)\u001b[0m\u001b[0;34m:\u001b[0m\u001b[0;34m\u001b[0m\u001b[0;34m\u001b[0m\u001b[0m\n\u001b[1;32m    530\u001b[0m             \u001b[0mmeth\u001b[0m \u001b[0;34m=\u001b[0m \u001b[0mgetattr\u001b[0m\u001b[0;34m(\u001b[0m\u001b[0mprocessor\u001b[0m\u001b[0;34m,\u001b[0m \u001b[0mmeth_name\u001b[0m\u001b[0;34m)\u001b[0m\u001b[0;34m\u001b[0m\u001b[0;34m\u001b[0m\u001b[0m\n\u001b[0;32m--> 531\u001b[0;31m             \u001b[0mresponse\u001b[0m \u001b[0;34m=\u001b[0m \u001b[0mmeth\u001b[0m\u001b[0;34m(\u001b[0m\u001b[0mreq\u001b[0m\u001b[0;34m,\u001b[0m \u001b[0mresponse\u001b[0m\u001b[0;34m)\u001b[0m\u001b[0;34m\u001b[0m\u001b[0;34m\u001b[0m\u001b[0m\n\u001b[0m\u001b[1;32m    532\u001b[0m \u001b[0;34m\u001b[0m\u001b[0m\n\u001b[1;32m    533\u001b[0m         \u001b[0;32mreturn\u001b[0m \u001b[0mresponse\u001b[0m\u001b[0;34m\u001b[0m\u001b[0;34m\u001b[0m\u001b[0m\n",
      "\u001b[0;32m/Library/Frameworks/Python.framework/Versions/3.8/lib/python3.8/urllib/request.py\u001b[0m in \u001b[0;36mhttp_response\u001b[0;34m(self, request, response)\u001b[0m\n\u001b[1;32m    638\u001b[0m         \u001b[0;31m# request was successfully received, understood, and accepted.\u001b[0m\u001b[0;34m\u001b[0m\u001b[0;34m\u001b[0m\u001b[0;34m\u001b[0m\u001b[0m\n\u001b[1;32m    639\u001b[0m         \u001b[0;32mif\u001b[0m \u001b[0;32mnot\u001b[0m \u001b[0;34m(\u001b[0m\u001b[0;36m200\u001b[0m \u001b[0;34m<=\u001b[0m \u001b[0mcode\u001b[0m \u001b[0;34m<\u001b[0m \u001b[0;36m300\u001b[0m\u001b[0;34m)\u001b[0m\u001b[0;34m:\u001b[0m\u001b[0;34m\u001b[0m\u001b[0;34m\u001b[0m\u001b[0m\n\u001b[0;32m--> 640\u001b[0;31m             response = self.parent.error(\n\u001b[0m\u001b[1;32m    641\u001b[0m                 'http', request, response, code, msg, hdrs)\n\u001b[1;32m    642\u001b[0m \u001b[0;34m\u001b[0m\u001b[0m\n",
      "\u001b[0;32m/Library/Frameworks/Python.framework/Versions/3.8/lib/python3.8/urllib/request.py\u001b[0m in \u001b[0;36merror\u001b[0;34m(self, proto, *args)\u001b[0m\n\u001b[1;32m    561\u001b[0m             \u001b[0mhttp_err\u001b[0m \u001b[0;34m=\u001b[0m \u001b[0;36m0\u001b[0m\u001b[0;34m\u001b[0m\u001b[0;34m\u001b[0m\u001b[0m\n\u001b[1;32m    562\u001b[0m         \u001b[0margs\u001b[0m \u001b[0;34m=\u001b[0m \u001b[0;34m(\u001b[0m\u001b[0mdict\u001b[0m\u001b[0;34m,\u001b[0m \u001b[0mproto\u001b[0m\u001b[0;34m,\u001b[0m \u001b[0mmeth_name\u001b[0m\u001b[0;34m)\u001b[0m \u001b[0;34m+\u001b[0m \u001b[0margs\u001b[0m\u001b[0;34m\u001b[0m\u001b[0;34m\u001b[0m\u001b[0m\n\u001b[0;32m--> 563\u001b[0;31m         \u001b[0mresult\u001b[0m \u001b[0;34m=\u001b[0m \u001b[0mself\u001b[0m\u001b[0;34m.\u001b[0m\u001b[0m_call_chain\u001b[0m\u001b[0;34m(\u001b[0m\u001b[0;34m*\u001b[0m\u001b[0margs\u001b[0m\u001b[0;34m)\u001b[0m\u001b[0;34m\u001b[0m\u001b[0;34m\u001b[0m\u001b[0m\n\u001b[0m\u001b[1;32m    564\u001b[0m         \u001b[0;32mif\u001b[0m \u001b[0mresult\u001b[0m\u001b[0;34m:\u001b[0m\u001b[0;34m\u001b[0m\u001b[0;34m\u001b[0m\u001b[0m\n\u001b[1;32m    565\u001b[0m             \u001b[0;32mreturn\u001b[0m \u001b[0mresult\u001b[0m\u001b[0;34m\u001b[0m\u001b[0;34m\u001b[0m\u001b[0m\n",
      "\u001b[0;32m/Library/Frameworks/Python.framework/Versions/3.8/lib/python3.8/urllib/request.py\u001b[0m in \u001b[0;36m_call_chain\u001b[0;34m(self, chain, kind, meth_name, *args)\u001b[0m\n\u001b[1;32m    500\u001b[0m         \u001b[0;32mfor\u001b[0m \u001b[0mhandler\u001b[0m \u001b[0;32min\u001b[0m \u001b[0mhandlers\u001b[0m\u001b[0;34m:\u001b[0m\u001b[0;34m\u001b[0m\u001b[0;34m\u001b[0m\u001b[0m\n\u001b[1;32m    501\u001b[0m             \u001b[0mfunc\u001b[0m \u001b[0;34m=\u001b[0m \u001b[0mgetattr\u001b[0m\u001b[0;34m(\u001b[0m\u001b[0mhandler\u001b[0m\u001b[0;34m,\u001b[0m \u001b[0mmeth_name\u001b[0m\u001b[0;34m)\u001b[0m\u001b[0;34m\u001b[0m\u001b[0;34m\u001b[0m\u001b[0m\n\u001b[0;32m--> 502\u001b[0;31m             \u001b[0mresult\u001b[0m \u001b[0;34m=\u001b[0m \u001b[0mfunc\u001b[0m\u001b[0;34m(\u001b[0m\u001b[0;34m*\u001b[0m\u001b[0margs\u001b[0m\u001b[0;34m)\u001b[0m\u001b[0;34m\u001b[0m\u001b[0;34m\u001b[0m\u001b[0m\n\u001b[0m\u001b[1;32m    503\u001b[0m             \u001b[0;32mif\u001b[0m \u001b[0mresult\u001b[0m \u001b[0;32mis\u001b[0m \u001b[0;32mnot\u001b[0m \u001b[0;32mNone\u001b[0m\u001b[0;34m:\u001b[0m\u001b[0;34m\u001b[0m\u001b[0;34m\u001b[0m\u001b[0m\n\u001b[1;32m    504\u001b[0m                 \u001b[0;32mreturn\u001b[0m \u001b[0mresult\u001b[0m\u001b[0;34m\u001b[0m\u001b[0;34m\u001b[0m\u001b[0m\n",
      "\u001b[0;32m/Library/Frameworks/Python.framework/Versions/3.8/lib/python3.8/urllib/request.py\u001b[0m in \u001b[0;36mhttp_error_302\u001b[0;34m(self, req, fp, code, msg, headers)\u001b[0m\n\u001b[1;32m    742\u001b[0m             if (visited.get(newurl, 0) >= self.max_repeats or\n\u001b[1;32m    743\u001b[0m                 len(visited) >= self.max_redirections):\n\u001b[0;32m--> 744\u001b[0;31m                 raise HTTPError(req.full_url, code,\n\u001b[0m\u001b[1;32m    745\u001b[0m                                 self.inf_msg + msg, headers, fp)\n\u001b[1;32m    746\u001b[0m         \u001b[0;32melse\u001b[0m\u001b[0;34m:\u001b[0m\u001b[0;34m\u001b[0m\u001b[0;34m\u001b[0m\u001b[0m\n",
      "\u001b[0;31mHTTPError\u001b[0m: HTTP Error 301: The HTTP server returned a redirect error that would lead to an infinite loop.\nThe last 30x error message was:\nMoved Permanently"
     ]
    }
   ],
   "source": [
    "response = urllib.request.urlopen(request)"
   ]
  },
  {
   "cell_type": "code",
   "execution_count": 17,
   "metadata": {
    "tags": [
     "outputPrepend"
    ]
   },
   "outputs": [
    {
     "output_type": "stream",
     "name": "stdout",
     "text": [
      "n=\"center\" width=\"3%\"><font color=\"#0000CC\" size=\"1\"><b>15</b></font></td><td align=\"center\" width=\"3%\"><font color=\"#0000CC\" size=\"1\"><b>12</b></font></td><td align=\"center\" width=\"3%\"><font color=\"#0000CC\" size=\"1\"><b>12</b></font></td><td align=\"center\" width=\"3%\"><font color=\"#0000CC\" size=\"1\"><b>12</b></font></td><td align=\"center\" width=\"3%\"><font color=\"#0000CC\" size=\"1\"><b>3</b></font></td><td align=\"center\" width=\"3%\"><font color=\"#0000CC\" size=\"1\"><b>3</b></font></td><td align=\"center\" width=\"3%\"><font color=\"#0000CC\" size=\"1\"><b>3</b></font></td><td align=\"center\" width=\"3%\"><font color=\"#0000CC\" size=\"1\"><b>11</b></font></td><td align=\"center\" width=\"3%\"><font color=\"#0000CC\" size=\"1\"><b>11</b></font></td><td align=\"center\" width=\"3%\"><font color=\"#0000CC\" size=\"1\"><b>11</b></font></td><td align=\"center\" width=\"3%\"><font color=\"#0000CC\" size=\"1\"><b>23</b></font></td><td align=\"center\" width=\"3%\"><font color=\"#0000CC\" size=\"1\"><b>23</b></font></td><td align=\"center\" width=\"3%\"><font color=\"#0000CC\" size=\"1\"><b>23</b></font></td><td align=\"center\" width=\"3%\"><font color=\"#0000CC\" size=\"1\"><b>52</b></font></td><td align=\"center\" width=\"3%\"><font color=\"#0000CC\" size=\"1\"><b>52</b></font></td><td align=\"center\" width=\"3%\"><font color=\"#0000CC\" size=\"1\"><b>52</b></font></td><td align=\"center\" width=\"3%\"><font color=\"#0000CC\" size=\"1\"><b>58</b></font></td><td align=\"center\" width=\"3%\"><font color=\"#0000CC\" size=\"1\"><b>58</b></font></td><td align=\"center\" width=\"3%\"><font color=\"#0000CC\" size=\"1\"><b>58</b></font></td><td align=\"center\" width=\"3%\"><font color=\"#0000CC\" size=\"1\"><b>63</b></font></td><td align=\"center\" width=\"3%\"><font color=\"#0000CC\" size=\"1\"><b>63</b></font></td><td align=\"center\" width=\"3%\"><font color=\"#0000CC\" size=\"1\"><b>63</b></font></td><td align=\"center\" width=\"3%\"><font color=\"#0000CC\" size=\"1\"><b>44</b></font></td></tr><tr align=\"center\"><td align=\"left\" width=\"5%\"><font color=\"#996633\" size=\"1\">Precipitation Potential (%)</font></td><td align=\"center\" width=\"3%\"><font color=\"#996633\" size=\"1\"><b>0</b></font></td><td align=\"center\" width=\"3%\"><font color=\"#996633\" size=\"1\"><b>0</b></font></td><td align=\"center\" width=\"3%\"><font color=\"#996633\" size=\"1\"><b>0</b></font></td><td align=\"center\" width=\"3%\"><font color=\"#996633\" size=\"1\"><b>0</b></font></td><td align=\"center\" width=\"3%\"><font color=\"#996633\" size=\"1\"><b>0</b></font></td><td align=\"center\" width=\"3%\"><font color=\"#996633\" size=\"1\"><b>0</b></font></td><td align=\"center\" width=\"3%\"><font color=\"#996633\" size=\"1\"><b>0</b></font></td><td align=\"center\" width=\"3%\"><font color=\"#996633\" size=\"1\"><b>0</b></font></td><td align=\"center\" width=\"3%\"><font color=\"#996633\" size=\"1\"><b>0</b></font></td><td align=\"center\" width=\"3%\"><font color=\"#996633\" size=\"1\"><b>0</b></font></td><td align=\"center\" width=\"3%\"><font color=\"#996633\" size=\"1\"><b>0</b></font></td><td align=\"center\" width=\"3%\"><font color=\"#996633\" size=\"1\"><b>1</b></font></td><td align=\"center\" width=\"3%\"><font color=\"#996633\" size=\"1\"><b>1</b></font></td><td align=\"center\" width=\"3%\"><font color=\"#996633\" size=\"1\"><b>1</b></font></td><td align=\"center\" width=\"3%\"><font color=\"#996633\" size=\"1\"><b>2</b></font></td><td align=\"center\" width=\"3%\"><font color=\"#996633\" size=\"1\"><b>2</b></font></td><td align=\"center\" width=\"3%\"><font color=\"#996633\" size=\"1\"><b>2</b></font></td><td align=\"center\" width=\"3%\"><font color=\"#996633\" size=\"1\"><b>6</b></font></td><td align=\"center\" width=\"3%\"><font color=\"#996633\" size=\"1\"><b>6</b></font></td><td align=\"center\" width=\"3%\"><font color=\"#996633\" size=\"1\"><b>6</b></font></td><td align=\"center\" width=\"3%\"><font color=\"#996633\" size=\"1\"><b>8</b></font></td><td align=\"center\" width=\"3%\"><font color=\"#996633\" size=\"1\"><b>8</b></font></td><td align=\"center\" width=\"3%\"><font color=\"#996633\" size=\"1\"><b>8</b></font></td><td align=\"center\" width=\"3%\"><font color=\"#996633\" size=\"1\"><b>8</b></font></td></tr><tr align=\"center\"><td align=\"left\" width=\"5%\"><font color=\"#009900\" size=\"1\">Rain</font></td><td align=\"center\" width=\"3%\"><font color=\"#009900\" size=\"1\"><b>--</b></font></td><td align=\"center\" width=\"3%\"><font color=\"#009900\" size=\"1\"><b>--</b></font></td><td align=\"center\" width=\"3%\"><font color=\"#009900\" size=\"1\"><b>--</b></font></td><td align=\"center\" width=\"3%\"><font color=\"#009900\" size=\"1\"><b>--</b></font></td><td align=\"center\" width=\"3%\"><font color=\"#009900\" size=\"1\"><b>--</b></font></td><td align=\"center\" width=\"3%\"><font color=\"#009900\" size=\"1\"><b>--</b></font></td><td align=\"center\" width=\"3%\"><font color=\"#009900\" size=\"1\"><b>--</b></font></td><td align=\"center\" width=\"3%\"><font color=\"#009900\" size=\"1\"><b>--</b></font></td><td align=\"center\" width=\"3%\"><font color=\"#009900\" size=\"1\"><b>--</b></font></td><td align=\"center\" width=\"3%\"><font color=\"#009900\" size=\"1\"><b>--</b></font></td><td align=\"center\" width=\"3%\"><font color=\"#009900\" size=\"1\"><b>--</b></font></td><td align=\"center\" width=\"3%\"><font color=\"#009900\" size=\"1\"><b>--</b></font></td><td align=\"center\" width=\"3%\"><font color=\"#009900\" size=\"1\"><b>--</b></font></td><td align=\"center\" width=\"3%\"><font color=\"#009900\" size=\"1\"><b>--</b></font></td><td align=\"center\" width=\"3%\"><font color=\"#009900\" size=\"1\"><b>--</b></font></td><td align=\"center\" width=\"3%\"><font color=\"#009900\" size=\"1\"><b>--</b></font></td><td align=\"center\" width=\"3%\"><font color=\"#009900\" size=\"1\"><b>--</b></font></td><td align=\"center\" width=\"3%\"><font color=\"#009900\" size=\"1\"><b>--</b></font></td><td align=\"center\" width=\"3%\"><font color=\"#009900\" size=\"1\"><b>--</b></font></td><td align=\"center\" width=\"3%\"><font color=\"#009900\" size=\"1\"><b>--</b></font></td><td align=\"center\" width=\"3%\"><font color=\"#009900\" size=\"1\"><b>--</b></font></td><td align=\"center\" width=\"3%\"><font color=\"#009900\" size=\"1\"><b>--</b></font></td><td align=\"center\" width=\"3%\"><font color=\"#009900\" size=\"1\"><b>--</b></font></td><td align=\"center\" width=\"3%\"><font color=\"#009900\" size=\"1\"><b>--</b></font></td></tr></tr>\n<tr><td colspan=\"25\"><hr></td></tr><tr align=\"center\"><td align=\"left\" width=\"5%\"><font size=\"1\"><b>Date</b></font></td><td width=\"3%\" class=\"date\"><font size=\"1\"></font></td><td width=\"3%\" class=\"date\"><font size=\"1\"></font></td><td width=\"3%\" class=\"date\"><font size=\"1\"></font></td><td width=\"3%\" class=\"date\"><font size=\"1\"></font></td><td width=\"3%\" class=\"date\"><font size=\"1\"></font></td><td width=\"3%\" class=\"date\"><font size=\"1\"></font></td><td width=\"3%\" class=\"date\"><font size=\"1\"></font></td><td width=\"3%\" class=\"date\"><font size=\"1\"></font></td><td width=\"3%\" class=\"date\"><font size=\"1\"></font></td><td width=\"3%\" class=\"date\"><font size=\"1\"></font></td><td width=\"3%\" class=\"date\"><font size=\"1\"></font></td><td width=\"3%\" class=\"date\"><font size=\"1\"></font></td><td width=\"3%\" class=\"date\"><font size=\"1\"></font></td><td width=\"3%\" class=\"date\"><font size=\"1\"></font></td><td width=\"3%\" class=\"date\"><font size=\"1\"></font></td><td width=\"3%\" class=\"date\"><font size=\"1\"><b>03/05</b></font></td><td width=\"3%\" class=\"date\"><font size=\"1\"></font></td><td width=\"3%\" class=\"date\"><font size=\"1\"></font></td><td width=\"3%\" class=\"date\"><font size=\"1\"></font></td><td width=\"3%\" class=\"date\"><font size=\"1\"></font></td><td width=\"3%\" class=\"date\"><font size=\"1\"></font></td><td width=\"3%\" class=\"date\"><font size=\"1\"></font></td><td width=\"3%\" class=\"date\"><font size=\"1\"></font></td><td width=\"3%\" class=\"date\"><font size=\"1\"></font></td></tr><tr align=\"center\"><td align=\"left\" class=\"date\"><font size=\"1\"><b>Hour (MST)</b></font></td><td class=\"date\"><font size=\"1\"><b>09</b></font></td><td class=\"date\"><font size=\"1\"><b>10</b></font></td><td class=\"date\"><font size=\"1\"><b>11</b></font></td><td class=\"date\"><font size=\"1\"><b>12</b></font></td><td class=\"date\"><font size=\"1\"><b>13</b></font></td><td class=\"date\"><font size=\"1\"><b>14</b></font></td><td class=\"date\"><font size=\"1\"><b>15</b></font></td><td class=\"date\"><font size=\"1\"><b>16</b></font></td><td class=\"date\"><font size=\"1\"><b>17</b></font></td><td class=\"date\"><font size=\"1\"><b>18</b></font></td><td class=\"date\"><font size=\"1\"><b>19</b></font></td><td class=\"date\"><font size=\"1\"><b>20</b></font></td><td class=\"date\"><font size=\"1\"><b>21</b></font></td><td class=\"date\"><font size=\"1\"><b>22</b></font></td><td class=\"date\"><font size=\"1\"><b>23</b></font></td><td class=\"date\"><font size=\"1\"><b>00</b></font></td><td class=\"date\"><font size=\"1\"><b>01</b></font></td><td class=\"date\"><font size=\"1\"><b>02</b></font></td><td class=\"date\"><font size=\"1\"><b>03</b></font></td><td class=\"date\"><font size=\"1\"><b>04</b></font></td><td class=\"date\"><font size=\"1\"><b>05</b></font></td><td class=\"date\"><font size=\"1\"><b>06</b></font></td><td class=\"date\"><font size=\"1\"><b>07</b></font></td><td class=\"date\"><font size=\"1\"><b>08</b></font></td></tr><tr align=\"center\"><td align=\"left\" width=\"5%\"><font color=\"#FF0000\" size=\"1\">Temperature (&#176;F)</font></td><td align=\"center\" width=\"3%\"><font color=\"#FF0000\" size=\"1\"><b>34</b></font></td><td align=\"center\" width=\"3%\"><font color=\"#FF0000\" size=\"1\"><b>37</b></font></td><td align=\"center\" width=\"3%\"><font color=\"#FF0000\" size=\"1\"><b>40</b></font></td><td align=\"center\" width=\"3%\"><font color=\"#FF0000\" size=\"1\"><b>42</b></font></td><td align=\"center\" width=\"3%\"><font color=\"#FF0000\" size=\"1\"><b>45</b></font></td><td align=\"center\" width=\"3%\"><font color=\"#FF0000\" size=\"1\"><b>46</b></font></td><td align=\"center\" width=\"3%\"><font color=\"#FF0000\" size=\"1\"><b>46</b></font></td><td align=\"center\" width=\"3%\"><font color=\"#FF0000\" size=\"1\"><b>47</b></font></td><td align=\"center\" width=\"3%\"><font color=\"#FF0000\" size=\"1\"><b>46</b></font></td><td align=\"center\" width=\"3%\"><font color=\"#FF0000\" size=\"1\"><b>42</b></font></td><td align=\"center\" width=\"3%\"><font color=\"#FF0000\" size=\"1\"><b>39</b></font></td><td align=\"center\" width=\"3%\"><font color=\"#FF0000\" size=\"1\"><b>37</b></font></td><td align=\"center\" width=\"3%\"><font color=\"#FF0000\" size=\"1\"><b>36</b></font></td><td align=\"center\" width=\"3%\"><font color=\"#FF0000\" size=\"1\"><b>35</b></font></td><td align=\"center\" width=\"3%\"><font color=\"#FF0000\" size=\"1\"><b>34</b></font></td><td align=\"center\" width=\"3%\"><font color=\"#FF0000\" size=\"1\"><b>33</b></font></td><td align=\"center\" width=\"3%\"><font color=\"#FF0000\" size=\"1\"><b>32</b></font></td><td align=\"center\" width=\"3%\"><font color=\"#FF0000\" size=\"1\"><b>31</b></font></td><td align=\"center\" width=\"3%\"><font color=\"#FF0000\" size=\"1\"><b>31</b></font></td><td align=\"center\" width=\"3%\"><font color=\"#FF0000\" size=\"1\"><b>31</b></font></td><td align=\"center\" width=\"3%\"><font color=\"#FF0000\" size=\"1\"><b>30</b></font></td><td align=\"center\" width=\"3%\"><font color=\"#FF0000\" size=\"1\"><b>29</b></font></td><td align=\"center\" width=\"3%\"><font color=\"#FF0000\" size=\"1\"><b>29</b></font></td><td align=\"center\" width=\"3%\"><font color=\"#FF0000\" size=\"1\"><b>30</b></font></td></tr><tr align=\"center\"><td align=\"left\" width=\"5%\"><font color=\"#0000CC\" size=\"1\">Sky Cover (%)</font></td><td align=\"center\" width=\"3%\"><font color=\"#0000CC\" size=\"1\"><b>44</b></font></td><td align=\"center\" width=\"3%\"><font color=\"#0000CC\" size=\"1\"><b>44</b></font></td><td align=\"center\" width=\"3%\"><font color=\"#0000CC\" size=\"1\"><b>35</b></font></td><td align=\"center\" width=\"3%\"><font color=\"#0000CC\" size=\"1\"><b>35</b></font></td><td align=\"center\" width=\"3%\"><font color=\"#0000CC\" size=\"1\"><b>35</b></font></td><td align=\"center\" width=\"3%\"><font color=\"#0000CC\" size=\"1\"><b>22</b></font></td><td align=\"center\" width=\"3%\"><font color=\"#0000CC\" size=\"1\"><b>22</b></font></td><td align=\"center\" width=\"3%\"><font color=\"#0000CC\" size=\"1\"><b>22</b></font></td><td align=\"center\" width=\"3%\"><font color=\"#0000CC\" size=\"1\"><b>5</b></font></td><td align=\"center\" width=\"3%\"><font color=\"#0000CC\" size=\"1\"><b>5</b></font></td><td align=\"center\" width=\"3%\"><font color=\"#0000CC\" size=\"1\"><b>5</b></font></td><td align=\"center\" width=\"3%\"><font color=\"#0000CC\" size=\"1\"><b>10</b></font></td><td align=\"center\" width=\"3%\"><font color=\"#0000CC\" size=\"1\"><b>10</b></font></td><td align=\"center\" width=\"3%\"><font color=\"#0000CC\" size=\"1\"><b>10</b></font></td><td align=\"center\" width=\"3%\"><font color=\"#0000CC\" size=\"1\"><b>9</b></font></td><td align=\"center\" width=\"3%\"><font color=\"#0000CC\" size=\"1\"><b>9</b></font></td><td align=\"center\" width=\"3%\"><font color=\"#0000CC\" size=\"1\"><b>9</b></font></td><td align=\"center\" width=\"3%\"><font color=\"#0000CC\" size=\"1\"><b>13</b></font></td><td align=\"center\" width=\"3%\"><font color=\"#0000CC\" size=\"1\"><b>13</b></font></td><td align=\"center\" width=\"3%\"><font color=\"#0000CC\" size=\"1\"><b>13</b></font></td><td align=\"center\" width=\"3%\"><font color=\"#0000CC\" size=\"1\"><b>16</b></font></td><td align=\"center\" width=\"3%\"><font color=\"#0000CC\" size=\"1\"><b>16</b></font></td><td align=\"center\" width=\"3%\"><font color=\"#0000CC\" size=\"1\"><b>16</b></font></td><td align=\"center\" width=\"3%\"><font color=\"#0000CC\" size=\"1\"><b>16</b></font></td></tr><tr align=\"center\"><td align=\"left\" width=\"5%\"><font color=\"#996633\" size=\"1\">Precipitation Potential (%)</font></td><td align=\"center\" width=\"3%\"><font color=\"#996633\" size=\"1\"><b>8</b></font></td><td align=\"center\" width=\"3%\"><font color=\"#996633\" size=\"1\"><b>8</b></font></td><td align=\"center\" width=\"3%\"><font color=\"#996633\" size=\"1\"><b>2</b></font></td><td align=\"center\" width=\"3%\"><font color=\"#996633\" size=\"1\"><b>2</b></font></td><td align=\"center\" width=\"3%\"><font color=\"#996633\" size=\"1\"><b>2</b></font></td><td align=\"center\" width=\"3%\"><font color=\"#996633\" size=\"1\"><b>1</b></font></td><td align=\"center\" width=\"3%\"><font color=\"#996633\" size=\"1\"><b>1</b></font></td><td align=\"center\" width=\"3%\"><font color=\"#996633\" size=\"1\"><b>1</b></font></td><td align=\"center\" width=\"3%\"><font color=\"#996633\" size=\"1\"><b>0</b></font></td><td align=\"center\" width=\"3%\"><font color=\"#996633\" size=\"1\"><b>0</b></font></td><td align=\"center\" width=\"3%\"><font color=\"#996633\" size=\"1\"><b>0</b></font></td><td align=\"center\" width=\"3%\"><font color=\"#996633\" size=\"1\"><b>0</b></font></td><td align=\"center\" width=\"3%\"><font color=\"#996633\" size=\"1\"><b>0</b></font></td><td align=\"center\" width=\"3%\"><font color=\"#996633\" size=\"1\"><b>0</b></font></td><td align=\"center\" width=\"3%\"><font color=\"#996633\" size=\"1\"><b>0</b></font></td><td align=\"center\" width=\"3%\"><font color=\"#996633\" size=\"1\"><b>0</b></font></td><td align=\"center\" width=\"3%\"><font color=\"#996633\" size=\"1\"><b>0</b></font></td><td align=\"center\" width=\"3%\"><font color=\"#996633\" size=\"1\"><b>0</b></font></td><td align=\"center\" width=\"3%\"><font color=\"#996633\" size=\"1\"><b>0</b></font></td><td align=\"center\" width=\"3%\"><font color=\"#996633\" size=\"1\"><b>0</b></font></td><td align=\"center\" width=\"3%\"><font color=\"#996633\" size=\"1\"><b>0</b></font></td><td align=\"center\" width=\"3%\"><font color=\"#996633\" size=\"1\"><b>0</b></font></td><td align=\"center\" width=\"3%\"><font color=\"#996633\" size=\"1\"><b>0</b></font></td><td align=\"center\" width=\"3%\"><font color=\"#996633\" size=\"1\"><b>0</b></font></td></tr><tr align=\"center\"><td align=\"left\" width=\"5%\"><font color=\"#009900\" size=\"1\">Rain</font></td><td align=\"center\" width=\"3%\"><font color=\"#009900\" size=\"1\"><b>--</b></font></td><td align=\"center\" width=\"3%\"><font color=\"#009900\" size=\"1\"><b>--</b></font></td><td align=\"center\" width=\"3%\"><font color=\"#009900\" size=\"1\"><b>--</b></font></td><td align=\"center\" width=\"3%\"><font color=\"#009900\" size=\"1\"><b>--</b></font></td><td align=\"center\" width=\"3%\"><font color=\"#009900\" size=\"1\"><b>--</b></font></td><td align=\"center\" width=\"3%\"><font color=\"#009900\" size=\"1\"><b>--</b></font></td><td align=\"center\" width=\"3%\"><font color=\"#009900\" size=\"1\"><b>--</b></font></td><td align=\"center\" width=\"3%\"><font color=\"#009900\" size=\"1\"><b>--</b></font></td><td align=\"center\" width=\"3%\"><font color=\"#009900\" size=\"1\"><b>--</b></font></td><td align=\"center\" width=\"3%\"><font color=\"#009900\" size=\"1\"><b>--</b></font></td><td align=\"center\" width=\"3%\"><font color=\"#009900\" size=\"1\"><b>--</b></font></td><td align=\"center\" width=\"3%\"><font color=\"#009900\" size=\"1\"><b>--</b></font></td><td align=\"center\" width=\"3%\"><font color=\"#009900\" size=\"1\"><b>--</b></font></td><td align=\"center\" width=\"3%\"><font color=\"#009900\" size=\"1\"><b>--</b></font></td><td align=\"center\" width=\"3%\"><font color=\"#009900\" size=\"1\"><b>--</b></font></td><td align=\"center\" width=\"3%\"><font color=\"#009900\" size=\"1\"><b>--</b></font></td><td align=\"center\" width=\"3%\"><font color=\"#009900\" size=\"1\"><b>--</b></font></td><td align=\"center\" width=\"3%\"><font color=\"#009900\" size=\"1\"><b>--</b></font></td><td align=\"center\" width=\"3%\"><font color=\"#009900\" size=\"1\"><b>--</b></font></td><td align=\"center\" width=\"3%\"><font color=\"#009900\" size=\"1\"><b>--</b></font></td><td align=\"center\" width=\"3%\"><font color=\"#009900\" size=\"1\"><b>--</b></font></td><td align=\"center\" width=\"3%\"><font color=\"#009900\" size=\"1\"><b>--</b></font></td><td align=\"center\" width=\"3%\"><font color=\"#009900\" size=\"1\"><b>--</b></font></td><td align=\"center\" width=\"3%\"><font color=\"#009900\" size=\"1\"><b>--</b></font></td></tr></tr>\n</table>\n\n<br>\n\n<table width=\"650\" border=\"0\" align=\"center\">\n<tr><td valign=\"top\" align=\"center\" width=\"50%\"><img title=\"Radar and Satellite (Click for larger image)\" alt=\"Radar and Satellite (Click for larger image)\" src=\"/images/wtf/radandsat.jpg\"><br><a href=\"http://radar.weather.gov/radar.php?rid=&product=N0R&overlay=11101111&loop=no\"><img src=\"//radar.weather.gov/Thumbs/_Thumb.gif\" width=\"130\" height=\"130\" border=\"0\" alt=\"Link to Local Radar Data\" title=\"Link to Local Radar Data\"></a>&nbsp;<a href=\"https://www.star.nesdis.noaa.gov/GOES/sector.php?sat=G17&sector=psw\"><img src=\"https://cdn.star.nesdis.noaa.gov/GOES17/ABI/SECTOR/psw/GEOCOLOR/600x600.jpg\" width=\"173\" height=\"130\" border=\"0\" alt=\"Link to Satellite Data\" title=\"Link to Satellite Data\"></a></td>\n<td valign=\"top\" align=\"center\" width=\"50%\"><img title=\"Additional Forecasts and Information\" alt=\"Additional Forecasts and Information\" src=\"/images/wtf/addinfosml.jpg\"><br><table cellspacing=\"0\" cellpadding=\"1\" border=\"0\" width=\"320\"><tr bgcolor=\"#b0c4de\"><td align=\"left\"><a href=\"http://forecast.weather.gov/MapClick.php?w0=t&w3u=1&w4=sky&w5=pop&w7=rain&AheadHour=0&Submit=Submit&FcstType=digital&lat=41.76553&lon=-111.78895&site=all&unit=1&dd=&bw=\">International System of Units</a></td><td align=\"left\"><a href=\"https://forecast.weather.gov/product.php?site=NWS&issuedby=slc&product=AFD&format=CI&version=1&glossary=1\">Forecast Discussion</a></td></tr><tr bgcolor=\"#ffefd5\"><td><a href=\"http://forecast.weather.gov/MapClick.php?w0=t&w4=sky&w5=pop&w7=rain&AheadHour=0&Submit=Submit&FcstType=text&lat=41.76553&lon=-111.78895&site=all\">7-Day Forecast</a></td><td><a href=\"http://forecast.weather.gov/MapClick.php?w0=t&w4=sky&w5=pop&w7=rain&AheadHour=0&Submit=Submit&FcstType=graphical&lat=41.76553&lon=-111.78895&site=all\">Hourly Weather Graph</a></td></tr><tr bgcolor=\"#b0c4de\"><td align=\"center\" colspan=\"2\"></td></tr><tr bgcolor=\"#ffefd5\"><td align=\"left\"><a href=\"https://www.weather.gov/slc/cameras\" target=\"_self\">Cameras</a></td><td align=\"left\"><a href=\"http://www.nws.noaa.gov/wtf/udaf/area/?site=slc\" target=\"_self\">User Defined Area Forecast</a></td></tr></table></td></tr></table><hr width=\"650\" /><table align=\"center\" width=\"650\"><tr valign=\"top\"><td class=\"gray\" align=\"left\"><a href=\"mailto:w-slc.webmaster@noaa.gov\">Webmaster</a><br><a href=\"https://www.weather.gov/slc\">NOAA's National Weather Service<br>Salt Lake City, UT</a></td><td class=\"gray\" align=\"left\"><a href=\"http://weather.gov/disclaimer.php\">Disclaimer</a><br><a href=\"http://weather.gov/credits.php\">Credits</a><br><a href=\"http://weather.gov/glossary/\">Glossary</a></td><td class=\"gray\" align=\"left\"><a href=\"http://weather.gov/privacy.php\">Privacy Policy</a><br><a href=\"http://weather.gov/admin.php\">About Us</a><br><a href=\"http://weather.gov/careers.php\">Career Opportunities</a></td></tr></table>\n"
     ]
    }
   ],
   "source": [
    "print(response.read().decode('utf-8'))"
   ]
  },
  {
   "cell_type": "code",
   "execution_count": 2,
   "metadata": {},
   "outputs": [
    {
     "output_type": "error",
     "ename": "NameError",
     "evalue": "name 'response' is not defined",
     "traceback": [
      "\u001b[0;31m---------------------------------------------------------------------------\u001b[0m",
      "\u001b[0;31mNameError\u001b[0m                                 Traceback (most recent call last)",
      "\u001b[0;32m<ipython-input-2-8fce04a09906>\u001b[0m in \u001b[0;36m<module>\u001b[0;34m\u001b[0m\n\u001b[0;32m----> 1\u001b[0;31m \u001b[0mpageString\u001b[0m \u001b[0;34m=\u001b[0m \u001b[0mresponse\u001b[0m\u001b[0;34m.\u001b[0m\u001b[0mread\u001b[0m\u001b[0;34m(\u001b[0m\u001b[0;34m)\u001b[0m\u001b[0;34m.\u001b[0m\u001b[0mdecode\u001b[0m\u001b[0;34m(\u001b[0m\u001b[0;34m'utf-8'\u001b[0m\u001b[0;34m)\u001b[0m\u001b[0;34m\u001b[0m\u001b[0;34m\u001b[0m\u001b[0m\n\u001b[0m\u001b[1;32m      2\u001b[0m \u001b[0msoup\u001b[0m \u001b[0;34m=\u001b[0m \u001b[0mBeautifulSoup\u001b[0m\u001b[0;34m(\u001b[0m\u001b[0mpageString\u001b[0m\u001b[0;34m,\u001b[0m \u001b[0;34m\"lxml\"\u001b[0m\u001b[0;34m)\u001b[0m\u001b[0;34m\u001b[0m\u001b[0;34m\u001b[0m\u001b[0m\n\u001b[1;32m      3\u001b[0m \u001b[0msoup\u001b[0m\u001b[0;34m.\u001b[0m\u001b[0mprettify\u001b[0m\u001b[0;34m(\u001b[0m\u001b[0;34m)\u001b[0m\u001b[0;34m\u001b[0m\u001b[0;34m\u001b[0m\u001b[0m\n",
      "\u001b[0;31mNameError\u001b[0m: name 'response' is not defined"
     ]
    }
   ],
   "source": [
    "pageString = response.read().decode('utf-8')\n",
    "soup = BeautifulSoup(pageString, \"lxml\")\n",
    "soup.prettify()"
   ]
  },
  {
   "cell_type": "code",
   "execution_count": 14,
   "metadata": {},
   "outputs": [
    {
     "output_type": "execute_result",
     "data": {
      "text/plain": [
       "''"
      ]
     },
     "metadata": {},
     "execution_count": 14
    }
   ],
   "source": []
  },
  {
   "cell_type": "code",
   "execution_count": null,
   "metadata": {},
   "outputs": [],
   "source": []
  }
 ]
}