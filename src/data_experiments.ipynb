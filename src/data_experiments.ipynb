{
 "metadata": {
  "language_info": {
   "codemirror_mode": {
    "name": "ipython",
    "version": 3
   },
   "file_extension": ".py",
   "mimetype": "text/x-python",
   "name": "python",
   "nbconvert_exporter": "python",
   "pygments_lexer": "ipython3",
   "version": "3.8.5-final"
  },
  "orig_nbformat": 2,
  "kernelspec": {
   "name": "python3",
   "display_name": "Python 3.8.5 64-bit",
   "metadata": {
    "interpreter": {
     "hash": "082e9a3bcad0a290d0001e938aa60b99250c6c2ef33a923c00b70f9826caf4b7"
    }
   }
  }
 },
 "nbformat": 4,
 "nbformat_minor": 2,
 "cells": [
  {
   "source": [
    "## This Notebook takes a quick crack at loading and training on the kaggle dataset that is similar to my project "
   ],
   "cell_type": "markdown",
   "metadata": {}
  },
  {
   "cell_type": "code",
   "execution_count": 2,
   "metadata": {},
   "outputs": [],
   "source": [
    "%matplotlib widget\n",
    "import pandas as pd\n",
    "import tensorflow as tf\n",
    "import keras\n",
    "from keras.utils import to_categorical\n",
    "from keras import models\n",
    "from keras import layers\n",
    "from sklearn import preprocessing\n",
    "import matplotlib.pyplot as plt\n"
   ]
  },
  {
   "cell_type": "code",
   "execution_count": 44,
   "metadata": {},
   "outputs": [],
   "source": [
    "import tensorflow as tf \n",
    "from tensorflow import keras\n",
    "from keras import backend as K\n",
    "import numpy as np\n",
    "from tensorflow.keras.models import Sequential\n",
    "from tensorflow.keras.layers import Dense, Dropout, LSTM\n",
    "from tensorflow.keras.layers.experimental import preprocessing"
   ]
  },
  {
   "cell_type": "code",
   "execution_count": 36,
   "metadata": {},
   "outputs": [],
   "source": [
    "fname = '/Users/brad/Desktop/CS6620/Project/Data/solarenergy.csv' \n",
    "df = pd.read_csv(fname, sep=',', low_memory=False)\n",
    "df.head()\n",
    "df.dropna(axis=0, inplace=True)"
   ]
  },
  {
   "cell_type": "code",
   "execution_count": 37,
   "metadata": {},
   "outputs": [
    {
     "output_type": "execute_result",
     "data": {
      "text/plain": [
       "   wind-speed  humidity  average-wind-speed-(period)  \\\n",
       "0         7.5      75.0                          8.0   \n",
       "1         7.5      77.0                          5.0   \n",
       "2         7.5      70.0                          0.0   \n",
       "3         7.5      33.0                          0.0   \n",
       "4         7.5      21.0                          3.0   \n",
       "\n",
       "   average-pressure-(period)  temperature  \n",
       "0                      29.82         69.0  \n",
       "1                      29.85         69.0  \n",
       "2                      29.89         69.0  \n",
       "3                      29.91         69.0  \n",
       "4                      29.89         69.0  "
      ],
      "text/html": "<div>\n<style scoped>\n    .dataframe tbody tr th:only-of-type {\n        vertical-align: middle;\n    }\n\n    .dataframe tbody tr th {\n        vertical-align: top;\n    }\n\n    .dataframe thead th {\n        text-align: right;\n    }\n</style>\n<table border=\"1\" class=\"dataframe\">\n  <thead>\n    <tr style=\"text-align: right;\">\n      <th></th>\n      <th>wind-speed</th>\n      <th>humidity</th>\n      <th>average-wind-speed-(period)</th>\n      <th>average-pressure-(period)</th>\n      <th>temperature</th>\n    </tr>\n  </thead>\n  <tbody>\n    <tr>\n      <th>0</th>\n      <td>7.5</td>\n      <td>75.0</td>\n      <td>8.0</td>\n      <td>29.82</td>\n      <td>69.0</td>\n    </tr>\n    <tr>\n      <th>1</th>\n      <td>7.5</td>\n      <td>77.0</td>\n      <td>5.0</td>\n      <td>29.85</td>\n      <td>69.0</td>\n    </tr>\n    <tr>\n      <th>2</th>\n      <td>7.5</td>\n      <td>70.0</td>\n      <td>0.0</td>\n      <td>29.89</td>\n      <td>69.0</td>\n    </tr>\n    <tr>\n      <th>3</th>\n      <td>7.5</td>\n      <td>33.0</td>\n      <td>0.0</td>\n      <td>29.91</td>\n      <td>69.0</td>\n    </tr>\n    <tr>\n      <th>4</th>\n      <td>7.5</td>\n      <td>21.0</td>\n      <td>3.0</td>\n      <td>29.89</td>\n      <td>69.0</td>\n    </tr>\n  </tbody>\n</table>\n</div>"
     },
     "metadata": {},
     "execution_count": 37
    }
   ],
   "source": [
    "y = df['solar_mw']\n",
    "df.drop(['Datetime', 'solar_mw', 'wind-direction'], axis=1, inplace=True)\n",
    "df.head()"
   ]
  },
  {
   "cell_type": "code",
   "execution_count": 38,
   "metadata": {},
   "outputs": [
    {
     "output_type": "display_data",
     "data": {
      "text/plain": "Canvas(toolbar=Toolbar(toolitems=[('Home', 'Reset original view', 'home', 'home'), ('Back', 'Back to previous …",
      "application/vnd.jupyter.widget-view+json": {
       "version_major": 2,
       "version_minor": 0,
       "model_id": "e019bc2490314e90a82e3c983f335929"
      }
     },
     "metadata": {}
    }
   ],
   "source": [
    "plt.figure()\n",
    "plt.hist(y)\n",
    "plt.show()"
   ]
  },
  {
   "cell_type": "code",
   "execution_count": 39,
   "metadata": {},
   "outputs": [
    {
     "output_type": "execute_result",
     "data": {
      "text/plain": [
       "wind-speed                     False\n",
       "humidity                       False\n",
       "average-wind-speed-(period)    False\n",
       "average-pressure-(period)      False\n",
       "temperature                    False\n",
       "dtype: bool"
      ]
     },
     "metadata": {},
     "execution_count": 39
    }
   ],
   "source": [
    "df.isna().any()"
   ]
  },
  {
   "cell_type": "code",
   "execution_count": 40,
   "metadata": {},
   "outputs": [
    {
     "output_type": "stream",
     "name": "stdout",
     "text": [
      "Max for wind-speed is 26.6\nMax for humidity is 100.0\nMax for average-wind-speed-(period) is 40.0\nMax for average-pressure-(period) is 30.53\nMax for temperature is 77.0\n"
     ]
    }
   ],
   "source": [
    "# scale by largest value in each column \n",
    "for c in df.columns:\n",
    "    cMax = df[c].max()\n",
    "    print(f'Max for {c} is {cMax}')\n",
    "    df[c] = df[c]/cMax"
   ]
  },
  {
   "cell_type": "code",
   "execution_count": 46,
   "metadata": {},
   "outputs": [],
   "source": [
    "yMax = y.max()\n",
    "y = y/yMax"
   ]
  },
  {
   "cell_type": "code",
   "execution_count": 23,
   "metadata": {},
   "outputs": [
    {
     "output_type": "execute_result",
     "data": {
      "text/plain": [
       "Index(['wind-direction', 'wind-speed', 'humidity',\n",
       "       'average-wind-speed-(period)', 'average-pressure-(period)',\n",
       "       'temperature'],\n",
       "      dtype='object')"
      ]
     },
     "metadata": {},
     "execution_count": 23
    }
   ],
   "source": [
    "df.columns"
   ]
  },
  {
   "cell_type": "code",
   "execution_count": 42,
   "metadata": {},
   "outputs": [
    {
     "output_type": "execute_result",
     "data": {
      "text/plain": [
       "wind-speed                     float64\n",
       "humidity                       float64\n",
       "average-wind-speed-(period)    float64\n",
       "average-pressure-(period)      float64\n",
       "temperature                    float64\n",
       "dtype: object"
      ]
     },
     "metadata": {},
     "execution_count": 42
    }
   ],
   "source": [
    "df.dtypes"
   ]
  },
  {
   "cell_type": "code",
   "execution_count": 59,
   "metadata": {},
   "outputs": [],
   "source": [
    "def plot_loss(history):\n",
    "  plt.figure()\n",
    "  plt.plot(history.history['loss'], label='loss')\n",
    "#   plt.plot(history.history['val_loss'], label='val_loss')\n",
    "  plt.xlabel('Epoch')\n",
    "  plt.ylabel('Loss')\n",
    "  plt.legend()\n",
    "  plt.grid(True)\n",
    "  plt.show()\n",
    "  plt.figure()\n",
    "  plt.plot(history.history['coeff_determination'], label='R^2')\n",
    "#   plt.plot(history.history['val_coeff_determination'], label='validation R^2')\n",
    "  plt.xlabel('Epoch')\n",
    "  plt.ylabel('R^2')\n",
    "  plt.legend()\n",
    "  plt.show()"
   ]
  },
  {
   "cell_type": "code",
   "execution_count": 41,
   "metadata": {},
   "outputs": [],
   "source": [
    "# computes an R^2 (goodness of fit) approximation \n",
    "def coeff_determination(y_true, y_pred):\n",
    "    SS_res =  K.sum(K.square( y_true-y_pred )) \n",
    "    SS_tot = K.sum(K.square( y_true - K.mean(y_true) ) ) \n",
    "    return ( 1 - SS_res/(SS_tot + K.epsilon()) )"
   ]
  },
  {
   "cell_type": "code",
   "execution_count": 66,
   "metadata": {},
   "outputs": [],
   "source": [
    "model = Sequential()\n",
    "model.add(LSTM(128, input_shape=(5,1), return_sequences=True))\n",
    "model.add(Dropout(0.2))\n",
    "model.add(LSTM(128, activation='relu'))\n",
    "model.add(Dropout(0.2))\n",
    "model.add(Dense(64, activation='relu'))\n",
    "model.add(Dropout(0.2))\n",
    "model.add(Dense(1, activation='relu'))\n",
    "# optimizer \n",
    "opt = tf.keras.optimizers.Adam(learning_rate=0.001, decay=1e-5)\n",
    "# compile\n",
    "model.compile(loss='mean_absolute_error', optimizer=opt)"
   ]
  },
  {
   "cell_type": "code",
   "execution_count": 47,
   "metadata": {},
   "outputs": [
    {
     "output_type": "execute_result",
     "data": {
      "text/plain": [
       "(2206, 5)"
      ]
     },
     "metadata": {},
     "execution_count": 47
    }
   ],
   "source": [
    "x = df.to_numpy()\n",
    "x.shape"
   ]
  },
  {
   "cell_type": "code",
   "execution_count": 49,
   "metadata": {},
   "outputs": [
    {
     "output_type": "execute_result",
     "data": {
      "text/plain": [
       "(2206,)"
      ]
     },
     "metadata": {},
     "execution_count": 49
    }
   ],
   "source": [
    "y = y.to_numpy()\n",
    "y.shape"
   ]
  },
  {
   "cell_type": "code",
   "execution_count": 54,
   "metadata": {},
   "outputs": [
    {
     "output_type": "stream",
     "name": "stdout",
     "text": [
      "(2206, 5, 1)\n"
     ]
    }
   ],
   "source": [
    "x = x.reshape(-1, 5, 1)\n",
    "y = y.reshape(-1, 1)\n",
    "print(x.shape)"
   ]
  },
  {
   "cell_type": "code",
   "execution_count": 67,
   "metadata": {},
   "outputs": [
    {
     "output_type": "stream",
     "name": "stdout",
     "text": [
      "Epoch 1/100\n",
      "221/221 [==============================] - 3s 5ms/step - loss: 0.2378\n",
      "Epoch 2/100\n",
      "221/221 [==============================] - 1s 5ms/step - loss: 0.1285\n",
      "Epoch 3/100\n",
      "221/221 [==============================] - 1s 5ms/step - loss: 0.1208\n",
      "Epoch 4/100\n",
      "221/221 [==============================] - 1s 5ms/step - loss: 0.1179\n",
      "Epoch 5/100\n",
      "221/221 [==============================] - 1s 4ms/step - loss: 0.1157\n",
      "Epoch 6/100\n",
      "221/221 [==============================] - 1s 5ms/step - loss: 0.1142\n",
      "Epoch 7/100\n",
      "221/221 [==============================] - 1s 5ms/step - loss: 0.1099\n",
      "Epoch 8/100\n",
      "221/221 [==============================] - 1s 5ms/step - loss: 0.1145\n",
      "Epoch 9/100\n",
      "221/221 [==============================] - 1s 5ms/step - loss: 0.1129\n",
      "Epoch 10/100\n",
      "221/221 [==============================] - 1s 5ms/step - loss: 0.1157\n",
      "Epoch 11/100\n",
      "221/221 [==============================] - 1s 5ms/step - loss: 0.1142\n",
      "Epoch 12/100\n",
      "221/221 [==============================] - 1s 5ms/step - loss: 0.1157\n",
      "Epoch 13/100\n",
      "221/221 [==============================] - 1s 4ms/step - loss: 0.1135\n",
      "Epoch 14/100\n",
      "221/221 [==============================] - 1s 5ms/step - loss: 0.1128\n",
      "Epoch 15/100\n",
      "221/221 [==============================] - 1s 4ms/step - loss: 0.1133\n",
      "Epoch 16/100\n",
      "221/221 [==============================] - 1s 4ms/step - loss: 0.1149\n",
      "Epoch 17/100\n",
      "221/221 [==============================] - 1s 4ms/step - loss: 0.1150\n",
      "Epoch 18/100\n",
      "221/221 [==============================] - 1s 4ms/step - loss: 0.1136\n",
      "Epoch 19/100\n",
      "221/221 [==============================] - 1s 4ms/step - loss: 0.1108\n",
      "Epoch 20/100\n",
      "221/221 [==============================] - 1s 4ms/step - loss: 0.1114\n",
      "Epoch 21/100\n",
      "221/221 [==============================] - 1s 4ms/step - loss: 0.1143\n",
      "Epoch 22/100\n",
      "221/221 [==============================] - 1s 4ms/step - loss: 0.1107\n",
      "Epoch 23/100\n",
      "221/221 [==============================] - 1s 4ms/step - loss: 0.1121\n",
      "Epoch 24/100\n",
      "221/221 [==============================] - 1s 4ms/step - loss: 0.1151\n",
      "Epoch 25/100\n",
      "221/221 [==============================] - 1s 4ms/step - loss: 0.1116\n",
      "Epoch 26/100\n",
      "221/221 [==============================] - 1s 4ms/step - loss: 0.1072\n",
      "Epoch 27/100\n",
      "221/221 [==============================] - 1s 4ms/step - loss: 0.1105\n",
      "Epoch 28/100\n",
      "221/221 [==============================] - 1s 4ms/step - loss: 0.1135\n",
      "Epoch 29/100\n",
      "221/221 [==============================] - 1s 4ms/step - loss: 0.1109\n",
      "Epoch 30/100\n",
      "221/221 [==============================] - 1s 5ms/step - loss: 0.1129\n",
      "Epoch 31/100\n",
      "221/221 [==============================] - 1s 4ms/step - loss: 0.1140\n",
      "Epoch 32/100\n",
      "221/221 [==============================] - 1s 4ms/step - loss: 0.1126\n",
      "Epoch 33/100\n",
      "221/221 [==============================] - 1s 5ms/step - loss: 0.1113\n",
      "Epoch 34/100\n",
      "221/221 [==============================] - 1s 4ms/step - loss: 0.1112\n",
      "Epoch 35/100\n",
      "221/221 [==============================] - 1s 4ms/step - loss: 0.1088\n",
      "Epoch 36/100\n",
      "221/221 [==============================] - 1s 4ms/step - loss: 0.1117\n",
      "Epoch 37/100\n",
      "221/221 [==============================] - 1s 4ms/step - loss: 0.1124\n",
      "Epoch 38/100\n",
      "221/221 [==============================] - 1s 4ms/step - loss: 0.1115\n",
      "Epoch 39/100\n",
      "221/221 [==============================] - 1s 5ms/step - loss: 0.1091\n",
      "Epoch 40/100\n",
      "221/221 [==============================] - 1s 5ms/step - loss: 0.1093\n",
      "Epoch 41/100\n",
      "221/221 [==============================] - 1s 5ms/step - loss: 0.1100\n",
      "Epoch 42/100\n",
      "221/221 [==============================] - 1s 5ms/step - loss: 0.1098\n",
      "Epoch 43/100\n",
      "221/221 [==============================] - 1s 4ms/step - loss: 0.1102\n",
      "Epoch 44/100\n",
      "221/221 [==============================] - 1s 4ms/step - loss: 0.1098\n",
      "Epoch 45/100\n",
      "221/221 [==============================] - 1s 4ms/step - loss: 0.1125\n",
      "Epoch 46/100\n",
      "221/221 [==============================] - 1s 4ms/step - loss: 0.1111\n",
      "Epoch 47/100\n",
      "221/221 [==============================] - 1s 4ms/step - loss: 0.1097\n",
      "Epoch 48/100\n",
      "221/221 [==============================] - 1s 4ms/step - loss: 0.1104\n",
      "Epoch 49/100\n",
      "221/221 [==============================] - 1s 4ms/step - loss: 0.1106\n",
      "Epoch 50/100\n",
      "221/221 [==============================] - 1s 4ms/step - loss: 0.1101\n",
      "Epoch 51/100\n",
      "221/221 [==============================] - 1s 4ms/step - loss: 0.1095\n",
      "Epoch 52/100\n",
      "221/221 [==============================] - 1s 4ms/step - loss: 0.1088\n",
      "Epoch 53/100\n",
      "221/221 [==============================] - 1s 4ms/step - loss: 0.1079\n",
      "Epoch 54/100\n",
      "221/221 [==============================] - 1s 4ms/step - loss: 0.1107\n",
      "Epoch 55/100\n",
      "221/221 [==============================] - 1s 4ms/step - loss: 0.1091\n",
      "Epoch 56/100\n",
      "221/221 [==============================] - 1s 4ms/step - loss: 0.1093\n",
      "Epoch 57/100\n",
      "221/221 [==============================] - 1s 4ms/step - loss: 0.1084\n",
      "Epoch 58/100\n",
      "221/221 [==============================] - 1s 4ms/step - loss: 0.1107\n",
      "Epoch 59/100\n",
      "221/221 [==============================] - 1s 4ms/step - loss: 0.1102\n",
      "Epoch 60/100\n",
      "221/221 [==============================] - 1s 4ms/step - loss: 0.1078\n",
      "Epoch 61/100\n",
      "221/221 [==============================] - 1s 4ms/step - loss: 0.1080\n",
      "Epoch 62/100\n",
      "221/221 [==============================] - 1s 4ms/step - loss: 0.1088\n",
      "Epoch 63/100\n",
      "221/221 [==============================] - 1s 4ms/step - loss: 0.1078\n",
      "Epoch 64/100\n",
      "221/221 [==============================] - 1s 4ms/step - loss: 0.1091\n",
      "Epoch 65/100\n",
      "221/221 [==============================] - 1s 4ms/step - loss: 0.1084\n",
      "Epoch 66/100\n",
      "221/221 [==============================] - 1s 4ms/step - loss: 0.1089\n",
      "Epoch 67/100\n",
      "221/221 [==============================] - 1s 4ms/step - loss: 0.1073\n",
      "Epoch 68/100\n",
      "221/221 [==============================] - 1s 4ms/step - loss: 0.1107\n",
      "Epoch 69/100\n",
      "221/221 [==============================] - 1s 4ms/step - loss: 0.1081\n",
      "Epoch 70/100\n",
      "221/221 [==============================] - 1s 4ms/step - loss: 0.1081\n",
      "Epoch 71/100\n",
      "221/221 [==============================] - 1s 4ms/step - loss: 0.1085\n",
      "Epoch 72/100\n",
      "221/221 [==============================] - 1s 4ms/step - loss: 0.1078\n",
      "Epoch 73/100\n",
      "221/221 [==============================] - 1s 5ms/step - loss: 0.1093\n",
      "Epoch 74/100\n",
      "221/221 [==============================] - 1s 4ms/step - loss: 0.1109\n",
      "Epoch 75/100\n",
      "221/221 [==============================] - 1s 4ms/step - loss: 0.1113\n",
      "Epoch 76/100\n",
      "221/221 [==============================] - 1s 4ms/step - loss: 0.1124\n",
      "Epoch 77/100\n",
      "221/221 [==============================] - 1s 4ms/step - loss: 0.1049\n",
      "Epoch 78/100\n",
      "221/221 [==============================] - 1s 4ms/step - loss: 0.1081\n",
      "Epoch 79/100\n",
      "221/221 [==============================] - 1s 4ms/step - loss: 0.1097\n",
      "Epoch 80/100\n",
      "221/221 [==============================] - 1s 4ms/step - loss: 0.1098\n",
      "Epoch 81/100\n",
      "221/221 [==============================] - 1s 5ms/step - loss: 0.1109\n",
      "Epoch 82/100\n",
      "221/221 [==============================] - 1s 4ms/step - loss: 0.1138\n",
      "Epoch 83/100\n",
      "221/221 [==============================] - 1s 4ms/step - loss: 0.1093\n",
      "Epoch 84/100\n",
      "221/221 [==============================] - 1s 5ms/step - loss: 0.1080\n",
      "Epoch 85/100\n",
      "221/221 [==============================] - 1s 4ms/step - loss: 0.1108\n",
      "Epoch 86/100\n",
      "221/221 [==============================] - 1s 5ms/step - loss: 0.1052\n",
      "Epoch 87/100\n",
      "221/221 [==============================] - 1s 5ms/step - loss: 0.1090\n",
      "Epoch 88/100\n",
      "221/221 [==============================] - 1s 4ms/step - loss: 0.1095\n",
      "Epoch 89/100\n",
      "221/221 [==============================] - 1s 4ms/step - loss: 0.1081\n",
      "Epoch 90/100\n",
      "221/221 [==============================] - 1s 4ms/step - loss: 0.1118\n",
      "Epoch 91/100\n",
      "221/221 [==============================] - 1s 4ms/step - loss: 0.1099\n",
      "Epoch 92/100\n",
      "221/221 [==============================] - 1s 4ms/step - loss: 0.1061\n",
      "Epoch 93/100\n",
      "221/221 [==============================] - 1s 4ms/step - loss: 0.1036\n",
      "Epoch 94/100\n",
      "221/221 [==============================] - 1s 4ms/step - loss: 0.1095\n",
      "Epoch 95/100\n",
      "221/221 [==============================] - 1s 4ms/step - loss: 0.1098\n",
      "Epoch 96/100\n",
      "221/221 [==============================] - 1s 4ms/step - loss: 0.1080\n",
      "Epoch 97/100\n",
      "221/221 [==============================] - 1s 4ms/step - loss: 0.1093\n",
      "Epoch 98/100\n",
      "221/221 [==============================] - 1s 4ms/step - loss: 0.1090\n",
      "Epoch 99/100\n",
      "221/221 [==============================] - 1s 4ms/step - loss: 0.1091\n",
      "Epoch 100/100\n",
      "221/221 [==============================] - 1s 4ms/step - loss: 0.1073\n"
     ]
    },
    {
     "output_type": "display_data",
     "data": {
      "text/plain": "Canvas(toolbar=Toolbar(toolitems=[('Home', 'Reset original view', 'home', 'home'), ('Back', 'Back to previous …",
      "application/vnd.jupyter.widget-view+json": {
       "version_major": 2,
       "version_minor": 0,
       "model_id": "8533253e8e0a46f29a75a2aa3e15d600"
      }
     },
     "metadata": {}
    },
    {
     "output_type": "display_data",
     "data": {
      "text/plain": "Canvas(toolbar=Toolbar(toolitems=[('Home', 'Reset original view', 'home', 'home'), ('Back', 'Back to previous …",
      "application/vnd.jupyter.widget-view+json": {
       "version_major": 2,
       "version_minor": 0,
       "model_id": "88f69cce406040bcb9ba70ef2fbd097f"
      }
     },
     "metadata": {}
    },
    {
     "output_type": "error",
     "ename": "KeyError",
     "evalue": "'coeff_determination'",
     "traceback": [
      "\u001b[0;31m---------------------------------------------------------------------------\u001b[0m",
      "\u001b[0;31mKeyError\u001b[0m                                  Traceback (most recent call last)",
      "\u001b[0;32m<ipython-input-67-af0c332e4b1c>\u001b[0m in \u001b[0;36m<module>\u001b[0;34m\u001b[0m\n\u001b[1;32m      1\u001b[0m \u001b[0mhistory\u001b[0m\u001b[0;34m=\u001b[0m \u001b[0mmodel\u001b[0m\u001b[0;34m.\u001b[0m\u001b[0mfit\u001b[0m\u001b[0;34m(\u001b[0m\u001b[0mx\u001b[0m\u001b[0;34m=\u001b[0m\u001b[0mx\u001b[0m\u001b[0;34m,\u001b[0m \u001b[0my\u001b[0m\u001b[0;34m=\u001b[0m\u001b[0my\u001b[0m\u001b[0;34m,\u001b[0m \u001b[0mbatch_size\u001b[0m\u001b[0;34m=\u001b[0m\u001b[0;36m10\u001b[0m\u001b[0;34m,\u001b[0m \u001b[0mepochs\u001b[0m\u001b[0;34m=\u001b[0m\u001b[0;36m100\u001b[0m\u001b[0;34m)\u001b[0m\u001b[0;34m\u001b[0m\u001b[0;34m\u001b[0m\u001b[0m\n\u001b[0;32m----> 2\u001b[0;31m \u001b[0mplot_loss\u001b[0m\u001b[0;34m(\u001b[0m\u001b[0mhistory\u001b[0m\u001b[0;34m)\u001b[0m\u001b[0;34m\u001b[0m\u001b[0;34m\u001b[0m\u001b[0m\n\u001b[0m",
      "\u001b[0;32m<ipython-input-59-ba6c844a76b0>\u001b[0m in \u001b[0;36mplot_loss\u001b[0;34m(history)\u001b[0m\n\u001b[1;32m      9\u001b[0m   \u001b[0mplt\u001b[0m\u001b[0;34m.\u001b[0m\u001b[0mshow\u001b[0m\u001b[0;34m(\u001b[0m\u001b[0;34m)\u001b[0m\u001b[0;34m\u001b[0m\u001b[0;34m\u001b[0m\u001b[0m\n\u001b[1;32m     10\u001b[0m   \u001b[0mplt\u001b[0m\u001b[0;34m.\u001b[0m\u001b[0mfigure\u001b[0m\u001b[0;34m(\u001b[0m\u001b[0;34m)\u001b[0m\u001b[0;34m\u001b[0m\u001b[0;34m\u001b[0m\u001b[0m\n\u001b[0;32m---> 11\u001b[0;31m   \u001b[0mplt\u001b[0m\u001b[0;34m.\u001b[0m\u001b[0mplot\u001b[0m\u001b[0;34m(\u001b[0m\u001b[0mhistory\u001b[0m\u001b[0;34m.\u001b[0m\u001b[0mhistory\u001b[0m\u001b[0;34m[\u001b[0m\u001b[0;34m'coeff_determination'\u001b[0m\u001b[0;34m]\u001b[0m\u001b[0;34m,\u001b[0m \u001b[0mlabel\u001b[0m\u001b[0;34m=\u001b[0m\u001b[0;34m'R^2'\u001b[0m\u001b[0;34m)\u001b[0m\u001b[0;34m\u001b[0m\u001b[0;34m\u001b[0m\u001b[0m\n\u001b[0m\u001b[1;32m     12\u001b[0m \u001b[0;31m#   plt.plot(history.history['val_coeff_determination'], label='validation R^2')\u001b[0m\u001b[0;34m\u001b[0m\u001b[0;34m\u001b[0m\u001b[0;34m\u001b[0m\u001b[0m\n\u001b[1;32m     13\u001b[0m   \u001b[0mplt\u001b[0m\u001b[0;34m.\u001b[0m\u001b[0mxlabel\u001b[0m\u001b[0;34m(\u001b[0m\u001b[0;34m'Epoch'\u001b[0m\u001b[0;34m)\u001b[0m\u001b[0;34m\u001b[0m\u001b[0;34m\u001b[0m\u001b[0m\n",
      "\u001b[0;31mKeyError\u001b[0m: 'coeff_determination'"
     ]
    }
   ],
   "source": [
    "history= model.fit(x=x, y=y, batch_size=10, epochs=100)\n",
    "plot_loss(history)"
   ]
  },
  {
   "cell_type": "code",
   "execution_count": 69,
   "metadata": {},
   "outputs": [],
   "source": [
    "preds = model.predict(x)"
   ]
  },
  {
   "cell_type": "code",
   "execution_count": 70,
   "metadata": {},
   "outputs": [
    {
     "output_type": "display_data",
     "data": {
      "text/plain": "Canvas(toolbar=Toolbar(toolitems=[('Home', 'Reset original view', 'home', 'home'), ('Back', 'Back to previous …",
      "application/vnd.jupyter.widget-view+json": {
       "version_major": 2,
       "version_minor": 0,
       "model_id": "5b51551b302343438474bb7849f001f0"
      }
     },
     "metadata": {}
    }
   ],
   "source": [
    "plt.figure()\n",
    "plt.plot(y)\n",
    "plt.plot(preds)\n",
    "plt.legend(['actual','predicted'])\n",
    "plt.show()"
   ]
  },
  {
   "cell_type": "code",
   "execution_count": null,
   "metadata": {},
   "outputs": [],
   "source": []
  }
 ]
}