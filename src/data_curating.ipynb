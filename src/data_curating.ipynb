{
 "metadata": {
  "language_info": {
   "codemirror_mode": {
    "name": "ipython",
    "version": 3
   },
   "file_extension": ".py",
   "mimetype": "text/x-python",
   "name": "python",
   "nbconvert_exporter": "python",
   "pygments_lexer": "ipython3",
   "version": "3.8.5"
  },
  "orig_nbformat": 2,
  "kernelspec": {
   "name": "python3",
   "display_name": "Python 3.8.5 64-bit",
   "metadata": {
    "interpreter": {
     "hash": "082e9a3bcad0a290d0001e938aa60b99250c6c2ef33a923c00b70f9826caf4b7"
    }
   }
  }
 },
 "nbformat": 4,
 "nbformat_minor": 2,
 "cells": [
  {
   "source": [
    "%matplotlib widget\n",
    "import numpy as np\n",
    "import matplotlib.pyplot as plt \n",
    "import pandas as pd \n",
    "import datetime\n",
    "import re\n",
    "from mlxtend.preprocessing import minmax_scaling\n",
    "import pickle\n",
    "import math\n",
    "from data_functions import *\n",
    "from sklearn import preprocessing"
   ],
   "cell_type": "code",
   "metadata": {},
   "execution_count": 1,
   "outputs": []
  },
  {
   "cell_type": "code",
   "execution_count": 2,
   "metadata": {},
   "outputs": [],
   "source": [
    "solar_data_filename = '/Users/brad/Desktop/CS6620/Project/Data/Sample.csv' \n",
    "weather_data_filename = '/Users/brad/Desktop/CS6620/Project/Data/correct_weather.csv' "
   ]
  },
  {
   "cell_type": "code",
   "execution_count": 3,
   "metadata": {},
   "outputs": [],
   "source": [
    "solarData = pd.read_csv(solar_data_filename, sep=',')"
   ]
  },
  {
   "cell_type": "code",
   "execution_count": 4,
   "metadata": {},
   "outputs": [],
   "source": [
    "# sum(solarData['Solar_power'].apply(lambda val: 1 if val <=0 else 0))\n",
    "# len(solarData['Solar_power'])"
   ]
  },
  {
   "cell_type": "code",
   "execution_count": 5,
   "metadata": {},
   "outputs": [
    {
     "output_type": "execute_result",
     "data": {
      "text/plain": [
       "1375826"
      ]
     },
     "metadata": {},
     "execution_count": 5
    }
   ],
   "source": []
  },
  {
   "cell_type": "code",
   "execution_count": 5,
   "metadata": {},
   "outputs": [],
   "source": [
    "# Seperate date and time using datetime from pandas \n",
    "# solarData['Date']= pd.to_datetime(solarData['TIME']).dt.date\n",
    "solarData['date_time']= pd.to_datetime(solarData['TIME']).dt.floor('H')\n",
    "solarData = solarData.drop(['TIME', 'Meter_value', 'Unnamed: 0'], axis=1)"
   ]
  },
  {
   "cell_type": "code",
   "execution_count": 6,
   "metadata": {},
   "outputs": [
    {
     "output_type": "execute_result",
     "data": {
      "text/plain": [
       "True"
      ]
     },
     "metadata": {},
     "execution_count": 6
    }
   ],
   "source": [
    "solarData['date_time'][0].date() == solarData['date_time'][5].date()"
   ]
  },
  {
   "cell_type": "code",
   "execution_count": 7,
   "metadata": {},
   "outputs": [],
   "source": [
    "# According to Shaju, from ASPIRE, negative values are corrupted\n",
    "solarData['Solar_power'] = solarData['Solar_power'].apply(lambda val : val if val > 0 else math.nan)\n",
    "# Maximum possible output by solar panels is 100,000 (3-29 Email)\n",
    "solarData['Solar_power'] = solarData['Solar_power'].apply(lambda val : val if val < 100000 else math.nan)"
   ]
  },
  {
   "cell_type": "code",
   "execution_count": null,
   "metadata": {},
   "outputs": [],
   "source": []
  },
  {
   "source": [
    "plt.figure(figsize=(5,5))\n",
    "plt.scatter(np.arange(len(solarData)), solarData['Solar_power'])\n",
    "plt.xlabel(\"data point index\")\n",
    "plt.ylabel(\"Power generation (watts)\")\n",
    "plt.title(\"Scatter of Unprocessed Generation Data\")\n",
    "plt.show()"
   ],
   "cell_type": "code",
   "metadata": {},
   "execution_count": 8,
   "outputs": [
    {
     "output_type": "display_data",
     "data": {
      "text/plain": "Canvas(toolbar=Toolbar(toolitems=[('Home', 'Reset original view', 'home', 'home'), ('Back', 'Back to previous …",
      "application/vnd.jupyter.widget-view+json": {
       "version_major": 2,
       "version_minor": 0,
       "model_id": "55db053cc6e6482596d6d02196dcc54c"
      }
     },
     "metadata": {}
    }
   ]
  },
  {
   "source": [
    "plt.figure()\n",
    "plt.hist(solarData['Solar_power'], edgecolor='black', bins=30)\n",
    "plt.xlabel(\"Generation output (watts)\")\n",
    "plt.ylabel(\"Number of occurences\")\n",
    "plt.title(\"Distribution of Generation output\")\n",
    "plt.show()\n"
   ],
   "cell_type": "code",
   "metadata": {},
   "execution_count": 9,
   "outputs": [
    {
     "output_type": "display_data",
     "data": {
      "text/plain": "Canvas(toolbar=Toolbar(toolitems=[('Home', 'Reset original view', 'home', 'home'), ('Back', 'Back to previous …",
      "application/vnd.jupyter.widget-view+json": {
       "version_major": 2,
       "version_minor": 0,
       "model_id": "15d98896a0784bedb5f80f08bfd51239"
      }
     },
     "metadata": {}
    }
   ]
  },
  {
   "cell_type": "code",
   "execution_count": 10,
   "metadata": {},
   "outputs": [
    {
     "output_type": "stream",
     "name": "stdout",
     "text": [
      "740.6687727956357\n95620.47706058336\n17417.057682456667\n\n21697.783441652493\n260095452.22527274\n16127.475072846113\n"
     ]
    }
   ],
   "source": [
    "print(solarData['Solar_power'].min())\n",
    "print(solarData['Solar_power'].max())\n",
    "print(solarData['Solar_power'].median())\n",
    "print()\n",
    "print(solarData['Solar_power'].mean())\n",
    "print(solarData['Solar_power'].var())\n",
    "print(solarData['Solar_power'].std())"
   ]
  },
  {
   "source": [
    "# <pre># Now need to accumulate power per hour \n",
    "hour = -1\n",
    "# This will contain a list of tuples where 0th index is date, 1st is hour of day (24 - hour based), 2nd is total generation per hour\n",
    "date_hour_generation = [] \n",
    "\n",
    "# This is how many hours had at least 1 corrupted/garbage value \n",
    "numAdjusted = 0\n",
    "\n",
    "# loop through all the data, \n",
    "# NaN values in an hour will be replaced with the average for the non-NaN values in the hour \n",
    "i = 0\n",
    "while i < len(solarData['Solar_power']):\n",
    "    hourTotal = 0\n",
    "    numNaN = 0\n",
    "    numTotal = 0\n",
    "    hour = solarData['date_time'][i].hour\n",
    "    # get statistics for this single hour \n",
    "    while i < len(solarData['Solar_power']) and hour == solarData['date_time'][i].hour:\n",
    "        numTotal += 1 \n",
    "        if math.isnan(solarData['Solar_power'][i]):\n",
    "            numNaN += 1 \n",
    "        else: \n",
    "            hourTotal += solarData['Solar_power'][i]\n",
    "        i += 1\n",
    "    # end while inner \n",
    "    if numNaN == 0:\n",
    "        date_hour_generation.append((solarData['date_time'][i -1], hourTotal, numTotal))\n",
    "    elif numNaN == numTotal: # all values of an hour are garbage, skip \n",
    "        continue\n",
    "    else:\n",
    "        numAdjusted += 1 \n",
    "        notNaN = numTotal - numNaN\n",
    "        avg = hourTotal / notNaN\n",
    "        hourTotal = avg * numTotal \n",
    "        date_hour_generation.append((solarData['date_time'][i-1], hourTotal, numTotal))\n",
    "\n",
    "# end while outer \n",
    "print(f'Number of hours adjusted: {numAdjusted}')\n",
    "print(f'Total number of hours computed: {len(date_hour_generation)}')\n",
    "print(f'Percentage of hours with some degree of adjustment: {( (numAdjusted / len(date_hour_generation) )* 100 ) :.2f}%')\n",
    "# </pre>\n"
   ],
   "cell_type": "code",
   "metadata": {},
   "execution_count": 11,
   "outputs": [
    {
     "output_type": "stream",
     "name": "stdout",
     "text": [
      "Number of hours adjusted: 2477\nTotal number of hours computed: 5601\nPercentage of hours with some degree of adjustment: 44.22%\n"
     ]
    }
   ]
  },
  {
   "cell_type": "code",
   "execution_count": 12,
   "metadata": {
    "tags": []
   },
   "outputs": [],
   "source": [
    "# compute average of each hour \n",
    "solarData.dropna(axis = 0, inplace=True)\n",
    "solarData.reset_index(drop=True, inplace=True)\n",
    "sDataProcessed = []\n",
    "i = 0\n",
    "date = solarData['date_time'][i].date()\n",
    "hour = solarData['date_time'][i].hour\n",
    "total = 0\n",
    "count = 0\n",
    "while i < len(solarData):\n",
    "    if solarData['date_time'][i].date() == date and solarData['date_time'][i].hour == hour:\n",
    "        # date and hour match\n",
    "        count += 1\n",
    "        total += solarData['Solar_power'][i]\n",
    "    else:\n",
    "        if count != 0:\n",
    "            sDataProcessed.append((solarData['date_time'][i-1], total/count))\n",
    "        total = 0\n",
    "        count = 0\n",
    "        date = solarData['date_time'][i].date()\n",
    "        hour = solarData['date_time'][i].hour\n",
    "    i += 1"
   ]
  },
  {
   "cell_type": "code",
   "execution_count": 13,
   "metadata": {},
   "outputs": [],
   "source": [
    "# convert the \n",
    "sDataTotal = pd.DataFrame(date_hour_generation, columns=['date_time', 'Solar_total', 'Count'])\n",
    "# sData is the cumulated generation data frame \n",
    "sData = pd.DataFrame(sDataProcessed, columns=['date_time', 'Solar_average'])"
   ]
  },
  {
   "cell_type": "code",
   "execution_count": 25,
   "metadata": {},
   "outputs": [
    {
     "output_type": "display_data",
     "data": {
      "text/plain": "Canvas(toolbar=Toolbar(toolitems=[('Home', 'Reset original view', 'home', 'home'), ('Back', 'Back to previous …",
      "application/vnd.jupyter.widget-view+json": {
       "version_major": 2,
       "version_minor": 0,
       "model_id": "020bf9ef8aed4bac9452ac847896f6a4"
      }
     },
     "metadata": {}
    }
   ],
   "source": [
    "plt.figure()\n",
    "plt.hist(sDataTotal['Generated_total'], edgecolor='black', bins=30)\n",
    "plt.xlabel(\"Generation output (watts)\")\n",
    "plt.ylabel(\"Number of occurences\")\n",
    "plt.title(\"Distribution using Total Per Hour\")\n",
    "plt.show()"
   ]
  },
  {
   "cell_type": "code",
   "execution_count": 14,
   "metadata": {},
   "outputs": [],
   "source": []
  },
  {
   "cell_type": "code",
   "execution_count": 15,
   "metadata": {},
   "outputs": [
    {
     "output_type": "display_data",
     "data": {
      "text/plain": "Canvas(toolbar=Toolbar(toolitems=[('Home', 'Reset original view', 'home', 'home'), ('Back', 'Back to previous …",
      "application/vnd.jupyter.widget-view+json": {
       "version_major": 2,
       "version_minor": 0,
       "model_id": "de66468755fa4d1bb4aa7362ac87ac30"
      }
     },
     "metadata": {}
    }
   ],
   "source": [
    "x = np.arange(len(sData))\n",
    "plt.figure()\n",
    "plt.hist(sData['Generated'], bins=30, edgecolor='black', linewidth=1)\n",
    "plt.xlabel(\"power output\")\n",
    "plt.ylabel(\"Number of occurences\")\n",
    "plt.show()"
   ]
  },
  {
   "cell_type": "code",
   "execution_count": 14,
   "metadata": {},
   "outputs": [
    {
     "output_type": "execute_result",
     "data": {
      "text/plain": [
       "Index(['date_time', 'station_id', 'rh', 'eto', 'etr', 'rso', 'ea_avg',\n",
       "       'precip', 'rh_max', 'rh_min', 'rh_tmn', 'rh_tmx', 'td_avg', 'td_max',\n",
       "       'td_min', 'td_tmn', 'td_tmx', 'co2_avg', 'ppf_avg', 'solarmj',\n",
       "       'wet_pct', 'airt_avg', 'airt_max', 'airt_min', 'airt_tmn', 'airt_tmx',\n",
       "       'lwdn_avg', 'lwup_avg', 'pressure', 'swdn_avg', 'swup_avg', 'windd_sd',\n",
       "       'windd_avg', 'winds_avg', 'winds_max', 'winds_tmx', 'netrad_avg',\n",
       "       'fan_rmp_avg', 'visibilitymiles', 'batt_volt_min', 'surfacet1_avg',\n",
       "       'surfacet2_avg', 'visibilitymiles_avg', 'pressurekpasealevel'],\n",
       "      dtype='object')"
      ]
     },
     "metadata": {},
     "execution_count": 14
    }
   ],
   "source": [
    "weatherpf = pd.read_csv(weather_data_filename, sep=',')\n",
    "weatherpf.columns"
   ]
  },
  {
   "cell_type": "code",
   "execution_count": 15,
   "metadata": {},
   "outputs": [
    {
     "output_type": "execute_result",
     "data": {
      "text/plain": [
       "             date_time  rh    eto    etr  rso  ea_avg  precip  rh_max  rh_min  \\\n",
       "0  2019-07-11 00:59:59  30  0.002  0.003  0.0   0.741     0.0      31      29   \n",
       "1  2019-07-11 01:59:59  31  0.002  0.003  0.0   0.732     0.0      32      30   \n",
       "2  2019-07-11 02:59:59  32  0.001  0.002  0.0   0.716     0.0      33      30   \n",
       "3  2019-07-11 03:59:59  32  0.002  0.002  0.0   0.703     0.0      33      30   \n",
       "4  2019-07-11 04:59:59  32  0.001  0.002  0.0   0.686     0.0      33      30   \n",
       "\n",
       "   td_avg  ...  windd_sd  windd_avg  winds_avg  winds_max  netrad_avg  \\\n",
       "0    36.9  ...      42.0       40.0      5.369     18.119      -63.37   \n",
       "1    36.5  ...      63.0       97.0      3.803     13.198      -61.05   \n",
       "2    36.0  ...      46.0      132.0      4.698     17.448      -61.61   \n",
       "3    35.4  ...      66.0       95.0      4.250     16.553      -60.99   \n",
       "4    34.9  ...      62.0      106.0      4.026     14.987      -60.79   \n",
       "\n",
       "   visibilitymiles  surfacet1_avg  surfacet2_avg  visibilitymiles_avg  \\\n",
       "0           19.884           60.8           60.3               19.822   \n",
       "1           19.884           58.5           58.3               19.822   \n",
       "2           19.884           58.3           58.1               19.822   \n",
       "3           19.635           57.6           57.4               19.822   \n",
       "4           19.884           56.8           56.8               19.884   \n",
       "\n",
       "   pressurekpasealevel  \n",
       "0                101.6  \n",
       "1                101.6  \n",
       "2                101.6  \n",
       "3                101.6  \n",
       "4                101.7  \n",
       "\n",
       "[5 rows x 34 columns]"
      ],
      "text/html": "<div>\n<style scoped>\n    .dataframe tbody tr th:only-of-type {\n        vertical-align: middle;\n    }\n\n    .dataframe tbody tr th {\n        vertical-align: top;\n    }\n\n    .dataframe thead th {\n        text-align: right;\n    }\n</style>\n<table border=\"1\" class=\"dataframe\">\n  <thead>\n    <tr style=\"text-align: right;\">\n      <th></th>\n      <th>date_time</th>\n      <th>rh</th>\n      <th>eto</th>\n      <th>etr</th>\n      <th>rso</th>\n      <th>ea_avg</th>\n      <th>precip</th>\n      <th>rh_max</th>\n      <th>rh_min</th>\n      <th>td_avg</th>\n      <th>...</th>\n      <th>windd_sd</th>\n      <th>windd_avg</th>\n      <th>winds_avg</th>\n      <th>winds_max</th>\n      <th>netrad_avg</th>\n      <th>visibilitymiles</th>\n      <th>surfacet1_avg</th>\n      <th>surfacet2_avg</th>\n      <th>visibilitymiles_avg</th>\n      <th>pressurekpasealevel</th>\n    </tr>\n  </thead>\n  <tbody>\n    <tr>\n      <th>0</th>\n      <td>2019-07-11 00:59:59</td>\n      <td>30</td>\n      <td>0.002</td>\n      <td>0.003</td>\n      <td>0.0</td>\n      <td>0.741</td>\n      <td>0.0</td>\n      <td>31</td>\n      <td>29</td>\n      <td>36.9</td>\n      <td>...</td>\n      <td>42.0</td>\n      <td>40.0</td>\n      <td>5.369</td>\n      <td>18.119</td>\n      <td>-63.37</td>\n      <td>19.884</td>\n      <td>60.8</td>\n      <td>60.3</td>\n      <td>19.822</td>\n      <td>101.6</td>\n    </tr>\n    <tr>\n      <th>1</th>\n      <td>2019-07-11 01:59:59</td>\n      <td>31</td>\n      <td>0.002</td>\n      <td>0.003</td>\n      <td>0.0</td>\n      <td>0.732</td>\n      <td>0.0</td>\n      <td>32</td>\n      <td>30</td>\n      <td>36.5</td>\n      <td>...</td>\n      <td>63.0</td>\n      <td>97.0</td>\n      <td>3.803</td>\n      <td>13.198</td>\n      <td>-61.05</td>\n      <td>19.884</td>\n      <td>58.5</td>\n      <td>58.3</td>\n      <td>19.822</td>\n      <td>101.6</td>\n    </tr>\n    <tr>\n      <th>2</th>\n      <td>2019-07-11 02:59:59</td>\n      <td>32</td>\n      <td>0.001</td>\n      <td>0.002</td>\n      <td>0.0</td>\n      <td>0.716</td>\n      <td>0.0</td>\n      <td>33</td>\n      <td>30</td>\n      <td>36.0</td>\n      <td>...</td>\n      <td>46.0</td>\n      <td>132.0</td>\n      <td>4.698</td>\n      <td>17.448</td>\n      <td>-61.61</td>\n      <td>19.884</td>\n      <td>58.3</td>\n      <td>58.1</td>\n      <td>19.822</td>\n      <td>101.6</td>\n    </tr>\n    <tr>\n      <th>3</th>\n      <td>2019-07-11 03:59:59</td>\n      <td>32</td>\n      <td>0.002</td>\n      <td>0.002</td>\n      <td>0.0</td>\n      <td>0.703</td>\n      <td>0.0</td>\n      <td>33</td>\n      <td>30</td>\n      <td>35.4</td>\n      <td>...</td>\n      <td>66.0</td>\n      <td>95.0</td>\n      <td>4.250</td>\n      <td>16.553</td>\n      <td>-60.99</td>\n      <td>19.635</td>\n      <td>57.6</td>\n      <td>57.4</td>\n      <td>19.822</td>\n      <td>101.6</td>\n    </tr>\n    <tr>\n      <th>4</th>\n      <td>2019-07-11 04:59:59</td>\n      <td>32</td>\n      <td>0.001</td>\n      <td>0.002</td>\n      <td>0.0</td>\n      <td>0.686</td>\n      <td>0.0</td>\n      <td>33</td>\n      <td>30</td>\n      <td>34.9</td>\n      <td>...</td>\n      <td>62.0</td>\n      <td>106.0</td>\n      <td>4.026</td>\n      <td>14.987</td>\n      <td>-60.79</td>\n      <td>19.884</td>\n      <td>56.8</td>\n      <td>56.8</td>\n      <td>19.884</td>\n      <td>101.7</td>\n    </tr>\n  </tbody>\n</table>\n<p>5 rows × 34 columns</p>\n</div>"
     },
     "metadata": {},
     "execution_count": 15
    }
   ],
   "source": [
    "# we can't feed the date strings into our models, lets just get rid of them\n",
    "# the data is all from the same weather station. We don't need that either \n",
    "toDrop = ['station_id', 'rh_tmn', 'rh_tmx', 'td_tmn', 'td_tmx', 'airt_tmn', 'airt_tmx', 'winds_tmx', 'fan_rmp_avg', 'batt_volt_min']\n",
    "weatherpf = weatherpf.drop(toDrop, axis=1)\n",
    "weatherpf.head()"
   ]
  },
  {
   "cell_type": "code",
   "execution_count": 16,
   "metadata": {},
   "outputs": [],
   "source": [
    "# Seperate date and time using datetime from pandas \n",
    "# weatherpf['Date']= pd.to_datetime(weatherpf['date_time']).dt.date\n",
    "# weatherpf['Hour']= pd.to_datetime(weatherpf['date_time'][:]).dt.hour\n",
    "weatherpf['date_time']= pd.to_datetime(weatherpf['date_time']).dt.floor('H')"
   ]
  },
  {
   "cell_type": "code",
   "execution_count": 14,
   "metadata": {},
   "outputs": [
    {
     "output_type": "execute_result",
     "data": {
      "text/plain": [
       "            date_time  rh    eto    etr  rso  ea_avg  precip  rh_max  rh_min  \\\n",
       "0 2019-07-11 01:00:00  30  0.002  0.003  0.0   0.741     0.0      31      29   \n",
       "1 2019-07-11 02:00:00  31  0.002  0.003  0.0   0.732     0.0      32      30   \n",
       "2 2019-07-11 03:00:00  32  0.001  0.002  0.0   0.716     0.0      33      30   \n",
       "3 2019-07-11 04:00:00  32  0.002  0.002  0.0   0.703     0.0      33      30   \n",
       "4 2019-07-11 05:00:00  32  0.001  0.002  0.0   0.686     0.0      33      30   \n",
       "\n",
       "   td_avg  ...  windd_sd  windd_avg  winds_avg  winds_max  netrad_avg  \\\n",
       "0    36.9  ...      42.0       40.0      5.369     18.119      -63.37   \n",
       "1    36.5  ...      63.0       97.0      3.803     13.198      -61.05   \n",
       "2    36.0  ...      46.0      132.0      4.698     17.448      -61.61   \n",
       "3    35.4  ...      66.0       95.0      4.250     16.553      -60.99   \n",
       "4    34.9  ...      62.0      106.0      4.026     14.987      -60.79   \n",
       "\n",
       "   visibilitymiles  surfacet1_avg  surfacet2_avg  visibilitymiles_avg  \\\n",
       "0           19.884           60.8           60.3               19.822   \n",
       "1           19.884           58.5           58.3               19.822   \n",
       "2           19.884           58.3           58.1               19.822   \n",
       "3           19.635           57.6           57.4               19.822   \n",
       "4           19.884           56.8           56.8               19.884   \n",
       "\n",
       "   pressurekpasealevel  \n",
       "0                101.6  \n",
       "1                101.6  \n",
       "2                101.6  \n",
       "3                101.6  \n",
       "4                101.7  \n",
       "\n",
       "[5 rows x 34 columns]"
      ],
      "text/html": "<div>\n<style scoped>\n    .dataframe tbody tr th:only-of-type {\n        vertical-align: middle;\n    }\n\n    .dataframe tbody tr th {\n        vertical-align: top;\n    }\n\n    .dataframe thead th {\n        text-align: right;\n    }\n</style>\n<table border=\"1\" class=\"dataframe\">\n  <thead>\n    <tr style=\"text-align: right;\">\n      <th></th>\n      <th>date_time</th>\n      <th>rh</th>\n      <th>eto</th>\n      <th>etr</th>\n      <th>rso</th>\n      <th>ea_avg</th>\n      <th>precip</th>\n      <th>rh_max</th>\n      <th>rh_min</th>\n      <th>td_avg</th>\n      <th>...</th>\n      <th>windd_sd</th>\n      <th>windd_avg</th>\n      <th>winds_avg</th>\n      <th>winds_max</th>\n      <th>netrad_avg</th>\n      <th>visibilitymiles</th>\n      <th>surfacet1_avg</th>\n      <th>surfacet2_avg</th>\n      <th>visibilitymiles_avg</th>\n      <th>pressurekpasealevel</th>\n    </tr>\n  </thead>\n  <tbody>\n    <tr>\n      <th>0</th>\n      <td>2019-07-11 01:00:00</td>\n      <td>30</td>\n      <td>0.002</td>\n      <td>0.003</td>\n      <td>0.0</td>\n      <td>0.741</td>\n      <td>0.0</td>\n      <td>31</td>\n      <td>29</td>\n      <td>36.9</td>\n      <td>...</td>\n      <td>42.0</td>\n      <td>40.0</td>\n      <td>5.369</td>\n      <td>18.119</td>\n      <td>-63.37</td>\n      <td>19.884</td>\n      <td>60.8</td>\n      <td>60.3</td>\n      <td>19.822</td>\n      <td>101.6</td>\n    </tr>\n    <tr>\n      <th>1</th>\n      <td>2019-07-11 02:00:00</td>\n      <td>31</td>\n      <td>0.002</td>\n      <td>0.003</td>\n      <td>0.0</td>\n      <td>0.732</td>\n      <td>0.0</td>\n      <td>32</td>\n      <td>30</td>\n      <td>36.5</td>\n      <td>...</td>\n      <td>63.0</td>\n      <td>97.0</td>\n      <td>3.803</td>\n      <td>13.198</td>\n      <td>-61.05</td>\n      <td>19.884</td>\n      <td>58.5</td>\n      <td>58.3</td>\n      <td>19.822</td>\n      <td>101.6</td>\n    </tr>\n    <tr>\n      <th>2</th>\n      <td>2019-07-11 03:00:00</td>\n      <td>32</td>\n      <td>0.001</td>\n      <td>0.002</td>\n      <td>0.0</td>\n      <td>0.716</td>\n      <td>0.0</td>\n      <td>33</td>\n      <td>30</td>\n      <td>36.0</td>\n      <td>...</td>\n      <td>46.0</td>\n      <td>132.0</td>\n      <td>4.698</td>\n      <td>17.448</td>\n      <td>-61.61</td>\n      <td>19.884</td>\n      <td>58.3</td>\n      <td>58.1</td>\n      <td>19.822</td>\n      <td>101.6</td>\n    </tr>\n    <tr>\n      <th>3</th>\n      <td>2019-07-11 04:00:00</td>\n      <td>32</td>\n      <td>0.002</td>\n      <td>0.002</td>\n      <td>0.0</td>\n      <td>0.703</td>\n      <td>0.0</td>\n      <td>33</td>\n      <td>30</td>\n      <td>35.4</td>\n      <td>...</td>\n      <td>66.0</td>\n      <td>95.0</td>\n      <td>4.250</td>\n      <td>16.553</td>\n      <td>-60.99</td>\n      <td>19.635</td>\n      <td>57.6</td>\n      <td>57.4</td>\n      <td>19.822</td>\n      <td>101.6</td>\n    </tr>\n    <tr>\n      <th>4</th>\n      <td>2019-07-11 05:00:00</td>\n      <td>32</td>\n      <td>0.001</td>\n      <td>0.002</td>\n      <td>0.0</td>\n      <td>0.686</td>\n      <td>0.0</td>\n      <td>33</td>\n      <td>30</td>\n      <td>34.9</td>\n      <td>...</td>\n      <td>62.0</td>\n      <td>106.0</td>\n      <td>4.026</td>\n      <td>14.987</td>\n      <td>-60.79</td>\n      <td>19.884</td>\n      <td>56.8</td>\n      <td>56.8</td>\n      <td>19.884</td>\n      <td>101.7</td>\n    </tr>\n  </tbody>\n</table>\n<p>5 rows × 34 columns</p>\n</div>"
     },
     "metadata": {},
     "execution_count": 14
    }
   ],
   "source": [
    "weatherpf.head()"
   ]
  },
  {
   "source": [
    "<p>we want to combine the generation data to the weather data at the same time\n",
    "\n",
    "we are going to predict the previous hours' weather to predict the next hour \n",
    "\n",
    "i.e. weather[hour_i] will try to predict generation[hour_i]\n",
    "\n",
    "A BETTER WAY TO DO THIS: set the date_hour as the index and then just join the two df's</p>\n",
    "<pre>\n",
    "Generated = np.full((len(weatherpf), 1), math.nan)\n",
    "wi = 0 # weather index\n",
    "genInd = 0 # generation index\n",
    "# loop through all the generation\n",
    "lastWI = 0\n",
    "while genInd < len(sData):\n",
    "    added = False\n",
    "    wi = lastWI\n",
    "    while wi < len(weatherpf) and not added:\n",
    "        # hour / date matches! \n",
    "        if weatherpf['Date'][wi] == sData['Date'][genInd] and weatherpf['Hour'][wi] == sData['Hour'][genInd]:\n",
    "            Generated[wi] = sData['Generated'][genInd]\n",
    "            genInd += 1\n",
    "            lastWI = wi\n",
    "            added = True\n",
    "        else:\n",
    "            wi += 1   \n",
    "    if not added:\n",
    "        genInd += 1\n",
    "\n",
    "weatherpf['Generated'] = Generated\n",
    "    </pre>"
   ],
   "cell_type": "markdown",
   "metadata": {}
  },
  {
   "cell_type": "code",
   "execution_count": 18,
   "metadata": {},
   "outputs": [
    {
     "output_type": "execute_result",
     "data": {
      "text/plain": [
       "            date_time  Solar_average  rh    eto    etr    rso  ea_avg  precip  \\\n",
       "0 2019-07-11 13:00:00   52211.955230  18  0.029  0.033  3.472   0.848     0.0   \n",
       "1 2019-07-11 14:00:00   52612.209136  17  0.029  0.034  3.223   0.845     0.0   \n",
       "2 2019-07-11 16:00:00   42182.975794  16  0.022  0.026  2.202   0.782     0.0   \n",
       "3 2019-07-11 17:00:00   33390.124136  23  0.017  0.020  1.534   0.826     0.0   \n",
       "4 2019-07-11 18:00:00   22358.862645  18  0.011  0.013  0.828   0.857     0.0   \n",
       "\n",
       "   rh_max  rh_min  ...  winds_avg  winds_max  netrad_avg  visibilitymiles  \\\n",
       "0      20      15  ...      3.355     10.737       679.8           12.676   \n",
       "1      20      14  ...      3.355     14.093       612.8           19.884   \n",
       "2      19      13  ...      2.237     10.066       370.0           19.884   \n",
       "3      32      14  ...      1.566      9.171       234.1           19.884   \n",
       "4      22      14  ...      0.895      4.250       185.5           19.635   \n",
       "\n",
       "   surfacet1_avg  surfacet2_avg  visibilitymiles_avg  pressurekpasealevel  \\\n",
       "0           91.0           94.8               18.765                101.5   \n",
       "1           88.7           94.8               19.200                101.5   \n",
       "2           85.1           88.9               19.573                101.3   \n",
       "3           83.5           78.1               19.014                101.3   \n",
       "4           77.5           70.3               19.200                101.3   \n",
       "\n",
       "    Solar_total  Count  \n",
       "0  1.900515e+07    364  \n",
       "1  2.513928e+07    478  \n",
       "2  2.020907e+07    479  \n",
       "3  1.596492e+07    478  \n",
       "4  1.071462e+07    479  \n",
       "\n",
       "[5 rows x 37 columns]"
      ],
      "text/html": "<div>\n<style scoped>\n    .dataframe tbody tr th:only-of-type {\n        vertical-align: middle;\n    }\n\n    .dataframe tbody tr th {\n        vertical-align: top;\n    }\n\n    .dataframe thead th {\n        text-align: right;\n    }\n</style>\n<table border=\"1\" class=\"dataframe\">\n  <thead>\n    <tr style=\"text-align: right;\">\n      <th></th>\n      <th>date_time</th>\n      <th>Solar_average</th>\n      <th>rh</th>\n      <th>eto</th>\n      <th>etr</th>\n      <th>rso</th>\n      <th>ea_avg</th>\n      <th>precip</th>\n      <th>rh_max</th>\n      <th>rh_min</th>\n      <th>...</th>\n      <th>winds_avg</th>\n      <th>winds_max</th>\n      <th>netrad_avg</th>\n      <th>visibilitymiles</th>\n      <th>surfacet1_avg</th>\n      <th>surfacet2_avg</th>\n      <th>visibilitymiles_avg</th>\n      <th>pressurekpasealevel</th>\n      <th>Solar_total</th>\n      <th>Count</th>\n    </tr>\n  </thead>\n  <tbody>\n    <tr>\n      <th>0</th>\n      <td>2019-07-11 13:00:00</td>\n      <td>52211.955230</td>\n      <td>18</td>\n      <td>0.029</td>\n      <td>0.033</td>\n      <td>3.472</td>\n      <td>0.848</td>\n      <td>0.0</td>\n      <td>20</td>\n      <td>15</td>\n      <td>...</td>\n      <td>3.355</td>\n      <td>10.737</td>\n      <td>679.8</td>\n      <td>12.676</td>\n      <td>91.0</td>\n      <td>94.8</td>\n      <td>18.765</td>\n      <td>101.5</td>\n      <td>1.900515e+07</td>\n      <td>364</td>\n    </tr>\n    <tr>\n      <th>1</th>\n      <td>2019-07-11 14:00:00</td>\n      <td>52612.209136</td>\n      <td>17</td>\n      <td>0.029</td>\n      <td>0.034</td>\n      <td>3.223</td>\n      <td>0.845</td>\n      <td>0.0</td>\n      <td>20</td>\n      <td>14</td>\n      <td>...</td>\n      <td>3.355</td>\n      <td>14.093</td>\n      <td>612.8</td>\n      <td>19.884</td>\n      <td>88.7</td>\n      <td>94.8</td>\n      <td>19.200</td>\n      <td>101.5</td>\n      <td>2.513928e+07</td>\n      <td>478</td>\n    </tr>\n    <tr>\n      <th>2</th>\n      <td>2019-07-11 16:00:00</td>\n      <td>42182.975794</td>\n      <td>16</td>\n      <td>0.022</td>\n      <td>0.026</td>\n      <td>2.202</td>\n      <td>0.782</td>\n      <td>0.0</td>\n      <td>19</td>\n      <td>13</td>\n      <td>...</td>\n      <td>2.237</td>\n      <td>10.066</td>\n      <td>370.0</td>\n      <td>19.884</td>\n      <td>85.1</td>\n      <td>88.9</td>\n      <td>19.573</td>\n      <td>101.3</td>\n      <td>2.020907e+07</td>\n      <td>479</td>\n    </tr>\n    <tr>\n      <th>3</th>\n      <td>2019-07-11 17:00:00</td>\n      <td>33390.124136</td>\n      <td>23</td>\n      <td>0.017</td>\n      <td>0.020</td>\n      <td>1.534</td>\n      <td>0.826</td>\n      <td>0.0</td>\n      <td>32</td>\n      <td>14</td>\n      <td>...</td>\n      <td>1.566</td>\n      <td>9.171</td>\n      <td>234.1</td>\n      <td>19.884</td>\n      <td>83.5</td>\n      <td>78.1</td>\n      <td>19.014</td>\n      <td>101.3</td>\n      <td>1.596492e+07</td>\n      <td>478</td>\n    </tr>\n    <tr>\n      <th>4</th>\n      <td>2019-07-11 18:00:00</td>\n      <td>22358.862645</td>\n      <td>18</td>\n      <td>0.011</td>\n      <td>0.013</td>\n      <td>0.828</td>\n      <td>0.857</td>\n      <td>0.0</td>\n      <td>22</td>\n      <td>14</td>\n      <td>...</td>\n      <td>0.895</td>\n      <td>4.250</td>\n      <td>185.5</td>\n      <td>19.635</td>\n      <td>77.5</td>\n      <td>70.3</td>\n      <td>19.200</td>\n      <td>101.3</td>\n      <td>1.071462e+07</td>\n      <td>479</td>\n    </tr>\n  </tbody>\n</table>\n<p>5 rows × 37 columns</p>\n</div>"
     },
     "metadata": {},
     "execution_count": 18
    }
   ],
   "source": [
    "combinedData = pd.merge_asof(sData, weatherpf, on='date_time')\n",
    "combinedData = pd.merge_asof(combinedData, sDataTotal, on='date_time')\n",
    "combinedData.head()"
   ]
  },
  {
   "source": [
    "## Add astral data to input\n"
   ],
   "cell_type": "markdown",
   "metadata": {}
  },
  {
   "cell_type": "code",
   "execution_count": 16,
   "metadata": {},
   "outputs": [],
   "source": [
    "# datetime.strptime(weatherpf['date_time'][12], \"%Y-%m-%d %H:%M:%S\")"
   ]
  },
  {
   "cell_type": "code",
   "execution_count": 19,
   "metadata": {},
   "outputs": [],
   "source": [
    "# use the class I wrote \n",
    "loganAstral = LoganAstral()\n",
    "# list for elevation, azimuth, zenith \n",
    "ElAzZe = []\n",
    "# type(combinedData['date_time'][0].to_pydatetime())\n",
    "for timeStamp in combinedData['date_time']:\n",
    "    dt = timeStamp.to_pydatetime()\n",
    "    ElAzZe.append(loganAstral.computeElAzZe(dt))\n"
   ]
  },
  {
   "cell_type": "code",
   "execution_count": 20,
   "metadata": {},
   "outputs": [],
   "source": [
    "elevationAzimuthZenith = np.array(ElAzZe)"
   ]
  },
  {
   "cell_type": "code",
   "execution_count": 21,
   "metadata": {},
   "outputs": [],
   "source": [
    "combinedData['Elevation'] = elevationAzimuthZenith[:, 0]\n",
    "combinedData['Azimuth'] = elevationAzimuthZenith[:, 1]\n",
    "combinedData['Zenith'] = elevationAzimuthZenith[:, 2] "
   ]
  },
  {
   "cell_type": "code",
   "execution_count": 22,
   "metadata": {},
   "outputs": [
    {
     "output_type": "execute_result",
     "data": {
      "text/plain": [
       "5575"
      ]
     },
     "metadata": {},
     "execution_count": 22
    }
   ],
   "source": [
    "len(combinedData)"
   ]
  },
  {
   "cell_type": "code",
   "execution_count": 23,
   "metadata": {},
   "outputs": [],
   "source": [
    "# we will drop the date, but lets keep the month, hour of day, and day of month\n",
    "combinedData['Month'] = combinedData['date_time'].apply(lambda dt: dt.month)\n",
    "combinedData['Day'] = combinedData['date_time'].apply(lambda dt: dt.day)\n",
    "combinedData['Hour'] = combinedData['date_time'].apply(lambda dt: dt.hour)\n",
    "combinedData.fillna(0, inplace=True)"
   ]
  },
  {
   "cell_type": "code",
   "execution_count": 24,
   "metadata": {},
   "outputs": [],
   "source": [
    "# save as csv for convienience/accessibility \n",
    "fname = '/Users/brad/Desktop/CS6620/Project/Data/combined_processed_data.csv'\n",
    "combinedData.to_csv(fname)"
   ]
  },
  {
   "source": [
    "<pre> # Save data without scaling NOn\n",
    "# truth = MainDf['Generated']\n",
    "# MainDf.drop('Generated', axis=1, inplace=True)\n",
    "MainDf.dropna(axis=1, inplace=True)\n",
    "dataNonScaled = MainDf.to_numpy()\n",
    "# truthNonScaled = truth.to_numpy()\n",
    "\n",
    "data_filename = '/Users/brad/Desktop/CS6620/Project/Data/nonAdjustedData.npy' \n",
    "# truth_filename = '/Users/brad/Desktop/CS6620/Project/Data/nonScaledTruthV2.npy' \n",
    "np.save(data_filename, dataNonScaled)\n",
    "# np.save(truth_filename, truthNonScaled)\n",
    "</pre>"
   ],
   "cell_type": "markdown",
   "metadata": {}
  }
 ]
}