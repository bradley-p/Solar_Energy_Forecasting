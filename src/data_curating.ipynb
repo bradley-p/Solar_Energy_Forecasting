{
 "metadata": {
  "language_info": {
   "codemirror_mode": {
    "name": "ipython",
    "version": 3
   },
   "file_extension": ".py",
   "mimetype": "text/x-python",
   "name": "python",
   "nbconvert_exporter": "python",
   "pygments_lexer": "ipython3",
   "version": "3.8.5-final"
  },
  "orig_nbformat": 2,
  "kernelspec": {
   "name": "python3",
   "display_name": "Python 3.8.5 64-bit",
   "metadata": {
    "interpreter": {
     "hash": "082e9a3bcad0a290d0001e938aa60b99250c6c2ef33a923c00b70f9826caf4b7"
    }
   }
  }
 },
 "nbformat": 4,
 "nbformat_minor": 2,
 "cells": [
  {
   "source": [
    "%matplotlib widget\n",
    "import numpy as np\n",
    "import matplotlib.pyplot as plt \n",
    "import pandas as pd \n",
    "import datetime\n",
    "import re\n",
    "from mlxtend.preprocessing import minmax_scaling\n",
    "import pickle\n",
    "import math\n",
    "from sklearn import preprocessing"
   ],
   "cell_type": "code",
   "metadata": {},
   "execution_count": 1,
   "outputs": []
  },
  {
   "cell_type": "code",
   "execution_count": 2,
   "metadata": {},
   "outputs": [],
   "source": [
    "solar_data_filename = '/Users/brad/Desktop/CS6620/Project/Data/Sample.csv' \n",
    "weather_data_filename = '/Users/brad/Desktop/CS6620/Project/Data/weather.csv' "
   ]
  },
  {
   "cell_type": "code",
   "execution_count": 3,
   "metadata": {},
   "outputs": [],
   "source": [
    "solarData = pd.read_csv(solar_data_filename, sep=',')"
   ]
  },
  {
   "cell_type": "code",
   "execution_count": 4,
   "metadata": {},
   "outputs": [
    {
     "output_type": "execute_result",
     "data": {
      "text/plain": [
       "Index(['Unnamed: 0', 'TIME', 'Solar_power', 'Meter_value'], dtype='object')"
      ]
     },
     "metadata": {},
     "execution_count": 4
    }
   ],
   "source": [
    "solarData.columns"
   ]
  },
  {
   "cell_type": "code",
   "execution_count": 5,
   "metadata": {},
   "outputs": [
    {
     "output_type": "execute_result",
     "data": {
      "text/plain": [
       "   Unnamed: 0                 TIME   Solar_power  Meter_value\n",
       "0           0  2019-07-11 13:11:55 -5.366741e+08     5.342115\n",
       "1           1  2019-07-11 13:13:30 -5.365808e+08     5.352649\n",
       "2           2  2019-07-11 13:13:38 -5.368667e+08     5.352649\n",
       "3           3  2019-07-11 13:13:45 -5.369603e+08     5.352649\n",
       "4           4  2019-07-11 13:13:53 -5.371526e+08     5.352649"
      ],
      "text/html": "<div>\n<style scoped>\n    .dataframe tbody tr th:only-of-type {\n        vertical-align: middle;\n    }\n\n    .dataframe tbody tr th {\n        vertical-align: top;\n    }\n\n    .dataframe thead th {\n        text-align: right;\n    }\n</style>\n<table border=\"1\" class=\"dataframe\">\n  <thead>\n    <tr style=\"text-align: right;\">\n      <th></th>\n      <th>Unnamed: 0</th>\n      <th>TIME</th>\n      <th>Solar_power</th>\n      <th>Meter_value</th>\n    </tr>\n  </thead>\n  <tbody>\n    <tr>\n      <th>0</th>\n      <td>0</td>\n      <td>2019-07-11 13:11:55</td>\n      <td>-5.366741e+08</td>\n      <td>5.342115</td>\n    </tr>\n    <tr>\n      <th>1</th>\n      <td>1</td>\n      <td>2019-07-11 13:13:30</td>\n      <td>-5.365808e+08</td>\n      <td>5.352649</td>\n    </tr>\n    <tr>\n      <th>2</th>\n      <td>2</td>\n      <td>2019-07-11 13:13:38</td>\n      <td>-5.368667e+08</td>\n      <td>5.352649</td>\n    </tr>\n    <tr>\n      <th>3</th>\n      <td>3</td>\n      <td>2019-07-11 13:13:45</td>\n      <td>-5.369603e+08</td>\n      <td>5.352649</td>\n    </tr>\n    <tr>\n      <th>4</th>\n      <td>4</td>\n      <td>2019-07-11 13:13:53</td>\n      <td>-5.371526e+08</td>\n      <td>5.352649</td>\n    </tr>\n  </tbody>\n</table>\n</div>"
     },
     "metadata": {},
     "execution_count": 5
    }
   ],
   "source": [
    "solarData.head()"
   ]
  },
  {
   "cell_type": "code",
   "execution_count": 6,
   "metadata": {},
   "outputs": [],
   "source": [
    "# times = datetime.datetime.strptime(solarData['TIME'][0], '%Y-%m-%d %H:%M:%S').time()"
   ]
  },
  {
   "cell_type": "code",
   "execution_count": 7,
   "metadata": {},
   "outputs": [],
   "source": [
    "# Seperate date and time using datetime from pandas \n",
    "solarData['Date']= pd.to_datetime(solarData['TIME']).dt.date\n",
    "solarData['Time']= pd.to_datetime(solarData['TIME']).dt.time"
   ]
  },
  {
   "cell_type": "code",
   "execution_count": 8,
   "metadata": {},
   "outputs": [
    {
     "output_type": "execute_result",
     "data": {
      "text/plain": [
       "    Solar_power        Date      Time\n",
       "0 -5.366741e+08  2019-07-11  13:11:55\n",
       "1 -5.365808e+08  2019-07-11  13:13:30\n",
       "2 -5.368667e+08  2019-07-11  13:13:38\n",
       "3 -5.369603e+08  2019-07-11  13:13:45\n",
       "4 -5.371526e+08  2019-07-11  13:13:53"
      ],
      "text/html": "<div>\n<style scoped>\n    .dataframe tbody tr th:only-of-type {\n        vertical-align: middle;\n    }\n\n    .dataframe tbody tr th {\n        vertical-align: top;\n    }\n\n    .dataframe thead th {\n        text-align: right;\n    }\n</style>\n<table border=\"1\" class=\"dataframe\">\n  <thead>\n    <tr style=\"text-align: right;\">\n      <th></th>\n      <th>Solar_power</th>\n      <th>Date</th>\n      <th>Time</th>\n    </tr>\n  </thead>\n  <tbody>\n    <tr>\n      <th>0</th>\n      <td>-5.366741e+08</td>\n      <td>2019-07-11</td>\n      <td>13:11:55</td>\n    </tr>\n    <tr>\n      <th>1</th>\n      <td>-5.365808e+08</td>\n      <td>2019-07-11</td>\n      <td>13:13:30</td>\n    </tr>\n    <tr>\n      <th>2</th>\n      <td>-5.368667e+08</td>\n      <td>2019-07-11</td>\n      <td>13:13:38</td>\n    </tr>\n    <tr>\n      <th>3</th>\n      <td>-5.369603e+08</td>\n      <td>2019-07-11</td>\n      <td>13:13:45</td>\n    </tr>\n    <tr>\n      <th>4</th>\n      <td>-5.371526e+08</td>\n      <td>2019-07-11</td>\n      <td>13:13:53</td>\n    </tr>\n  </tbody>\n</table>\n</div>"
     },
     "metadata": {},
     "execution_count": 8
    }
   ],
   "source": [
    "# We Don't need the TIME or meter_value anymore \n",
    "solarData = solarData.drop(['TIME', 'Meter_value', 'Unnamed: 0'], axis=1)\n",
    "solarData.head()"
   ]
  },
  {
   "cell_type": "code",
   "execution_count": 9,
   "metadata": {},
   "outputs": [],
   "source": [
    "# According to Shaju, from ASPIRE, negative values are corrupted\n",
    "solarData['Solar_power'] = solarData['Solar_power'].apply(lambda val : val if val > 0 else math.nan)"
   ]
  },
  {
   "cell_type": "code",
   "execution_count": 10,
   "metadata": {},
   "outputs": [
    {
     "output_type": "execute_result",
     "data": {
      "text/plain": [
       "   Solar_power        Date      Time\n",
       "0          NaN  2019-07-11  13:11:55\n",
       "1          NaN  2019-07-11  13:13:30\n",
       "2          NaN  2019-07-11  13:13:38\n",
       "3          NaN  2019-07-11  13:13:45\n",
       "4          NaN  2019-07-11  13:13:53"
      ],
      "text/html": "<div>\n<style scoped>\n    .dataframe tbody tr th:only-of-type {\n        vertical-align: middle;\n    }\n\n    .dataframe tbody tr th {\n        vertical-align: top;\n    }\n\n    .dataframe thead th {\n        text-align: right;\n    }\n</style>\n<table border=\"1\" class=\"dataframe\">\n  <thead>\n    <tr style=\"text-align: right;\">\n      <th></th>\n      <th>Solar_power</th>\n      <th>Date</th>\n      <th>Time</th>\n    </tr>\n  </thead>\n  <tbody>\n    <tr>\n      <th>0</th>\n      <td>NaN</td>\n      <td>2019-07-11</td>\n      <td>13:11:55</td>\n    </tr>\n    <tr>\n      <th>1</th>\n      <td>NaN</td>\n      <td>2019-07-11</td>\n      <td>13:13:30</td>\n    </tr>\n    <tr>\n      <th>2</th>\n      <td>NaN</td>\n      <td>2019-07-11</td>\n      <td>13:13:38</td>\n    </tr>\n    <tr>\n      <th>3</th>\n      <td>NaN</td>\n      <td>2019-07-11</td>\n      <td>13:13:45</td>\n    </tr>\n    <tr>\n      <th>4</th>\n      <td>NaN</td>\n      <td>2019-07-11</td>\n      <td>13:13:53</td>\n    </tr>\n  </tbody>\n</table>\n</div>"
     },
     "metadata": {},
     "execution_count": 10
    }
   ],
   "source": [
    "solarData.head()"
   ]
  },
  {
   "cell_type": "code",
   "execution_count": 11,
   "metadata": {},
   "outputs": [
    {
     "output_type": "stream",
     "name": "stdout",
     "text": [
      "740.6687727956357\n95620.47706058336\n17417.057682456667\n\n21697.783441652493\n260095452.22527274\n16127.475072846113\n"
     ]
    }
   ],
   "source": [
    "print(solarData['Solar_power'].min())\n",
    "print(solarData['Solar_power'].max())\n",
    "print(solarData['Solar_power'].median())\n",
    "print()\n",
    "print(solarData['Solar_power'].mean())\n",
    "print(solarData['Solar_power'].var())\n",
    "print(solarData['Solar_power'].std())"
   ]
  },
  {
   "cell_type": "code",
   "execution_count": 12,
   "metadata": {},
   "outputs": [
    {
     "output_type": "execute_result",
     "data": {
      "text/plain": [
       "1375826"
      ]
     },
     "metadata": {},
     "execution_count": 12
    }
   ],
   "source": [
    "len( solarData['Solar_power'] )"
   ]
  },
  {
   "cell_type": "code",
   "execution_count": 13,
   "metadata": {},
   "outputs": [
    {
     "output_type": "execute_result",
     "data": {
      "text/plain": [
       "1375826"
      ]
     },
     "metadata": {},
     "execution_count": 13
    }
   ],
   "source": [
    "len( solarData['Date'] )"
   ]
  },
  {
   "cell_type": "code",
   "execution_count": 14,
   "metadata": {},
   "outputs": [
    {
     "output_type": "display_data",
     "data": {
      "text/plain": "Canvas(toolbar=Toolbar(toolitems=[('Home', 'Reset original view', 'home', 'home'), ('Back', 'Back to previous …",
      "application/vnd.jupyter.widget-view+json": {
       "version_major": 2,
       "version_minor": 0,
       "model_id": "22e3b4fe6d874c8890f865e7607dda64"
      }
     },
     "metadata": {}
    }
   ],
   "source": [
    "# Plot a histogram of individual generation to get a feel for the distribution\n",
    "x = np.arange(1375826)\n",
    "plt.figure()\n",
    "plt.hist(solarData['Solar_power'], bins=30, edgecolor='black', linewidth=1)\n",
    "plt.xlabel(\"power output (watts\")\n",
    "plt.ylabel(\"Number of occurences\")\n",
    "plt.show()"
   ]
  },
  {
   "cell_type": "code",
   "execution_count": 15,
   "metadata": {},
   "outputs": [],
   "source": [
    "df = pd.DataFrame( columns=['Date', 'Hour', 'Generation'])"
   ]
  },
  {
   "cell_type": "code",
   "execution_count": 16,
   "metadata": {},
   "outputs": [
    {
     "output_type": "execute_result",
     "data": {
      "text/plain": [
       "            0 Date Generation Hour\n",
       "0  2019-07-11  NaN        NaN  NaN\n",
       "1          14  NaN        NaN  NaN\n",
       "2    68735132  NaN        NaN  NaN"
      ],
      "text/html": "<div>\n<style scoped>\n    .dataframe tbody tr th:only-of-type {\n        vertical-align: middle;\n    }\n\n    .dataframe tbody tr th {\n        vertical-align: top;\n    }\n\n    .dataframe thead th {\n        text-align: right;\n    }\n</style>\n<table border=\"1\" class=\"dataframe\">\n  <thead>\n    <tr style=\"text-align: right;\">\n      <th></th>\n      <th>0</th>\n      <th>Date</th>\n      <th>Generation</th>\n      <th>Hour</th>\n    </tr>\n  </thead>\n  <tbody>\n    <tr>\n      <th>0</th>\n      <td>2019-07-11</td>\n      <td>NaN</td>\n      <td>NaN</td>\n      <td>NaN</td>\n    </tr>\n    <tr>\n      <th>1</th>\n      <td>14</td>\n      <td>NaN</td>\n      <td>NaN</td>\n      <td>NaN</td>\n    </tr>\n    <tr>\n      <th>2</th>\n      <td>68735132</td>\n      <td>NaN</td>\n      <td>NaN</td>\n      <td>NaN</td>\n    </tr>\n  </tbody>\n</table>\n</div>"
     },
     "metadata": {},
     "execution_count": 16
    }
   ],
   "source": [
    "df.append([solarData['Date'][0], 14, 68735132])"
   ]
  },
  {
   "cell_type": "code",
   "execution_count": 17,
   "metadata": {},
   "outputs": [],
   "source": [
    "# Now need to accumulate power per hour \n",
    "hour = -1\n",
    "# This will contain a list of tuples where 0th index is date, 1st is hour of day (24 - hour based), 2nd is total generation per hour\n",
    "date_hour_generation = [] \n",
    "\n",
    "# This is how many hours had at least 1 corrupted/garbage value \n",
    "numAdjusted = 0\n",
    "\n",
    "# loop through all the data, \n",
    "# NaN values in an hour will be replaced with the average for the non-NaN values in the hour \n",
    "i = 0\n",
    "while i < len(solarData['Solar_power']):\n",
    "    hourTotal = 0\n",
    "    numNaN = 0\n",
    "    numTotal = 0\n",
    "    hour = solarData['Time'][i].hour\n",
    "    # get statistics for this single hour \n",
    "    while i < len(solarData['Solar_power']) and hour == solarData['Time'][i].hour:\n",
    "        numTotal += 1 \n",
    "        if math.isnan(solarData['Solar_power'][i]):\n",
    "            numNaN += 1 \n",
    "        else: \n",
    "            hourTotal += solarData['Solar_power'][i]\n",
    "        i += 1\n",
    "    # end while inner \n",
    "    if numNaN == 0:\n",
    "        date_hour_generation.append((solarData['Date'][i -1], hour, hourTotal))\n",
    "    elif numNaN == numTotal: # all values of an hour are garbage, skip \n",
    "        continue\n",
    "    else:\n",
    "        numAdjusted += 1 \n",
    "        notNaN = numTotal - numNaN\n",
    "        avg = hourTotal / notNaN\n",
    "        hourTotal = avg * numTotal \n",
    "        date_hour_generation.append((solarData['Date'][i-1], hour, hourTotal))\n",
    "\n",
    "# end while outer \n",
    "\n"
   ]
  },
  {
   "cell_type": "code",
   "execution_count": 18,
   "metadata": {},
   "outputs": [
    {
     "output_type": "stream",
     "name": "stdout",
     "text": [
      "Number of hours adjusted: 2477\nTotal number of hours computed: 5601\nPercentage of hours with some degree of adjustment: 44.22%\n"
     ]
    }
   ],
   "source": [
    "print(f'Number of hours adjusted: {numAdjusted}')\n",
    "print(f'Total number of hours computed: {len(date_hour_generation)}')\n",
    "print(f'Percentage of hours with some degree of adjustment: {( (numAdjusted / len(date_hour_generation) )* 100 ) :.2f}%')"
   ]
  },
  {
   "cell_type": "code",
   "execution_count": 19,
   "metadata": {},
   "outputs": [
    {
     "output_type": "execute_result",
     "data": {
      "text/plain": [
       "            Date  Hour      Generated\n",
       "5596  2021-03-08    17  883388.264795\n",
       "5597  2021-03-08    18  535842.293230\n",
       "5598  2021-03-09     8  528051.160382\n",
       "5599  2021-03-09     9  557653.033407\n",
       "5600  2021-03-09    10  407960.580239"
      ],
      "text/html": "<div>\n<style scoped>\n    .dataframe tbody tr th:only-of-type {\n        vertical-align: middle;\n    }\n\n    .dataframe tbody tr th {\n        vertical-align: top;\n    }\n\n    .dataframe thead th {\n        text-align: right;\n    }\n</style>\n<table border=\"1\" class=\"dataframe\">\n  <thead>\n    <tr style=\"text-align: right;\">\n      <th></th>\n      <th>Date</th>\n      <th>Hour</th>\n      <th>Generated</th>\n    </tr>\n  </thead>\n  <tbody>\n    <tr>\n      <th>5596</th>\n      <td>2021-03-08</td>\n      <td>17</td>\n      <td>883388.264795</td>\n    </tr>\n    <tr>\n      <th>5597</th>\n      <td>2021-03-08</td>\n      <td>18</td>\n      <td>535842.293230</td>\n    </tr>\n    <tr>\n      <th>5598</th>\n      <td>2021-03-09</td>\n      <td>8</td>\n      <td>528051.160382</td>\n    </tr>\n    <tr>\n      <th>5599</th>\n      <td>2021-03-09</td>\n      <td>9</td>\n      <td>557653.033407</td>\n    </tr>\n    <tr>\n      <th>5600</th>\n      <td>2021-03-09</td>\n      <td>10</td>\n      <td>407960.580239</td>\n    </tr>\n  </tbody>\n</table>\n</div>"
     },
     "metadata": {},
     "execution_count": 19
    }
   ],
   "source": [
    "# df is the cumulated generation data frame \n",
    "df = pd.DataFrame(date_hour_generation, columns=['Date','Hour', 'Generated'])\n",
    "df.tail()"
   ]
  },
  {
   "cell_type": "code",
   "execution_count": 20,
   "metadata": {},
   "outputs": [
    {
     "output_type": "execute_result",
     "data": {
      "text/plain": [
       "         Date  Hour     Generated\n",
       "0  2019-07-11    13  1.900515e+07\n",
       "1  2019-07-11    14  2.513928e+07\n",
       "2  2019-07-11    16  2.020907e+07\n",
       "3  2019-07-11    17  1.596492e+07\n",
       "4  2019-07-11    18  1.071462e+07"
      ],
      "text/html": "<div>\n<style scoped>\n    .dataframe tbody tr th:only-of-type {\n        vertical-align: middle;\n    }\n\n    .dataframe tbody tr th {\n        vertical-align: top;\n    }\n\n    .dataframe thead th {\n        text-align: right;\n    }\n</style>\n<table border=\"1\" class=\"dataframe\">\n  <thead>\n    <tr style=\"text-align: right;\">\n      <th></th>\n      <th>Date</th>\n      <th>Hour</th>\n      <th>Generated</th>\n    </tr>\n  </thead>\n  <tbody>\n    <tr>\n      <th>0</th>\n      <td>2019-07-11</td>\n      <td>13</td>\n      <td>1.900515e+07</td>\n    </tr>\n    <tr>\n      <th>1</th>\n      <td>2019-07-11</td>\n      <td>14</td>\n      <td>2.513928e+07</td>\n    </tr>\n    <tr>\n      <th>2</th>\n      <td>2019-07-11</td>\n      <td>16</td>\n      <td>2.020907e+07</td>\n    </tr>\n    <tr>\n      <th>3</th>\n      <td>2019-07-11</td>\n      <td>17</td>\n      <td>1.596492e+07</td>\n    </tr>\n    <tr>\n      <th>4</th>\n      <td>2019-07-11</td>\n      <td>18</td>\n      <td>1.071462e+07</td>\n    </tr>\n  </tbody>\n</table>\n</div>"
     },
     "metadata": {},
     "execution_count": 20
    }
   ],
   "source": [
    "df.head()"
   ]
  },
  {
   "cell_type": "code",
   "execution_count": 21,
   "metadata": {},
   "outputs": [
    {
     "output_type": "display_data",
     "data": {
      "text/plain": "Canvas(toolbar=Toolbar(toolitems=[('Home', 'Reset original view', 'home', 'home'), ('Back', 'Back to previous …",
      "application/vnd.jupyter.widget-view+json": {
       "version_major": 2,
       "version_minor": 0,
       "model_id": "18f48749389649378fb9ddc977536c0f"
      }
     },
     "metadata": {}
    }
   ],
   "source": [
    "x = np.arange(5601)\n",
    "plt.figure()\n",
    "plt.hist(df['Generated'], bins=30, edgecolor='black', linewidth=1)\n",
    "plt.xlabel(\"power output\")\n",
    "plt.ylabel(\"Number of occurences\")\n",
    "plt.show()"
   ]
  },
  {
   "cell_type": "code",
   "execution_count": 22,
   "metadata": {},
   "outputs": [
    {
     "output_type": "stream",
     "name": "stdout",
     "text": [
      "6801.6095491037695\n25803318.484865587\n2854785.925450852\n\n4549084.9332789155\n21611058285747.918\n4648769.545347233\n"
     ]
    }
   ],
   "source": [
    "print(df['Generated'].min())\n",
    "print(df['Generated'].max())\n",
    "print(df['Generated'].median())\n",
    "print()\n",
    "print(df['Generated'].mean())\n",
    "print(df['Generated'].var())\n",
    "print(df['Generated'].std())"
   ]
  },
  {
   "cell_type": "code",
   "execution_count": 23,
   "metadata": {},
   "outputs": [
    {
     "output_type": "execute_result",
     "data": {
      "text/plain": [
       "Index(['date_time', 'station_id', 'rh', 'eto', 'etr', 'rso', 'ea_avg',\n",
       "       'precip', 'rh_max', 'rh_min', 'rh_tmn', 'rh_tmx', 'td_avg', 'td_max',\n",
       "       'td_min', 'td_tmn', 'td_tmx', 'co2_avg', 'ppf_avg', 'solarmj',\n",
       "       'wet_pct', 'airt_avg', 'airt_max', 'airt_min', 'airt_tmn', 'airt_tmx',\n",
       "       'lwdn_avg', 'lwup_avg', 'pressure', 'swdn_avg', 'swup_avg', 'windd_sd',\n",
       "       'windd_avg', 'winds_avg', 'winds_max', 'winds_tmx', 'netrad_avg',\n",
       "       'fan_rmp_avg', 'visibilitymiles', 'batt_volt_min', 'surfacet1_avg',\n",
       "       'surfacet2_avg', 'visibilitymiles_avg', 'pressurekpasealevel'],\n",
       "      dtype='object')"
      ]
     },
     "metadata": {},
     "execution_count": 23
    }
   ],
   "source": [
    "weatherpf = pd.read_csv(weather_data_filename, sep=',')\n",
    "weatherpf.columns"
   ]
  },
  {
   "cell_type": "code",
   "execution_count": 24,
   "metadata": {},
   "outputs": [
    {
     "output_type": "execute_result",
     "data": {
      "text/plain": [
       "             date_time  station_id  rh    eto    etr  rso  ea_avg  precip  \\\n",
       "0  2019-07-11 00:59:59     1279257  30  0.002  0.003  0.0   0.741     0.0   \n",
       "1  2019-07-11 01:59:59     1279257  31  0.002  0.003  0.0   0.732     0.0   \n",
       "2  2019-07-11 02:59:59     1279257  32  0.001  0.002  0.0   0.716     0.0   \n",
       "3  2019-07-11 03:59:59     1279257  32  0.002  0.002  0.0   0.703     0.0   \n",
       "4  2019-07-11 04:59:59     1279257  32  0.001  0.002  0.0   0.686     0.0   \n",
       "\n",
       "   rh_max  rh_min  ... winds_max           winds_tmx  netrad_avg  fan_rmp_avg  \\\n",
       "0      31      29  ...    18.119  11JUL2019:00:47:39      -63.37         4252   \n",
       "1      32      30  ...    13.198  11JUL2019:01:56:17      -61.05         4263   \n",
       "2      33      30  ...    17.448  11JUL2019:02:41:18      -61.61         4275   \n",
       "3      33      30  ...    16.553  11JUL2019:03:02:49      -60.99         4241   \n",
       "4      33      30  ...    14.987  11JUL2019:04:52:07      -60.79         4231   \n",
       "\n",
       "   visibilitymiles batt_volt_min surfacet1_avg  surfacet2_avg  \\\n",
       "0           19.884         11.79          60.8           60.3   \n",
       "1           19.884         11.79          58.5           58.3   \n",
       "2           19.884         11.82          58.3           58.1   \n",
       "3           19.635         11.78          57.6           57.4   \n",
       "4           19.884         11.81          56.8           56.8   \n",
       "\n",
       "   visibilitymiles_avg  pressurekpasealevel  \n",
       "0               19.822                101.6  \n",
       "1               19.822                101.6  \n",
       "2               19.822                101.6  \n",
       "3               19.822                101.6  \n",
       "4               19.884                101.7  \n",
       "\n",
       "[5 rows x 44 columns]"
      ],
      "text/html": "<div>\n<style scoped>\n    .dataframe tbody tr th:only-of-type {\n        vertical-align: middle;\n    }\n\n    .dataframe tbody tr th {\n        vertical-align: top;\n    }\n\n    .dataframe thead th {\n        text-align: right;\n    }\n</style>\n<table border=\"1\" class=\"dataframe\">\n  <thead>\n    <tr style=\"text-align: right;\">\n      <th></th>\n      <th>date_time</th>\n      <th>station_id</th>\n      <th>rh</th>\n      <th>eto</th>\n      <th>etr</th>\n      <th>rso</th>\n      <th>ea_avg</th>\n      <th>precip</th>\n      <th>rh_max</th>\n      <th>rh_min</th>\n      <th>...</th>\n      <th>winds_max</th>\n      <th>winds_tmx</th>\n      <th>netrad_avg</th>\n      <th>fan_rmp_avg</th>\n      <th>visibilitymiles</th>\n      <th>batt_volt_min</th>\n      <th>surfacet1_avg</th>\n      <th>surfacet2_avg</th>\n      <th>visibilitymiles_avg</th>\n      <th>pressurekpasealevel</th>\n    </tr>\n  </thead>\n  <tbody>\n    <tr>\n      <th>0</th>\n      <td>2019-07-11 00:59:59</td>\n      <td>1279257</td>\n      <td>30</td>\n      <td>0.002</td>\n      <td>0.003</td>\n      <td>0.0</td>\n      <td>0.741</td>\n      <td>0.0</td>\n      <td>31</td>\n      <td>29</td>\n      <td>...</td>\n      <td>18.119</td>\n      <td>11JUL2019:00:47:39</td>\n      <td>-63.37</td>\n      <td>4252</td>\n      <td>19.884</td>\n      <td>11.79</td>\n      <td>60.8</td>\n      <td>60.3</td>\n      <td>19.822</td>\n      <td>101.6</td>\n    </tr>\n    <tr>\n      <th>1</th>\n      <td>2019-07-11 01:59:59</td>\n      <td>1279257</td>\n      <td>31</td>\n      <td>0.002</td>\n      <td>0.003</td>\n      <td>0.0</td>\n      <td>0.732</td>\n      <td>0.0</td>\n      <td>32</td>\n      <td>30</td>\n      <td>...</td>\n      <td>13.198</td>\n      <td>11JUL2019:01:56:17</td>\n      <td>-61.05</td>\n      <td>4263</td>\n      <td>19.884</td>\n      <td>11.79</td>\n      <td>58.5</td>\n      <td>58.3</td>\n      <td>19.822</td>\n      <td>101.6</td>\n    </tr>\n    <tr>\n      <th>2</th>\n      <td>2019-07-11 02:59:59</td>\n      <td>1279257</td>\n      <td>32</td>\n      <td>0.001</td>\n      <td>0.002</td>\n      <td>0.0</td>\n      <td>0.716</td>\n      <td>0.0</td>\n      <td>33</td>\n      <td>30</td>\n      <td>...</td>\n      <td>17.448</td>\n      <td>11JUL2019:02:41:18</td>\n      <td>-61.61</td>\n      <td>4275</td>\n      <td>19.884</td>\n      <td>11.82</td>\n      <td>58.3</td>\n      <td>58.1</td>\n      <td>19.822</td>\n      <td>101.6</td>\n    </tr>\n    <tr>\n      <th>3</th>\n      <td>2019-07-11 03:59:59</td>\n      <td>1279257</td>\n      <td>32</td>\n      <td>0.002</td>\n      <td>0.002</td>\n      <td>0.0</td>\n      <td>0.703</td>\n      <td>0.0</td>\n      <td>33</td>\n      <td>30</td>\n      <td>...</td>\n      <td>16.553</td>\n      <td>11JUL2019:03:02:49</td>\n      <td>-60.99</td>\n      <td>4241</td>\n      <td>19.635</td>\n      <td>11.78</td>\n      <td>57.6</td>\n      <td>57.4</td>\n      <td>19.822</td>\n      <td>101.6</td>\n    </tr>\n    <tr>\n      <th>4</th>\n      <td>2019-07-11 04:59:59</td>\n      <td>1279257</td>\n      <td>32</td>\n      <td>0.001</td>\n      <td>0.002</td>\n      <td>0.0</td>\n      <td>0.686</td>\n      <td>0.0</td>\n      <td>33</td>\n      <td>30</td>\n      <td>...</td>\n      <td>14.987</td>\n      <td>11JUL2019:04:52:07</td>\n      <td>-60.79</td>\n      <td>4231</td>\n      <td>19.884</td>\n      <td>11.81</td>\n      <td>56.8</td>\n      <td>56.8</td>\n      <td>19.884</td>\n      <td>101.7</td>\n    </tr>\n  </tbody>\n</table>\n<p>5 rows × 44 columns</p>\n</div>"
     },
     "metadata": {},
     "execution_count": 24
    }
   ],
   "source": [
    "weatherpf.head()"
   ]
  },
  {
   "cell_type": "code",
   "execution_count": 25,
   "metadata": {},
   "outputs": [
    {
     "output_type": "execute_result",
     "data": {
      "text/plain": [
       "             date_time  rh    eto    etr  rso  ea_avg  precip  rh_max  rh_min  \\\n",
       "0  2019-07-11 00:59:59  30  0.002  0.003  0.0   0.741     0.0      31      29   \n",
       "1  2019-07-11 01:59:59  31  0.002  0.003  0.0   0.732     0.0      32      30   \n",
       "2  2019-07-11 02:59:59  32  0.001  0.002  0.0   0.716     0.0      33      30   \n",
       "3  2019-07-11 03:59:59  32  0.002  0.002  0.0   0.703     0.0      33      30   \n",
       "4  2019-07-11 04:59:59  32  0.001  0.002  0.0   0.686     0.0      33      30   \n",
       "\n",
       "   td_avg  ...  winds_avg  winds_max  netrad_avg  fan_rmp_avg  \\\n",
       "0    36.9  ...      5.369     18.119      -63.37         4252   \n",
       "1    36.5  ...      3.803     13.198      -61.05         4263   \n",
       "2    36.0  ...      4.698     17.448      -61.61         4275   \n",
       "3    35.4  ...      4.250     16.553      -60.99         4241   \n",
       "4    34.9  ...      4.026     14.987      -60.79         4231   \n",
       "\n",
       "   visibilitymiles  batt_volt_min  surfacet1_avg  surfacet2_avg  \\\n",
       "0           19.884          11.79           60.8           60.3   \n",
       "1           19.884          11.79           58.5           58.3   \n",
       "2           19.884          11.82           58.3           58.1   \n",
       "3           19.635          11.78           57.6           57.4   \n",
       "4           19.884          11.81           56.8           56.8   \n",
       "\n",
       "   visibilitymiles_avg  pressurekpasealevel  \n",
       "0               19.822                101.6  \n",
       "1               19.822                101.6  \n",
       "2               19.822                101.6  \n",
       "3               19.822                101.6  \n",
       "4               19.884                101.7  \n",
       "\n",
       "[5 rows x 36 columns]"
      ],
      "text/html": "<div>\n<style scoped>\n    .dataframe tbody tr th:only-of-type {\n        vertical-align: middle;\n    }\n\n    .dataframe tbody tr th {\n        vertical-align: top;\n    }\n\n    .dataframe thead th {\n        text-align: right;\n    }\n</style>\n<table border=\"1\" class=\"dataframe\">\n  <thead>\n    <tr style=\"text-align: right;\">\n      <th></th>\n      <th>date_time</th>\n      <th>rh</th>\n      <th>eto</th>\n      <th>etr</th>\n      <th>rso</th>\n      <th>ea_avg</th>\n      <th>precip</th>\n      <th>rh_max</th>\n      <th>rh_min</th>\n      <th>td_avg</th>\n      <th>...</th>\n      <th>winds_avg</th>\n      <th>winds_max</th>\n      <th>netrad_avg</th>\n      <th>fan_rmp_avg</th>\n      <th>visibilitymiles</th>\n      <th>batt_volt_min</th>\n      <th>surfacet1_avg</th>\n      <th>surfacet2_avg</th>\n      <th>visibilitymiles_avg</th>\n      <th>pressurekpasealevel</th>\n    </tr>\n  </thead>\n  <tbody>\n    <tr>\n      <th>0</th>\n      <td>2019-07-11 00:59:59</td>\n      <td>30</td>\n      <td>0.002</td>\n      <td>0.003</td>\n      <td>0.0</td>\n      <td>0.741</td>\n      <td>0.0</td>\n      <td>31</td>\n      <td>29</td>\n      <td>36.9</td>\n      <td>...</td>\n      <td>5.369</td>\n      <td>18.119</td>\n      <td>-63.37</td>\n      <td>4252</td>\n      <td>19.884</td>\n      <td>11.79</td>\n      <td>60.8</td>\n      <td>60.3</td>\n      <td>19.822</td>\n      <td>101.6</td>\n    </tr>\n    <tr>\n      <th>1</th>\n      <td>2019-07-11 01:59:59</td>\n      <td>31</td>\n      <td>0.002</td>\n      <td>0.003</td>\n      <td>0.0</td>\n      <td>0.732</td>\n      <td>0.0</td>\n      <td>32</td>\n      <td>30</td>\n      <td>36.5</td>\n      <td>...</td>\n      <td>3.803</td>\n      <td>13.198</td>\n      <td>-61.05</td>\n      <td>4263</td>\n      <td>19.884</td>\n      <td>11.79</td>\n      <td>58.5</td>\n      <td>58.3</td>\n      <td>19.822</td>\n      <td>101.6</td>\n    </tr>\n    <tr>\n      <th>2</th>\n      <td>2019-07-11 02:59:59</td>\n      <td>32</td>\n      <td>0.001</td>\n      <td>0.002</td>\n      <td>0.0</td>\n      <td>0.716</td>\n      <td>0.0</td>\n      <td>33</td>\n      <td>30</td>\n      <td>36.0</td>\n      <td>...</td>\n      <td>4.698</td>\n      <td>17.448</td>\n      <td>-61.61</td>\n      <td>4275</td>\n      <td>19.884</td>\n      <td>11.82</td>\n      <td>58.3</td>\n      <td>58.1</td>\n      <td>19.822</td>\n      <td>101.6</td>\n    </tr>\n    <tr>\n      <th>3</th>\n      <td>2019-07-11 03:59:59</td>\n      <td>32</td>\n      <td>0.002</td>\n      <td>0.002</td>\n      <td>0.0</td>\n      <td>0.703</td>\n      <td>0.0</td>\n      <td>33</td>\n      <td>30</td>\n      <td>35.4</td>\n      <td>...</td>\n      <td>4.250</td>\n      <td>16.553</td>\n      <td>-60.99</td>\n      <td>4241</td>\n      <td>19.635</td>\n      <td>11.78</td>\n      <td>57.6</td>\n      <td>57.4</td>\n      <td>19.822</td>\n      <td>101.6</td>\n    </tr>\n    <tr>\n      <th>4</th>\n      <td>2019-07-11 04:59:59</td>\n      <td>32</td>\n      <td>0.001</td>\n      <td>0.002</td>\n      <td>0.0</td>\n      <td>0.686</td>\n      <td>0.0</td>\n      <td>33</td>\n      <td>30</td>\n      <td>34.9</td>\n      <td>...</td>\n      <td>4.026</td>\n      <td>14.987</td>\n      <td>-60.79</td>\n      <td>4231</td>\n      <td>19.884</td>\n      <td>11.81</td>\n      <td>56.8</td>\n      <td>56.8</td>\n      <td>19.884</td>\n      <td>101.7</td>\n    </tr>\n  </tbody>\n</table>\n<p>5 rows × 36 columns</p>\n</div>"
     },
     "metadata": {},
     "execution_count": 25
    }
   ],
   "source": [
    "# we can't feed the date strings into our models, lets just get rid of them\n",
    "# the data is all from the same weather station. We don't need that either \n",
    "toDrop = ['station_id', 'rh_tmn', 'rh_tmx', 'td_tmn', 'td_tmx', 'airt_tmn', 'airt_tmx', 'winds_tmx']\n",
    "weatherpf = weatherpf.drop(toDrop, axis=1)\n",
    "weatherpf.head()"
   ]
  },
  {
   "cell_type": "code",
   "execution_count": 26,
   "metadata": {},
   "outputs": [],
   "source": [
    "# Seperate date and time using datetime from pandas \n",
    "weatherpf['Date']= pd.to_datetime(weatherpf['date_time']).dt.date\n",
    "weatherpf['Hour']= pd.to_datetime(weatherpf['date_time'][:]).dt.hour"
   ]
  },
  {
   "cell_type": "code",
   "execution_count": 27,
   "metadata": {},
   "outputs": [
    {
     "output_type": "execute_result",
     "data": {
      "text/plain": [
       "             date_time  rh    eto    etr  rso  ea_avg  precip  rh_max  rh_min  \\\n",
       "0  2019-07-11 00:59:59  30  0.002  0.003  0.0   0.741     0.0      31      29   \n",
       "1  2019-07-11 01:59:59  31  0.002  0.003  0.0   0.732     0.0      32      30   \n",
       "2  2019-07-11 02:59:59  32  0.001  0.002  0.0   0.716     0.0      33      30   \n",
       "3  2019-07-11 03:59:59  32  0.002  0.002  0.0   0.703     0.0      33      30   \n",
       "4  2019-07-11 04:59:59  32  0.001  0.002  0.0   0.686     0.0      33      30   \n",
       "\n",
       "   td_avg  ...  netrad_avg  fan_rmp_avg  visibilitymiles  batt_volt_min  \\\n",
       "0    36.9  ...      -63.37         4252           19.884          11.79   \n",
       "1    36.5  ...      -61.05         4263           19.884          11.79   \n",
       "2    36.0  ...      -61.61         4275           19.884          11.82   \n",
       "3    35.4  ...      -60.99         4241           19.635          11.78   \n",
       "4    34.9  ...      -60.79         4231           19.884          11.81   \n",
       "\n",
       "   surfacet1_avg  surfacet2_avg  visibilitymiles_avg  pressurekpasealevel  \\\n",
       "0           60.8           60.3               19.822                101.6   \n",
       "1           58.5           58.3               19.822                101.6   \n",
       "2           58.3           58.1               19.822                101.6   \n",
       "3           57.6           57.4               19.822                101.6   \n",
       "4           56.8           56.8               19.884                101.7   \n",
       "\n",
       "         Date  Hour  \n",
       "0  2019-07-11     0  \n",
       "1  2019-07-11     1  \n",
       "2  2019-07-11     2  \n",
       "3  2019-07-11     3  \n",
       "4  2019-07-11     4  \n",
       "\n",
       "[5 rows x 38 columns]"
      ],
      "text/html": "<div>\n<style scoped>\n    .dataframe tbody tr th:only-of-type {\n        vertical-align: middle;\n    }\n\n    .dataframe tbody tr th {\n        vertical-align: top;\n    }\n\n    .dataframe thead th {\n        text-align: right;\n    }\n</style>\n<table border=\"1\" class=\"dataframe\">\n  <thead>\n    <tr style=\"text-align: right;\">\n      <th></th>\n      <th>date_time</th>\n      <th>rh</th>\n      <th>eto</th>\n      <th>etr</th>\n      <th>rso</th>\n      <th>ea_avg</th>\n      <th>precip</th>\n      <th>rh_max</th>\n      <th>rh_min</th>\n      <th>td_avg</th>\n      <th>...</th>\n      <th>netrad_avg</th>\n      <th>fan_rmp_avg</th>\n      <th>visibilitymiles</th>\n      <th>batt_volt_min</th>\n      <th>surfacet1_avg</th>\n      <th>surfacet2_avg</th>\n      <th>visibilitymiles_avg</th>\n      <th>pressurekpasealevel</th>\n      <th>Date</th>\n      <th>Hour</th>\n    </tr>\n  </thead>\n  <tbody>\n    <tr>\n      <th>0</th>\n      <td>2019-07-11 00:59:59</td>\n      <td>30</td>\n      <td>0.002</td>\n      <td>0.003</td>\n      <td>0.0</td>\n      <td>0.741</td>\n      <td>0.0</td>\n      <td>31</td>\n      <td>29</td>\n      <td>36.9</td>\n      <td>...</td>\n      <td>-63.37</td>\n      <td>4252</td>\n      <td>19.884</td>\n      <td>11.79</td>\n      <td>60.8</td>\n      <td>60.3</td>\n      <td>19.822</td>\n      <td>101.6</td>\n      <td>2019-07-11</td>\n      <td>0</td>\n    </tr>\n    <tr>\n      <th>1</th>\n      <td>2019-07-11 01:59:59</td>\n      <td>31</td>\n      <td>0.002</td>\n      <td>0.003</td>\n      <td>0.0</td>\n      <td>0.732</td>\n      <td>0.0</td>\n      <td>32</td>\n      <td>30</td>\n      <td>36.5</td>\n      <td>...</td>\n      <td>-61.05</td>\n      <td>4263</td>\n      <td>19.884</td>\n      <td>11.79</td>\n      <td>58.5</td>\n      <td>58.3</td>\n      <td>19.822</td>\n      <td>101.6</td>\n      <td>2019-07-11</td>\n      <td>1</td>\n    </tr>\n    <tr>\n      <th>2</th>\n      <td>2019-07-11 02:59:59</td>\n      <td>32</td>\n      <td>0.001</td>\n      <td>0.002</td>\n      <td>0.0</td>\n      <td>0.716</td>\n      <td>0.0</td>\n      <td>33</td>\n      <td>30</td>\n      <td>36.0</td>\n      <td>...</td>\n      <td>-61.61</td>\n      <td>4275</td>\n      <td>19.884</td>\n      <td>11.82</td>\n      <td>58.3</td>\n      <td>58.1</td>\n      <td>19.822</td>\n      <td>101.6</td>\n      <td>2019-07-11</td>\n      <td>2</td>\n    </tr>\n    <tr>\n      <th>3</th>\n      <td>2019-07-11 03:59:59</td>\n      <td>32</td>\n      <td>0.002</td>\n      <td>0.002</td>\n      <td>0.0</td>\n      <td>0.703</td>\n      <td>0.0</td>\n      <td>33</td>\n      <td>30</td>\n      <td>35.4</td>\n      <td>...</td>\n      <td>-60.99</td>\n      <td>4241</td>\n      <td>19.635</td>\n      <td>11.78</td>\n      <td>57.6</td>\n      <td>57.4</td>\n      <td>19.822</td>\n      <td>101.6</td>\n      <td>2019-07-11</td>\n      <td>3</td>\n    </tr>\n    <tr>\n      <th>4</th>\n      <td>2019-07-11 04:59:59</td>\n      <td>32</td>\n      <td>0.001</td>\n      <td>0.002</td>\n      <td>0.0</td>\n      <td>0.686</td>\n      <td>0.0</td>\n      <td>33</td>\n      <td>30</td>\n      <td>34.9</td>\n      <td>...</td>\n      <td>-60.79</td>\n      <td>4231</td>\n      <td>19.884</td>\n      <td>11.81</td>\n      <td>56.8</td>\n      <td>56.8</td>\n      <td>19.884</td>\n      <td>101.7</td>\n      <td>2019-07-11</td>\n      <td>4</td>\n    </tr>\n  </tbody>\n</table>\n<p>5 rows × 38 columns</p>\n</div>"
     },
     "metadata": {},
     "execution_count": 27
    }
   ],
   "source": [
    "weatherpf.head()"
   ]
  },
  {
   "cell_type": "code",
   "execution_count": 34,
   "metadata": {},
   "outputs": [
    {
     "output_type": "execute_result",
     "data": {
      "text/plain": [
       "numpy.int64"
      ]
     },
     "metadata": {},
     "execution_count": 34
    }
   ],
   "source": [
    "type(weatherpf['Hour'][0])"
   ]
  },
  {
   "cell_type": "code",
   "execution_count": null,
   "metadata": {},
   "outputs": [],
   "source": []
  },
  {
   "cell_type": "code",
   "execution_count": 33,
   "metadata": {},
   "outputs": [
    {
     "output_type": "stream",
     "name": "stdout",
     "text": [
      "True\n13\n"
     ]
    }
   ],
   "source": [
    "print(df['Date'][0] == weatherpf['Date'][0] )\n",
    "print(df['Hour'][0])"
   ]
  },
  {
   "cell_type": "code",
   "execution_count": 29,
   "metadata": {},
   "outputs": [
    {
     "output_type": "execute_result",
     "data": {
      "text/plain": [
       "datetime.date"
      ]
     },
     "metadata": {},
     "execution_count": 29
    }
   ],
   "source": [
    "type(df['Date'][0])"
   ]
  },
  {
   "cell_type": "code",
   "execution_count": 28,
   "metadata": {},
   "outputs": [],
   "source": [
    "# The weather sample is taken at the last minute of the hour, so the hour is one off \n",
    "weatherpf['Hour'] = (weatherpf['Hour'] + 1 )% 24"
   ]
  },
  {
   "source": [
    "'''we want to combine the generation data to the weather data at the same time\n",
    "we are going to predict the previous hours' weather to predict the next hour \n",
    "i.e. weather[hour_i] will try to predict generation[hour_i]\n",
    "A BETTER WAY TO DO THIS:\n",
    "set the date_hour as the index and then just join the two df's '''"
   ],
   "cell_type": "code",
   "metadata": {},
   "execution_count": 29,
   "outputs": [
    {
     "output_type": "execute_result",
     "data": {
      "text/plain": [
       "\"we want to combine the generation data to the weather data at the same time\\nwe are going to predict the previous hours' weather to predict the next hour \\ni.e. weather[hour_i] will try to predict generation[hour_i]\\nA BETTER WAY TO DO THIS:\\nset the date_hour as the index and then just join the two df's \""
      ]
     },
     "metadata": {},
     "execution_count": 29
    }
   ]
  },
  {
   "cell_type": "code",
   "execution_count": 49,
   "metadata": {},
   "outputs": [],
   "source": [
    "Generated = np.full((len(weatherpf),1), math.nan)"
   ]
  },
  {
   "cell_type": "code",
   "execution_count": 51,
   "metadata": {},
   "outputs": [
    {
     "output_type": "error",
     "ename": "KeyError",
     "evalue": "0",
     "traceback": [
      "\u001b[0;31m---------------------------------------------------------------------------\u001b[0m",
      "\u001b[0;31mKeyError\u001b[0m                                  Traceback (most recent call last)",
      "\u001b[0;32m/Library/Frameworks/Python.framework/Versions/3.8/lib/python3.8/site-packages/pandas/core/indexes/base.py\u001b[0m in \u001b[0;36mget_loc\u001b[0;34m(self, key, method, tolerance)\u001b[0m\n\u001b[1;32m   3079\u001b[0m             \u001b[0;32mtry\u001b[0m\u001b[0;34m:\u001b[0m\u001b[0;34m\u001b[0m\u001b[0;34m\u001b[0m\u001b[0m\n\u001b[0;32m-> 3080\u001b[0;31m                 \u001b[0;32mreturn\u001b[0m \u001b[0mself\u001b[0m\u001b[0;34m.\u001b[0m\u001b[0m_engine\u001b[0m\u001b[0;34m.\u001b[0m\u001b[0mget_loc\u001b[0m\u001b[0;34m(\u001b[0m\u001b[0mcasted_key\u001b[0m\u001b[0;34m)\u001b[0m\u001b[0;34m\u001b[0m\u001b[0;34m\u001b[0m\u001b[0m\n\u001b[0m\u001b[1;32m   3081\u001b[0m             \u001b[0;32mexcept\u001b[0m \u001b[0mKeyError\u001b[0m \u001b[0;32mas\u001b[0m \u001b[0merr\u001b[0m\u001b[0;34m:\u001b[0m\u001b[0;34m\u001b[0m\u001b[0;34m\u001b[0m\u001b[0m\n",
      "\u001b[0;32mpandas/_libs/index.pyx\u001b[0m in \u001b[0;36mpandas._libs.index.IndexEngine.get_loc\u001b[0;34m()\u001b[0m\n",
      "\u001b[0;32mpandas/_libs/index.pyx\u001b[0m in \u001b[0;36mpandas._libs.index.IndexEngine.get_loc\u001b[0;34m()\u001b[0m\n",
      "\u001b[0;32mpandas/_libs/hashtable_class_helper.pxi\u001b[0m in \u001b[0;36mpandas._libs.hashtable.Int64HashTable.get_item\u001b[0;34m()\u001b[0m\n",
      "\u001b[0;32mpandas/_libs/hashtable_class_helper.pxi\u001b[0m in \u001b[0;36mpandas._libs.hashtable.Int64HashTable.get_item\u001b[0;34m()\u001b[0m\n",
      "\u001b[0;31mKeyError\u001b[0m: 0",
      "\nThe above exception was the direct cause of the following exception:\n",
      "\u001b[0;31mKeyError\u001b[0m                                  Traceback (most recent call last)",
      "\u001b[0;32m<ipython-input-51-f9e338c4ed92>\u001b[0m in \u001b[0;36m<module>\u001b[0;34m\u001b[0m\n\u001b[1;32m      5\u001b[0m     \u001b[0;32mwhile\u001b[0m \u001b[0;32mnot\u001b[0m \u001b[0madded\u001b[0m\u001b[0;34m:\u001b[0m\u001b[0;34m\u001b[0m\u001b[0;34m\u001b[0m\u001b[0m\n\u001b[1;32m      6\u001b[0m         \u001b[0;31m# if the date and hour match, we have found the right one\u001b[0m\u001b[0;34m\u001b[0m\u001b[0;34m\u001b[0m\u001b[0;34m\u001b[0m\u001b[0m\n\u001b[0;32m----> 7\u001b[0;31m         \u001b[0;32mif\u001b[0m \u001b[0mweatherpf\u001b[0m\u001b[0;34m[\u001b[0m\u001b[0;34m'Date'\u001b[0m\u001b[0;34m]\u001b[0m\u001b[0;34m[\u001b[0m\u001b[0mwCount\u001b[0m\u001b[0;34m]\u001b[0m \u001b[0;34m==\u001b[0m \u001b[0mdf\u001b[0m\u001b[0;34m[\u001b[0m\u001b[0;34m'Date'\u001b[0m\u001b[0;34m]\u001b[0m\u001b[0;34m[\u001b[0m\u001b[0mi\u001b[0m\u001b[0;34m]\u001b[0m \u001b[0;32mand\u001b[0m \u001b[0mweatherpf\u001b[0m\u001b[0;34m[\u001b[0m\u001b[0;34m'Hour'\u001b[0m\u001b[0;34m]\u001b[0m\u001b[0;34m[\u001b[0m\u001b[0mwCount\u001b[0m\u001b[0;34m]\u001b[0m \u001b[0;34m==\u001b[0m \u001b[0mdf\u001b[0m\u001b[0;34m[\u001b[0m\u001b[0;34m'Hour'\u001b[0m\u001b[0;34m]\u001b[0m\u001b[0;34m[\u001b[0m\u001b[0mi\u001b[0m\u001b[0;34m]\u001b[0m\u001b[0;34m:\u001b[0m\u001b[0;34m\u001b[0m\u001b[0;34m\u001b[0m\u001b[0m\n\u001b[0m\u001b[1;32m      8\u001b[0m             \u001b[0mGenerated\u001b[0m\u001b[0;34m[\u001b[0m\u001b[0mwCount\u001b[0m\u001b[0;34m]\u001b[0m \u001b[0;34m=\u001b[0m \u001b[0mdf\u001b[0m\u001b[0;34m[\u001b[0m\u001b[0;34m'Generated'\u001b[0m\u001b[0;34m]\u001b[0m\u001b[0;34m[\u001b[0m\u001b[0mi\u001b[0m\u001b[0;34m]\u001b[0m\u001b[0;34m\u001b[0m\u001b[0;34m\u001b[0m\u001b[0m\n\u001b[1;32m      9\u001b[0m             \u001b[0madded\u001b[0m \u001b[0;34m=\u001b[0m \u001b[0;32mTrue\u001b[0m\u001b[0;34m\u001b[0m\u001b[0;34m\u001b[0m\u001b[0m\n",
      "\u001b[0;32m/Library/Frameworks/Python.framework/Versions/3.8/lib/python3.8/site-packages/pandas/core/series.py\u001b[0m in \u001b[0;36m__getitem__\u001b[0;34m(self, key)\u001b[0m\n\u001b[1;32m    851\u001b[0m \u001b[0;34m\u001b[0m\u001b[0m\n\u001b[1;32m    852\u001b[0m         \u001b[0;32melif\u001b[0m \u001b[0mkey_is_scalar\u001b[0m\u001b[0;34m:\u001b[0m\u001b[0;34m\u001b[0m\u001b[0;34m\u001b[0m\u001b[0m\n\u001b[0;32m--> 853\u001b[0;31m             \u001b[0;32mreturn\u001b[0m \u001b[0mself\u001b[0m\u001b[0;34m.\u001b[0m\u001b[0m_get_value\u001b[0m\u001b[0;34m(\u001b[0m\u001b[0mkey\u001b[0m\u001b[0;34m)\u001b[0m\u001b[0;34m\u001b[0m\u001b[0;34m\u001b[0m\u001b[0m\n\u001b[0m\u001b[1;32m    854\u001b[0m \u001b[0;34m\u001b[0m\u001b[0m\n\u001b[1;32m    855\u001b[0m         \u001b[0;32mif\u001b[0m \u001b[0mis_hashable\u001b[0m\u001b[0;34m(\u001b[0m\u001b[0mkey\u001b[0m\u001b[0;34m)\u001b[0m\u001b[0;34m:\u001b[0m\u001b[0;34m\u001b[0m\u001b[0;34m\u001b[0m\u001b[0m\n",
      "\u001b[0;32m/Library/Frameworks/Python.framework/Versions/3.8/lib/python3.8/site-packages/pandas/core/series.py\u001b[0m in \u001b[0;36m_get_value\u001b[0;34m(self, label, takeable)\u001b[0m\n\u001b[1;32m    959\u001b[0m \u001b[0;34m\u001b[0m\u001b[0m\n\u001b[1;32m    960\u001b[0m         \u001b[0;31m# Similar to Index.get_value, but we do not fall back to positional\u001b[0m\u001b[0;34m\u001b[0m\u001b[0;34m\u001b[0m\u001b[0;34m\u001b[0m\u001b[0m\n\u001b[0;32m--> 961\u001b[0;31m         \u001b[0mloc\u001b[0m \u001b[0;34m=\u001b[0m \u001b[0mself\u001b[0m\u001b[0;34m.\u001b[0m\u001b[0mindex\u001b[0m\u001b[0;34m.\u001b[0m\u001b[0mget_loc\u001b[0m\u001b[0;34m(\u001b[0m\u001b[0mlabel\u001b[0m\u001b[0;34m)\u001b[0m\u001b[0;34m\u001b[0m\u001b[0;34m\u001b[0m\u001b[0m\n\u001b[0m\u001b[1;32m    962\u001b[0m         \u001b[0;32mreturn\u001b[0m \u001b[0mself\u001b[0m\u001b[0;34m.\u001b[0m\u001b[0mindex\u001b[0m\u001b[0;34m.\u001b[0m\u001b[0m_get_values_for_loc\u001b[0m\u001b[0;34m(\u001b[0m\u001b[0mself\u001b[0m\u001b[0;34m,\u001b[0m \u001b[0mloc\u001b[0m\u001b[0;34m,\u001b[0m \u001b[0mlabel\u001b[0m\u001b[0;34m)\u001b[0m\u001b[0;34m\u001b[0m\u001b[0;34m\u001b[0m\u001b[0m\n\u001b[1;32m    963\u001b[0m \u001b[0;34m\u001b[0m\u001b[0m\n",
      "\u001b[0;32m/Library/Frameworks/Python.framework/Versions/3.8/lib/python3.8/site-packages/pandas/core/indexes/base.py\u001b[0m in \u001b[0;36mget_loc\u001b[0;34m(self, key, method, tolerance)\u001b[0m\n\u001b[1;32m   3080\u001b[0m                 \u001b[0;32mreturn\u001b[0m \u001b[0mself\u001b[0m\u001b[0;34m.\u001b[0m\u001b[0m_engine\u001b[0m\u001b[0;34m.\u001b[0m\u001b[0mget_loc\u001b[0m\u001b[0;34m(\u001b[0m\u001b[0mcasted_key\u001b[0m\u001b[0;34m)\u001b[0m\u001b[0;34m\u001b[0m\u001b[0;34m\u001b[0m\u001b[0m\n\u001b[1;32m   3081\u001b[0m             \u001b[0;32mexcept\u001b[0m \u001b[0mKeyError\u001b[0m \u001b[0;32mas\u001b[0m \u001b[0merr\u001b[0m\u001b[0;34m:\u001b[0m\u001b[0;34m\u001b[0m\u001b[0;34m\u001b[0m\u001b[0m\n\u001b[0;32m-> 3082\u001b[0;31m                 \u001b[0;32mraise\u001b[0m \u001b[0mKeyError\u001b[0m\u001b[0;34m(\u001b[0m\u001b[0mkey\u001b[0m\u001b[0;34m)\u001b[0m \u001b[0;32mfrom\u001b[0m \u001b[0merr\u001b[0m\u001b[0;34m\u001b[0m\u001b[0;34m\u001b[0m\u001b[0m\n\u001b[0m\u001b[1;32m   3083\u001b[0m \u001b[0;34m\u001b[0m\u001b[0m\n\u001b[1;32m   3084\u001b[0m         \u001b[0;32mif\u001b[0m \u001b[0mtolerance\u001b[0m \u001b[0;32mis\u001b[0m \u001b[0;32mnot\u001b[0m \u001b[0;32mNone\u001b[0m\u001b[0;34m:\u001b[0m\u001b[0;34m\u001b[0m\u001b[0;34m\u001b[0m\u001b[0m\n",
      "\u001b[0;31mKeyError\u001b[0m: 0"
     ]
    }
   ],
   "source": [
    "wCount = 0\n",
    "\n",
    "for i in range(len(df)):\n",
    "    added = False\n",
    "    while not added:\n",
    "        # if the date and hour match, we have found the right one\n",
    "        if weatherpf['Date'][wCount] == df['Date'][i] and weatherpf['Hour'][wCount] == df['Hour'][i]:\n",
    "            Generated[wCount] = df['Generated'][i]\n",
    "            added = True\n",
    "        else:\n",
    "            wCount += 1 \n"
   ]
  },
  {
   "cell_type": "code",
   "execution_count": 48,
   "metadata": {},
   "outputs": [
    {
     "output_type": "execute_result",
     "data": {
      "text/plain": [
       "121"
      ]
     },
     "metadata": {},
     "execution_count": 48
    }
   ],
   "source": [
    "# np.count_nonzero(~np.isnan(Generated))"
   ]
  },
  {
   "cell_type": "code",
   "execution_count": 38,
   "metadata": {},
   "outputs": [
    {
     "output_type": "execute_result",
     "data": {
      "text/plain": [
       "             date_time  rh    eto    etr  rso  ea_avg  precip  rh_max  rh_min  \\\n",
       "0  2019-07-11 00:59:59  30  0.002  0.003  0.0   0.741     0.0      31      29   \n",
       "1  2019-07-11 01:59:59  31  0.002  0.003  0.0   0.732     0.0      32      30   \n",
       "2  2019-07-11 02:59:59  32  0.001  0.002  0.0   0.716     0.0      33      30   \n",
       "3  2019-07-11 03:59:59  32  0.002  0.002  0.0   0.703     0.0      33      30   \n",
       "4  2019-07-11 04:59:59  32  0.001  0.002  0.0   0.686     0.0      33      30   \n",
       "\n",
       "   td_avg  ...  fan_rmp_avg  visibilitymiles  batt_volt_min  surfacet1_avg  \\\n",
       "0    36.9  ...         4252           19.884          11.79           60.8   \n",
       "1    36.5  ...         4263           19.884          11.79           58.5   \n",
       "2    36.0  ...         4275           19.884          11.82           58.3   \n",
       "3    35.4  ...         4241           19.635          11.78           57.6   \n",
       "4    34.9  ...         4231           19.884          11.81           56.8   \n",
       "\n",
       "   surfacet2_avg  visibilitymiles_avg  pressurekpasealevel        Date  Hour  \\\n",
       "0           60.3               19.822                101.6  2019-07-11     1   \n",
       "1           58.3               19.822                101.6  2019-07-11     2   \n",
       "2           58.1               19.822                101.6  2019-07-11     3   \n",
       "3           57.4               19.822                101.6  2019-07-11     4   \n",
       "4           56.8               19.884                101.7  2019-07-11     5   \n",
       "\n",
       "   Generated  \n",
       "0        NaN  \n",
       "1        NaN  \n",
       "2        NaN  \n",
       "3        NaN  \n",
       "4        NaN  \n",
       "\n",
       "[5 rows x 39 columns]"
      ],
      "text/html": "<div>\n<style scoped>\n    .dataframe tbody tr th:only-of-type {\n        vertical-align: middle;\n    }\n\n    .dataframe tbody tr th {\n        vertical-align: top;\n    }\n\n    .dataframe thead th {\n        text-align: right;\n    }\n</style>\n<table border=\"1\" class=\"dataframe\">\n  <thead>\n    <tr style=\"text-align: right;\">\n      <th></th>\n      <th>date_time</th>\n      <th>rh</th>\n      <th>eto</th>\n      <th>etr</th>\n      <th>rso</th>\n      <th>ea_avg</th>\n      <th>precip</th>\n      <th>rh_max</th>\n      <th>rh_min</th>\n      <th>td_avg</th>\n      <th>...</th>\n      <th>fan_rmp_avg</th>\n      <th>visibilitymiles</th>\n      <th>batt_volt_min</th>\n      <th>surfacet1_avg</th>\n      <th>surfacet2_avg</th>\n      <th>visibilitymiles_avg</th>\n      <th>pressurekpasealevel</th>\n      <th>Date</th>\n      <th>Hour</th>\n      <th>Generated</th>\n    </tr>\n  </thead>\n  <tbody>\n    <tr>\n      <th>0</th>\n      <td>2019-07-11 00:59:59</td>\n      <td>30</td>\n      <td>0.002</td>\n      <td>0.003</td>\n      <td>0.0</td>\n      <td>0.741</td>\n      <td>0.0</td>\n      <td>31</td>\n      <td>29</td>\n      <td>36.9</td>\n      <td>...</td>\n      <td>4252</td>\n      <td>19.884</td>\n      <td>11.79</td>\n      <td>60.8</td>\n      <td>60.3</td>\n      <td>19.822</td>\n      <td>101.6</td>\n      <td>2019-07-11</td>\n      <td>1</td>\n      <td>NaN</td>\n    </tr>\n    <tr>\n      <th>1</th>\n      <td>2019-07-11 01:59:59</td>\n      <td>31</td>\n      <td>0.002</td>\n      <td>0.003</td>\n      <td>0.0</td>\n      <td>0.732</td>\n      <td>0.0</td>\n      <td>32</td>\n      <td>30</td>\n      <td>36.5</td>\n      <td>...</td>\n      <td>4263</td>\n      <td>19.884</td>\n      <td>11.79</td>\n      <td>58.5</td>\n      <td>58.3</td>\n      <td>19.822</td>\n      <td>101.6</td>\n      <td>2019-07-11</td>\n      <td>2</td>\n      <td>NaN</td>\n    </tr>\n    <tr>\n      <th>2</th>\n      <td>2019-07-11 02:59:59</td>\n      <td>32</td>\n      <td>0.001</td>\n      <td>0.002</td>\n      <td>0.0</td>\n      <td>0.716</td>\n      <td>0.0</td>\n      <td>33</td>\n      <td>30</td>\n      <td>36.0</td>\n      <td>...</td>\n      <td>4275</td>\n      <td>19.884</td>\n      <td>11.82</td>\n      <td>58.3</td>\n      <td>58.1</td>\n      <td>19.822</td>\n      <td>101.6</td>\n      <td>2019-07-11</td>\n      <td>3</td>\n      <td>NaN</td>\n    </tr>\n    <tr>\n      <th>3</th>\n      <td>2019-07-11 03:59:59</td>\n      <td>32</td>\n      <td>0.002</td>\n      <td>0.002</td>\n      <td>0.0</td>\n      <td>0.703</td>\n      <td>0.0</td>\n      <td>33</td>\n      <td>30</td>\n      <td>35.4</td>\n      <td>...</td>\n      <td>4241</td>\n      <td>19.635</td>\n      <td>11.78</td>\n      <td>57.6</td>\n      <td>57.4</td>\n      <td>19.822</td>\n      <td>101.6</td>\n      <td>2019-07-11</td>\n      <td>4</td>\n      <td>NaN</td>\n    </tr>\n    <tr>\n      <th>4</th>\n      <td>2019-07-11 04:59:59</td>\n      <td>32</td>\n      <td>0.001</td>\n      <td>0.002</td>\n      <td>0.0</td>\n      <td>0.686</td>\n      <td>0.0</td>\n      <td>33</td>\n      <td>30</td>\n      <td>34.9</td>\n      <td>...</td>\n      <td>4231</td>\n      <td>19.884</td>\n      <td>11.81</td>\n      <td>56.8</td>\n      <td>56.8</td>\n      <td>19.884</td>\n      <td>101.7</td>\n      <td>2019-07-11</td>\n      <td>5</td>\n      <td>NaN</td>\n    </tr>\n  </tbody>\n</table>\n<p>5 rows × 39 columns</p>\n</div>"
     },
     "metadata": {},
     "execution_count": 38
    }
   ],
   "source": [
    "weatherpf['Generated'] = Generated\n",
    "weatherpf.head()"
   ]
  },
  {
   "cell_type": "code",
   "execution_count": 43,
   "metadata": {},
   "outputs": [
    {
     "output_type": "stream",
     "name": "stdout",
     "text": [
      "nan\nnan\nnan\nnan\nnan\nnan\nnan\nnan\nnan\nnan\nnan\nnan\n19005151.70371431\n25139284.36885746\nnan\n20209068.581654288\n15964916.304913778\n10714623.438632196\n5322336.015953261\n1816007.9890391491\nnan\nnan\nnan\nnan\nnan\nnan\nnan\nnan\nnan\n1681200.5660589964\n3973302.524345186\n9012946.02997414\n14015182.381352874\n17966267.298056714\n8664665.889970947\n21747960.351551637\n22071414.07435361\n24864185.214993477\n21592524.914652605\n19607519.999050535\n15686778.24166664\n10605813.208911858\n5250134.196785491\n1864700.571576947\nnan\nnan\nnan\nnan\nnan\nnan\nnan\nnan\nnan\n1853040.6112185097\n4014826.3162352913\n3278973.4481548797\n5610634.309121637\n9056918.695416957\n6599216.576928332\n7601136.628109179\n10885582.146870185\n17292069.17369534\n16931812.50405352\n19508949.436129507\n13839888.49089887\n11986267.378496462\n5253862.46722048\n2714025.3759377976\nnan\nnan\nnan\nnan\nnan\nnan\nnan\nnan\nnan\n1682228.647266563\n3908697.8396529537\n8831608.289502168\n14491549.781434398\n18940879.042028986\n21452808.4732284\n20961733.576980956\n20897161.443303645\n24208615.083589144\n20956030.9935207\n20148805.861118533\n15702342.194908101\n10462805.460277328\n5098635.019602625\n1662529.1835806735\nnan\nnan\nnan\nnan\nnan\nnan\nnan\nnan\n"
     ]
    }
   ],
   "source": [
    "for i in range(100):\n",
    "    print(weatherpf.Generated[i])"
   ]
  },
  {
   "cell_type": "code",
   "execution_count": 44,
   "metadata": {},
   "outputs": [
    {
     "output_type": "execute_result",
     "data": {
      "text/plain": [
       "              date_time  rh    eto    etr    rso  ea_avg  precip  rh_max  \\\n",
       "12  2019-07-11 12:59:59  20  0.027  0.031  3.518   0.968     0.0      25   \n",
       "13  2019-07-11 13:59:59  18  0.029  0.033  3.472   0.848     0.0      20   \n",
       "15  2019-07-11 15:59:59  16  0.027  0.031  2.782   0.842     0.0      18   \n",
       "16  2019-07-11 16:59:59  16  0.022  0.026  2.202   0.782     0.0      19   \n",
       "17  2019-07-11 17:59:59  23  0.017  0.020  1.534   0.826     0.0      32   \n",
       "\n",
       "    rh_min  td_avg  ...  fan_rmp_avg  visibilitymiles  batt_volt_min  \\\n",
       "12      15    43.5  ...         4511           17.771          12.55   \n",
       "13      15    40.3  ...         4490           12.676          12.55   \n",
       "15      13    40.1  ...         4470           19.884          12.55   \n",
       "16      13    38.1  ...         4469           19.884          12.53   \n",
       "17      14    39.6  ...         4399           19.884          12.23   \n",
       "\n",
       "    surfacet1_avg  surfacet2_avg  visibilitymiles_avg  pressurekpasealevel  \\\n",
       "12           92.1           95.0               18.765                101.6   \n",
       "13           91.0           94.8               18.765                101.5   \n",
       "15           86.7           93.9               19.014                101.4   \n",
       "16           85.1           88.9               19.573                101.3   \n",
       "17           83.5           78.1               19.014                101.3   \n",
       "\n",
       "          Date  Hour     Generated  \n",
       "12  2019-07-11    13  1.900515e+07  \n",
       "13  2019-07-11    14  2.513928e+07  \n",
       "15  2019-07-11    16  2.020907e+07  \n",
       "16  2019-07-11    17  1.596492e+07  \n",
       "17  2019-07-11    18  1.071462e+07  \n",
       "\n",
       "[5 rows x 39 columns]"
      ],
      "text/html": "<div>\n<style scoped>\n    .dataframe tbody tr th:only-of-type {\n        vertical-align: middle;\n    }\n\n    .dataframe tbody tr th {\n        vertical-align: top;\n    }\n\n    .dataframe thead th {\n        text-align: right;\n    }\n</style>\n<table border=\"1\" class=\"dataframe\">\n  <thead>\n    <tr style=\"text-align: right;\">\n      <th></th>\n      <th>date_time</th>\n      <th>rh</th>\n      <th>eto</th>\n      <th>etr</th>\n      <th>rso</th>\n      <th>ea_avg</th>\n      <th>precip</th>\n      <th>rh_max</th>\n      <th>rh_min</th>\n      <th>td_avg</th>\n      <th>...</th>\n      <th>fan_rmp_avg</th>\n      <th>visibilitymiles</th>\n      <th>batt_volt_min</th>\n      <th>surfacet1_avg</th>\n      <th>surfacet2_avg</th>\n      <th>visibilitymiles_avg</th>\n      <th>pressurekpasealevel</th>\n      <th>Date</th>\n      <th>Hour</th>\n      <th>Generated</th>\n    </tr>\n  </thead>\n  <tbody>\n    <tr>\n      <th>12</th>\n      <td>2019-07-11 12:59:59</td>\n      <td>20</td>\n      <td>0.027</td>\n      <td>0.031</td>\n      <td>3.518</td>\n      <td>0.968</td>\n      <td>0.0</td>\n      <td>25</td>\n      <td>15</td>\n      <td>43.5</td>\n      <td>...</td>\n      <td>4511</td>\n      <td>17.771</td>\n      <td>12.55</td>\n      <td>92.1</td>\n      <td>95.0</td>\n      <td>18.765</td>\n      <td>101.6</td>\n      <td>2019-07-11</td>\n      <td>13</td>\n      <td>1.900515e+07</td>\n    </tr>\n    <tr>\n      <th>13</th>\n      <td>2019-07-11 13:59:59</td>\n      <td>18</td>\n      <td>0.029</td>\n      <td>0.033</td>\n      <td>3.472</td>\n      <td>0.848</td>\n      <td>0.0</td>\n      <td>20</td>\n      <td>15</td>\n      <td>40.3</td>\n      <td>...</td>\n      <td>4490</td>\n      <td>12.676</td>\n      <td>12.55</td>\n      <td>91.0</td>\n      <td>94.8</td>\n      <td>18.765</td>\n      <td>101.5</td>\n      <td>2019-07-11</td>\n      <td>14</td>\n      <td>2.513928e+07</td>\n    </tr>\n    <tr>\n      <th>15</th>\n      <td>2019-07-11 15:59:59</td>\n      <td>16</td>\n      <td>0.027</td>\n      <td>0.031</td>\n      <td>2.782</td>\n      <td>0.842</td>\n      <td>0.0</td>\n      <td>18</td>\n      <td>13</td>\n      <td>40.1</td>\n      <td>...</td>\n      <td>4470</td>\n      <td>19.884</td>\n      <td>12.55</td>\n      <td>86.7</td>\n      <td>93.9</td>\n      <td>19.014</td>\n      <td>101.4</td>\n      <td>2019-07-11</td>\n      <td>16</td>\n      <td>2.020907e+07</td>\n    </tr>\n    <tr>\n      <th>16</th>\n      <td>2019-07-11 16:59:59</td>\n      <td>16</td>\n      <td>0.022</td>\n      <td>0.026</td>\n      <td>2.202</td>\n      <td>0.782</td>\n      <td>0.0</td>\n      <td>19</td>\n      <td>13</td>\n      <td>38.1</td>\n      <td>...</td>\n      <td>4469</td>\n      <td>19.884</td>\n      <td>12.53</td>\n      <td>85.1</td>\n      <td>88.9</td>\n      <td>19.573</td>\n      <td>101.3</td>\n      <td>2019-07-11</td>\n      <td>17</td>\n      <td>1.596492e+07</td>\n    </tr>\n    <tr>\n      <th>17</th>\n      <td>2019-07-11 17:59:59</td>\n      <td>23</td>\n      <td>0.017</td>\n      <td>0.020</td>\n      <td>1.534</td>\n      <td>0.826</td>\n      <td>0.0</td>\n      <td>32</td>\n      <td>14</td>\n      <td>39.6</td>\n      <td>...</td>\n      <td>4399</td>\n      <td>19.884</td>\n      <td>12.23</td>\n      <td>83.5</td>\n      <td>78.1</td>\n      <td>19.014</td>\n      <td>101.3</td>\n      <td>2019-07-11</td>\n      <td>18</td>\n      <td>1.071462e+07</td>\n    </tr>\n  </tbody>\n</table>\n<p>5 rows × 39 columns</p>\n</div>"
     },
     "metadata": {},
     "execution_count": 44
    }
   ],
   "source": [
    "# # remove rows that don't have a generation value \n",
    "# weatherpf.dropna(axis=0, inplace=True)\n",
    "# weatherpf.head()"
   ]
  },
  {
   "cell_type": "code",
   "execution_count": 46,
   "metadata": {},
   "outputs": [
    {
     "output_type": "execute_result",
     "data": {
      "text/plain": [
       "               date_time  rh    eto    etr    rso  ea_avg  precip  rh_max  \\\n",
       "423  2019-07-28 15:59:59  27  0.022  0.025  2.660   1.048     0.0      34   \n",
       "424  2019-07-28 16:59:59  23  0.015  0.017  2.084   0.942     0.0      29   \n",
       "425  2019-07-28 17:59:59  23  0.015  0.017  1.414   0.821     0.0      33   \n",
       "426  2019-07-28 18:59:59  20  0.009  0.011  0.712   0.848     0.0      24   \n",
       "427  2019-07-28 19:59:59  22  0.004  0.005  0.115   0.794     0.0      24   \n",
       "\n",
       "     rh_min  td_avg  ...  fan_rmp_avg  visibilitymiles  batt_volt_min  \\\n",
       "423      20    45.7  ...         4480           18.828          12.56   \n",
       "424      16    42.8  ...         4481           14.913          12.46   \n",
       "425      14    39.4  ...         4412           19.884          12.21   \n",
       "426      15    40.3  ...         4390           19.822          12.13   \n",
       "427      20    38.5  ...         4344           19.884          12.05   \n",
       "\n",
       "     surfacet1_avg  surfacet2_avg  visibilitymiles_avg  pressurekpasealevel  \\\n",
       "423           85.6           87.4               18.703                101.7   \n",
       "424           87.6           88.9               18.890                101.6   \n",
       "425           86.4           78.1               19.014                101.5   \n",
       "426           76.3           69.4               19.325                101.5   \n",
       "427           67.8           66.7               19.697                101.5   \n",
       "\n",
       "           Date  Hour     Generated  \n",
       "423  2019-07-28    16  1.243103e+07  \n",
       "424  2019-07-28    17  1.481631e+07  \n",
       "425  2019-07-28    18  1.012708e+07  \n",
       "426  2019-07-28    19  4.836637e+06  \n",
       "427  2019-07-28    20  1.733876e+06  \n",
       "\n",
       "[5 rows x 39 columns]"
      ],
      "text/html": "<div>\n<style scoped>\n    .dataframe tbody tr th:only-of-type {\n        vertical-align: middle;\n    }\n\n    .dataframe tbody tr th {\n        vertical-align: top;\n    }\n\n    .dataframe thead th {\n        text-align: right;\n    }\n</style>\n<table border=\"1\" class=\"dataframe\">\n  <thead>\n    <tr style=\"text-align: right;\">\n      <th></th>\n      <th>date_time</th>\n      <th>rh</th>\n      <th>eto</th>\n      <th>etr</th>\n      <th>rso</th>\n      <th>ea_avg</th>\n      <th>precip</th>\n      <th>rh_max</th>\n      <th>rh_min</th>\n      <th>td_avg</th>\n      <th>...</th>\n      <th>fan_rmp_avg</th>\n      <th>visibilitymiles</th>\n      <th>batt_volt_min</th>\n      <th>surfacet1_avg</th>\n      <th>surfacet2_avg</th>\n      <th>visibilitymiles_avg</th>\n      <th>pressurekpasealevel</th>\n      <th>Date</th>\n      <th>Hour</th>\n      <th>Generated</th>\n    </tr>\n  </thead>\n  <tbody>\n    <tr>\n      <th>423</th>\n      <td>2019-07-28 15:59:59</td>\n      <td>27</td>\n      <td>0.022</td>\n      <td>0.025</td>\n      <td>2.660</td>\n      <td>1.048</td>\n      <td>0.0</td>\n      <td>34</td>\n      <td>20</td>\n      <td>45.7</td>\n      <td>...</td>\n      <td>4480</td>\n      <td>18.828</td>\n      <td>12.56</td>\n      <td>85.6</td>\n      <td>87.4</td>\n      <td>18.703</td>\n      <td>101.7</td>\n      <td>2019-07-28</td>\n      <td>16</td>\n      <td>1.243103e+07</td>\n    </tr>\n    <tr>\n      <th>424</th>\n      <td>2019-07-28 16:59:59</td>\n      <td>23</td>\n      <td>0.015</td>\n      <td>0.017</td>\n      <td>2.084</td>\n      <td>0.942</td>\n      <td>0.0</td>\n      <td>29</td>\n      <td>16</td>\n      <td>42.8</td>\n      <td>...</td>\n      <td>4481</td>\n      <td>14.913</td>\n      <td>12.46</td>\n      <td>87.6</td>\n      <td>88.9</td>\n      <td>18.890</td>\n      <td>101.6</td>\n      <td>2019-07-28</td>\n      <td>17</td>\n      <td>1.481631e+07</td>\n    </tr>\n    <tr>\n      <th>425</th>\n      <td>2019-07-28 17:59:59</td>\n      <td>23</td>\n      <td>0.015</td>\n      <td>0.017</td>\n      <td>1.414</td>\n      <td>0.821</td>\n      <td>0.0</td>\n      <td>33</td>\n      <td>14</td>\n      <td>39.4</td>\n      <td>...</td>\n      <td>4412</td>\n      <td>19.884</td>\n      <td>12.21</td>\n      <td>86.4</td>\n      <td>78.1</td>\n      <td>19.014</td>\n      <td>101.5</td>\n      <td>2019-07-28</td>\n      <td>18</td>\n      <td>1.012708e+07</td>\n    </tr>\n    <tr>\n      <th>426</th>\n      <td>2019-07-28 18:59:59</td>\n      <td>20</td>\n      <td>0.009</td>\n      <td>0.011</td>\n      <td>0.712</td>\n      <td>0.848</td>\n      <td>0.0</td>\n      <td>24</td>\n      <td>15</td>\n      <td>40.3</td>\n      <td>...</td>\n      <td>4390</td>\n      <td>19.822</td>\n      <td>12.13</td>\n      <td>76.3</td>\n      <td>69.4</td>\n      <td>19.325</td>\n      <td>101.5</td>\n      <td>2019-07-28</td>\n      <td>19</td>\n      <td>4.836637e+06</td>\n    </tr>\n    <tr>\n      <th>427</th>\n      <td>2019-07-28 19:59:59</td>\n      <td>22</td>\n      <td>0.004</td>\n      <td>0.005</td>\n      <td>0.115</td>\n      <td>0.794</td>\n      <td>0.0</td>\n      <td>24</td>\n      <td>20</td>\n      <td>38.5</td>\n      <td>...</td>\n      <td>4344</td>\n      <td>19.884</td>\n      <td>12.05</td>\n      <td>67.8</td>\n      <td>66.7</td>\n      <td>19.697</td>\n      <td>101.5</td>\n      <td>2019-07-28</td>\n      <td>20</td>\n      <td>1.733876e+06</td>\n    </tr>\n  </tbody>\n</table>\n<p>5 rows × 39 columns</p>\n</div>"
     },
     "metadata": {},
     "execution_count": 46
    }
   ],
   "source": [
    "weatherpf.tail()"
   ]
  },
  {
   "cell_type": "code",
   "execution_count": null,
   "metadata": {},
   "outputs": [],
   "source": []
  }
 ]
}