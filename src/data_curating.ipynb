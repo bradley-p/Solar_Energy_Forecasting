{
 "metadata": {
  "language_info": {
   "codemirror_mode": {
    "name": "ipython",
    "version": 3
   },
   "file_extension": ".py",
   "mimetype": "text/x-python",
   "name": "python",
   "nbconvert_exporter": "python",
   "pygments_lexer": "ipython3",
   "version": "3.8.5-final"
  },
  "orig_nbformat": 2,
  "kernelspec": {
   "name": "python3",
   "display_name": "Python 3.8.5 64-bit",
   "metadata": {
    "interpreter": {
     "hash": "082e9a3bcad0a290d0001e938aa60b99250c6c2ef33a923c00b70f9826caf4b7"
    }
   }
  }
 },
 "nbformat": 4,
 "nbformat_minor": 2,
 "cells": [
  {
   "source": [
    "%matplotlib widget\n",
    "import numpy as np\n",
    "import matplotlib.pyplot as plt \n",
    "import pandas as pd \n",
    "import datetime\n",
    "import re\n",
    "from mlxtend.preprocessing import minmax_scaling\n",
    "import pickle\n",
    "import math\n",
    "from data_functions import *\n",
    "from sklearn import preprocessing"
   ],
   "cell_type": "code",
   "metadata": {},
   "execution_count": 1,
   "outputs": []
  },
  {
   "cell_type": "code",
   "execution_count": 2,
   "metadata": {},
   "outputs": [],
   "source": [
    "solar_data_filename = '/Users/brad/Desktop/CS6620/Project/Data/Sample.csv' \n",
    "weather_data_filename = '/Users/brad/Desktop/CS6620/Project/Data/correct_weather.csv' "
   ]
  },
  {
   "cell_type": "code",
   "execution_count": 3,
   "metadata": {},
   "outputs": [],
   "source": [
    "solarData = pd.read_csv(solar_data_filename, sep=',')"
   ]
  },
  {
   "cell_type": "code",
   "execution_count": 4,
   "metadata": {},
   "outputs": [
    {
     "output_type": "execute_result",
     "data": {
      "text/plain": [
       "Index(['Unnamed: 0', 'TIME', 'Solar_power', 'Meter_value'], dtype='object')"
      ]
     },
     "metadata": {},
     "execution_count": 4
    }
   ],
   "source": [
    "solarData.columns"
   ]
  },
  {
   "cell_type": "code",
   "execution_count": 5,
   "metadata": {},
   "outputs": [
    {
     "output_type": "execute_result",
     "data": {
      "text/plain": [
       "   Unnamed: 0                 TIME   Solar_power  Meter_value\n",
       "0           0  2019-07-11 13:11:55 -5.366741e+08     5.342115\n",
       "1           1  2019-07-11 13:13:30 -5.365808e+08     5.352649\n",
       "2           2  2019-07-11 13:13:38 -5.368667e+08     5.352649\n",
       "3           3  2019-07-11 13:13:45 -5.369603e+08     5.352649\n",
       "4           4  2019-07-11 13:13:53 -5.371526e+08     5.352649"
      ],
      "text/html": "<div>\n<style scoped>\n    .dataframe tbody tr th:only-of-type {\n        vertical-align: middle;\n    }\n\n    .dataframe tbody tr th {\n        vertical-align: top;\n    }\n\n    .dataframe thead th {\n        text-align: right;\n    }\n</style>\n<table border=\"1\" class=\"dataframe\">\n  <thead>\n    <tr style=\"text-align: right;\">\n      <th></th>\n      <th>Unnamed: 0</th>\n      <th>TIME</th>\n      <th>Solar_power</th>\n      <th>Meter_value</th>\n    </tr>\n  </thead>\n  <tbody>\n    <tr>\n      <th>0</th>\n      <td>0</td>\n      <td>2019-07-11 13:11:55</td>\n      <td>-5.366741e+08</td>\n      <td>5.342115</td>\n    </tr>\n    <tr>\n      <th>1</th>\n      <td>1</td>\n      <td>2019-07-11 13:13:30</td>\n      <td>-5.365808e+08</td>\n      <td>5.352649</td>\n    </tr>\n    <tr>\n      <th>2</th>\n      <td>2</td>\n      <td>2019-07-11 13:13:38</td>\n      <td>-5.368667e+08</td>\n      <td>5.352649</td>\n    </tr>\n    <tr>\n      <th>3</th>\n      <td>3</td>\n      <td>2019-07-11 13:13:45</td>\n      <td>-5.369603e+08</td>\n      <td>5.352649</td>\n    </tr>\n    <tr>\n      <th>4</th>\n      <td>4</td>\n      <td>2019-07-11 13:13:53</td>\n      <td>-5.371526e+08</td>\n      <td>5.352649</td>\n    </tr>\n  </tbody>\n</table>\n</div>"
     },
     "metadata": {},
     "execution_count": 5
    }
   ],
   "source": [
    "solarData.head()"
   ]
  },
  {
   "cell_type": "code",
   "execution_count": 6,
   "metadata": {},
   "outputs": [],
   "source": [
    "# times = datetime.datetime.strptime(solarData['TIME'][0], '%Y-%m-%d %H:%M:%S').time()"
   ]
  },
  {
   "cell_type": "code",
   "execution_count": 7,
   "metadata": {},
   "outputs": [],
   "source": [
    "# Seperate date and time using datetime from pandas \n",
    "solarData['Date']= pd.to_datetime(solarData['TIME']).dt.date\n",
    "solarData['Time']= pd.to_datetime(solarData['TIME']).dt.time"
   ]
  },
  {
   "cell_type": "code",
   "execution_count": 8,
   "metadata": {},
   "outputs": [
    {
     "output_type": "execute_result",
     "data": {
      "text/plain": [
       "    Solar_power        Date      Time\n",
       "0 -5.366741e+08  2019-07-11  13:11:55\n",
       "1 -5.365808e+08  2019-07-11  13:13:30\n",
       "2 -5.368667e+08  2019-07-11  13:13:38\n",
       "3 -5.369603e+08  2019-07-11  13:13:45\n",
       "4 -5.371526e+08  2019-07-11  13:13:53"
      ],
      "text/html": "<div>\n<style scoped>\n    .dataframe tbody tr th:only-of-type {\n        vertical-align: middle;\n    }\n\n    .dataframe tbody tr th {\n        vertical-align: top;\n    }\n\n    .dataframe thead th {\n        text-align: right;\n    }\n</style>\n<table border=\"1\" class=\"dataframe\">\n  <thead>\n    <tr style=\"text-align: right;\">\n      <th></th>\n      <th>Solar_power</th>\n      <th>Date</th>\n      <th>Time</th>\n    </tr>\n  </thead>\n  <tbody>\n    <tr>\n      <th>0</th>\n      <td>-5.366741e+08</td>\n      <td>2019-07-11</td>\n      <td>13:11:55</td>\n    </tr>\n    <tr>\n      <th>1</th>\n      <td>-5.365808e+08</td>\n      <td>2019-07-11</td>\n      <td>13:13:30</td>\n    </tr>\n    <tr>\n      <th>2</th>\n      <td>-5.368667e+08</td>\n      <td>2019-07-11</td>\n      <td>13:13:38</td>\n    </tr>\n    <tr>\n      <th>3</th>\n      <td>-5.369603e+08</td>\n      <td>2019-07-11</td>\n      <td>13:13:45</td>\n    </tr>\n    <tr>\n      <th>4</th>\n      <td>-5.371526e+08</td>\n      <td>2019-07-11</td>\n      <td>13:13:53</td>\n    </tr>\n  </tbody>\n</table>\n</div>"
     },
     "metadata": {},
     "execution_count": 8
    }
   ],
   "source": [
    "# We Don't need the TIME or meter_value anymore \n",
    "solarData = solarData.drop(['TIME', 'Meter_value', 'Unnamed: 0'], axis=1)\n",
    "solarData.head()"
   ]
  },
  {
   "cell_type": "code",
   "execution_count": 9,
   "metadata": {},
   "outputs": [],
   "source": [
    "# According to Shaju, from ASPIRE, negative values are corrupted\n",
    "solarData['Solar_power'] = solarData['Solar_power'].apply(lambda val : val if val > 0 else math.nan)"
   ]
  },
  {
   "cell_type": "code",
   "execution_count": 10,
   "metadata": {},
   "outputs": [],
   "source": [
    "solarData['Solar_power'] = solarData['Solar_power'].apply(lambda val : val if val < 60000 else math.nan)"
   ]
  },
  {
   "cell_type": "code",
   "execution_count": 11,
   "metadata": {},
   "outputs": [
    {
     "output_type": "display_data",
     "data": {
      "text/plain": "Canvas(toolbar=Toolbar(toolitems=[('Home', 'Reset original view', 'home', 'home'), ('Back', 'Back to previous …",
      "application/vnd.jupyter.widget-view+json": {
       "version_major": 2,
       "version_minor": 0,
       "model_id": "a484888083f54c72bbcaa73ad25b78f1"
      }
     },
     "metadata": {}
    }
   ],
   "source": [
    "plt.figure()\n",
    "plt.hist(solarData['Solar_power'], bins=30)\n",
    "plt.show()"
   ]
  },
  {
   "cell_type": "code",
   "execution_count": 12,
   "metadata": {},
   "outputs": [
    {
     "output_type": "execute_result",
     "data": {
      "text/plain": [
       "   Solar_power        Date      Time\n",
       "0          NaN  2019-07-11  13:11:55\n",
       "1          NaN  2019-07-11  13:13:30\n",
       "2          NaN  2019-07-11  13:13:38\n",
       "3          NaN  2019-07-11  13:13:45\n",
       "4          NaN  2019-07-11  13:13:53"
      ],
      "text/html": "<div>\n<style scoped>\n    .dataframe tbody tr th:only-of-type {\n        vertical-align: middle;\n    }\n\n    .dataframe tbody tr th {\n        vertical-align: top;\n    }\n\n    .dataframe thead th {\n        text-align: right;\n    }\n</style>\n<table border=\"1\" class=\"dataframe\">\n  <thead>\n    <tr style=\"text-align: right;\">\n      <th></th>\n      <th>Solar_power</th>\n      <th>Date</th>\n      <th>Time</th>\n    </tr>\n  </thead>\n  <tbody>\n    <tr>\n      <th>0</th>\n      <td>NaN</td>\n      <td>2019-07-11</td>\n      <td>13:11:55</td>\n    </tr>\n    <tr>\n      <th>1</th>\n      <td>NaN</td>\n      <td>2019-07-11</td>\n      <td>13:13:30</td>\n    </tr>\n    <tr>\n      <th>2</th>\n      <td>NaN</td>\n      <td>2019-07-11</td>\n      <td>13:13:38</td>\n    </tr>\n    <tr>\n      <th>3</th>\n      <td>NaN</td>\n      <td>2019-07-11</td>\n      <td>13:13:45</td>\n    </tr>\n    <tr>\n      <th>4</th>\n      <td>NaN</td>\n      <td>2019-07-11</td>\n      <td>13:13:53</td>\n    </tr>\n  </tbody>\n</table>\n</div>"
     },
     "metadata": {},
     "execution_count": 12
    }
   ],
   "source": [
    "solarData.head()"
   ]
  },
  {
   "cell_type": "code",
   "execution_count": 13,
   "metadata": {},
   "outputs": [
    {
     "output_type": "stream",
     "name": "stdout",
     "text": [
      "740.6687727956357\n59999.84153846734\n17083.460421130927\n\n20999.818438253504\n222476006.26398286\n14915.629596633957\n"
     ]
    }
   ],
   "source": [
    "print(solarData['Solar_power'].min())\n",
    "print(solarData['Solar_power'].max())\n",
    "print(solarData['Solar_power'].median())\n",
    "print()\n",
    "print(solarData['Solar_power'].mean())\n",
    "print(solarData['Solar_power'].var())\n",
    "print(solarData['Solar_power'].std())"
   ]
  },
  {
   "cell_type": "code",
   "execution_count": 14,
   "metadata": {},
   "outputs": [
    {
     "output_type": "execute_result",
     "data": {
      "text/plain": [
       "1375826"
      ]
     },
     "metadata": {},
     "execution_count": 14
    }
   ],
   "source": [
    "len( solarData['Solar_power'] )"
   ]
  },
  {
   "cell_type": "code",
   "execution_count": 15,
   "metadata": {},
   "outputs": [
    {
     "output_type": "execute_result",
     "data": {
      "text/plain": [
       "1375826"
      ]
     },
     "metadata": {},
     "execution_count": 15
    }
   ],
   "source": [
    "len( solarData['Date'] )"
   ]
  },
  {
   "cell_type": "code",
   "execution_count": 16,
   "metadata": {},
   "outputs": [
    {
     "output_type": "display_data",
     "data": {
      "text/plain": "Canvas(toolbar=Toolbar(toolitems=[('Home', 'Reset original view', 'home', 'home'), ('Back', 'Back to previous …",
      "application/vnd.jupyter.widget-view+json": {
       "version_major": 2,
       "version_minor": 0,
       "model_id": "6eef3d35cc7044e9b81c21c59a50d3ab"
      }
     },
     "metadata": {}
    }
   ],
   "source": [
    "# Plot a histogram of individual generation to get a feel for the distribution\n",
    "x = np.arange(1375826)\n",
    "plt.figure()\n",
    "plt.hist(solarData['Solar_power'], bins=30, edgecolor='black', linewidth=1)\n",
    "plt.xlabel(\"power output (watts\")\n",
    "plt.ylabel(\"Number of occurences\")\n",
    "plt.show()"
   ]
  },
  {
   "cell_type": "code",
   "execution_count": 17,
   "metadata": {},
   "outputs": [],
   "source": [
    "# Now need to accumulate power per hour \n",
    "hour = -1\n",
    "# This will contain a list of tuples where 0th index is date, 1st is hour of day (24 - hour based), 2nd is total generation per hour\n",
    "date_hour_generation = [] \n",
    "\n",
    "# This is how many hours had at least 1 corrupted/garbage value \n",
    "numAdjusted = 0\n",
    "\n",
    "# loop through all the data, \n",
    "# NaN values in an hour will be replaced with the average for the non-NaN values in the hour \n",
    "i = 0\n",
    "while i < len(solarData['Solar_power']):\n",
    "    hourTotal = 0\n",
    "    numNaN = 0\n",
    "    numTotal = 0\n",
    "    hour = solarData['Time'][i].hour\n",
    "    # get statistics for this single hour \n",
    "    while i < len(solarData['Solar_power']) and hour == solarData['Time'][i].hour:\n",
    "        numTotal += 1 \n",
    "        if math.isnan(solarData['Solar_power'][i]):\n",
    "            numNaN += 1 \n",
    "        else: \n",
    "            hourTotal += solarData['Solar_power'][i]\n",
    "        i += 1\n",
    "    # end while inner \n",
    "    if numNaN == 0:\n",
    "        date_hour_generation.append((solarData['Date'][i -1], hour, hourTotal))\n",
    "    elif numNaN == numTotal: # all values of an hour are garbage, skip \n",
    "        continue\n",
    "    else:\n",
    "        numAdjusted += 1 \n",
    "        notNaN = numTotal - numNaN\n",
    "        avg = hourTotal / notNaN\n",
    "        hourTotal = avg * numTotal \n",
    "        date_hour_generation.append((solarData['Date'][i-1], hour, hourTotal))\n",
    "\n",
    "# end while outer \n",
    "\n"
   ]
  },
  {
   "cell_type": "code",
   "execution_count": 18,
   "metadata": {},
   "outputs": [
    {
     "output_type": "stream",
     "name": "stdout",
     "text": [
      "Number of hours adjusted: 2513\nTotal number of hours computed: 5601\nPercentage of hours with some degree of adjustment: 44.87%\n"
     ]
    }
   ],
   "source": [
    "print(f'Number of hours adjusted: {numAdjusted}')\n",
    "print(f'Total number of hours computed: {len(date_hour_generation)}')\n",
    "print(f'Percentage of hours with some degree of adjustment: {( (numAdjusted / len(date_hour_generation) )* 100 ) :.2f}%')"
   ]
  },
  {
   "cell_type": "code",
   "execution_count": 19,
   "metadata": {},
   "outputs": [
    {
     "output_type": "execute_result",
     "data": {
      "text/plain": [
       "            Date  Hour      Generated\n",
       "5596  2021-03-08    17  883388.264795\n",
       "5597  2021-03-08    18  535842.293230\n",
       "5598  2021-03-09     8  528051.160382\n",
       "5599  2021-03-09     9  557653.033407\n",
       "5600  2021-03-09    10  407960.580239"
      ],
      "text/html": "<div>\n<style scoped>\n    .dataframe tbody tr th:only-of-type {\n        vertical-align: middle;\n    }\n\n    .dataframe tbody tr th {\n        vertical-align: top;\n    }\n\n    .dataframe thead th {\n        text-align: right;\n    }\n</style>\n<table border=\"1\" class=\"dataframe\">\n  <thead>\n    <tr style=\"text-align: right;\">\n      <th></th>\n      <th>Date</th>\n      <th>Hour</th>\n      <th>Generated</th>\n    </tr>\n  </thead>\n  <tbody>\n    <tr>\n      <th>5596</th>\n      <td>2021-03-08</td>\n      <td>17</td>\n      <td>883388.264795</td>\n    </tr>\n    <tr>\n      <th>5597</th>\n      <td>2021-03-08</td>\n      <td>18</td>\n      <td>535842.293230</td>\n    </tr>\n    <tr>\n      <th>5598</th>\n      <td>2021-03-09</td>\n      <td>8</td>\n      <td>528051.160382</td>\n    </tr>\n    <tr>\n      <th>5599</th>\n      <td>2021-03-09</td>\n      <td>9</td>\n      <td>557653.033407</td>\n    </tr>\n    <tr>\n      <th>5600</th>\n      <td>2021-03-09</td>\n      <td>10</td>\n      <td>407960.580239</td>\n    </tr>\n  </tbody>\n</table>\n</div>"
     },
     "metadata": {},
     "execution_count": 19
    }
   ],
   "source": [
    "# sData is the cumulated generation data frame \n",
    "sData = pd.DataFrame(date_hour_generation, columns=['Date','Hour', 'Generated'])\n",
    "sData.tail()"
   ]
  },
  {
   "cell_type": "code",
   "execution_count": 20,
   "metadata": {},
   "outputs": [
    {
     "output_type": "execute_result",
     "data": {
      "text/plain": [
       "         Date  Hour     Generated\n",
       "0  2019-07-11    13  1.900515e+07\n",
       "1  2019-07-11    14  2.513928e+07\n",
       "2  2019-07-11    16  2.020907e+07\n",
       "3  2019-07-11    17  1.596492e+07\n",
       "4  2019-07-11    18  1.071462e+07"
      ],
      "text/html": "<div>\n<style scoped>\n    .dataframe tbody tr th:only-of-type {\n        vertical-align: middle;\n    }\n\n    .dataframe tbody tr th {\n        vertical-align: top;\n    }\n\n    .dataframe thead th {\n        text-align: right;\n    }\n</style>\n<table border=\"1\" class=\"dataframe\">\n  <thead>\n    <tr style=\"text-align: right;\">\n      <th></th>\n      <th>Date</th>\n      <th>Hour</th>\n      <th>Generated</th>\n    </tr>\n  </thead>\n  <tbody>\n    <tr>\n      <th>0</th>\n      <td>2019-07-11</td>\n      <td>13</td>\n      <td>1.900515e+07</td>\n    </tr>\n    <tr>\n      <th>1</th>\n      <td>2019-07-11</td>\n      <td>14</td>\n      <td>2.513928e+07</td>\n    </tr>\n    <tr>\n      <th>2</th>\n      <td>2019-07-11</td>\n      <td>16</td>\n      <td>2.020907e+07</td>\n    </tr>\n    <tr>\n      <th>3</th>\n      <td>2019-07-11</td>\n      <td>17</td>\n      <td>1.596492e+07</td>\n    </tr>\n    <tr>\n      <th>4</th>\n      <td>2019-07-11</td>\n      <td>18</td>\n      <td>1.071462e+07</td>\n    </tr>\n  </tbody>\n</table>\n</div>"
     },
     "metadata": {},
     "execution_count": 20
    }
   ],
   "source": [
    "sData.head()"
   ]
  },
  {
   "cell_type": "code",
   "execution_count": 21,
   "metadata": {},
   "outputs": [
    {
     "output_type": "display_data",
     "data": {
      "text/plain": "Canvas(toolbar=Toolbar(toolitems=[('Home', 'Reset original view', 'home', 'home'), ('Back', 'Back to previous …",
      "application/vnd.jupyter.widget-view+json": {
       "version_major": 2,
       "version_minor": 0,
       "model_id": "b6b1d8566d524d2b98f0022ec63d6f47"
      }
     },
     "metadata": {}
    }
   ],
   "source": [
    "x = np.arange(5601)\n",
    "plt.figure()\n",
    "plt.hist(sData['Generated'], bins=30, edgecolor='black', linewidth=1)\n",
    "plt.xlabel(\"power output\")\n",
    "plt.ylabel(\"Number of occurences\")\n",
    "plt.show()"
   ]
  },
  {
   "cell_type": "code",
   "execution_count": 22,
   "metadata": {},
   "outputs": [
    {
     "output_type": "stream",
     "name": "stdout",
     "text": [
      "6801.6095491037695\n25778214.886890035\n2844872.2990282103\n\n4459052.625758316\n20456529549647.016\n4522889.51331414\n"
     ]
    }
   ],
   "source": [
    "print(sData['Generated'].min())\n",
    "print(sData['Generated'].max())\n",
    "print(sData['Generated'].median())\n",
    "print()\n",
    "print(sData['Generated'].mean())\n",
    "print(sData['Generated'].var())\n",
    "print(sData['Generated'].std())"
   ]
  },
  {
   "cell_type": "code",
   "execution_count": 23,
   "metadata": {},
   "outputs": [
    {
     "output_type": "execute_result",
     "data": {
      "text/plain": [
       "Index(['date_time', 'station_id', 'rh', 'eto', 'etr', 'rso', 'ea_avg',\n",
       "       'precip', 'rh_max', 'rh_min', 'rh_tmn', 'rh_tmx', 'td_avg', 'td_max',\n",
       "       'td_min', 'td_tmn', 'td_tmx', 'co2_avg', 'ppf_avg', 'solarmj',\n",
       "       'wet_pct', 'airt_avg', 'airt_max', 'airt_min', 'airt_tmn', 'airt_tmx',\n",
       "       'lwdn_avg', 'lwup_avg', 'pressure', 'swdn_avg', 'swup_avg', 'windd_sd',\n",
       "       'windd_avg', 'winds_avg', 'winds_max', 'winds_tmx', 'netrad_avg',\n",
       "       'fan_rmp_avg', 'visibilitymiles', 'batt_volt_min', 'surfacet1_avg',\n",
       "       'surfacet2_avg', 'visibilitymiles_avg', 'pressurekpasealevel'],\n",
       "      dtype='object')"
      ]
     },
     "metadata": {},
     "execution_count": 23
    }
   ],
   "source": [
    "weatherpf = pd.read_csv(weather_data_filename, sep=',')\n",
    "weatherpf.columns"
   ]
  },
  {
   "cell_type": "code",
   "execution_count": 24,
   "metadata": {},
   "outputs": [
    {
     "output_type": "execute_result",
     "data": {
      "text/plain": [
       "             date_time  station_id  rh    eto    etr  rso  ea_avg  precip  \\\n",
       "0  2019-07-11 00:59:59     1279257  30  0.002  0.003  0.0   0.741     0.0   \n",
       "1  2019-07-11 01:59:59     1279257  31  0.002  0.003  0.0   0.732     0.0   \n",
       "2  2019-07-11 02:59:59     1279257  32  0.001  0.002  0.0   0.716     0.0   \n",
       "3  2019-07-11 03:59:59     1279257  32  0.002  0.002  0.0   0.703     0.0   \n",
       "4  2019-07-11 04:59:59     1279257  32  0.001  0.002  0.0   0.686     0.0   \n",
       "\n",
       "   rh_max  rh_min  ... winds_max           winds_tmx  netrad_avg  fan_rmp_avg  \\\n",
       "0      31      29  ...    18.119  11JUL2019:00:47:39      -63.37         4252   \n",
       "1      32      30  ...    13.198  11JUL2019:01:56:17      -61.05         4263   \n",
       "2      33      30  ...    17.448  11JUL2019:02:41:18      -61.61         4275   \n",
       "3      33      30  ...    16.553  11JUL2019:03:02:49      -60.99         4241   \n",
       "4      33      30  ...    14.987  11JUL2019:04:52:07      -60.79         4231   \n",
       "\n",
       "   visibilitymiles batt_volt_min surfacet1_avg  surfacet2_avg  \\\n",
       "0           19.884         11.79          60.8           60.3   \n",
       "1           19.884         11.79          58.5           58.3   \n",
       "2           19.884         11.82          58.3           58.1   \n",
       "3           19.635         11.78          57.6           57.4   \n",
       "4           19.884         11.81          56.8           56.8   \n",
       "\n",
       "   visibilitymiles_avg  pressurekpasealevel  \n",
       "0               19.822                101.6  \n",
       "1               19.822                101.6  \n",
       "2               19.822                101.6  \n",
       "3               19.822                101.6  \n",
       "4               19.884                101.7  \n",
       "\n",
       "[5 rows x 44 columns]"
      ],
      "text/html": "<div>\n<style scoped>\n    .dataframe tbody tr th:only-of-type {\n        vertical-align: middle;\n    }\n\n    .dataframe tbody tr th {\n        vertical-align: top;\n    }\n\n    .dataframe thead th {\n        text-align: right;\n    }\n</style>\n<table border=\"1\" class=\"dataframe\">\n  <thead>\n    <tr style=\"text-align: right;\">\n      <th></th>\n      <th>date_time</th>\n      <th>station_id</th>\n      <th>rh</th>\n      <th>eto</th>\n      <th>etr</th>\n      <th>rso</th>\n      <th>ea_avg</th>\n      <th>precip</th>\n      <th>rh_max</th>\n      <th>rh_min</th>\n      <th>...</th>\n      <th>winds_max</th>\n      <th>winds_tmx</th>\n      <th>netrad_avg</th>\n      <th>fan_rmp_avg</th>\n      <th>visibilitymiles</th>\n      <th>batt_volt_min</th>\n      <th>surfacet1_avg</th>\n      <th>surfacet2_avg</th>\n      <th>visibilitymiles_avg</th>\n      <th>pressurekpasealevel</th>\n    </tr>\n  </thead>\n  <tbody>\n    <tr>\n      <th>0</th>\n      <td>2019-07-11 00:59:59</td>\n      <td>1279257</td>\n      <td>30</td>\n      <td>0.002</td>\n      <td>0.003</td>\n      <td>0.0</td>\n      <td>0.741</td>\n      <td>0.0</td>\n      <td>31</td>\n      <td>29</td>\n      <td>...</td>\n      <td>18.119</td>\n      <td>11JUL2019:00:47:39</td>\n      <td>-63.37</td>\n      <td>4252</td>\n      <td>19.884</td>\n      <td>11.79</td>\n      <td>60.8</td>\n      <td>60.3</td>\n      <td>19.822</td>\n      <td>101.6</td>\n    </tr>\n    <tr>\n      <th>1</th>\n      <td>2019-07-11 01:59:59</td>\n      <td>1279257</td>\n      <td>31</td>\n      <td>0.002</td>\n      <td>0.003</td>\n      <td>0.0</td>\n      <td>0.732</td>\n      <td>0.0</td>\n      <td>32</td>\n      <td>30</td>\n      <td>...</td>\n      <td>13.198</td>\n      <td>11JUL2019:01:56:17</td>\n      <td>-61.05</td>\n      <td>4263</td>\n      <td>19.884</td>\n      <td>11.79</td>\n      <td>58.5</td>\n      <td>58.3</td>\n      <td>19.822</td>\n      <td>101.6</td>\n    </tr>\n    <tr>\n      <th>2</th>\n      <td>2019-07-11 02:59:59</td>\n      <td>1279257</td>\n      <td>32</td>\n      <td>0.001</td>\n      <td>0.002</td>\n      <td>0.0</td>\n      <td>0.716</td>\n      <td>0.0</td>\n      <td>33</td>\n      <td>30</td>\n      <td>...</td>\n      <td>17.448</td>\n      <td>11JUL2019:02:41:18</td>\n      <td>-61.61</td>\n      <td>4275</td>\n      <td>19.884</td>\n      <td>11.82</td>\n      <td>58.3</td>\n      <td>58.1</td>\n      <td>19.822</td>\n      <td>101.6</td>\n    </tr>\n    <tr>\n      <th>3</th>\n      <td>2019-07-11 03:59:59</td>\n      <td>1279257</td>\n      <td>32</td>\n      <td>0.002</td>\n      <td>0.002</td>\n      <td>0.0</td>\n      <td>0.703</td>\n      <td>0.0</td>\n      <td>33</td>\n      <td>30</td>\n      <td>...</td>\n      <td>16.553</td>\n      <td>11JUL2019:03:02:49</td>\n      <td>-60.99</td>\n      <td>4241</td>\n      <td>19.635</td>\n      <td>11.78</td>\n      <td>57.6</td>\n      <td>57.4</td>\n      <td>19.822</td>\n      <td>101.6</td>\n    </tr>\n    <tr>\n      <th>4</th>\n      <td>2019-07-11 04:59:59</td>\n      <td>1279257</td>\n      <td>32</td>\n      <td>0.001</td>\n      <td>0.002</td>\n      <td>0.0</td>\n      <td>0.686</td>\n      <td>0.0</td>\n      <td>33</td>\n      <td>30</td>\n      <td>...</td>\n      <td>14.987</td>\n      <td>11JUL2019:04:52:07</td>\n      <td>-60.79</td>\n      <td>4231</td>\n      <td>19.884</td>\n      <td>11.81</td>\n      <td>56.8</td>\n      <td>56.8</td>\n      <td>19.884</td>\n      <td>101.7</td>\n    </tr>\n  </tbody>\n</table>\n<p>5 rows × 44 columns</p>\n</div>"
     },
     "metadata": {},
     "execution_count": 24
    }
   ],
   "source": [
    "weatherpf.head()"
   ]
  },
  {
   "cell_type": "code",
   "execution_count": 25,
   "metadata": {},
   "outputs": [
    {
     "output_type": "execute_result",
     "data": {
      "text/plain": [
       "             date_time  rh    eto    etr  rso  ea_avg  precip  rh_max  rh_min  \\\n",
       "0  2019-07-11 00:59:59  30  0.002  0.003  0.0   0.741     0.0      31      29   \n",
       "1  2019-07-11 01:59:59  31  0.002  0.003  0.0   0.732     0.0      32      30   \n",
       "2  2019-07-11 02:59:59  32  0.001  0.002  0.0   0.716     0.0      33      30   \n",
       "3  2019-07-11 03:59:59  32  0.002  0.002  0.0   0.703     0.0      33      30   \n",
       "4  2019-07-11 04:59:59  32  0.001  0.002  0.0   0.686     0.0      33      30   \n",
       "\n",
       "   td_avg  ...  winds_avg  winds_max  netrad_avg  fan_rmp_avg  \\\n",
       "0    36.9  ...      5.369     18.119      -63.37         4252   \n",
       "1    36.5  ...      3.803     13.198      -61.05         4263   \n",
       "2    36.0  ...      4.698     17.448      -61.61         4275   \n",
       "3    35.4  ...      4.250     16.553      -60.99         4241   \n",
       "4    34.9  ...      4.026     14.987      -60.79         4231   \n",
       "\n",
       "   visibilitymiles  batt_volt_min  surfacet1_avg  surfacet2_avg  \\\n",
       "0           19.884          11.79           60.8           60.3   \n",
       "1           19.884          11.79           58.5           58.3   \n",
       "2           19.884          11.82           58.3           58.1   \n",
       "3           19.635          11.78           57.6           57.4   \n",
       "4           19.884          11.81           56.8           56.8   \n",
       "\n",
       "   visibilitymiles_avg  pressurekpasealevel  \n",
       "0               19.822                101.6  \n",
       "1               19.822                101.6  \n",
       "2               19.822                101.6  \n",
       "3               19.822                101.6  \n",
       "4               19.884                101.7  \n",
       "\n",
       "[5 rows x 36 columns]"
      ],
      "text/html": "<div>\n<style scoped>\n    .dataframe tbody tr th:only-of-type {\n        vertical-align: middle;\n    }\n\n    .dataframe tbody tr th {\n        vertical-align: top;\n    }\n\n    .dataframe thead th {\n        text-align: right;\n    }\n</style>\n<table border=\"1\" class=\"dataframe\">\n  <thead>\n    <tr style=\"text-align: right;\">\n      <th></th>\n      <th>date_time</th>\n      <th>rh</th>\n      <th>eto</th>\n      <th>etr</th>\n      <th>rso</th>\n      <th>ea_avg</th>\n      <th>precip</th>\n      <th>rh_max</th>\n      <th>rh_min</th>\n      <th>td_avg</th>\n      <th>...</th>\n      <th>winds_avg</th>\n      <th>winds_max</th>\n      <th>netrad_avg</th>\n      <th>fan_rmp_avg</th>\n      <th>visibilitymiles</th>\n      <th>batt_volt_min</th>\n      <th>surfacet1_avg</th>\n      <th>surfacet2_avg</th>\n      <th>visibilitymiles_avg</th>\n      <th>pressurekpasealevel</th>\n    </tr>\n  </thead>\n  <tbody>\n    <tr>\n      <th>0</th>\n      <td>2019-07-11 00:59:59</td>\n      <td>30</td>\n      <td>0.002</td>\n      <td>0.003</td>\n      <td>0.0</td>\n      <td>0.741</td>\n      <td>0.0</td>\n      <td>31</td>\n      <td>29</td>\n      <td>36.9</td>\n      <td>...</td>\n      <td>5.369</td>\n      <td>18.119</td>\n      <td>-63.37</td>\n      <td>4252</td>\n      <td>19.884</td>\n      <td>11.79</td>\n      <td>60.8</td>\n      <td>60.3</td>\n      <td>19.822</td>\n      <td>101.6</td>\n    </tr>\n    <tr>\n      <th>1</th>\n      <td>2019-07-11 01:59:59</td>\n      <td>31</td>\n      <td>0.002</td>\n      <td>0.003</td>\n      <td>0.0</td>\n      <td>0.732</td>\n      <td>0.0</td>\n      <td>32</td>\n      <td>30</td>\n      <td>36.5</td>\n      <td>...</td>\n      <td>3.803</td>\n      <td>13.198</td>\n      <td>-61.05</td>\n      <td>4263</td>\n      <td>19.884</td>\n      <td>11.79</td>\n      <td>58.5</td>\n      <td>58.3</td>\n      <td>19.822</td>\n      <td>101.6</td>\n    </tr>\n    <tr>\n      <th>2</th>\n      <td>2019-07-11 02:59:59</td>\n      <td>32</td>\n      <td>0.001</td>\n      <td>0.002</td>\n      <td>0.0</td>\n      <td>0.716</td>\n      <td>0.0</td>\n      <td>33</td>\n      <td>30</td>\n      <td>36.0</td>\n      <td>...</td>\n      <td>4.698</td>\n      <td>17.448</td>\n      <td>-61.61</td>\n      <td>4275</td>\n      <td>19.884</td>\n      <td>11.82</td>\n      <td>58.3</td>\n      <td>58.1</td>\n      <td>19.822</td>\n      <td>101.6</td>\n    </tr>\n    <tr>\n      <th>3</th>\n      <td>2019-07-11 03:59:59</td>\n      <td>32</td>\n      <td>0.002</td>\n      <td>0.002</td>\n      <td>0.0</td>\n      <td>0.703</td>\n      <td>0.0</td>\n      <td>33</td>\n      <td>30</td>\n      <td>35.4</td>\n      <td>...</td>\n      <td>4.250</td>\n      <td>16.553</td>\n      <td>-60.99</td>\n      <td>4241</td>\n      <td>19.635</td>\n      <td>11.78</td>\n      <td>57.6</td>\n      <td>57.4</td>\n      <td>19.822</td>\n      <td>101.6</td>\n    </tr>\n    <tr>\n      <th>4</th>\n      <td>2019-07-11 04:59:59</td>\n      <td>32</td>\n      <td>0.001</td>\n      <td>0.002</td>\n      <td>0.0</td>\n      <td>0.686</td>\n      <td>0.0</td>\n      <td>33</td>\n      <td>30</td>\n      <td>34.9</td>\n      <td>...</td>\n      <td>4.026</td>\n      <td>14.987</td>\n      <td>-60.79</td>\n      <td>4231</td>\n      <td>19.884</td>\n      <td>11.81</td>\n      <td>56.8</td>\n      <td>56.8</td>\n      <td>19.884</td>\n      <td>101.7</td>\n    </tr>\n  </tbody>\n</table>\n<p>5 rows × 36 columns</p>\n</div>"
     },
     "metadata": {},
     "execution_count": 25
    }
   ],
   "source": [
    "# we can't feed the date strings into our models, lets just get rid of them\n",
    "# the data is all from the same weather station. We don't need that either \n",
    "toDrop = ['station_id', 'rh_tmn', 'rh_tmx', 'td_tmn', 'td_tmx', 'airt_tmn', 'airt_tmx', 'winds_tmx']\n",
    "weatherpf = weatherpf.drop(toDrop, axis=1)\n",
    "weatherpf.head()"
   ]
  },
  {
   "cell_type": "code",
   "execution_count": 26,
   "metadata": {},
   "outputs": [],
   "source": [
    "# Seperate date and time using datetime from pandas \n",
    "weatherpf['Date']= pd.to_datetime(weatherpf['date_time']).dt.date\n",
    "weatherpf['Hour']= pd.to_datetime(weatherpf['date_time'][:]).dt.hour"
   ]
  },
  {
   "cell_type": "code",
   "execution_count": 27,
   "metadata": {},
   "outputs": [
    {
     "output_type": "execute_result",
     "data": {
      "text/plain": [
       "             date_time  rh    eto    etr  rso  ea_avg  precip  rh_max  rh_min  \\\n",
       "0  2019-07-11 00:59:59  30  0.002  0.003  0.0   0.741     0.0      31      29   \n",
       "1  2019-07-11 01:59:59  31  0.002  0.003  0.0   0.732     0.0      32      30   \n",
       "2  2019-07-11 02:59:59  32  0.001  0.002  0.0   0.716     0.0      33      30   \n",
       "3  2019-07-11 03:59:59  32  0.002  0.002  0.0   0.703     0.0      33      30   \n",
       "4  2019-07-11 04:59:59  32  0.001  0.002  0.0   0.686     0.0      33      30   \n",
       "\n",
       "   td_avg  ...  netrad_avg  fan_rmp_avg  visibilitymiles  batt_volt_min  \\\n",
       "0    36.9  ...      -63.37         4252           19.884          11.79   \n",
       "1    36.5  ...      -61.05         4263           19.884          11.79   \n",
       "2    36.0  ...      -61.61         4275           19.884          11.82   \n",
       "3    35.4  ...      -60.99         4241           19.635          11.78   \n",
       "4    34.9  ...      -60.79         4231           19.884          11.81   \n",
       "\n",
       "   surfacet1_avg  surfacet2_avg  visibilitymiles_avg  pressurekpasealevel  \\\n",
       "0           60.8           60.3               19.822                101.6   \n",
       "1           58.5           58.3               19.822                101.6   \n",
       "2           58.3           58.1               19.822                101.6   \n",
       "3           57.6           57.4               19.822                101.6   \n",
       "4           56.8           56.8               19.884                101.7   \n",
       "\n",
       "         Date  Hour  \n",
       "0  2019-07-11     0  \n",
       "1  2019-07-11     1  \n",
       "2  2019-07-11     2  \n",
       "3  2019-07-11     3  \n",
       "4  2019-07-11     4  \n",
       "\n",
       "[5 rows x 38 columns]"
      ],
      "text/html": "<div>\n<style scoped>\n    .dataframe tbody tr th:only-of-type {\n        vertical-align: middle;\n    }\n\n    .dataframe tbody tr th {\n        vertical-align: top;\n    }\n\n    .dataframe thead th {\n        text-align: right;\n    }\n</style>\n<table border=\"1\" class=\"dataframe\">\n  <thead>\n    <tr style=\"text-align: right;\">\n      <th></th>\n      <th>date_time</th>\n      <th>rh</th>\n      <th>eto</th>\n      <th>etr</th>\n      <th>rso</th>\n      <th>ea_avg</th>\n      <th>precip</th>\n      <th>rh_max</th>\n      <th>rh_min</th>\n      <th>td_avg</th>\n      <th>...</th>\n      <th>netrad_avg</th>\n      <th>fan_rmp_avg</th>\n      <th>visibilitymiles</th>\n      <th>batt_volt_min</th>\n      <th>surfacet1_avg</th>\n      <th>surfacet2_avg</th>\n      <th>visibilitymiles_avg</th>\n      <th>pressurekpasealevel</th>\n      <th>Date</th>\n      <th>Hour</th>\n    </tr>\n  </thead>\n  <tbody>\n    <tr>\n      <th>0</th>\n      <td>2019-07-11 00:59:59</td>\n      <td>30</td>\n      <td>0.002</td>\n      <td>0.003</td>\n      <td>0.0</td>\n      <td>0.741</td>\n      <td>0.0</td>\n      <td>31</td>\n      <td>29</td>\n      <td>36.9</td>\n      <td>...</td>\n      <td>-63.37</td>\n      <td>4252</td>\n      <td>19.884</td>\n      <td>11.79</td>\n      <td>60.8</td>\n      <td>60.3</td>\n      <td>19.822</td>\n      <td>101.6</td>\n      <td>2019-07-11</td>\n      <td>0</td>\n    </tr>\n    <tr>\n      <th>1</th>\n      <td>2019-07-11 01:59:59</td>\n      <td>31</td>\n      <td>0.002</td>\n      <td>0.003</td>\n      <td>0.0</td>\n      <td>0.732</td>\n      <td>0.0</td>\n      <td>32</td>\n      <td>30</td>\n      <td>36.5</td>\n      <td>...</td>\n      <td>-61.05</td>\n      <td>4263</td>\n      <td>19.884</td>\n      <td>11.79</td>\n      <td>58.5</td>\n      <td>58.3</td>\n      <td>19.822</td>\n      <td>101.6</td>\n      <td>2019-07-11</td>\n      <td>1</td>\n    </tr>\n    <tr>\n      <th>2</th>\n      <td>2019-07-11 02:59:59</td>\n      <td>32</td>\n      <td>0.001</td>\n      <td>0.002</td>\n      <td>0.0</td>\n      <td>0.716</td>\n      <td>0.0</td>\n      <td>33</td>\n      <td>30</td>\n      <td>36.0</td>\n      <td>...</td>\n      <td>-61.61</td>\n      <td>4275</td>\n      <td>19.884</td>\n      <td>11.82</td>\n      <td>58.3</td>\n      <td>58.1</td>\n      <td>19.822</td>\n      <td>101.6</td>\n      <td>2019-07-11</td>\n      <td>2</td>\n    </tr>\n    <tr>\n      <th>3</th>\n      <td>2019-07-11 03:59:59</td>\n      <td>32</td>\n      <td>0.002</td>\n      <td>0.002</td>\n      <td>0.0</td>\n      <td>0.703</td>\n      <td>0.0</td>\n      <td>33</td>\n      <td>30</td>\n      <td>35.4</td>\n      <td>...</td>\n      <td>-60.99</td>\n      <td>4241</td>\n      <td>19.635</td>\n      <td>11.78</td>\n      <td>57.6</td>\n      <td>57.4</td>\n      <td>19.822</td>\n      <td>101.6</td>\n      <td>2019-07-11</td>\n      <td>3</td>\n    </tr>\n    <tr>\n      <th>4</th>\n      <td>2019-07-11 04:59:59</td>\n      <td>32</td>\n      <td>0.001</td>\n      <td>0.002</td>\n      <td>0.0</td>\n      <td>0.686</td>\n      <td>0.0</td>\n      <td>33</td>\n      <td>30</td>\n      <td>34.9</td>\n      <td>...</td>\n      <td>-60.79</td>\n      <td>4231</td>\n      <td>19.884</td>\n      <td>11.81</td>\n      <td>56.8</td>\n      <td>56.8</td>\n      <td>19.884</td>\n      <td>101.7</td>\n      <td>2019-07-11</td>\n      <td>4</td>\n    </tr>\n  </tbody>\n</table>\n<p>5 rows × 38 columns</p>\n</div>"
     },
     "metadata": {},
     "execution_count": 27
    }
   ],
   "source": [
    "weatherpf.head()"
   ]
  },
  {
   "cell_type": "code",
   "execution_count": 28,
   "metadata": {},
   "outputs": [
    {
     "output_type": "execute_result",
     "data": {
      "text/plain": [
       "numpy.int64"
      ]
     },
     "metadata": {},
     "execution_count": 28
    }
   ],
   "source": [
    "type(weatherpf['Hour'][0])"
   ]
  },
  {
   "cell_type": "code",
   "execution_count": 29,
   "metadata": {},
   "outputs": [],
   "source": [
    "# The weather sample is taken at the last minute of the hour, so the hour is one off \n",
    "weatherpf['Hour'] = (weatherpf['Hour'] + 1 )% 24"
   ]
  },
  {
   "source": [
    "we want to combine the generation data to the weather data at the same time\n",
    "we are going to predict the previous hours' weather to predict the next hour \n",
    "i.e. weather[hour_i] will try to predict generation[hour_i]\n",
    "A BETTER WAY TO DO THIS:\n",
    "set the date_hour as the index and then just join the two df's"
   ],
   "cell_type": "markdown",
   "metadata": {}
  },
  {
   "cell_type": "code",
   "execution_count": 30,
   "metadata": {},
   "outputs": [],
   "source": [
    "Generated = np.full((len(weatherpf), 1), math.nan)"
   ]
  },
  {
   "cell_type": "code",
   "execution_count": 31,
   "metadata": {},
   "outputs": [
    {
     "output_type": "stream",
     "name": "stdout",
     "text": [
      "5601\n14171\n"
     ]
    }
   ],
   "source": [
    "print(len(sData))\n",
    "print(len(Generated))\n"
   ]
  },
  {
   "cell_type": "code",
   "execution_count": 32,
   "metadata": {},
   "outputs": [],
   "source": [
    "\n",
    "wi = 0 # weather index\n",
    "notFound = 0\n",
    "nf = []\n",
    "genInd = 0 # generation index\n",
    "# loop through all the generation\n",
    "\n",
    "lastWI = 0\n",
    "while genInd < len(sData):\n",
    "    added = False\n",
    "    wi = lastWI\n",
    "    while wi < len(weatherpf) and not added:\n",
    "        # hour / date matches! \n",
    "        if weatherpf['Date'][wi] == sData['Date'][genInd] and weatherpf['Hour'][wi] == sData['Hour'][genInd]:\n",
    "            Generated[wi] = sData['Generated'][genInd]\n",
    "            genInd += 1\n",
    "            lastWI = wi\n",
    "            added = True\n",
    "        else:\n",
    "            wi += 1   \n",
    "    if not added:\n",
    "        notFound += 1\n",
    "        nf.append((sData['Date'][genInd], sData['Hour'][genInd]))\n",
    "        # print((sData['Date'][genInd], sData['Hour'][genInd]))\n",
    "        genInd += 1\n",
    "      \n",
    "\n"
   ]
  },
  {
   "cell_type": "code",
   "execution_count": 33,
   "metadata": {},
   "outputs": [
    {
     "output_type": "stream",
     "name": "stdout",
     "text": [
      "155\n"
     ]
    }
   ],
   "source": [
    "print(len(nf))"
   ]
  },
  {
   "cell_type": "code",
   "execution_count": 34,
   "metadata": {},
   "outputs": [
    {
     "output_type": "execute_result",
     "data": {
      "text/plain": [
       "             date_time  rh    eto    etr  rso  ea_avg  precip  rh_max  rh_min  \\\n",
       "0  2019-07-11 00:59:59  30  0.002  0.003  0.0   0.741     0.0      31      29   \n",
       "1  2019-07-11 01:59:59  31  0.002  0.003  0.0   0.732     0.0      32      30   \n",
       "2  2019-07-11 02:59:59  32  0.001  0.002  0.0   0.716     0.0      33      30   \n",
       "3  2019-07-11 03:59:59  32  0.002  0.002  0.0   0.703     0.0      33      30   \n",
       "4  2019-07-11 04:59:59  32  0.001  0.002  0.0   0.686     0.0      33      30   \n",
       "\n",
       "   td_avg  ...  fan_rmp_avg  visibilitymiles  batt_volt_min  surfacet1_avg  \\\n",
       "0    36.9  ...         4252           19.884          11.79           60.8   \n",
       "1    36.5  ...         4263           19.884          11.79           58.5   \n",
       "2    36.0  ...         4275           19.884          11.82           58.3   \n",
       "3    35.4  ...         4241           19.635          11.78           57.6   \n",
       "4    34.9  ...         4231           19.884          11.81           56.8   \n",
       "\n",
       "   surfacet2_avg  visibilitymiles_avg  pressurekpasealevel        Date  Hour  \\\n",
       "0           60.3               19.822                101.6  2019-07-11     1   \n",
       "1           58.3               19.822                101.6  2019-07-11     2   \n",
       "2           58.1               19.822                101.6  2019-07-11     3   \n",
       "3           57.4               19.822                101.6  2019-07-11     4   \n",
       "4           56.8               19.884                101.7  2019-07-11     5   \n",
       "\n",
       "   Generated  \n",
       "0        NaN  \n",
       "1        NaN  \n",
       "2        NaN  \n",
       "3        NaN  \n",
       "4        NaN  \n",
       "\n",
       "[5 rows x 39 columns]"
      ],
      "text/html": "<div>\n<style scoped>\n    .dataframe tbody tr th:only-of-type {\n        vertical-align: middle;\n    }\n\n    .dataframe tbody tr th {\n        vertical-align: top;\n    }\n\n    .dataframe thead th {\n        text-align: right;\n    }\n</style>\n<table border=\"1\" class=\"dataframe\">\n  <thead>\n    <tr style=\"text-align: right;\">\n      <th></th>\n      <th>date_time</th>\n      <th>rh</th>\n      <th>eto</th>\n      <th>etr</th>\n      <th>rso</th>\n      <th>ea_avg</th>\n      <th>precip</th>\n      <th>rh_max</th>\n      <th>rh_min</th>\n      <th>td_avg</th>\n      <th>...</th>\n      <th>fan_rmp_avg</th>\n      <th>visibilitymiles</th>\n      <th>batt_volt_min</th>\n      <th>surfacet1_avg</th>\n      <th>surfacet2_avg</th>\n      <th>visibilitymiles_avg</th>\n      <th>pressurekpasealevel</th>\n      <th>Date</th>\n      <th>Hour</th>\n      <th>Generated</th>\n    </tr>\n  </thead>\n  <tbody>\n    <tr>\n      <th>0</th>\n      <td>2019-07-11 00:59:59</td>\n      <td>30</td>\n      <td>0.002</td>\n      <td>0.003</td>\n      <td>0.0</td>\n      <td>0.741</td>\n      <td>0.0</td>\n      <td>31</td>\n      <td>29</td>\n      <td>36.9</td>\n      <td>...</td>\n      <td>4252</td>\n      <td>19.884</td>\n      <td>11.79</td>\n      <td>60.8</td>\n      <td>60.3</td>\n      <td>19.822</td>\n      <td>101.6</td>\n      <td>2019-07-11</td>\n      <td>1</td>\n      <td>NaN</td>\n    </tr>\n    <tr>\n      <th>1</th>\n      <td>2019-07-11 01:59:59</td>\n      <td>31</td>\n      <td>0.002</td>\n      <td>0.003</td>\n      <td>0.0</td>\n      <td>0.732</td>\n      <td>0.0</td>\n      <td>32</td>\n      <td>30</td>\n      <td>36.5</td>\n      <td>...</td>\n      <td>4263</td>\n      <td>19.884</td>\n      <td>11.79</td>\n      <td>58.5</td>\n      <td>58.3</td>\n      <td>19.822</td>\n      <td>101.6</td>\n      <td>2019-07-11</td>\n      <td>2</td>\n      <td>NaN</td>\n    </tr>\n    <tr>\n      <th>2</th>\n      <td>2019-07-11 02:59:59</td>\n      <td>32</td>\n      <td>0.001</td>\n      <td>0.002</td>\n      <td>0.0</td>\n      <td>0.716</td>\n      <td>0.0</td>\n      <td>33</td>\n      <td>30</td>\n      <td>36.0</td>\n      <td>...</td>\n      <td>4275</td>\n      <td>19.884</td>\n      <td>11.82</td>\n      <td>58.3</td>\n      <td>58.1</td>\n      <td>19.822</td>\n      <td>101.6</td>\n      <td>2019-07-11</td>\n      <td>3</td>\n      <td>NaN</td>\n    </tr>\n    <tr>\n      <th>3</th>\n      <td>2019-07-11 03:59:59</td>\n      <td>32</td>\n      <td>0.002</td>\n      <td>0.002</td>\n      <td>0.0</td>\n      <td>0.703</td>\n      <td>0.0</td>\n      <td>33</td>\n      <td>30</td>\n      <td>35.4</td>\n      <td>...</td>\n      <td>4241</td>\n      <td>19.635</td>\n      <td>11.78</td>\n      <td>57.6</td>\n      <td>57.4</td>\n      <td>19.822</td>\n      <td>101.6</td>\n      <td>2019-07-11</td>\n      <td>4</td>\n      <td>NaN</td>\n    </tr>\n    <tr>\n      <th>4</th>\n      <td>2019-07-11 04:59:59</td>\n      <td>32</td>\n      <td>0.001</td>\n      <td>0.002</td>\n      <td>0.0</td>\n      <td>0.686</td>\n      <td>0.0</td>\n      <td>33</td>\n      <td>30</td>\n      <td>34.9</td>\n      <td>...</td>\n      <td>4231</td>\n      <td>19.884</td>\n      <td>11.81</td>\n      <td>56.8</td>\n      <td>56.8</td>\n      <td>19.884</td>\n      <td>101.7</td>\n      <td>2019-07-11</td>\n      <td>5</td>\n      <td>NaN</td>\n    </tr>\n  </tbody>\n</table>\n<p>5 rows × 39 columns</p>\n</div>"
     },
     "metadata": {},
     "execution_count": 34
    }
   ],
   "source": [
    "weatherpf['Generated'] = Generated\n",
    "weatherpf.head()"
   ]
  },
  {
   "cell_type": "code",
   "execution_count": 35,
   "metadata": {},
   "outputs": [
    {
     "output_type": "execute_result",
     "data": {
      "text/plain": [
       "              date_time  rh    eto    etr    rso  ea_avg  precip  rh_max  \\\n",
       "12  2019-07-11 12:59:59  20  0.027  0.031  3.518   0.968     0.0      25   \n",
       "13  2019-07-11 13:59:59  18  0.029  0.033  3.472   0.848     0.0      20   \n",
       "15  2019-07-11 15:59:59  16  0.027  0.031  2.782   0.842     0.0      18   \n",
       "16  2019-07-11 16:59:59  16  0.022  0.026  2.202   0.782     0.0      19   \n",
       "17  2019-07-11 17:59:59  23  0.017  0.020  1.534   0.826     0.0      32   \n",
       "\n",
       "    rh_min  td_avg  ...  fan_rmp_avg  visibilitymiles  batt_volt_min  \\\n",
       "12      15    43.5  ...         4511           17.771          12.55   \n",
       "13      15    40.3  ...         4490           12.676          12.55   \n",
       "15      13    40.1  ...         4470           19.884          12.55   \n",
       "16      13    38.1  ...         4469           19.884          12.53   \n",
       "17      14    39.6  ...         4399           19.884          12.23   \n",
       "\n",
       "    surfacet1_avg  surfacet2_avg  visibilitymiles_avg  pressurekpasealevel  \\\n",
       "12           92.1           95.0               18.765                101.6   \n",
       "13           91.0           94.8               18.765                101.5   \n",
       "15           86.7           93.9               19.014                101.4   \n",
       "16           85.1           88.9               19.573                101.3   \n",
       "17           83.5           78.1               19.014                101.3   \n",
       "\n",
       "          Date  Hour     Generated  \n",
       "12  2019-07-11    13  1.900515e+07  \n",
       "13  2019-07-11    14  2.513928e+07  \n",
       "15  2019-07-11    16  2.020907e+07  \n",
       "16  2019-07-11    17  1.596492e+07  \n",
       "17  2019-07-11    18  1.071462e+07  \n",
       "\n",
       "[5 rows x 39 columns]"
      ],
      "text/html": "<div>\n<style scoped>\n    .dataframe tbody tr th:only-of-type {\n        vertical-align: middle;\n    }\n\n    .dataframe tbody tr th {\n        vertical-align: top;\n    }\n\n    .dataframe thead th {\n        text-align: right;\n    }\n</style>\n<table border=\"1\" class=\"dataframe\">\n  <thead>\n    <tr style=\"text-align: right;\">\n      <th></th>\n      <th>date_time</th>\n      <th>rh</th>\n      <th>eto</th>\n      <th>etr</th>\n      <th>rso</th>\n      <th>ea_avg</th>\n      <th>precip</th>\n      <th>rh_max</th>\n      <th>rh_min</th>\n      <th>td_avg</th>\n      <th>...</th>\n      <th>fan_rmp_avg</th>\n      <th>visibilitymiles</th>\n      <th>batt_volt_min</th>\n      <th>surfacet1_avg</th>\n      <th>surfacet2_avg</th>\n      <th>visibilitymiles_avg</th>\n      <th>pressurekpasealevel</th>\n      <th>Date</th>\n      <th>Hour</th>\n      <th>Generated</th>\n    </tr>\n  </thead>\n  <tbody>\n    <tr>\n      <th>12</th>\n      <td>2019-07-11 12:59:59</td>\n      <td>20</td>\n      <td>0.027</td>\n      <td>0.031</td>\n      <td>3.518</td>\n      <td>0.968</td>\n      <td>0.0</td>\n      <td>25</td>\n      <td>15</td>\n      <td>43.5</td>\n      <td>...</td>\n      <td>4511</td>\n      <td>17.771</td>\n      <td>12.55</td>\n      <td>92.1</td>\n      <td>95.0</td>\n      <td>18.765</td>\n      <td>101.6</td>\n      <td>2019-07-11</td>\n      <td>13</td>\n      <td>1.900515e+07</td>\n    </tr>\n    <tr>\n      <th>13</th>\n      <td>2019-07-11 13:59:59</td>\n      <td>18</td>\n      <td>0.029</td>\n      <td>0.033</td>\n      <td>3.472</td>\n      <td>0.848</td>\n      <td>0.0</td>\n      <td>20</td>\n      <td>15</td>\n      <td>40.3</td>\n      <td>...</td>\n      <td>4490</td>\n      <td>12.676</td>\n      <td>12.55</td>\n      <td>91.0</td>\n      <td>94.8</td>\n      <td>18.765</td>\n      <td>101.5</td>\n      <td>2019-07-11</td>\n      <td>14</td>\n      <td>2.513928e+07</td>\n    </tr>\n    <tr>\n      <th>15</th>\n      <td>2019-07-11 15:59:59</td>\n      <td>16</td>\n      <td>0.027</td>\n      <td>0.031</td>\n      <td>2.782</td>\n      <td>0.842</td>\n      <td>0.0</td>\n      <td>18</td>\n      <td>13</td>\n      <td>40.1</td>\n      <td>...</td>\n      <td>4470</td>\n      <td>19.884</td>\n      <td>12.55</td>\n      <td>86.7</td>\n      <td>93.9</td>\n      <td>19.014</td>\n      <td>101.4</td>\n      <td>2019-07-11</td>\n      <td>16</td>\n      <td>2.020907e+07</td>\n    </tr>\n    <tr>\n      <th>16</th>\n      <td>2019-07-11 16:59:59</td>\n      <td>16</td>\n      <td>0.022</td>\n      <td>0.026</td>\n      <td>2.202</td>\n      <td>0.782</td>\n      <td>0.0</td>\n      <td>19</td>\n      <td>13</td>\n      <td>38.1</td>\n      <td>...</td>\n      <td>4469</td>\n      <td>19.884</td>\n      <td>12.53</td>\n      <td>85.1</td>\n      <td>88.9</td>\n      <td>19.573</td>\n      <td>101.3</td>\n      <td>2019-07-11</td>\n      <td>17</td>\n      <td>1.596492e+07</td>\n    </tr>\n    <tr>\n      <th>17</th>\n      <td>2019-07-11 17:59:59</td>\n      <td>23</td>\n      <td>0.017</td>\n      <td>0.020</td>\n      <td>1.534</td>\n      <td>0.826</td>\n      <td>0.0</td>\n      <td>32</td>\n      <td>14</td>\n      <td>39.6</td>\n      <td>...</td>\n      <td>4399</td>\n      <td>19.884</td>\n      <td>12.23</td>\n      <td>83.5</td>\n      <td>78.1</td>\n      <td>19.014</td>\n      <td>101.3</td>\n      <td>2019-07-11</td>\n      <td>18</td>\n      <td>1.071462e+07</td>\n    </tr>\n  </tbody>\n</table>\n<p>5 rows × 39 columns</p>\n</div>"
     },
     "metadata": {},
     "execution_count": 35
    }
   ],
   "source": [
    "# remove rows that don't have a generation value \n",
    "weatherpf.dropna(axis=0, inplace=True)\n",
    "weatherpf.head()"
   ]
  },
  {
   "source": [
    "## Add astral data to input\n"
   ],
   "cell_type": "markdown",
   "metadata": {}
  },
  {
   "cell_type": "code",
   "execution_count": 36,
   "metadata": {},
   "outputs": [
    {
     "output_type": "execute_result",
     "data": {
      "text/plain": [
       "datetime.datetime(2019, 7, 11, 12, 59, 59)"
      ]
     },
     "metadata": {},
     "execution_count": 36
    }
   ],
   "source": [
    "datetime.strptime(weatherpf['date_time'][12], \"%Y-%m-%d %H:%M:%S\")"
   ]
  },
  {
   "cell_type": "code",
   "execution_count": 37,
   "metadata": {},
   "outputs": [],
   "source": [
    "# use the class I wrote \n",
    "loganAstral = LoganAstral()\n",
    "# list for elevation, azimuth, zenith \n",
    "ElAzZe = []\n",
    "\n",
    "for dtstr in weatherpf['date_time']:\n",
    "    dt = datetime.strptime(dtstr, \"%Y-%m-%d %H:%M:%S\")\n",
    "    ElAzZe.append(loganAstral.computeElAzZe(dt))\n"
   ]
  },
  {
   "cell_type": "code",
   "execution_count": 38,
   "metadata": {},
   "outputs": [],
   "source": [
    "elevationAzimuthZenith = np.array(ElAzZe)"
   ]
  },
  {
   "cell_type": "code",
   "execution_count": 39,
   "metadata": {},
   "outputs": [],
   "source": [
    "weatherpf['Elevation'] = elevationAzimuthZenith[:, 0]\n",
    "weatherpf['Azimuth'] = elevationAzimuthZenith[:, 1]\n",
    "weatherpf['Zenith'] = elevationAzimuthZenith[:, 2] "
   ]
  },
  {
   "cell_type": "code",
   "execution_count": 40,
   "metadata": {},
   "outputs": [],
   "source": [
    "# we will drop the date, but lets keep the month, hour of day, and day of month\n",
    "weatherpf['Month'] = pd.to_datetime(weatherpf['date_time']).dt.month\n",
    "weatherpf['Day'] = pd.to_datetime(weatherpf['date_time']).dt.day"
   ]
  },
  {
   "cell_type": "code",
   "execution_count": 41,
   "metadata": {},
   "outputs": [
    {
     "output_type": "execute_result",
     "data": {
      "text/plain": [
       "Index(['date_time', 'rh', 'eto', 'etr', 'rso', 'ea_avg', 'precip', 'rh_max',\n",
       "       'rh_min', 'td_avg', 'td_max', 'td_min', 'co2_avg', 'ppf_avg', 'solarmj',\n",
       "       'wet_pct', 'airt_avg', 'airt_max', 'airt_min', 'lwdn_avg', 'lwup_avg',\n",
       "       'pressure', 'swdn_avg', 'swup_avg', 'windd_sd', 'windd_avg',\n",
       "       'winds_avg', 'winds_max', 'netrad_avg', 'fan_rmp_avg',\n",
       "       'visibilitymiles', 'batt_volt_min', 'surfacet1_avg', 'surfacet2_avg',\n",
       "       'visibilitymiles_avg', 'pressurekpasealevel', 'Date', 'Hour',\n",
       "       'Generated', 'Elevation', 'Azimuth', 'Zenith', 'Month', 'Day'],\n",
       "      dtype='object')"
      ]
     },
     "metadata": {},
     "execution_count": 41
    }
   ],
   "source": [
    "weatherpf.columns"
   ]
  },
  {
   "cell_type": "code",
   "execution_count": 45,
   "metadata": {},
   "outputs": [],
   "source": [
    "newColumnOrder = ['Month', 'Day', 'Hour', 'Elevation', 'Azimuth', 'Zenith', 'rh', 'eto', 'etr', 'rso', 'ea_avg', 'precip', 'rh_max',\n",
    "       'rh_min', 'td_avg', 'td_max', 'td_min', 'co2_avg', 'ppf_avg', 'solarmj',\n",
    "       'wet_pct', 'airt_avg', 'airt_max', 'airt_min', 'lwdn_avg', 'lwup_avg',\n",
    "       'pressure', 'swdn_avg', 'swup_avg', 'windd_sd', 'windd_avg',\n",
    "       'winds_avg', 'winds_max', 'netrad_avg', 'fan_rmp_avg',\n",
    "       'visibilitymiles', 'batt_volt_min', 'surfacet1_avg', 'surfacet2_avg',\n",
    "       'visibilitymiles_avg', 'pressurekpasealevel', 'Generated']\n",
    "MainDf = weatherpf[newColumnOrder]"
   ]
  },
  {
   "cell_type": "code",
   "execution_count": 92,
   "metadata": {},
   "outputs": [],
   "source": [
    "# mainDF = weatherpf.drop(['date_time', 'Date', 'Hour'],axis=1)"
   ]
  },
  {
   "cell_type": "code",
   "execution_count": 48,
   "metadata": {},
   "outputs": [
    {
     "output_type": "stream",
     "name": "stderr",
     "text": [
      "/Library/Frameworks/Python.framework/Versions/3.8/lib/python3.8/site-packages/pandas/core/frame.py:4308: SettingWithCopyWarning: \nA value is trying to be set on a copy of a slice from a DataFrame\n\nSee the caveats in the documentation: https://pandas.pydata.org/pandas-docs/stable/user_guide/indexing.html#returning-a-view-versus-a-copy\n  return super().drop(\n<ipython-input-48-6e9a07121382>:4: SettingWithCopyWarning: \nA value is trying to be set on a copy of a slice from a DataFrame\n\nSee the caveats in the documentation: https://pandas.pydata.org/pandas-docs/stable/user_guide/indexing.html#returning-a-view-versus-a-copy\n  MainDf.dropna(axis=1, inplace=True)\n"
     ]
    }
   ],
   "source": [
    "# seperate and Save data without scaling\n",
    "truth = MainDf['Generated']\n",
    "MainDf.drop('Generated', axis=1, inplace=True)\n",
    "MainDf.dropna(axis=1, inplace=True)\n",
    "dataNonScaled = MainDf.to_numpy()\n",
    "truthNonScaled = truth.to_numpy()\n",
    "\n",
    "data_filename = '/Users/brad/Desktop/CS6620/Project/Data/nonScaledDataV2.npy' \n",
    "truth_filename = '/Users/brad/Desktop/CS6620/Project/Data/nonScaledTruthV2.npy' \n",
    "np.save(data_filename, dataNonScaled)\n",
    "np.save(truth_filename, truthNonScaled)"
   ]
  },
  {
   "cell_type": "code",
   "execution_count": 95,
   "metadata": {},
   "outputs": [],
   "source": [
    "# seperate and Save data without scaling\n",
    "truth = mainDF['Generated']\n",
    "mainDF.drop('Generated', axis=1, inplace=True)\n",
    "mainDF.dropna(axis=1, inplace=True)\n",
    "dataNonScaled = mainDF.to_numpy()\n",
    "truthNonScaled = truth.to_numpy()\n",
    "\n",
    "data_filename = '/Users/brad/Desktop/CS6620/Project/Data/nonScaledData.npy' \n",
    "truth_filename = '/Users/brad/Desktop/CS6620/Project/Data/nonScaledTruth.npy' \n",
    "np.save(data_filename, dataNonScaled)\n",
    "np.save(truth_filename, truthNonScaled)\n"
   ]
  },
  {
   "cell_type": "code",
   "execution_count": 61,
   "metadata": {},
   "outputs": [
    {
     "output_type": "stream",
     "name": "stdout",
     "text": [
      "Max for rh is 97\nMax for eto is 0.029\nMax for etr is 0.034\nMax for rso is 3.653\nMax for ea_avg is 1.978\nMax for precip is 0.224\nMax for rh_max is 98\nMax for rh_min is 97\nMax for td_avg is 63.1\nMax for td_max is 65.3\nMax for td_min is 61.5\nMax for co2_avg is 586.1\nMax for ppf_avg is 2154.0\nMax for solarmj is 3.66\nMax for wet_pct is 0\nMax for airt_avg is 95.9\nMax for airt_max is 97.7\nMax for airt_min is 93.7\nMax for lwdn_avg is 519.9\nMax for lwup_avg is 458.4\nMax for pressure is 87.3\nMax for swdn_avg is 488.9\nMax for swup_avg is 1086.0\nMax for windd_sd is 91.0\nMax for windd_avg is 360.0\nMax for winds_avg is 7.382\nMax for winds_max is 28.409\nMax for netrad_avg is 754.1\nMax for fan_rmp_avg is 5081\nMax for visibilitymiles is 19.884\nMax for batt_volt_min is 14.82\nMax for surfacet1_avg is 100.2\nMax for surfacet2_avg is 186.8\nMax for visibilitymiles_avg is 19.884\nMax for pressurekpasealevel is 103.1\nMax for Generated is 25699219.94879516\n"
     ]
    }
   ],
   "source": [
    "# scale by largest value in each column \n",
    "for c in mainDF.columns:\n",
    "    cMax = mainDF[c].max()\n",
    "    print(f'Max for {c} is {cMax}')\n",
    "    mainDF[c] = mainDF[c]/cMax"
   ]
  },
  {
   "cell_type": "code",
   "execution_count": 62,
   "metadata": {},
   "outputs": [
    {
     "output_type": "execute_result",
     "data": {
      "text/plain": [
       "          rh       eto       etr       rso    ea_avg  precip    rh_max  \\\n",
       "13  0.185567  1.000000  0.970588  0.950452  0.428716     0.0  0.204082   \n",
       "14  0.175258  1.000000  1.000000  0.882289  0.427199     0.0  0.204082   \n",
       "16  0.164948  0.758621  0.764706  0.602792  0.395349     0.0  0.193878   \n",
       "17  0.237113  0.586207  0.588235  0.419929  0.417594     0.0  0.326531   \n",
       "18  0.185567  0.379310  0.382353  0.226663  0.433266     0.0  0.224490   \n",
       "\n",
       "      rh_min    td_avg    td_max  ...  winds_max  netrad_avg  fan_rmp_avg  \\\n",
       "13  0.154639  0.638669  0.710567  ...   0.377944    0.901472     0.883684   \n",
       "14  0.144330  0.635499  0.696784  ...   0.496075    0.812624     0.881323   \n",
       "16  0.134021  0.603803  0.679939  ...   0.354324    0.490651     0.879551   \n",
       "17  0.144330  0.627575  0.854518  ...   0.322820    0.310436     0.865774   \n",
       "18  0.144330  0.641838  0.721286  ...   0.149600    0.245989     0.854163   \n",
       "\n",
       "    visibilitymiles  batt_volt_min  surfacet1_avg  surfacet2_avg  \\\n",
       "13         0.637497       0.846829       0.908184       0.507495   \n",
       "14         1.000000       0.844130       0.885230       0.507495   \n",
       "16         1.000000       0.845479       0.849301       0.475910   \n",
       "17         1.000000       0.825236       0.833333       0.418094   \n",
       "18         0.987477       0.814440       0.773453       0.376338   \n",
       "\n",
       "    visibilitymiles_avg  pressurekpasealevel  Generated  \n",
       "13             0.943724             0.984481   0.739523  \n",
       "14             0.965600             0.984481   0.978212  \n",
       "16             0.984359             0.982541   0.786369  \n",
       "17             0.956246             0.982541   0.621222  \n",
       "18             0.965600             0.982541   0.416924  \n",
       "\n",
       "[5 rows x 36 columns]"
      ],
      "text/html": "<div>\n<style scoped>\n    .dataframe tbody tr th:only-of-type {\n        vertical-align: middle;\n    }\n\n    .dataframe tbody tr th {\n        vertical-align: top;\n    }\n\n    .dataframe thead th {\n        text-align: right;\n    }\n</style>\n<table border=\"1\" class=\"dataframe\">\n  <thead>\n    <tr style=\"text-align: right;\">\n      <th></th>\n      <th>rh</th>\n      <th>eto</th>\n      <th>etr</th>\n      <th>rso</th>\n      <th>ea_avg</th>\n      <th>precip</th>\n      <th>rh_max</th>\n      <th>rh_min</th>\n      <th>td_avg</th>\n      <th>td_max</th>\n      <th>...</th>\n      <th>winds_max</th>\n      <th>netrad_avg</th>\n      <th>fan_rmp_avg</th>\n      <th>visibilitymiles</th>\n      <th>batt_volt_min</th>\n      <th>surfacet1_avg</th>\n      <th>surfacet2_avg</th>\n      <th>visibilitymiles_avg</th>\n      <th>pressurekpasealevel</th>\n      <th>Generated</th>\n    </tr>\n  </thead>\n  <tbody>\n    <tr>\n      <th>13</th>\n      <td>0.185567</td>\n      <td>1.000000</td>\n      <td>0.970588</td>\n      <td>0.950452</td>\n      <td>0.428716</td>\n      <td>0.0</td>\n      <td>0.204082</td>\n      <td>0.154639</td>\n      <td>0.638669</td>\n      <td>0.710567</td>\n      <td>...</td>\n      <td>0.377944</td>\n      <td>0.901472</td>\n      <td>0.883684</td>\n      <td>0.637497</td>\n      <td>0.846829</td>\n      <td>0.908184</td>\n      <td>0.507495</td>\n      <td>0.943724</td>\n      <td>0.984481</td>\n      <td>0.739523</td>\n    </tr>\n    <tr>\n      <th>14</th>\n      <td>0.175258</td>\n      <td>1.000000</td>\n      <td>1.000000</td>\n      <td>0.882289</td>\n      <td>0.427199</td>\n      <td>0.0</td>\n      <td>0.204082</td>\n      <td>0.144330</td>\n      <td>0.635499</td>\n      <td>0.696784</td>\n      <td>...</td>\n      <td>0.496075</td>\n      <td>0.812624</td>\n      <td>0.881323</td>\n      <td>1.000000</td>\n      <td>0.844130</td>\n      <td>0.885230</td>\n      <td>0.507495</td>\n      <td>0.965600</td>\n      <td>0.984481</td>\n      <td>0.978212</td>\n    </tr>\n    <tr>\n      <th>16</th>\n      <td>0.164948</td>\n      <td>0.758621</td>\n      <td>0.764706</td>\n      <td>0.602792</td>\n      <td>0.395349</td>\n      <td>0.0</td>\n      <td>0.193878</td>\n      <td>0.134021</td>\n      <td>0.603803</td>\n      <td>0.679939</td>\n      <td>...</td>\n      <td>0.354324</td>\n      <td>0.490651</td>\n      <td>0.879551</td>\n      <td>1.000000</td>\n      <td>0.845479</td>\n      <td>0.849301</td>\n      <td>0.475910</td>\n      <td>0.984359</td>\n      <td>0.982541</td>\n      <td>0.786369</td>\n    </tr>\n    <tr>\n      <th>17</th>\n      <td>0.237113</td>\n      <td>0.586207</td>\n      <td>0.588235</td>\n      <td>0.419929</td>\n      <td>0.417594</td>\n      <td>0.0</td>\n      <td>0.326531</td>\n      <td>0.144330</td>\n      <td>0.627575</td>\n      <td>0.854518</td>\n      <td>...</td>\n      <td>0.322820</td>\n      <td>0.310436</td>\n      <td>0.865774</td>\n      <td>1.000000</td>\n      <td>0.825236</td>\n      <td>0.833333</td>\n      <td>0.418094</td>\n      <td>0.956246</td>\n      <td>0.982541</td>\n      <td>0.621222</td>\n    </tr>\n    <tr>\n      <th>18</th>\n      <td>0.185567</td>\n      <td>0.379310</td>\n      <td>0.382353</td>\n      <td>0.226663</td>\n      <td>0.433266</td>\n      <td>0.0</td>\n      <td>0.224490</td>\n      <td>0.144330</td>\n      <td>0.641838</td>\n      <td>0.721286</td>\n      <td>...</td>\n      <td>0.149600</td>\n      <td>0.245989</td>\n      <td>0.854163</td>\n      <td>0.987477</td>\n      <td>0.814440</td>\n      <td>0.773453</td>\n      <td>0.376338</td>\n      <td>0.965600</td>\n      <td>0.982541</td>\n      <td>0.416924</td>\n    </tr>\n  </tbody>\n</table>\n<p>5 rows × 36 columns</p>\n</div>"
     },
     "metadata": {},
     "execution_count": 62
    }
   ],
   "source": [
    "mainDF.head()"
   ]
  },
  {
   "cell_type": "code",
   "execution_count": 93,
   "metadata": {},
   "outputs": [],
   "source": [
    "truth = mainDF['Generated']\n",
    "mainDF.drop('Generated', axis=1, inplace=True)\n",
    "mainDF.dropna(axis=1, inplace=True)"
   ]
  },
  {
   "cell_type": "code",
   "execution_count": 66,
   "metadata": {},
   "outputs": [],
   "source": [
    "dataVersion1 = mainDF.to_numpy()\n",
    "truthVersion1 = truth.to_numpy()"
   ]
  },
  {
   "cell_type": "code",
   "execution_count": 67,
   "metadata": {},
   "outputs": [],
   "source": [
    "\n",
    "data_filename = '/Users/brad/Desktop/CS6620/Project/Data/dataVersion1.npy' \n",
    "truth_filename = '/Users/brad/Desktop/CS6620/Project/Data/truthVersion1.npy' \n",
    "np.save(data_filename, dataVersion1)\n",
    "np.save(truth_filename, truthVersion1)"
   ]
  }
 ]
}