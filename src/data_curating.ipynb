{
 "metadata": {
  "language_info": {
   "codemirror_mode": {
    "name": "ipython",
    "version": 3
   },
   "file_extension": ".py",
   "mimetype": "text/x-python",
   "name": "python",
   "nbconvert_exporter": "python",
   "pygments_lexer": "ipython3",
   "version": "3.8.5-final"
  },
  "orig_nbformat": 2,
  "kernelspec": {
   "name": "python3",
   "display_name": "Python 3.8.5 64-bit",
   "metadata": {
    "interpreter": {
     "hash": "082e9a3bcad0a290d0001e938aa60b99250c6c2ef33a923c00b70f9826caf4b7"
    }
   }
  }
 },
 "nbformat": 4,
 "nbformat_minor": 2,
 "cells": [
  {
   "cell_type": "code",
   "execution_count": 1,
   "metadata": {},
   "outputs": [],
   "source": [
    "%matplotlib widget\n",
    "import numpy as np\n",
    "import matplotlib.pyplot as plt \n",
    "import pandas as pd "
   ]
  },
  {
   "cell_type": "code",
   "execution_count": 6,
   "metadata": {},
   "outputs": [],
   "source": [
    "solar_data_filename = '/Users/brad/Desktop/CS6620/Data/Sample.csv' \n",
    "weather_data_filename = '/Users/brad/Desktop/CS6620/Data/Weather.csv' "
   ]
  },
  {
   "cell_type": "code",
   "execution_count": 15,
   "metadata": {},
   "outputs": [],
   "source": [
    "solarData = pd.read_csv(solar_data_filename, sep=',')"
   ]
  },
  {
   "cell_type": "code",
   "execution_count": 16,
   "metadata": {},
   "outputs": [
    {
     "output_type": "execute_result",
     "data": {
      "text/plain": [
       "   Unnamed: 0                 TIME   Solar_power  Meter_value\n",
       "0           0  2019-07-11 13:11:55 -5.366741e+08     5.342115\n",
       "1           1  2019-07-11 13:13:30 -5.365808e+08     5.352649\n",
       "2           2  2019-07-11 13:13:38 -5.368667e+08     5.352649\n",
       "3           3  2019-07-11 13:13:45 -5.369603e+08     5.352649\n",
       "4           4  2019-07-11 13:13:53 -5.371526e+08     5.352649"
      ],
      "text/html": "<div>\n<style scoped>\n    .dataframe tbody tr th:only-of-type {\n        vertical-align: middle;\n    }\n\n    .dataframe tbody tr th {\n        vertical-align: top;\n    }\n\n    .dataframe thead th {\n        text-align: right;\n    }\n</style>\n<table border=\"1\" class=\"dataframe\">\n  <thead>\n    <tr style=\"text-align: right;\">\n      <th></th>\n      <th>Unnamed: 0</th>\n      <th>TIME</th>\n      <th>Solar_power</th>\n      <th>Meter_value</th>\n    </tr>\n  </thead>\n  <tbody>\n    <tr>\n      <th>0</th>\n      <td>0</td>\n      <td>2019-07-11 13:11:55</td>\n      <td>-5.366741e+08</td>\n      <td>5.342115</td>\n    </tr>\n    <tr>\n      <th>1</th>\n      <td>1</td>\n      <td>2019-07-11 13:13:30</td>\n      <td>-5.365808e+08</td>\n      <td>5.352649</td>\n    </tr>\n    <tr>\n      <th>2</th>\n      <td>2</td>\n      <td>2019-07-11 13:13:38</td>\n      <td>-5.368667e+08</td>\n      <td>5.352649</td>\n    </tr>\n    <tr>\n      <th>3</th>\n      <td>3</td>\n      <td>2019-07-11 13:13:45</td>\n      <td>-5.369603e+08</td>\n      <td>5.352649</td>\n    </tr>\n    <tr>\n      <th>4</th>\n      <td>4</td>\n      <td>2019-07-11 13:13:53</td>\n      <td>-5.371526e+08</td>\n      <td>5.352649</td>\n    </tr>\n  </tbody>\n</table>\n</div>"
     },
     "metadata": {},
     "execution_count": 16
    }
   ],
   "source": [
    "solarData.head()"
   ]
  },
  {
   "cell_type": "code",
   "execution_count": 18,
   "metadata": {},
   "outputs": [
    {
     "output_type": "execute_result",
     "data": {
      "text/plain": [
       "         Unnamed: 0                 TIME  Solar_power  Meter_value\n",
       "1375821     1375821  2021-03-09 10:40:24  4319.288815     4.963623\n",
       "1375822     1375822  2021-03-09 10:41:08  4281.411649     3.418124\n",
       "1375823     1375823  2021-03-09 10:41:08  4290.056625     3.418124\n",
       "1375824     1375824  2021-03-09 10:41:52  3726.992754     2.582676\n",
       "1375825     1375825  2021-03-09 10:41:52  3635.134951     2.582676"
      ],
      "text/html": "<div>\n<style scoped>\n    .dataframe tbody tr th:only-of-type {\n        vertical-align: middle;\n    }\n\n    .dataframe tbody tr th {\n        vertical-align: top;\n    }\n\n    .dataframe thead th {\n        text-align: right;\n    }\n</style>\n<table border=\"1\" class=\"dataframe\">\n  <thead>\n    <tr style=\"text-align: right;\">\n      <th></th>\n      <th>Unnamed: 0</th>\n      <th>TIME</th>\n      <th>Solar_power</th>\n      <th>Meter_value</th>\n    </tr>\n  </thead>\n  <tbody>\n    <tr>\n      <th>1375821</th>\n      <td>1375821</td>\n      <td>2021-03-09 10:40:24</td>\n      <td>4319.288815</td>\n      <td>4.963623</td>\n    </tr>\n    <tr>\n      <th>1375822</th>\n      <td>1375822</td>\n      <td>2021-03-09 10:41:08</td>\n      <td>4281.411649</td>\n      <td>3.418124</td>\n    </tr>\n    <tr>\n      <th>1375823</th>\n      <td>1375823</td>\n      <td>2021-03-09 10:41:08</td>\n      <td>4290.056625</td>\n      <td>3.418124</td>\n    </tr>\n    <tr>\n      <th>1375824</th>\n      <td>1375824</td>\n      <td>2021-03-09 10:41:52</td>\n      <td>3726.992754</td>\n      <td>2.582676</td>\n    </tr>\n    <tr>\n      <th>1375825</th>\n      <td>1375825</td>\n      <td>2021-03-09 10:41:52</td>\n      <td>3635.134951</td>\n      <td>2.582676</td>\n    </tr>\n  </tbody>\n</table>\n</div>"
     },
     "metadata": {},
     "execution_count": 18
    }
   ],
   "source": [
    "solarData.drop('Meter_value')\n",
    "solarData.head()"
   ]
  },
  {
   "cell_type": "code",
   "execution_count": 20,
   "metadata": {},
   "outputs": [
    {
     "output_type": "execute_result",
     "data": {
      "text/plain": [
       "   Unnamed: 0                 TIME   Solar_power\n",
       "0           0  2019-07-11 13:11:55 -5.366741e+08\n",
       "1           1  2019-07-11 13:13:30 -5.365808e+08\n",
       "2           2  2019-07-11 13:13:38 -5.368667e+08\n",
       "3           3  2019-07-11 13:13:45 -5.369603e+08\n",
       "4           4  2019-07-11 13:13:53 -5.371526e+08"
      ],
      "text/html": "<div>\n<style scoped>\n    .dataframe tbody tr th:only-of-type {\n        vertical-align: middle;\n    }\n\n    .dataframe tbody tr th {\n        vertical-align: top;\n    }\n\n    .dataframe thead th {\n        text-align: right;\n    }\n</style>\n<table border=\"1\" class=\"dataframe\">\n  <thead>\n    <tr style=\"text-align: right;\">\n      <th></th>\n      <th>Unnamed: 0</th>\n      <th>TIME</th>\n      <th>Solar_power</th>\n    </tr>\n  </thead>\n  <tbody>\n    <tr>\n      <th>0</th>\n      <td>0</td>\n      <td>2019-07-11 13:11:55</td>\n      <td>-5.366741e+08</td>\n    </tr>\n    <tr>\n      <th>1</th>\n      <td>1</td>\n      <td>2019-07-11 13:13:30</td>\n      <td>-5.365808e+08</td>\n    </tr>\n    <tr>\n      <th>2</th>\n      <td>2</td>\n      <td>2019-07-11 13:13:38</td>\n      <td>-5.368667e+08</td>\n    </tr>\n    <tr>\n      <th>3</th>\n      <td>3</td>\n      <td>2019-07-11 13:13:45</td>\n      <td>-5.369603e+08</td>\n    </tr>\n    <tr>\n      <th>4</th>\n      <td>4</td>\n      <td>2019-07-11 13:13:53</td>\n      <td>-5.371526e+08</td>\n    </tr>\n  </tbody>\n</table>\n</div>"
     },
     "metadata": {},
     "execution_count": 20
    }
   ],
   "source": [
    "solarData = solarData.drop(['Meter_value'], axis=1)\n",
    "solarData.head()"
   ]
  },
  {
   "cell_type": "code",
   "execution_count": 21,
   "metadata": {},
   "outputs": [
    {
     "output_type": "execute_result",
     "data": {
      "text/plain": [
       "         Unnamed: 0                 TIME  Solar_power\n",
       "1375726     1375726  2021-03-09 10:05:34  3716.617282\n",
       "1375727     1375727  2021-03-09 10:05:35  3632.959263\n",
       "1375728     1375728  2021-03-09 10:06:19  3608.891261\n",
       "1375729     1375729  2021-03-09 10:06:19  3628.735385\n",
       "1375730     1375730  2021-03-09 10:07:03  3791.987588\n",
       "...             ...                  ...          ...\n",
       "1375821     1375821  2021-03-09 10:40:24  4319.288815\n",
       "1375822     1375822  2021-03-09 10:41:08  4281.411649\n",
       "1375823     1375823  2021-03-09 10:41:08  4290.056625\n",
       "1375824     1375824  2021-03-09 10:41:52  3726.992754\n",
       "1375825     1375825  2021-03-09 10:41:52  3635.134951\n",
       "\n",
       "[100 rows x 3 columns]"
      ],
      "text/html": "<div>\n<style scoped>\n    .dataframe tbody tr th:only-of-type {\n        vertical-align: middle;\n    }\n\n    .dataframe tbody tr th {\n        vertical-align: top;\n    }\n\n    .dataframe thead th {\n        text-align: right;\n    }\n</style>\n<table border=\"1\" class=\"dataframe\">\n  <thead>\n    <tr style=\"text-align: right;\">\n      <th></th>\n      <th>Unnamed: 0</th>\n      <th>TIME</th>\n      <th>Solar_power</th>\n    </tr>\n  </thead>\n  <tbody>\n    <tr>\n      <th>1375726</th>\n      <td>1375726</td>\n      <td>2021-03-09 10:05:34</td>\n      <td>3716.617282</td>\n    </tr>\n    <tr>\n      <th>1375727</th>\n      <td>1375727</td>\n      <td>2021-03-09 10:05:35</td>\n      <td>3632.959263</td>\n    </tr>\n    <tr>\n      <th>1375728</th>\n      <td>1375728</td>\n      <td>2021-03-09 10:06:19</td>\n      <td>3608.891261</td>\n    </tr>\n    <tr>\n      <th>1375729</th>\n      <td>1375729</td>\n      <td>2021-03-09 10:06:19</td>\n      <td>3628.735385</td>\n    </tr>\n    <tr>\n      <th>1375730</th>\n      <td>1375730</td>\n      <td>2021-03-09 10:07:03</td>\n      <td>3791.987588</td>\n    </tr>\n    <tr>\n      <th>...</th>\n      <td>...</td>\n      <td>...</td>\n      <td>...</td>\n    </tr>\n    <tr>\n      <th>1375821</th>\n      <td>1375821</td>\n      <td>2021-03-09 10:40:24</td>\n      <td>4319.288815</td>\n    </tr>\n    <tr>\n      <th>1375822</th>\n      <td>1375822</td>\n      <td>2021-03-09 10:41:08</td>\n      <td>4281.411649</td>\n    </tr>\n    <tr>\n      <th>1375823</th>\n      <td>1375823</td>\n      <td>2021-03-09 10:41:08</td>\n      <td>4290.056625</td>\n    </tr>\n    <tr>\n      <th>1375824</th>\n      <td>1375824</td>\n      <td>2021-03-09 10:41:52</td>\n      <td>3726.992754</td>\n    </tr>\n    <tr>\n      <th>1375825</th>\n      <td>1375825</td>\n      <td>2021-03-09 10:41:52</td>\n      <td>3635.134951</td>\n    </tr>\n  </tbody>\n</table>\n<p>100 rows × 3 columns</p>\n</div>"
     },
     "metadata": {},
     "execution_count": 21
    }
   ],
   "source": [
    "solarData.tail(100)"
   ]
  },
  {
   "cell_type": "code",
   "execution_count": 37,
   "metadata": {},
   "outputs": [
    {
     "output_type": "stream",
     "name": "stdout",
     "text": [
      "1375666    2021-03-09 09:43:20\n1375667    2021-03-09 09:43:20\n1375668    2021-03-09 09:44:04\n1375669    2021-03-09 09:44:04\n1375670    2021-03-09 09:44:49\nName: TIME, dtype: object\n1375821    2021-03-09 10:40:24\n1375822    2021-03-09 10:41:08\n1375823    2021-03-09 10:41:08\n1375824    2021-03-09 10:41:52\n1375825    2021-03-09 10:41:52\nName: TIME, dtype: object\n"
     ]
    }
   ],
   "source": [
    "time = solarData['TIME'].tail(160)\n",
    "print(time.head())\n",
    "print(time.tail())\n"
   ]
  },
  {
   "cell_type": "code",
   "execution_count": 40,
   "metadata": {},
   "outputs": [
    {
     "output_type": "display_data",
     "data": {
      "text/plain": "Canvas(toolbar=Toolbar(toolitems=[('Home', 'Reset original view', 'home', 'home'), ('Back', 'Back to previous …",
      "application/vnd.jupyter.widget-view+json": {
       "version_major": 2,
       "version_minor": 0,
       "model_id": "dae5f7fba1f34c40adf8c42ecb745162"
      }
     },
     "metadata": {}
    }
   ],
   "source": [
    "plt.figure()\n",
    "plt.plot(solarData['TIME'].tail(160), solarData['Solar_power'].tail(160))\n",
    "plt.xlabel(\"Time\")\n",
    "plt.ylabel(\"Solar Generation\")\n",
    "plt.title(\"ASPIRE Labs data 3-9-2021 (9:40 - 10:40 am)\")\n",
    "plt.xticks([])\n",
    "plt.show()"
   ]
  },
  {
   "cell_type": "code",
   "execution_count": 41,
   "metadata": {},
   "outputs": [
    {
     "output_type": "execute_result",
     "data": {
      "text/plain": [
       "                 date_time  station_id  rh  eto    etr  rso  ea_avg  precip  \\\n",
       "14286  2021-03-07 19:59:59     1279257  43  0.0  0.000  0.0   0.463     0.0   \n",
       "14287  2021-03-07 20:59:59     1279257  45  0.0  0.000  0.0   0.475     0.0   \n",
       "14288  2021-03-07 21:59:59     1279257  41  0.0 -0.001  0.0   0.430     0.0   \n",
       "14289  2021-03-07 22:59:59     1279257  39  0.0  0.000  0.0   0.409     0.0   \n",
       "14290  2021-03-07 23:59:59     1279257  44  0.0  0.000  0.0   0.407     0.0   \n",
       "\n",
       "       rh_max  rh_min  ... winds_max           winds_tmx  netrad_avg  \\\n",
       "14286      45      40  ...     9.171  07MAR2021:19:20:57      -46.20   \n",
       "14287      50      41  ...     8.948  07MAR2021:20:53:29      -42.18   \n",
       "14288      43      38  ...     8.053  07MAR2021:21:29:30      -44.46   \n",
       "14289      42      37  ...    12.527  07MAR2021:22:12:59      -55.05   \n",
       "14290      50      38  ...    14.093  07MAR2021:23:27:36      -52.82   \n",
       "\n",
       "       fan_rmp_avg  visibilitymiles batt_volt_min surfacet1_avg  \\\n",
       "14286         4293           17.274         12.27          37.0   \n",
       "14287         4286           17.958         12.27          32.4   \n",
       "14288         4274           18.455         12.24          35.1   \n",
       "14289         4266           18.268         12.23          35.6   \n",
       "14290         4259           18.641         12.16          37.4   \n",
       "\n",
       "       surfacet2_avg  visibilitymiles_avg  pressurekpasealevel  \n",
       "14286          -42.7               17.958                101.2  \n",
       "14287          -55.1               17.274                101.2  \n",
       "14288          -46.1               18.330                101.1  \n",
       "14289          -40.9               18.330                101.0  \n",
       "14290          -36.2               18.579                100.9  \n",
       "\n",
       "[5 rows x 44 columns]"
      ],
      "text/html": "<div>\n<style scoped>\n    .dataframe tbody tr th:only-of-type {\n        vertical-align: middle;\n    }\n\n    .dataframe tbody tr th {\n        vertical-align: top;\n    }\n\n    .dataframe thead th {\n        text-align: right;\n    }\n</style>\n<table border=\"1\" class=\"dataframe\">\n  <thead>\n    <tr style=\"text-align: right;\">\n      <th></th>\n      <th>date_time</th>\n      <th>station_id</th>\n      <th>rh</th>\n      <th>eto</th>\n      <th>etr</th>\n      <th>rso</th>\n      <th>ea_avg</th>\n      <th>precip</th>\n      <th>rh_max</th>\n      <th>rh_min</th>\n      <th>...</th>\n      <th>winds_max</th>\n      <th>winds_tmx</th>\n      <th>netrad_avg</th>\n      <th>fan_rmp_avg</th>\n      <th>visibilitymiles</th>\n      <th>batt_volt_min</th>\n      <th>surfacet1_avg</th>\n      <th>surfacet2_avg</th>\n      <th>visibilitymiles_avg</th>\n      <th>pressurekpasealevel</th>\n    </tr>\n  </thead>\n  <tbody>\n    <tr>\n      <th>14286</th>\n      <td>2021-03-07 19:59:59</td>\n      <td>1279257</td>\n      <td>43</td>\n      <td>0.0</td>\n      <td>0.000</td>\n      <td>0.0</td>\n      <td>0.463</td>\n      <td>0.0</td>\n      <td>45</td>\n      <td>40</td>\n      <td>...</td>\n      <td>9.171</td>\n      <td>07MAR2021:19:20:57</td>\n      <td>-46.20</td>\n      <td>4293</td>\n      <td>17.274</td>\n      <td>12.27</td>\n      <td>37.0</td>\n      <td>-42.7</td>\n      <td>17.958</td>\n      <td>101.2</td>\n    </tr>\n    <tr>\n      <th>14287</th>\n      <td>2021-03-07 20:59:59</td>\n      <td>1279257</td>\n      <td>45</td>\n      <td>0.0</td>\n      <td>0.000</td>\n      <td>0.0</td>\n      <td>0.475</td>\n      <td>0.0</td>\n      <td>50</td>\n      <td>41</td>\n      <td>...</td>\n      <td>8.948</td>\n      <td>07MAR2021:20:53:29</td>\n      <td>-42.18</td>\n      <td>4286</td>\n      <td>17.958</td>\n      <td>12.27</td>\n      <td>32.4</td>\n      <td>-55.1</td>\n      <td>17.274</td>\n      <td>101.2</td>\n    </tr>\n    <tr>\n      <th>14288</th>\n      <td>2021-03-07 21:59:59</td>\n      <td>1279257</td>\n      <td>41</td>\n      <td>0.0</td>\n      <td>-0.001</td>\n      <td>0.0</td>\n      <td>0.430</td>\n      <td>0.0</td>\n      <td>43</td>\n      <td>38</td>\n      <td>...</td>\n      <td>8.053</td>\n      <td>07MAR2021:21:29:30</td>\n      <td>-44.46</td>\n      <td>4274</td>\n      <td>18.455</td>\n      <td>12.24</td>\n      <td>35.1</td>\n      <td>-46.1</td>\n      <td>18.330</td>\n      <td>101.1</td>\n    </tr>\n    <tr>\n      <th>14289</th>\n      <td>2021-03-07 22:59:59</td>\n      <td>1279257</td>\n      <td>39</td>\n      <td>0.0</td>\n      <td>0.000</td>\n      <td>0.0</td>\n      <td>0.409</td>\n      <td>0.0</td>\n      <td>42</td>\n      <td>37</td>\n      <td>...</td>\n      <td>12.527</td>\n      <td>07MAR2021:22:12:59</td>\n      <td>-55.05</td>\n      <td>4266</td>\n      <td>18.268</td>\n      <td>12.23</td>\n      <td>35.6</td>\n      <td>-40.9</td>\n      <td>18.330</td>\n      <td>101.0</td>\n    </tr>\n    <tr>\n      <th>14290</th>\n      <td>2021-03-07 23:59:59</td>\n      <td>1279257</td>\n      <td>44</td>\n      <td>0.0</td>\n      <td>0.000</td>\n      <td>0.0</td>\n      <td>0.407</td>\n      <td>0.0</td>\n      <td>50</td>\n      <td>38</td>\n      <td>...</td>\n      <td>14.093</td>\n      <td>07MAR2021:23:27:36</td>\n      <td>-52.82</td>\n      <td>4259</td>\n      <td>18.641</td>\n      <td>12.16</td>\n      <td>37.4</td>\n      <td>-36.2</td>\n      <td>18.579</td>\n      <td>100.9</td>\n    </tr>\n  </tbody>\n</table>\n<p>5 rows × 44 columns</p>\n</div>"
     },
     "metadata": {},
     "execution_count": 41
    }
   ],
   "source": [
    "weatherpf = pd.read_csv(weather_data_filename, sep=',')\n",
    "weatherpf.tail()"
   ]
  },
  {
   "cell_type": "code",
   "execution_count": null,
   "metadata": {},
   "outputs": [],
   "source": []
  }
 ]
}