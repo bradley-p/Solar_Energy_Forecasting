{
 "metadata": {
  "language_info": {
   "codemirror_mode": {
    "name": "ipython",
    "version": 3
   },
   "file_extension": ".py",
   "mimetype": "text/x-python",
   "name": "python",
   "nbconvert_exporter": "python",
   "pygments_lexer": "ipython3",
   "version": "3.8.5-final"
  },
  "orig_nbformat": 2,
  "kernelspec": {
   "name": "python3",
   "display_name": "Python 3.8.5 64-bit",
   "metadata": {
    "interpreter": {
     "hash": "082e9a3bcad0a290d0001e938aa60b99250c6c2ef33a923c00b70f9826caf4b7"
    }
   }
  }
 },
 "nbformat": 4,
 "nbformat_minor": 2,
 "cells": [
  {
   "cell_type": "code",
   "execution_count": 8,
   "metadata": {},
   "outputs": [],
   "source": [
    "%matplotlib widget\n",
    "import numpy as np\n",
    "import matplotlib.pyplot as plt \n",
    "import pickle\n",
    "import math\n",
    "\n",
    "import tensorflow as tf \n",
    "from tensorflow import keras\n",
    "from keras import backend as K\n",
    "import numpy as np\n",
    "from tensorflow.keras.models import Sequential\n",
    "from tensorflow.keras.layers import Dense, Dropout, LSTM\n",
    "from tensorflow.keras.layers.experimental import preprocessing"
   ]
  },
  {
   "cell_type": "code",
   "execution_count": 2,
   "metadata": {},
   "outputs": [
    {
     "output_type": "stream",
     "name": "stdout",
     "text": [
      "(5259, 34)\n(5259,)\n"
     ]
    }
   ],
   "source": [
    "data_filename = '/Users/brad/Desktop/CS6620/Project/Data/dataVersion1.npy' \n",
    "truth_filename = '/Users/brad/Desktop/CS6620/Project/Data/truthVersion1.npy' \n",
    "x = np.load(data_filename)\n",
    "y = np.load(truth_filename)\n",
    "print(x.shape)\n",
    "print(y.shape)"
   ]
  },
  {
   "cell_type": "code",
   "execution_count": 3,
   "metadata": {},
   "outputs": [
    {
     "output_type": "execute_result",
     "data": {
      "text/plain": [
       "(34,)"
      ]
     },
     "metadata": {},
     "execution_count": 3
    }
   ],
   "source": [
    "x[0].shape"
   ]
  },
  {
   "cell_type": "code",
   "execution_count": 16,
   "metadata": {},
   "outputs": [
    {
     "output_type": "stream",
     "name": "stdout",
     "text": [
      "(4470, 34, 1)\n(4470, 1)\n(789, 34, 1)\n(789, 1)\n"
     ]
    }
   ],
   "source": [
    "train_length = int(x.shape[0] * 0.85)\n",
    "x_train = x[0 : train_length].reshape(-1, 34, 1)\n",
    "y_train = y[0 : train_length].reshape(-1, 1)\n",
    "x_test = x[train_length : ].reshape(-1, 34, 1)\n",
    "y_test = y[train_length : ].reshape(-1, 1)\n",
    "print(x_train.shape)\n",
    "print(y_train.shape)\n",
    "print(x_test.shape)\n",
    "print(y_test.shape)"
   ]
  },
  {
   "cell_type": "code",
   "execution_count": 20,
   "metadata": {},
   "outputs": [
    {
     "output_type": "display_data",
     "data": {
      "text/plain": "Canvas(toolbar=Toolbar(toolitems=[('Home', 'Reset original view', 'home', 'home'), ('Back', 'Back to previous …",
      "application/vnd.jupyter.widget-view+json": {
       "version_major": 2,
       "version_minor": 0,
       "model_id": "40bdde4a469941049727d9dc7d23c08a"
      }
     },
     "metadata": {}
    }
   ],
   "source": [
    "plt.figure()\n",
    "plt.hist(y_train, edgecolor='black', linewidth=1)\n",
    "plt.title(\"Training data\")\n",
    "plt.xlabel(\"Generation\")\n",
    "plt.ylabel(\"Occurences\")\n",
    "plt.show()"
   ]
  },
  {
   "cell_type": "code",
   "execution_count": 19,
   "metadata": {},
   "outputs": [
    {
     "output_type": "display_data",
     "data": {
      "text/plain": "Canvas(toolbar=Toolbar(toolitems=[('Home', 'Reset original view', 'home', 'home'), ('Back', 'Back to previous …",
      "application/vnd.jupyter.widget-view+json": {
       "version_major": 2,
       "version_minor": 0,
       "model_id": "e299135b312c443faef9a19536fd6be1"
      }
     },
     "metadata": {}
    }
   ],
   "source": [
    "plt.figure()\n",
    "plt.hist(y_test, edgecolor='black', linewidth=1)\n",
    "plt.title(\"Validation data\")\n",
    "plt.xlabel(\"Generation\")\n",
    "plt.ylabel(\"Occurences\")\n",
    "plt.show()"
   ]
  },
  {
   "cell_type": "code",
   "execution_count": 9,
   "metadata": {},
   "outputs": [],
   "source": [
    "# computes an R^2 (goodness of fit) approximation \n",
    "def coeff_determination(y_true, y_pred):\n",
    "    SS_res =  K.sum(K.square( y_true-y_pred )) \n",
    "    SS_tot = K.sum(K.square( y_true - K.mean(y_true) ) ) \n",
    "    return ( 1 - SS_res/(SS_tot + K.epsilon()) )"
   ]
  },
  {
   "cell_type": "code",
   "execution_count": 10,
   "metadata": {},
   "outputs": [],
   "source": [
    "model = Sequential()\n",
    "model.add(LSTM(128, input_shape=(34,1), return_sequences=True))\n",
    "model.add(Dropout(0.2))\n",
    "model.add(LSTM(128, activation='relu'))\n",
    "model.add(Dropout(0.2))\n",
    "model.add(Dense(128, activation='relu'))\n",
    "model.add(Dropout(0.2))\n",
    "model.add(Dense(1, activation='relu'))\n",
    "# optimizer \n",
    "opt = tf.keras.optimizers.Adam(learning_rate=0.001, decay=1e-5)\n",
    "# compile\n",
    "model.compile(loss='mean_squared_error', optimizer=opt, metrics=[coeff_determination])"
   ]
  },
  {
   "cell_type": "code",
   "execution_count": 14,
   "metadata": {},
   "outputs": [],
   "source": [
    "def plot_loss(history):\n",
    "  plt.figure()\n",
    "  plt.plot(history.history['loss'], label='loss')\n",
    "  plt.plot(history.history['val_loss'], label='val_loss')\n",
    "  plt.xlabel('Epoch')\n",
    "  plt.ylabel('Loss')\n",
    "  plt.legend()\n",
    "  plt.grid(True)\n",
    "  plt.show()\n",
    "  plt.figure()\n",
    "  plt.plot(history.history['coeff_determination'], label='R^2')\n",
    "  plt.plot(history.history['val_coeff_determination'], label='validation R^2')\n",
    "  plt.xlabel('Epoch')\n",
    "  plt.ylabel('R^2')\n",
    "  plt.legend()\n",
    "  plt.show()\n",
    "  "
   ]
  },
  {
   "cell_type": "code",
   "execution_count": 13,
   "metadata": {
    "tags": []
   },
   "outputs": [
    {
     "output_type": "stream",
     "name": "stdout",
     "text": [
      "Epoch 1/100\n",
      "263/263 [==============================] - 7s 23ms/step - loss: 0.0153 - coeff_determination: 0.4676 - val_loss: 0.0069 - val_coeff_determination: -18.6752\n",
      "Epoch 2/100\n",
      "263/263 [==============================] - 6s 23ms/step - loss: 0.0152 - coeff_determination: 0.5066 - val_loss: 0.0053 - val_coeff_determination: -10.8062\n",
      "Epoch 3/100\n",
      "263/263 [==============================] - 6s 23ms/step - loss: 0.0151 - coeff_determination: 0.5144 - val_loss: 0.0079 - val_coeff_determination: -18.9326\n",
      "Epoch 4/100\n",
      "263/263 [==============================] - 6s 24ms/step - loss: 0.0152 - coeff_determination: 0.4607 - val_loss: 0.0070 - val_coeff_determination: -16.7396\n",
      "Epoch 5/100\n",
      "263/263 [==============================] - 6s 24ms/step - loss: 0.0147 - coeff_determination: 0.5101 - val_loss: 0.0057 - val_coeff_determination: -9.1505\n",
      "Epoch 6/100\n",
      "263/263 [==============================] - 6s 23ms/step - loss: 0.0146 - coeff_determination: 0.5152 - val_loss: 0.0060 - val_coeff_determination: -13.7410\n",
      "Epoch 7/100\n",
      "263/263 [==============================] - 6s 23ms/step - loss: 0.0151 - coeff_determination: 0.5032 - val_loss: 0.0060 - val_coeff_determination: -11.9926\n",
      "Epoch 8/100\n",
      "263/263 [==============================] - 6s 23ms/step - loss: 0.0146 - coeff_determination: 0.4881 - val_loss: 0.0048 - val_coeff_determination: -10.3448\n",
      "Epoch 9/100\n",
      "263/263 [==============================] - 6s 23ms/step - loss: 0.0146 - coeff_determination: 0.5268 - val_loss: 0.0057 - val_coeff_determination: -11.7216\n",
      "Epoch 10/100\n",
      "263/263 [==============================] - 6s 23ms/step - loss: 0.0146 - coeff_determination: 0.4991 - val_loss: 0.0054 - val_coeff_determination: -7.2272\n",
      "Epoch 11/100\n",
      "263/263 [==============================] - 6s 23ms/step - loss: 0.0150 - coeff_determination: 0.4973 - val_loss: 0.0077 - val_coeff_determination: -18.4845\n",
      "Epoch 12/100\n",
      "263/263 [==============================] - 6s 24ms/step - loss: 0.0145 - coeff_determination: 0.5159 - val_loss: 0.0062 - val_coeff_determination: -15.2579\n",
      "Epoch 13/100\n",
      "263/263 [==============================] - 6s 23ms/step - loss: 0.0143 - coeff_determination: 0.5201 - val_loss: 0.0059 - val_coeff_determination: -14.1258\n",
      "Epoch 14/100\n",
      "263/263 [==============================] - 6s 23ms/step - loss: 0.0145 - coeff_determination: 0.5132 - val_loss: 0.0057 - val_coeff_determination: -11.1985\n",
      "Epoch 15/100\n",
      "263/263 [==============================] - 6s 24ms/step - loss: 0.0140 - coeff_determination: 0.5272 - val_loss: 0.0070 - val_coeff_determination: -12.8037\n",
      "Epoch 16/100\n",
      "263/263 [==============================] - 6s 23ms/step - loss: 0.0147 - coeff_determination: 0.5034 - val_loss: 0.0064 - val_coeff_determination: -11.0712\n",
      "Epoch 17/100\n",
      "263/263 [==============================] - 6s 23ms/step - loss: 0.0142 - coeff_determination: 0.5256 - val_loss: 0.0057 - val_coeff_determination: -13.2658\n",
      "Epoch 18/100\n",
      "263/263 [==============================] - 6s 23ms/step - loss: 0.0145 - coeff_determination: 0.5365 - val_loss: 0.0063 - val_coeff_determination: -12.1560\n",
      "Epoch 19/100\n",
      "263/263 [==============================] - 6s 23ms/step - loss: 0.0141 - coeff_determination: 0.5283 - val_loss: 0.0077 - val_coeff_determination: -19.9813\n",
      "Epoch 20/100\n",
      "263/263 [==============================] - 6s 24ms/step - loss: 0.0142 - coeff_determination: 0.5210 - val_loss: 0.0066 - val_coeff_determination: -8.2263\n",
      "Epoch 21/100\n",
      "263/263 [==============================] - 6s 25ms/step - loss: 0.0140 - coeff_determination: 0.5241 - val_loss: 0.0073 - val_coeff_determination: -11.5336\n",
      "Epoch 22/100\n",
      "263/263 [==============================] - 6s 24ms/step - loss: 0.0139 - coeff_determination: 0.5358 - val_loss: 0.0097 - val_coeff_determination: -16.1714\n",
      "Epoch 23/100\n",
      "263/263 [==============================] - 6s 24ms/step - loss: 0.0137 - coeff_determination: 0.5502 - val_loss: 0.0056 - val_coeff_determination: -13.0237\n",
      "Epoch 24/100\n",
      "263/263 [==============================] - 7s 25ms/step - loss: 0.0141 - coeff_determination: 0.5186 - val_loss: 0.0073 - val_coeff_determination: -13.1900\n",
      "Epoch 25/100\n",
      "263/263 [==============================] - 6s 24ms/step - loss: 0.0141 - coeff_determination: 0.5127 - val_loss: 0.0095 - val_coeff_determination: -16.9860\n",
      "Epoch 26/100\n",
      "263/263 [==============================] - 7s 26ms/step - loss: 0.0136 - coeff_determination: 0.4923 - val_loss: 0.0071 - val_coeff_determination: -12.5599\n",
      "Epoch 27/100\n",
      "263/263 [==============================] - 6s 24ms/step - loss: 0.0135 - coeff_determination: 0.5613 - val_loss: 0.0069 - val_coeff_determination: -10.4555\n",
      "Epoch 28/100\n",
      "263/263 [==============================] - 6s 23ms/step - loss: 0.0136 - coeff_determination: 0.5118 - val_loss: 0.0081 - val_coeff_determination: -16.0781\n",
      "Epoch 29/100\n",
      "263/263 [==============================] - 6s 23ms/step - loss: 0.0137 - coeff_determination: 0.5298 - val_loss: 0.0081 - val_coeff_determination: -14.2838\n",
      "Epoch 30/100\n",
      "263/263 [==============================] - 6s 23ms/step - loss: 0.0135 - coeff_determination: 0.5569 - val_loss: 0.0074 - val_coeff_determination: -17.1193\n",
      "Epoch 31/100\n",
      "263/263 [==============================] - 6s 23ms/step - loss: 0.0132 - coeff_determination: 0.5559 - val_loss: 0.0068 - val_coeff_determination: -20.3851\n",
      "Epoch 32/100\n",
      "263/263 [==============================] - 6s 23ms/step - loss: 0.0136 - coeff_determination: 0.5284 - val_loss: 0.0081 - val_coeff_determination: -13.0207\n",
      "Epoch 33/100\n",
      "263/263 [==============================] - 6s 24ms/step - loss: 0.0134 - coeff_determination: 0.5569 - val_loss: 0.0069 - val_coeff_determination: -14.2349\n",
      "Epoch 34/100\n",
      "263/263 [==============================] - 6s 23ms/step - loss: 0.0133 - coeff_determination: 0.5519 - val_loss: 0.0059 - val_coeff_determination: -15.7176\n",
      "Epoch 35/100\n",
      "263/263 [==============================] - 6s 24ms/step - loss: 0.0134 - coeff_determination: 0.5531 - val_loss: 0.0054 - val_coeff_determination: -10.3286\n",
      "Epoch 36/100\n",
      "263/263 [==============================] - 6s 24ms/step - loss: 0.0131 - coeff_determination: 0.5626 - val_loss: 0.0089 - val_coeff_determination: -17.1429\n",
      "Epoch 37/100\n",
      "263/263 [==============================] - 6s 24ms/step - loss: 0.0134 - coeff_determination: 0.5432 - val_loss: 0.0095 - val_coeff_determination: -17.9257\n",
      "Epoch 38/100\n",
      "263/263 [==============================] - 6s 23ms/step - loss: 0.0131 - coeff_determination: 0.5552 - val_loss: 0.0069 - val_coeff_determination: -12.3422\n",
      "Epoch 39/100\n",
      "263/263 [==============================] - 6s 23ms/step - loss: 0.0130 - coeff_determination: 0.5399 - val_loss: 0.0096 - val_coeff_determination: -20.0030\n",
      "Epoch 40/100\n",
      "263/263 [==============================] - 6s 23ms/step - loss: 0.0134 - coeff_determination: 0.5505 - val_loss: 0.0076 - val_coeff_determination: -18.3721\n",
      "Epoch 41/100\n",
      "263/263 [==============================] - 6s 24ms/step - loss: 0.0132 - coeff_determination: 0.5459 - val_loss: 0.0073 - val_coeff_determination: -12.6195\n",
      "Epoch 42/100\n",
      "263/263 [==============================] - 7s 25ms/step - loss: 0.0130 - coeff_determination: 0.5803 - val_loss: 0.0075 - val_coeff_determination: -12.1286\n",
      "Epoch 43/100\n",
      "263/263 [==============================] - 6s 25ms/step - loss: 0.0131 - coeff_determination: 0.5568 - val_loss: 0.0067 - val_coeff_determination: -12.1715\n",
      "Epoch 44/100\n",
      "263/263 [==============================] - 7s 25ms/step - loss: 0.0127 - coeff_determination: 0.5649 - val_loss: 0.0075 - val_coeff_determination: -9.6454\n",
      "Epoch 45/100\n",
      "263/263 [==============================] - 6s 24ms/step - loss: 0.0123 - coeff_determination: 0.5912 - val_loss: 0.0084 - val_coeff_determination: -16.8932\n",
      "Epoch 46/100\n",
      "263/263 [==============================] - 6s 23ms/step - loss: 0.0126 - coeff_determination: 0.5628 - val_loss: 0.0066 - val_coeff_determination: -12.6867\n",
      "Epoch 47/100\n",
      "263/263 [==============================] - 6s 24ms/step - loss: 0.0129 - coeff_determination: 0.5643 - val_loss: 0.0075 - val_coeff_determination: -15.5385\n",
      "Epoch 48/100\n",
      "263/263 [==============================] - 6s 23ms/step - loss: 0.0125 - coeff_determination: 0.5768 - val_loss: 0.0069 - val_coeff_determination: -11.1893\n",
      "Epoch 49/100\n",
      "263/263 [==============================] - 6s 24ms/step - loss: 0.0129 - coeff_determination: 0.5735 - val_loss: 0.0059 - val_coeff_determination: -9.6687\n",
      "Epoch 50/100\n",
      "263/263 [==============================] - 6s 24ms/step - loss: 0.0128 - coeff_determination: 0.5732 - val_loss: 0.0071 - val_coeff_determination: -12.4552\n",
      "Epoch 51/100\n",
      "263/263 [==============================] - 6s 23ms/step - loss: 0.0129 - coeff_determination: 0.5654 - val_loss: 0.0070 - val_coeff_determination: -13.5384\n",
      "Epoch 52/100\n",
      "263/263 [==============================] - 6s 23ms/step - loss: 0.0127 - coeff_determination: 0.5431 - val_loss: 0.0071 - val_coeff_determination: -16.6898\n",
      "Epoch 53/100\n",
      "263/263 [==============================] - 6s 23ms/step - loss: 0.0126 - coeff_determination: 0.5859 - val_loss: 0.0090 - val_coeff_determination: -14.1384\n",
      "Epoch 54/100\n",
      "263/263 [==============================] - 6s 24ms/step - loss: 0.0123 - coeff_determination: 0.5734 - val_loss: 0.0081 - val_coeff_determination: -11.3250\n",
      "Epoch 55/100\n",
      "263/263 [==============================] - 7s 25ms/step - loss: 0.0127 - coeff_determination: 0.5898 - val_loss: 0.0100 - val_coeff_determination: -16.3257\n",
      "Epoch 56/100\n",
      "263/263 [==============================] - 6s 24ms/step - loss: 0.0122 - coeff_determination: 0.5869 - val_loss: 0.0076 - val_coeff_determination: -16.5183\n",
      "Epoch 57/100\n",
      "263/263 [==============================] - 6s 23ms/step - loss: 0.0123 - coeff_determination: 0.5823 - val_loss: 0.0071 - val_coeff_determination: -14.5385\n",
      "Epoch 58/100\n",
      "263/263 [==============================] - 6s 24ms/step - loss: 0.0124 - coeff_determination: 0.5779 - val_loss: 0.0096 - val_coeff_determination: -18.5465\n",
      "Epoch 59/100\n",
      "263/263 [==============================] - 6s 23ms/step - loss: 0.0124 - coeff_determination: 0.5524 - val_loss: 0.0085 - val_coeff_determination: -13.5212\n",
      "Epoch 60/100\n",
      "263/263 [==============================] - 6s 24ms/step - loss: 0.0124 - coeff_determination: 0.5905 - val_loss: 0.0077 - val_coeff_determination: -14.9216\n",
      "Epoch 61/100\n",
      "263/263 [==============================] - 6s 22ms/step - loss: 0.0119 - coeff_determination: 0.5903 - val_loss: 0.0086 - val_coeff_determination: -14.6489\n",
      "Epoch 62/100\n",
      "263/263 [==============================] - 6s 25ms/step - loss: 0.0119 - coeff_determination: 0.5742 - val_loss: 0.0087 - val_coeff_determination: -16.0576\n",
      "Epoch 63/100\n",
      "263/263 [==============================] - 7s 29ms/step - loss: 0.0116 - coeff_determination: 0.5881 - val_loss: 0.0085 - val_coeff_determination: -21.6143\n",
      "Epoch 64/100\n",
      "263/263 [==============================] - 7s 27ms/step - loss: 0.0119 - coeff_determination: 0.5746 - val_loss: 0.0072 - val_coeff_determination: -11.0322\n",
      "Epoch 65/100\n",
      "263/263 [==============================] - 7s 27ms/step - loss: 0.0118 - coeff_determination: 0.6011 - val_loss: 0.0087 - val_coeff_determination: -16.0265\n",
      "Epoch 66/100\n",
      "263/263 [==============================] - 6s 24ms/step - loss: 0.0121 - coeff_determination: 0.5749 - val_loss: 0.0075 - val_coeff_determination: -10.6597\n",
      "Epoch 67/100\n",
      "263/263 [==============================] - 7s 25ms/step - loss: 0.0120 - coeff_determination: 0.5928 - val_loss: 0.0091 - val_coeff_determination: -13.2650\n",
      "Epoch 68/100\n",
      "263/263 [==============================] - 6s 22ms/step - loss: 0.0117 - coeff_determination: 0.6200 - val_loss: 0.0083 - val_coeff_determination: -15.5613\n",
      "Epoch 69/100\n",
      "263/263 [==============================] - 6s 22ms/step - loss: 0.0115 - coeff_determination: 0.6258 - val_loss: 0.0076 - val_coeff_determination: -11.2021\n",
      "Epoch 70/100\n",
      "263/263 [==============================] - 6s 22ms/step - loss: 0.0114 - coeff_determination: 0.6189 - val_loss: 0.0084 - val_coeff_determination: -12.3165\n",
      "Epoch 71/100\n",
      "263/263 [==============================] - 6s 22ms/step - loss: 0.0113 - coeff_determination: 0.5973 - val_loss: 0.0074 - val_coeff_determination: -7.1744\n",
      "Epoch 72/100\n",
      "263/263 [==============================] - 6s 22ms/step - loss: 0.0118 - coeff_determination: 0.6044 - val_loss: 0.0082 - val_coeff_determination: -14.8161\n",
      "Epoch 73/100\n",
      "263/263 [==============================] - 6s 22ms/step - loss: 0.0115 - coeff_determination: 0.5969 - val_loss: 0.0108 - val_coeff_determination: -14.9067\n",
      "Epoch 74/100\n",
      "263/263 [==============================] - 6s 22ms/step - loss: 0.0116 - coeff_determination: 0.5948 - val_loss: 0.0095 - val_coeff_determination: -13.0187\n",
      "Epoch 75/100\n",
      "263/263 [==============================] - 6s 22ms/step - loss: 0.0117 - coeff_determination: 0.5887 - val_loss: 0.0100 - val_coeff_determination: -15.3388\n",
      "Epoch 76/100\n",
      "263/263 [==============================] - 6s 22ms/step - loss: 0.0113 - coeff_determination: 0.6053 - val_loss: 0.0084 - val_coeff_determination: -15.3753\n",
      "Epoch 77/100\n",
      "263/263 [==============================] - 6s 22ms/step - loss: 0.0111 - coeff_determination: 0.6148 - val_loss: 0.0082 - val_coeff_determination: -10.4999\n",
      "Epoch 78/100\n",
      "263/263 [==============================] - 6s 22ms/step - loss: 0.0112 - coeff_determination: 0.6015 - val_loss: 0.0078 - val_coeff_determination: -12.4198\n",
      "Epoch 79/100\n",
      "263/263 [==============================] - 6s 23ms/step - loss: 0.0113 - coeff_determination: 0.6056 - val_loss: 0.0078 - val_coeff_determination: -19.0204\n",
      "Epoch 80/100\n",
      "263/263 [==============================] - 6s 22ms/step - loss: 0.0115 - coeff_determination: 0.5930 - val_loss: 0.0081 - val_coeff_determination: -16.2140\n",
      "Epoch 81/100\n",
      "263/263 [==============================] - 6s 22ms/step - loss: 0.0114 - coeff_determination: 0.5911 - val_loss: 0.0107 - val_coeff_determination: -19.8863\n",
      "Epoch 82/100\n",
      "263/263 [==============================] - 6s 22ms/step - loss: 0.0109 - coeff_determination: 0.6388 - val_loss: 0.0078 - val_coeff_determination: -12.9960\n",
      "Epoch 83/100\n",
      "263/263 [==============================] - 6s 23ms/step - loss: 0.0111 - coeff_determination: 0.5891 - val_loss: 0.0070 - val_coeff_determination: -9.0873\n",
      "Epoch 84/100\n",
      "263/263 [==============================] - 6s 23ms/step - loss: 0.0114 - coeff_determination: 0.6023 - val_loss: 0.0064 - val_coeff_determination: -8.5138\n",
      "Epoch 85/100\n",
      "263/263 [==============================] - 6s 23ms/step - loss: 0.0114 - coeff_determination: 0.5936 - val_loss: 0.0072 - val_coeff_determination: -9.6462\n",
      "Epoch 86/100\n",
      "263/263 [==============================] - 6s 23ms/step - loss: 0.0109 - coeff_determination: 0.6066 - val_loss: 0.0083 - val_coeff_determination: -12.3998\n",
      "Epoch 87/100\n",
      "263/263 [==============================] - 6s 22ms/step - loss: 0.0108 - coeff_determination: 0.6322 - val_loss: 0.0090 - val_coeff_determination: -12.7804\n",
      "Epoch 88/100\n",
      "263/263 [==============================] - 6s 22ms/step - loss: 0.0113 - coeff_determination: 0.6070 - val_loss: 0.0064 - val_coeff_determination: -8.8558\n",
      "Epoch 89/100\n",
      "263/263 [==============================] - 6s 22ms/step - loss: 0.0107 - coeff_determination: 0.6296 - val_loss: 0.0075 - val_coeff_determination: -10.1760\n",
      "Epoch 90/100\n",
      "263/263 [==============================] - 6s 22ms/step - loss: 0.0107 - coeff_determination: 0.6463 - val_loss: 0.0124 - val_coeff_determination: -17.8428\n",
      "Epoch 91/100\n",
      "263/263 [==============================] - 6s 22ms/step - loss: 0.0110 - coeff_determination: 0.5894 - val_loss: 0.0089 - val_coeff_determination: -16.1234\n",
      "Epoch 92/100\n",
      "263/263 [==============================] - 6s 23ms/step - loss: 0.0112 - coeff_determination: 0.6089 - val_loss: 0.0081 - val_coeff_determination: -13.1656\n",
      "Epoch 93/100\n",
      "263/263 [==============================] - 6s 22ms/step - loss: 0.0103 - coeff_determination: 0.6581 - val_loss: 0.0099 - val_coeff_determination: -13.6350\n",
      "Epoch 94/100\n",
      "263/263 [==============================] - 6s 23ms/step - loss: 0.0110 - coeff_determination: 0.6324 - val_loss: 0.0076 - val_coeff_determination: -15.4687\n",
      "Epoch 95/100\n",
      "263/263 [==============================] - 6s 22ms/step - loss: 0.0103 - coeff_determination: 0.6325 - val_loss: 0.0085 - val_coeff_determination: -16.7392\n",
      "Epoch 96/100\n",
      "263/263 [==============================] - 6s 22ms/step - loss: 0.0107 - coeff_determination: 0.6387 - val_loss: 0.0114 - val_coeff_determination: -16.5401\n",
      "Epoch 97/100\n",
      "263/263 [==============================] - 6s 22ms/step - loss: 0.0106 - coeff_determination: 0.6436 - val_loss: 0.0083 - val_coeff_determination: -9.5603\n",
      "Epoch 98/100\n",
      "263/263 [==============================] - 6s 23ms/step - loss: 0.0101 - coeff_determination: 0.6538 - val_loss: 0.0083 - val_coeff_determination: -11.6877\n",
      "Epoch 99/100\n",
      "263/263 [==============================] - 6s 22ms/step - loss: 0.0098 - coeff_determination: 0.6685 - val_loss: 0.0064 - val_coeff_determination: -8.7836\n",
      "Epoch 100/100\n",
      "263/263 [==============================] - 6s 22ms/step - loss: 0.0104 - coeff_determination: 0.6270 - val_loss: 0.0082 - val_coeff_determination: -9.7068\n"
     ]
    },
    {
     "output_type": "display_data",
     "data": {
      "text/plain": "Canvas(toolbar=Toolbar(toolitems=[('Home', 'Reset original view', 'home', 'home'), ('Back', 'Back to previous …",
      "application/vnd.jupyter.widget-view+json": {
       "version_major": 2,
       "version_minor": 0,
       "model_id": "75035f8583904cc5ac2191a080594d55"
      }
     },
     "metadata": {}
    }
   ],
   "source": [
    "history= model.fit(x=x_train, y=y_train, batch_size=15, epochs=100, validation_data=(x_test, y_test))\n",
    "plot_loss(history)"
   ]
  },
  {
   "cell_type": "code",
   "execution_count": 15,
   "metadata": {},
   "outputs": [
    {
     "output_type": "display_data",
     "data": {
      "text/plain": "Canvas(toolbar=Toolbar(toolitems=[('Home', 'Reset original view', 'home', 'home'), ('Back', 'Back to previous …",
      "application/vnd.jupyter.widget-view+json": {
       "version_major": 2,
       "version_minor": 0,
       "model_id": "d1a221abdf89462b8f9734c5f9e96798"
      }
     },
     "metadata": {}
    },
    {
     "output_type": "display_data",
     "data": {
      "text/plain": "Canvas(toolbar=Toolbar(toolitems=[('Home', 'Reset original view', 'home', 'home'), ('Back', 'Back to previous …",
      "application/vnd.jupyter.widget-view+json": {
       "version_major": 2,
       "version_minor": 0,
       "model_id": "c1896e881a1840c49ef7102331b98d9a"
      }
     },
     "metadata": {}
    }
   ],
   "source": [
    "plot_loss(history)"
   ]
  },
  {
   "cell_type": "code",
   "execution_count": 105,
   "metadata": {},
   "outputs": [],
   "source": [
    "preds = model.predict(x_test)"
   ]
  },
  {
   "cell_type": "code",
   "execution_count": 106,
   "metadata": {},
   "outputs": [
    {
     "output_type": "stream",
     "name": "stdout",
     "text": [
      "0.057571024\n0.030004727349974485\n"
     ]
    }
   ],
   "source": [
    "print(preds[40][0])\n",
    "print(y_test[40][0])\n"
   ]
  },
  {
   "cell_type": "code",
   "execution_count": 88,
   "metadata": {},
   "outputs": [],
   "source": [
    "def computeAverageError(pred, y):\n",
    "    err = []\n",
    "    for i in range(len(pred)):\n",
    "        err.append(abs((y[i] - pred[i][0])/y[i][0]))\n",
    "\n",
    "    return sum(err)/ len(err)"
   ]
  },
  {
   "cell_type": "code",
   "execution_count": 107,
   "metadata": {},
   "outputs": [
    {
     "output_type": "execute_result",
     "data": {
      "text/plain": [
       "array([1.66981978])"
      ]
     },
     "metadata": {},
     "execution_count": 107
    }
   ],
   "source": [
    "computeAverageError(preds, y_test)"
   ]
  },
  {
   "cell_type": "code",
   "execution_count": 108,
   "metadata": {},
   "outputs": [
    {
     "output_type": "execute_result",
     "data": {
      "text/plain": [
       "1.450962010348354"
      ]
     },
     "metadata": {},
     "execution_count": 108
    }
   ],
   "source": [
    "preds2 = model.predict(x_train)\n",
    "computeAverageError(preds2, y_train)[0]"
   ]
  },
  {
   "cell_type": "code",
   "execution_count": 101,
   "metadata": {},
   "outputs": [
    {
     "output_type": "display_data",
     "data": {
      "text/plain": "Canvas(toolbar=Toolbar(toolitems=[('Home', 'Reset original view', 'home', 'home'), ('Back', 'Back to previous …",
      "application/vnd.jupyter.widget-view+json": {
       "version_major": 2,
       "version_minor": 0,
       "model_id": "4f3c3655a29043f4abb8ec7ef04eb9e5"
      }
     },
     "metadata": {}
    }
   ],
   "source": [
    "plt.figure()\n",
    "plt.scatter(x=np.arange(len(y_train)), y=y_train)\n",
    "plt.show()"
   ]
  },
  {
   "cell_type": "code",
   "execution_count": 109,
   "metadata": {},
   "outputs": [
    {
     "output_type": "display_data",
     "data": {
      "text/plain": "Canvas(toolbar=Toolbar(toolitems=[('Home', 'Reset original view', 'home', 'home'), ('Back', 'Back to previous …",
      "application/vnd.jupyter.widget-view+json": {
       "version_major": 2,
       "version_minor": 0,
       "model_id": "14d0b0bcaafd4e1690ff4e046b8da7f4"
      }
     },
     "metadata": {}
    }
   ],
   "source": [
    "plt.figure()\n",
    "plt.scatter(x=np.arange(len(y_train)), y=preds2)\n",
    "plt.show()"
   ]
  },
  {
   "cell_type": "code",
   "execution_count": null,
   "metadata": {},
   "outputs": [],
   "source": []
  }
 ]
}