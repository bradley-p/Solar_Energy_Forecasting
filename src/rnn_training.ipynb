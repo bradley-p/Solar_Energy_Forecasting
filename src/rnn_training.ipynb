{
 "metadata": {
  "language_info": {
   "codemirror_mode": {
    "name": "ipython",
    "version": 3
   },
   "file_extension": ".py",
   "mimetype": "text/x-python",
   "name": "python",
   "nbconvert_exporter": "python",
   "pygments_lexer": "ipython3",
   "version": "3.8.5-final"
  },
  "orig_nbformat": 2,
  "kernelspec": {
   "name": "python3",
   "display_name": "Python 3.8.5 64-bit",
   "metadata": {
    "interpreter": {
     "hash": "082e9a3bcad0a290d0001e938aa60b99250c6c2ef33a923c00b70f9826caf4b7"
    }
   }
  }
 },
 "nbformat": 4,
 "nbformat_minor": 2,
 "cells": [
  {
   "cell_type": "code",
   "execution_count": 60,
   "metadata": {},
   "outputs": [],
   "source": [
    "%matplotlib widget\n",
    "import numpy as np\n",
    "import matplotlib.pyplot as plt \n",
    "import pandas as pd \n",
    "import datetime\n",
    "import re\n",
    "import pickle\n",
    "import math\n",
    "\n",
    "import tensorflow as tf \n",
    "from tensorflow import keras\n",
    "import numpy as np\n",
    "from tensorflow.keras.models import Sequential\n",
    "from tensorflow.keras.layers import Dense, Dropout, LSTM\n",
    "from tensorflow.keras.layers.experimental import preprocessing"
   ]
  },
  {
   "cell_type": "code",
   "execution_count": 3,
   "metadata": {},
   "outputs": [
    {
     "output_type": "stream",
     "name": "stdout",
     "text": [
      "(5259, 34)\n(5259,)\n"
     ]
    }
   ],
   "source": [
    "data_filename = '/Users/brad/Desktop/CS6620/Project/Data/dataVersion1.npy' \n",
    "truth_filename = '/Users/brad/Desktop/CS6620/Project/Data/truthVersion1.npy' \n",
    "x = np.load(data_filename)\n",
    "y = np.load(truth_filename)\n",
    "print(x.shape)\n",
    "print(y.shape)"
   ]
  },
  {
   "cell_type": "code",
   "execution_count": 6,
   "metadata": {},
   "outputs": [
    {
     "output_type": "execute_result",
     "data": {
      "text/plain": [
       "(34,)"
      ]
     },
     "metadata": {},
     "execution_count": 6
    }
   ],
   "source": [
    "x[0].shape"
   ]
  },
  {
   "cell_type": "code",
   "execution_count": 9,
   "metadata": {},
   "outputs": [
    {
     "output_type": "stream",
     "name": "stdout",
     "text": [
      "(4470, 34, 1)\n(4470, 1)\n(789, 34, 1)\n(789, 1)\n"
     ]
    }
   ],
   "source": [
    "train_length = int(x.shape[0] * 0.85)\n",
    "x_train = x[0 : train_length].reshape(-1, 34, 1)\n",
    "y_train = y[0 : train_length].reshape(-1, 1)\n",
    "x_test = x[train_length : ].reshape(-1, 34, 1)\n",
    "y_test = y[train_length : ].reshape(-1, 1)\n",
    "print(x_train.shape)\n",
    "print(y_train.shape)\n",
    "print(x_test.shape)\n",
    "print(y_test.shape)"
   ]
  },
  {
   "cell_type": "code",
   "execution_count": 103,
   "metadata": {},
   "outputs": [],
   "source": [
    "model = Sequential()\n",
    "model.add(LSTM(16, input_shape=(34,1), return_sequences=True))\n",
    "model.add(Dropout(0.2))\n",
    "model.add(LSTM(16, activation='relu'))\n",
    "model.add(Dropout(0.2))\n",
    "model.add(Dense(8, activation='relu'))\n",
    "model.add(Dropout(0.2))\n",
    "model.add(Dense(1, activation='relu'))\n",
    "# optimizer \n",
    "opt = tf.keras.optimizers.Adam(learning_rate=0.001, decay=1e-5)\n",
    "# compile\n",
    "model.compile(loss='mean_absolute_error', optimizer=opt)"
   ]
  },
  {
   "cell_type": "code",
   "execution_count": 95,
   "metadata": {},
   "outputs": [],
   "source": [
    "def plot_loss(history):\n",
    "  plt.figure()\n",
    "  plt.plot(history.history['loss'], label='loss')\n",
    "  plt.plot(history.history['val_loss'], label='val_loss')\n",
    "  plt.xlabel('Epoch')\n",
    "  plt.ylabel('Loss')\n",
    "  plt.legend()\n",
    "  plt.grid(True)\n",
    "  plt.show()"
   ]
  },
  {
   "cell_type": "code",
   "execution_count": 104,
   "metadata": {
    "tags": []
   },
   "outputs": [
    {
     "output_type": "stream",
     "name": "stdout",
     "text": [
      "Epoch 1/30\n",
      "298/298 [==============================] - 5s 13ms/step - loss: 0.1337 - val_loss: 0.0555\n",
      "Epoch 2/30\n",
      "298/298 [==============================] - 3s 10ms/step - loss: 0.1110 - val_loss: 0.0496\n",
      "Epoch 3/30\n",
      "298/298 [==============================] - 3s 10ms/step - loss: 0.1107 - val_loss: 0.0490\n",
      "Epoch 4/30\n",
      "298/298 [==============================] - 3s 10ms/step - loss: 0.1074 - val_loss: 0.0472\n",
      "Epoch 5/30\n",
      "298/298 [==============================] - 3s 11ms/step - loss: 0.1041 - val_loss: 0.0505\n",
      "Epoch 6/30\n",
      "298/298 [==============================] - 3s 9ms/step - loss: 0.1059 - val_loss: 0.0532\n",
      "Epoch 7/30\n",
      "298/298 [==============================] - 3s 10ms/step - loss: 0.1065 - val_loss: 0.0495\n",
      "Epoch 8/30\n",
      "298/298 [==============================] - 3s 9ms/step - loss: 0.1074 - val_loss: 0.0504\n",
      "Epoch 9/30\n",
      "298/298 [==============================] - 3s 10ms/step - loss: 0.1009 - val_loss: 0.0497\n",
      "Epoch 10/30\n",
      "298/298 [==============================] - 3s 9ms/step - loss: 0.1039 - val_loss: 0.0499\n",
      "Epoch 11/30\n",
      "298/298 [==============================] - 3s 10ms/step - loss: 0.1072 - val_loss: 0.0481\n",
      "Epoch 12/30\n",
      "298/298 [==============================] - 3s 11ms/step - loss: 0.0996 - val_loss: 0.0476\n",
      "Epoch 13/30\n",
      "298/298 [==============================] - 3s 10ms/step - loss: 0.1022 - val_loss: 0.0467\n",
      "Epoch 14/30\n",
      "298/298 [==============================] - 3s 10ms/step - loss: 0.1039 - val_loss: 0.0475\n",
      "Epoch 15/30\n",
      "298/298 [==============================] - 3s 10ms/step - loss: 0.1011 - val_loss: 0.0542\n",
      "Epoch 16/30\n",
      "298/298 [==============================] - 3s 10ms/step - loss: 0.1019 - val_loss: 0.0670\n",
      "Epoch 17/30\n",
      "298/298 [==============================] - 3s 9ms/step - loss: 0.1023 - val_loss: 0.0490\n",
      "Epoch 18/30\n",
      "298/298 [==============================] - 3s 9ms/step - loss: 0.1044 - val_loss: 0.0485\n",
      "Epoch 19/30\n",
      "298/298 [==============================] - 3s 9ms/step - loss: 0.1002 - val_loss: 0.0501\n",
      "Epoch 20/30\n",
      "298/298 [==============================] - 3s 9ms/step - loss: 0.1035 - val_loss: 0.0454\n",
      "Epoch 21/30\n",
      "298/298 [==============================] - 3s 9ms/step - loss: 0.1004 - val_loss: 0.0540\n",
      "Epoch 22/30\n",
      "298/298 [==============================] - 3s 9ms/step - loss: 0.0973 - val_loss: 0.0579\n",
      "Epoch 23/30\n",
      "298/298 [==============================] - 3s 10ms/step - loss: 0.0973 - val_loss: 0.0488\n",
      "Epoch 24/30\n",
      "298/298 [==============================] - 3s 10ms/step - loss: 0.0966 - val_loss: 0.0452\n",
      "Epoch 25/30\n",
      "298/298 [==============================] - 3s 9ms/step - loss: 0.0967 - val_loss: 0.0495\n",
      "Epoch 26/30\n",
      "298/298 [==============================] - 3s 9ms/step - loss: 0.0986 - val_loss: 0.0449\n",
      "Epoch 27/30\n",
      "298/298 [==============================] - 3s 9ms/step - loss: 0.0977 - val_loss: 0.0465\n",
      "Epoch 28/30\n",
      "298/298 [==============================] - 3s 8ms/step - loss: 0.0951 - val_loss: 0.0531\n",
      "Epoch 29/30\n",
      "298/298 [==============================] - 3s 9ms/step - loss: 0.0986 - val_loss: 0.0461\n",
      "Epoch 30/30\n",
      "298/298 [==============================] - 3s 9ms/step - loss: 0.0964 - val_loss: 0.0496\n"
     ]
    },
    {
     "output_type": "display_data",
     "data": {
      "text/plain": "Canvas(toolbar=Toolbar(toolitems=[('Home', 'Reset original view', 'home', 'home'), ('Back', 'Back to previous …",
      "application/vnd.jupyter.widget-view+json": {
       "version_major": 2,
       "version_minor": 0,
       "model_id": "78ab6e98b97d4f6c859c41588ef66f27"
      }
     },
     "metadata": {}
    }
   ],
   "source": [
    "history= model.fit(x=x_train, y=y_train, batch_size=15, epochs=30, validation_data=(x_test, y_test))\n",
    "plot_loss(history)"
   ]
  },
  {
   "cell_type": "code",
   "execution_count": 105,
   "metadata": {},
   "outputs": [],
   "source": [
    "preds = model.predict(x_test)"
   ]
  },
  {
   "cell_type": "code",
   "execution_count": 106,
   "metadata": {},
   "outputs": [
    {
     "output_type": "stream",
     "name": "stdout",
     "text": [
      "0.057571024\n0.030004727349974485\n"
     ]
    }
   ],
   "source": [
    "print(preds[40][0])\n",
    "print(y_test[40][0])\n"
   ]
  },
  {
   "cell_type": "code",
   "execution_count": 88,
   "metadata": {},
   "outputs": [],
   "source": [
    "def computeAverageError(pred, y):\n",
    "    err = []\n",
    "    for i in range(len(pred)):\n",
    "        err.append(abs((y[i] - pred[i][0])/y[i][0]))\n",
    "\n",
    "    return sum(err)/ len(err)"
   ]
  },
  {
   "cell_type": "code",
   "execution_count": 107,
   "metadata": {},
   "outputs": [
    {
     "output_type": "execute_result",
     "data": {
      "text/plain": [
       "array([1.66981978])"
      ]
     },
     "metadata": {},
     "execution_count": 107
    }
   ],
   "source": [
    "computeAverageError(preds, y_test)"
   ]
  },
  {
   "cell_type": "code",
   "execution_count": 108,
   "metadata": {},
   "outputs": [
    {
     "output_type": "execute_result",
     "data": {
      "text/plain": [
       "1.450962010348354"
      ]
     },
     "metadata": {},
     "execution_count": 108
    }
   ],
   "source": [
    "preds2 = model.predict(x_train)\n",
    "computeAverageError(preds2, y_train)[0]"
   ]
  },
  {
   "cell_type": "code",
   "execution_count": 101,
   "metadata": {},
   "outputs": [
    {
     "output_type": "display_data",
     "data": {
      "text/plain": "Canvas(toolbar=Toolbar(toolitems=[('Home', 'Reset original view', 'home', 'home'), ('Back', 'Back to previous …",
      "application/vnd.jupyter.widget-view+json": {
       "version_major": 2,
       "version_minor": 0,
       "model_id": "4f3c3655a29043f4abb8ec7ef04eb9e5"
      }
     },
     "metadata": {}
    }
   ],
   "source": [
    "plt.figure()\n",
    "plt.scatter(x=np.arange(len(y_train)), y=y_train)\n",
    "plt.show()"
   ]
  },
  {
   "cell_type": "code",
   "execution_count": 109,
   "metadata": {},
   "outputs": [
    {
     "output_type": "display_data",
     "data": {
      "text/plain": "Canvas(toolbar=Toolbar(toolitems=[('Home', 'Reset original view', 'home', 'home'), ('Back', 'Back to previous …",
      "application/vnd.jupyter.widget-view+json": {
       "version_major": 2,
       "version_minor": 0,
       "model_id": "14d0b0bcaafd4e1690ff4e046b8da7f4"
      }
     },
     "metadata": {}
    }
   ],
   "source": [
    "plt.figure()\n",
    "plt.scatter(x=np.arange(len(y_train)), y=preds2)\n",
    "plt.show()"
   ]
  },
  {
   "cell_type": "code",
   "execution_count": null,
   "metadata": {},
   "outputs": [],
   "source": []
  }
 ]
}