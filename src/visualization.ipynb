{
 "metadata": {
  "language_info": {
   "codemirror_mode": {
    "name": "ipython",
    "version": 3
   },
   "file_extension": ".py",
   "mimetype": "text/x-python",
   "name": "python",
   "nbconvert_exporter": "python",
   "pygments_lexer": "ipython3",
   "version": "3.8.5"
  },
  "orig_nbformat": 2,
  "kernelspec": {
   "name": "python3",
   "display_name": "Python 3.8.5 64-bit",
   "metadata": {
    "interpreter": {
     "hash": "082e9a3bcad0a290d0001e938aa60b99250c6c2ef33a923c00b70f9826caf4b7"
    }
   }
  }
 },
 "nbformat": 4,
 "nbformat_minor": 2,
 "cells": [
  {
   "cell_type": "code",
   "execution_count": 1,
   "metadata": {},
   "outputs": [],
   "source": [
    "%matplotlib widget\n",
    "import matplotlib.pyplot as plt \n",
    "import numpy as np \n",
    "import pandas as pd\n",
    "import math\n",
    "from datetime import datetime\n"
   ]
  },
  {
   "cell_type": "code",
   "execution_count": 9,
   "metadata": {},
   "outputs": [],
   "source": [
    "from sklearn.preprocessing import MinMaxScaler"
   ]
  },
  {
   "cell_type": "code",
   "execution_count": 6,
   "metadata": {},
   "outputs": [],
   "source": [
    "dataUnscaled_filename = '/Users/brad/Desktop/CS6620/Project/Data/combined_processed_data.csv' \n",
    "data = pd.read_csv(dataUnscaled_filename, sep=',')\n",
    "data.drop('Unnamed: 0',axis=1, inplace=True)"
   ]
  },
  {
   "cell_type": "code",
   "execution_count": 7,
   "metadata": {},
   "outputs": [
    {
     "output_type": "execute_result",
     "data": {
      "text/plain": [
       "Index(['date_time', 'Solar_average', 'rh', 'eto', 'etr', 'rso', 'ea_avg',\n",
       "       'precip', 'rh_max', 'rh_min', 'td_avg', 'td_max', 'td_min', 'co2_avg',\n",
       "       'ppf_avg', 'solarmj', 'wet_pct', 'airt_avg', 'airt_max', 'airt_min',\n",
       "       'lwdn_avg', 'lwup_avg', 'pressure', 'swdn_avg', 'swup_avg', 'windd_sd',\n",
       "       'windd_avg', 'winds_avg', 'winds_max', 'netrad_avg', 'visibilitymiles',\n",
       "       'surfacet1_avg', 'surfacet2_avg', 'visibilitymiles_avg',\n",
       "       'pressurekpasealevel', 'Solar_total', 'Count', 'Elevation', 'Azimuth',\n",
       "       'Zenith', 'Month', 'Day', 'Hour'],\n",
       "      dtype='object')"
      ]
     },
     "metadata": {},
     "execution_count": 7
    }
   ],
   "source": [
    "data.columns"
   ]
  },
  {
   "cell_type": "code",
   "execution_count": 24,
   "metadata": {},
   "outputs": [
    {
     "output_type": "display_data",
     "data": {
      "text/plain": "Canvas(toolbar=Toolbar(toolitems=[('Home', 'Reset original view', 'home', 'home'), ('Back', 'Back to previous …",
      "application/vnd.jupyter.widget-view+json": {
       "version_major": 2,
       "version_minor": 0,
       "model_id": "b415670b90474a5abce316ad96a46552"
      }
     },
     "metadata": {}
    }
   ],
   "source": [
    "plt.figure(figsize=(7,5))\n",
    "plt.scatter(x=range(25), y=data['Solar_average'][0 : 25]/1000,marker='o', c='g')\n",
    "plt.xlabel('Hour of Day')\n",
    "plt.ylabel('Average Generation (KW)')\n",
    "plt.xticks(range(25), data['Hour'][0:25])\n",
    "plt.title(\"Power Generation Flucuates Throughout the Day\")\n",
    "plt.show()"
   ]
  },
  {
   "cell_type": "code",
   "execution_count": 5,
   "metadata": {},
   "outputs": [
    {
     "output_type": "display_data",
     "data": {
      "text/plain": "Canvas(toolbar=Toolbar(toolitems=[('Home', 'Reset original view', 'home', 'home'), ('Back', 'Back to previous …",
      "application/vnd.jupyter.widget-view+json": {
       "version_major": 2,
       "version_minor": 0,
       "model_id": "ab605053d2ef45319163b32ee48ec1d9"
      }
     },
     "metadata": {}
    }
   ],
   "source": [
    "plt.figure()\n",
    "plt.hist(data['Solar_average'], bins=30, edgecolor='black', linewidth=1)\n",
    "plt.xlabel(\"Generation output (watts)\")\n",
    "plt.ylabel(\"Number of occurences\")\n",
    "plt.title(\"Distribution using hour Averages\")\n",
    "plt.show()"
   ]
  },
  {
   "cell_type": "code",
   "execution_count": null,
   "metadata": {},
   "outputs": [],
   "source": [
    "y =  data['Solar_average'].to_numpy()\n",
    "y = MinMaxScaler().fit_transform( y.reshape(-1,1) )\n",
    "for col in data:\n",
    "    if col == 'date_time':\n",
    "        continue\n",
    "    colData = MinMaxScaler().fit_transform(data[col].to_numpy().reshape(-1,1))\n",
    "\n"
   ]
  },
  {
   "cell_type": "code",
   "execution_count": 23,
   "metadata": {},
   "outputs": [
    {
     "output_type": "display_data",
     "data": {
      "text/plain": "Canvas(toolbar=Toolbar(toolitems=[('Home', 'Reset original view', 'home', 'home'), ('Back', 'Back to previous …",
      "application/vnd.jupyter.widget-view+json": {
       "version_major": 2,
       "version_minor": 0,
       "model_id": "4d4942f615af494190b01144db950d1e"
      }
     },
     "metadata": {}
    }
   ],
   "source": [
    "col = 'solarmj'\n",
    "y =  data['Solar_total'].to_numpy()\n",
    "y = MinMaxScaler().fit_transform( y.reshape(-1,1) )\n",
    "colData = MinMaxScaler().fit_transform(data[col].to_numpy().reshape(-1,1))\n",
    "plt.figure()\n",
    "plt.scatter(colData, y)\n",
    "plt.xlabel(col)\n",
    "plt.ylabel('Average Generation')\n",
    "plt.show()"
   ]
  },
  {
   "cell_type": "code",
   "execution_count": null,
   "metadata": {},
   "outputs": [],
   "source": [
    "\n",
    "\n",
    "\n",
    "\n",
    "\n"
   ]
  }
 ]
}